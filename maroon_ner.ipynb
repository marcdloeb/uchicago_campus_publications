{
 "cells": [
  {
   "cell_type": "code",
   "execution_count": 33,
   "id": "conditional-oracle",
   "metadata": {},
   "outputs": [],
   "source": [
    "import pandas as pd\n",
    "from rich import print as rprint\n",
    "from rich.text import Text\n",
    "import string\n",
    "from transformers import AutoTokenizer, AutoModelForTokenClassification, pipeline\n",
    "import re"
   ]
  },
  {
   "attachments": {},
   "cell_type": "markdown",
   "id": "758c96b5",
   "metadata": {},
   "source": [
    "The week 8 homework has seemingly useful stuff in it"
   ]
  },
  {
   "cell_type": "code",
   "execution_count": 15,
   "id": "909948f4",
   "metadata": {},
   "outputs": [],
   "source": [
    "all_maroon = pd.read_csv(\"all_issues.csv\", index_col = [0])"
   ]
  },
  {
   "cell_type": "code",
   "execution_count": 17,
   "id": "1bc6394f",
   "metadata": {},
   "outputs": [],
   "source": [
    "issue_txt_file = open(all_maroon.txt[5558], \"r\", encoding='utf-8-sig') #need this encoding to dodge \\ufeff\n",
    "issue_txt_original = issue_txt_file.read()\n",
    "issue_txt_file.close()"
   ]
  },
  {
   "cell_type": "code",
   "execution_count": 18,
   "id": "ae999d03",
   "metadata": {},
   "outputs": [
    {
     "data": {
      "text/plain": [
       "year                                                       1954\n",
       "link          https://campub.lib.uchicago.edu/pdf/?docId=mvo...\n",
       "txt                              txt/1954_ocr/ocr_1954_1029.txt\n",
       "pdf                        web_scraping/pdfs/1954/1954_1029.pdf\n",
       "tag                                                   1954_1029\n",
       "day                                                          29\n",
       "month                                                        10\n",
       "year_check                                                 1954\n",
       "Name: 5558, dtype: object"
      ]
     },
     "execution_count": 18,
     "metadata": {},
     "output_type": "execute_result"
    }
   ],
   "source": [
    "all_maroon.iloc[5558]"
   ]
  },
  {
   "cell_type": "code",
   "execution_count": 19,
   "id": "6102f254",
   "metadata": {},
   "outputs": [
    {
     "data": {
      "text/plain": [
       "'SG elects Fortier president;\\nby-law amendment adopted\\n\\nNew officer’s for the 1954-55 Student Government were the principal item of business for\\nthe first meeting of the new SG assembly last Tuesday.\\n\\nAl Fortier (ISL-col) was elected president of SG. Other officers elected were Emil John-\\n\\nWritedns illegal,\\neight ballots void\\n\\nA major controversy in the re- Asked why he didn’t petition\\ncent Student Government elec- and register as an official candi-\\n\\nson (ISL-col), vice-president; Sabina Wagner (ISL-col), secretary; and Pat Parker (ISL-\\nbus), treasurer.\\n\\nAn amendment to the SG by-laws was adopted which provides that any party receiving\\n25 per cent of the total vote in\\nan SG election and holding a\\nseat in the assembly is entitled\\nto a committee-at-large, and thuS\\nto a representative on the SG ex-\\necutive council. This gives the\\nStudent Representative party a\\nseat on the council, which it would\\nnot otherwise have had.\\n\\nThe former by-law provided that\\nany party with 20 per cent of the\\nseats in SG was entitled to a com-\\nmittee-at-large. Clark Kucheman\\n(ISL-FTS) proposed an amend-\\nment whereby this requirement\\ncould be waived by a two-thirds\\nvote of the assembly. ,\\n\\nPhoto by Tipton\\n\\nAl Fortier, newly-elected Student Government president, discuss-\\ning SG activities with members Jan Porter and Paul Bresiow.\\n\\ntions centered around the three\\nseats in the Medical school. Al-\\nthough three positions were open\\nto Med school candidates, SRP\\nran none, and ISL had only two.\\n\\nAfter the ballots were counted\\nit was reported that eight of the\\nMed school ballots had been\\ncounted as void because each had\\nthe name of Fred Solomon writ-\\nten in. Solomon thereupon con-\\ntested the ruling that the ballots\\nwere invalid and asked for the\\nrule which governed write-ins.\\n\\nThe rule governing write-ins,\\naccording to Jim Handler, chair-\\nman of the SG election and rules\\ncommittee, is as follows: “Any\\nwriting on a ballot shall render\\nthe ballot void.” This rule is in-\\nterpreted by the E and R commit-\\ntee to cover any and all writing.\\n\\nAnderson wants UC support:\\n\\nISL wins election\\n\\ntells why Douglas did not get here\\n\\nDouglas Anderson, Senator Douglas’ Illinois representative, denied\\ncategorically that he had ever spurned the support of the Independent\\n\\ndate, Solomon replied:\\n\\n“For personal reasons I did not\\nknow until late last week that I\\ncould spend any time in Student\\nGovernment.\\n\\n“In this context,” he added,\\n“writing means extraneous re-\\nmarks, defamatory remarks after\\na candidate’s name, and the like.\\nIt does not mean ‘no write-in votes\\nallowed.’ I assumed a democratic\\nelection would allow a voter to\\nvote for candidates of his choice,\\nwhether or not their names ap-\\npeared on the ballot.”\\n\\nAt the Student Government\\nmeeting last Tuesday, Jerry\\nZisook moved that Solomon be\\nseated as the third Med school\\ndelegate. Eli Stein immediately\\nchallenged that the motion was\\nout of order and suggested that\\nthe ruling could be brought up in\\nStudent - Faculty - Administration\\ncourt. The motion was declared\\nout of order by the chair.\\n\\nAward Fulbright\\nto Towle at last\\n\\nin 42 seat landslide\\n\\nvoters of Illinois and groups at the University of Chicago.\\n\\nAnderson maintained that the only reason that Douglas was unable\\nto appear on campus was that Douglas had previously scheduled meet-\\nings with the IVI in the fifth, second, and seventh wards that same\\n\\nFor the first time in Student Government history a political\\nparty captured all but three seats, as the Independent Students\\nLeague won 42 of 45 contested positions in the all-campus\\nelection last week.\\n\\nStudent Representative party candidates were elected to\\nfill one position in the college, one in the social sciences divi-\\n\\nsion, and one in the federated\\ntheological schools. There\\nwere no independent candi-\\ndates on this year’s slate.\\n\\nThis election, described by Clive\\nGray (ISL), last year’s SG presi-\\ndent, as the “biggest landslide a\\nparty ever had,” gave ISL control\\nof SG for the sixth time since\\nISL’s inception in 1948. •\\n\\nTwo seats in the assembly are\\nvacant. At the first SG meeting\\nheld last Tuesday, Al Fortier was\\nelected president, thereby relin-\\nquishing his seat as a delegate.\\nThe other vacancy is in the med-\\nical school, where only two of\\nthree seats were filled. SRP had\\nno candidates in this division.\\n\\nApproximately 32 per cent of\\nthe total student body cast about\\nfifteen hundred ballots. This vote\\nis 4% less than the 36% that\\nvoted in last year’s election, and\\n5% less than the record vote of\\n37% in 1952. Three schools were\\nuncontested, and had a very light\\n\\nvote this year.\\n\\nISL candidates received 62.2%\\nand SRP candidates 37.8% of the\\ntotal votes cast for individual can-\\ndidates.\\n\\nIn the following tabulation of\\nthe election results by divisions\\nand schools, winning candidates\\nare listed in boldface type.\\n\\nnight. Douglas, he said, “was\\neager to speak on the campus if\\nan open date could be arranged.”\\nRalph Fertig, who maintains\\nthat Anderson had made the con-\\ntroversial statements in a tele-\\nphone talk with him, agreed that\\nthis was the reason that Douglas\\ncould nut appear.\\n\\nAnderson called it inconceivable\\nthat he could have made such re-\\nmarks. He said he was a founder\\nof the Americans for Democratic\\nAction and had worked on ar-\\nrangements that were to unite the\\n\\nIVI with the ADA.\\n\\nAnderson said that Fertig had\\n“gone off on his own hook” mak-\\ning arrangements for speakers on\\nthe strength of Douglas’ name be-\\nfore final arrangements had been\\nmade with Anderson.\\n\\nFertig and John Gilmore, who\\nmade calls to Barratt O\\'Hara,\\nDemocratic incumbent from the\\nsecond Congressional district, and\\nother notables scheduled to ap-\\npear at the rally, denied Ander-\\nson\\'s allegation.\\n\\nDr. Charlotte Towle, who\\nwas denied a Fulbright schol-\\narship by the foreign scholar-\\nship board in Washington in Sep-\\ntember of this year, has been\\ngranted the Fulbright upon re-\\nconsideration of the board. Pro-\\nfessor Towle will lecture on gen-\\neric social case work at the Lon-\\ndon School of Economics, starting\\nin January.\\n\\nDr. Towle, professor of social\\nservice administration at UC, is\\nbelieved to have been originally\\ndenied the Fulbright because she\\nurged clemency for the Rosen-\\nbergs and because she belonged\\nto an organization advocating aid\\nto the Spanish loyalists.\\n\\nBIOLOGICAL SCIENCES\\n\\n(two elected)\\n\\nMarty Gouterman\\t31 (ISL)\\n\\nGary Friedman\\t33 (ISL)\\n\\nLawrence Lichtenstein 22 (SRP)\\n\\nJoseph Yavit\\t21 (SRP)\\n\\nBUSINESS SCHOOL ’\\n\\nl’at Parker\\t11 (ISL)\\n\\nCOLLEGE\\n\\nPhoto by Tipton\\n\\nSG ballots being counted.\\n\\n(13 elected)\\n\\nJan Metros\\nAl Fortier\\nE. Fukushima\\nEmil Johnson\\nBob Heavilin\\nJoli Lasker\\nPete Carmel\\nV. Bickerstaff\\nJan Porter\\nRalph Henkle\\nBoh Reichler\\nBob Kurland\\nSabina Magner\\nJoan Raphael\\nCarolyn Eggert\\nDave Bobrow\\nKarl Rodman\\nNoel Perlman\\nSuzanne Friedmann\\nBob Stein\\nJean Gourfain\\nBarbara Klein\\nAnn B. Huddleson\\n\\n444 (ISL)\\n416 (ISL)\\n405 (ISL)\\n383 (LSD\\n386 (ISL)\\n371 (ISL)\\n369 (ISL)\\n367 (ISL)\\n366 (SRP)\\n358 (ISL)\\n337 (ISL)\\n336 (ISL)\\n333 (ISL)\\n311 (ISL)\\n307 (SRP)\\n285 (SRP)\\n260 (SRP)\\n259 (SRP)\\n247 (SRP)\\n245 (SRP)\\n238 (SRP)\\n\\n238 (SRP)\\n227 (SRP)\\n\\nUniversity of Chicago, October 29, 1954-\\n\\nUniversity debate team tie for first\\n\\nin tournament; then lose by decision\\n\\nThe Purdue Invitational Debate tournament last weekend ended in a three-way tie for\\nfirst place between teams of Wake Forest, Notre Dame, and UC. Each of these teams had\\na record of six victories and two defeats on the basis of a point scoring system. However,\\nthe tie was broken in favor of Wake Forest, with Notre Dame second and Chicago third.\\n\\nDebating the topic: “Resolved: that the United States should extend diplomatic recogni-\\ntion to the Communist government of China,” the UC Student Forum affirmative team of\\nDon McClintock and Roger\\nBowen won all four of their\\ndebates, the only affirmative\\n\\nFEDERATED THEOLOGICAL\\nSCHOOLS\\n\\nthree elected)\\n\\nRoland Delattre\\t88\\n\\nClark Kucheman\\t78\\n\\nShould apply now\\nto go to Qermany;\\ndecision Nov. 15\\n\\nApplications for the 1955-56 Stu-\\ndent Government Frankfurt ex-\\nchange program may be picked\\nup at the SG box in the Reynolds\\nclub, Jan Metros, NSA committee\\nchairman, announced today.\\n\\nBefore November 15 a student-\\nfaculty-administration committee\\nwill meet to select two exchange\\nstudents to go to Frankfurt next\\nyear. These students will receive\\ntuition and room and board schol-\\narships at the German school.\\n\\n- Qualifications include a g o o d\\nacademic record, experience in\\nthe extra-curriculum, and willing-\\nness to participate in German stu-\\ndent life. Applicants will be inter-\\nviewed by the selection commit-\\ntee.\\n\\nC. Smith\\n\\n(ISL)\\n(ISL)\\n\\n63 (SRP)\\n\\nLon Speer\\t57 (SRP)\\n\\nGRADUATE LIBRARY SCHOOL\\n(one elected)\\n\\nJerry O’Mara\\t15 (ISL)\\n\\nBarbara Birthwright\\t7 (SRP)\\n\\nHUMANITIES\\n\\n(four elected)\\n\\nJerry Zisook\\nLouis Schaefer\\nRomeyn Taylor\\nJim Camp\\n\\nDoris Cooperson\\nDale Chapman\\nPalmer Pinney\\nJerrold Levy\\n\\nLAW SCHOOL\\n\\nHarold Ward\\n\\nB. Vogel fa nger\\nGeorge Stone\\nWard Wright\\nMichael Gordon\\n\\n58 (ISL)\\n\\n55 (ISL)\\n\\n49 (ISL)\\n\\n45 (ISL)\\n\\n40 (SRP)\\n\\n39 (SRP)\\n\\n36 (SRP)\\n\\n35 (SRP)\\n\\n(three elected)\\n\\n110 (ISL)\\n\\n85 (ISL)\\n\\n71 (ISL)\\n\\n67 (SRP)\\n\\n62 (SRP)\\n\\nMEDICAL SCHOOL\\nNorman Rose\\t7 (ISL)\\n\\nDaniel Offer\\t6 (ISL)\\n\\nSee ‘ISL,’ page 5\\n\\nteam to do so. Their victims were\\nMichigan State, Illinois, Boston,\\nand Notre Dame.\\n\\nFor the negative, UC debaters\\nJoe Engel and Edward Renshaw\\ndefeated Pittsburgh and the Uni-\\nversity of Kentucky, and lost to\\nIndiana and Southern Illinois. In\\nthe final round, the judge, in vio-\\nlation of tournament tradition, al-\\nlowed the decision to be made by\\na Purdue girls’ speech class who\\nwitnessed the debate. The girls\\nvoted 15 to 13 for the opposition.\\n\\nThe score sheet of the judge\\nhad indicated a tie, a situation in\\nwhich the verdict ordinarily goes\\nto tile negative, since the affirma-\\ntive bears the burden of proof and\\nis bound to demonstrate some ad-\\nvantage for its side.\\n\\n“The success of Chicago in the\\n16-team tourney was based upon\\nits previous analysis of the ques-\\ntion rather than on speaking\\nskill,” stated Marv Phillips, For-\\num director. “Many of the issues\\nwhich the team had rejected as\\nindefensible in their preparation\\nfor the meet were found to be the\\nbasis of opposition arguments.\\nOur prior determination of the\\n\\nweaknesses in these arguments\\ngave the UC team a considerable\\n■advantage.\\n\\n“It appeared,” he added, “that\\nmost of the other teams had built\\ncases upon shades of meaning in\\nthe topic itself, intending to sur-\\nprise their opponents, rather than\\nupon real life attitudes on the\\nquestion. Since most teams an-\\nticipated such tactics the element\\n\\nof surprise lay solely with the\\nChicago team which had followed\\nthe latter course.”\\n\\nThe next tournament Chicago\\nwill attend is to be held at Brand-\\nley on November 19. In the mean-\\ntime debates with the larger col-\\nleges are being schduled on the\\nUC campus to give the student\\nbody an opportunity to see the de-\\nbate team.\\n\\nUniversity debaters, who participated in a tournament at Purdue\\nuniversity Saturday. From left to right, Roger Bowen, Don McClin-\\ntock, Marvin Phillips (director of debate) and Edward Renslow.\\n\\x0cPag* 2\\n\\nTHE CHICAGO MAROON\\n\\nOctober 29, 1954\\n\\nCalendar\\n\\nFriday, Oct. 29\\n\\nS^jbath service and fireside discus-\\nsion on religious service in the Buddhist\\ntradition sponsored by Hillel, 5715 Wood-\\nlawt Service starts at 7:45 p.m., fireside\\nat 8 30 p.m. Guest of the evening is\\nRev. G. M. Kubose of the Chicago\\nBuddhist church.\\n\\nHalloween party sponsored by Chan-\\nning club at Fenn house, 5638 Wood-\\nlawn. Begins at 9 p.m.\\n\\nSaturday, Oct. 30\\n\\nFolk concert — Pete Seeger, Bill\\nBroonzy, Sonny Terry, in Mandel Hall,\\n\\' t?30 p.m. Tickets at box office.\\n\\nChamber music recital will be held in\\nIda Noyes by the Musical Society. No\\nadmission charge. Starts at 8 p.m.\\n\\nSunday, Oct. 31\\n\\nIndia association presents the Dewali\\nfestival commemorating the annual In-\\ndian new year celebrations. There will\\nbe native dances, Indian foods, and\\nfilms in International House. Admission\\nis 35 cents.\\n\\nHalloween party and book sale will be\\nheld bv Hitchock hall. The party starts\\nat 7:30 p.m. Admission is 20 cents for\\nmen, and includes the price of a book.\\nThere will be dancing and refreshments\\nin Hitchcock lounge.\\n\\nChanning club meeting will be held\\nin the Fenn house, 5638 Woodlawn. After\\nthe supper at 6:30 p.m., Alan Sawyer,\\nassistant curator of decorative arts at\\nthe Art Institute will speak on “Primi-\\ntive Religion.” Slides will be shown.\\n\\nWhat makes a good labor law will be\\nthe subject of a lecture by Edward Mar-\\nciniak. He will talk under the sponsor-\\nship of the Calvert club at 4:30 p.m. in\\nthe De Sales house.\\n\\nGreen hall will hold a “come-as-your-\\nrepressed-desire” Halloween party be-\\ntween 7:30 p.m. and midnight.\\n\\nMonday, Nov. 1\\n\\nThe Hug Ivra Hebrew speaking group\\nwill meet at 12:30 p.m. in Hillel.\\n\\nThe Hillel folk dance group will meet\\nat 3:30 p.m. in Hillel.\\n\\nLecture by Dr. Vogt, minister-emeritus\\nof the 1st Unitarian church on “The\\nThree-fold Imperative.” To take place\\nIn the Hull chapel, at 8 p.m., it is co-\\nsponsored by the Channing club and ,\\nthe 1st Unitarian church.\\n\\nWalgreen lecture on “The Urgency of\\nOur Dilemma,” part of the series on\\n“Our Foreign Economic Policy” will be\\ngiven in Breasted hall at 8 p.m. The\\nspeaker is Clarence B. Randall, former\\nchairman of the US Commission on\\nForeign Economic Policy.\\n\\nUS-Japanese film Ana-ta-han (The\\nDevil’s Pitchfork) will be shown in In-\\nternational House at 8 p.m.\\n\\nTuesday, Nov. 2\\n\\nElementary Hebrew class will meet at\\nHillel at 3:30 p.m.\\n\\nConcert band rehearsal will be at\\n8 p.m. in Sunny gym. Bring Instruments.\\nNew members are welcome.\\n\\nProf. Kermit Eby will lecture for the\\nVeterans Nursery school on “Religion\\nand the Child.” The talk, third in series\\non child development, will be given in\\nJudd 126 at 8 p.m. Admission is 50 cents.\\n\\nCanterbury club will meet in Ida\\nNoyes at 7:45 p.m. to discuss the Chris-\\ntian student organization—the how and\\nthe why.\\n\\nWalgreen lecture, given by Clarence\\nB. Randall on “Trade Must Move To-\\nwards Liberalization” will be held in\\nBreasted hall at 8 p.m.\\n\\n“Implementing the Supreme Court\\nDecision” is the subject of the Hitch-\\ncock-Snell forum, to be held at 8 p.m.\\n\\nin Hitchcock lounge. The forum fea-\\ntures William R. Ming, professor of law.\\nWednesday, Nov. 3\\n\\nIntermediate Hebrew class will meet\\nat Hillel at 1:30 p.m.\\n\\nHillel choral group will meet at 3:30\\np.m.\\n\\nWalgreen lecture by Clarence Randall\\non “Some of the Roadblocks to Trade\\nLiberalization” will be held in Breasted\\nhall at 8 p.m.\\n\\nThere will be English country danc-\\ning in Ida Noyes between 8 p.m. and 10.\\nWear rubber-soled shoes. Instruction for\\nbeginners will be provided.\\n\\n“The Centrality of Worship” will be\\nthe subject of Dr. Vogt, sponsored by\\nthe Channing club and the 1st Unitar-\\nian church. It will take place in Hull\\nchapel. 8 p.m.\\n\\nThursday, Nov. 4\\n\\nA Bell for Adano, American film, will\\n\\nbe shown in the International house at\\n8 p.m.\\n\\nCoffee hour at Hillel will feature\\nMeyer Isenberg, of the college humani-\\nties staff, who will discuss “Mottel, the\\nCantor’s Son” by Sholom Aleichem. It\\nwill be held at 3:30 p.m. There will be\\nno admission charge.\\n\\nFather John Stafford, chairman of the\\ndepartment of psychology and psychia-\\ntry of the Catholic university in Wash-\\nington will lecture before the Psy-\\nchology club at 4:30 p.m. in Swift.\\n\\nInter-varsity Christian Fellowship will\\nsponsor group study of gospel accord-\\ning to St. Mark at 7:30 p.m. in Ida Noyes.\\n\\nA CIO official will give an analysis\\nof what Tuesday’s election means to\\nlabor in Ida Noyes east lounge at 7:45\\np.m. He is sponsored by the Socialist\\nclub. A discussion, and a business meet-\\ning of the club will follow.\\n\\nStudents for Democratic Action will\\nhold a discussion of educational and\\npolitical projects, and will also elect\\nofficers at 4:30 p.m. in Soc. Sci. 122.\\n\\nl|||lllllllllllllllllll■llllllllliillllll■lllllllllilllllllllllllllllll|||^\\n\\nREPEATED\\n\\nSAVE ’1.06\\n\\nEACH CALLON\\n\\nALEXANDER’S RESTAURANT\\n\\n1137 E. «3rd St.\\tMt) 4-5735\\n\\nCOMPLETE DINNERS ...........from 95c\\n\\nCOMPLETE LUNCHEONS ..... .\\t. from 75c\\n\\nCOMPLETE BREAKFASTS ........from 38c\\n\\nPreserve\\n\\nthose important records, lecture notes, papers, and letters\\n\\nwith a permanent, lie-flat, circular PLASTIC BINDING\\n\\nCapacity: from 1 sheet to 250\\n\\nPrices: from 25c to $1, including labor.\\n\\nbinding strip, stiff cover\\n\\nat the HYDE PARK LETTER SHOP\\n\\n5646 S. Harper Ave. (37)\\tHYde Pork 3-5343\\n\\nI PERMANENT TYPE\\n\\nI ANTI-FREEZE\\n\\nM\\n\\nPer Callon ■\\n\\n: CASH AND CARRY =\\nI ~ REGULAR PRICE AFTER THIS SALE $2.95 I\\n; Will Not Boil Away — Lasts All Winter ;\\n■B Ml\\n■i •\\n£ Prevents Corrosion — Ethylene Glycol Type -\\n\\n= GOOD FOR A LIMITED TIME ONLY! =\\nI JEWEL SERVICTSTATIONI\\n| AND PERFECT CAR WASH |\\n= 5601 South Cottage Grove MU 4-9106 I\\ntisiiiiiiiiiiiiiiiiiiiiiiiiiiiiiiiiiiiiiiiiiiiiiiiiiiiiiiiiiiiiiiiiiiiiiiii?\\n\\nWhat makes a Lucky taste better?\\n\\n“IT’S TOASTED’’\\n\\nto taste better!\\n\\nALPHABET BLOCKS\\n\\nFOR ILLITERATES\\n\\nBUTTERFLY SKIPPING ROPE\\n\\nFIFTY-DOLLAR ,\\nBOY SCOUT KNIFE\\n\\nCoDege smokers from coast to coast prefer Luckies\\nto any other brand. Luckies lead, and by a wide\\nmargin, according to the latest, biggest college\\nsurvey. Once again, the No. 1 reason: Luckies taste\\nbetter. They taste better because Lucky Strike is\\nthe cigarette of fine tobacco . . . and “It’s Toasted’*\\nto taste better. “IPs Toasted”—the famous Lucky\\nStrike process—tones up Luckies’ light, mild, good-\\ntasting tobacco to make it taste even better. This\\nexplains the Droodle below, which is: Eskimo\\nseminar enjoying Luckies in badly built classroom.\\nLike all real cool people, Eskimos know Luckies\\ntaste better. So, get the better-tasting cigarette\\n... Lucky Strike.\\n\\nLUCKIES TASTE BETTER\\n\\nCleaner, Fresher, Smoother!\\n\\nCOMO\\n\\nPIZZERIA\\n\\n1520 E. 55th St.\\n\\n•\\tBar-be-cue chicken\\n\\n•\\tBar-be-cue ribs\\n\\nDelivery Anywhere\\n\\nFA 4-5525\\n\\nGHOST WITH CINDER\\nIN HIS EYI\\n\\nDEPRESSED FLEA\\n\\nCOMMITTING SUICIDE\\n\\nLUCKY\\n\\nSTRIKE\\n\\nTIC-TAC-TOE KIT\\n\\n“What’s this?”\\nasks ROGER PRICE*\\nFor solution see paragraph above.\\n\\nmA\\n\\nAi.\\n\\nGOT A LUCKY DROODLE?\\n\\nIf you’ve got a Lucky Droodle in your noodle, send\\nit in. We pay $25 for all we use, and also for many\\nwe don t use. Send as many as you like with your\\ndescriptive titles to: Lucky Droodle, P. O. Box 67,\\nNew York 46, N. Y.\\n\\nOROODLES, Copyright, 1954, by Roger Price\\n\\nPRODUCT OF\\n\\nAMERICA\\'S LEADING MANUFACTURER OF CIGARBTTB#\\n\\x0cOctober 29, 1954\\n\\nTHE CHICAGO MAROON\\n\\nPage 3\\n\\nNeff has to wake early to win\\n\\nweekly MAROON photo prize\\n\\nHow early do UC students get up in the morning?\\n\\nAt least some of them get up early enough to get to Reyn-\\nolds club by 8:30 a.m.\\n\\nThis was the case last Fri- -----------------------------\\n\\nday with Richard Neff, a col-\\nlege student who was standing\\nat the door as the club opened in\\n\\norder to claim the prize in the\\n\\nMaroon “Know the Quadrangles”\\ncontest. He got it, even though\\nReynolds opens officially at 9, by\\nidentifying correctly last week’s\\n\\nmystery picture. The right answer\\nwas the inscription on the foun-\\ntain in front of Kent. (It appeared\\n\\nno 7 9071 hyde park theatre ^ss’rd1\\'\\nstudent rate 50c\\n\\nNow playing through Sunday\\n\\nExclusive Chicago Showing\\n\\nShakespeare and Shaw series number two\\n\\nMax Reinhardt\\'s production of\\n\\nA Midsummer Night\\'s Dream\\nwith the Mendelssohn music\\n\\nShaw\\'s own screen version of his great play\\n\\nMajor Barbara\\n\\nWendy Hiller\\nRex Harrison\\nRobert Newton\\n\\nNEXT ATTRACTION\\n\\nRobert Morley\\n\\n(Consult your newspaper for exact starting date*\\nMOIRA SHEARER\\n\\nROBERT HELPMANN and BEN HECHT\\'S\\n\\nTales of Hoffman Spectre of the Rose\\n\\nMay we collar you soon\\nin a smart ARROW Radnor?\\n\\nWith 90% of a shirt’s style up in the\\ncollar, the man who wears an Arrow\\nRadnor is smarter than a wet whip.\\n\\nChoose a Radnor Button-Down (above),\\na regular Radnor, or Radnor “E”—with\\neyelets, shown at. right. The Radnor\\n“E” is also available with French Cuffs.\\nThey’re all Arrow ... all easy on the\\neyes a id on the budget. Arrow Radnors\\n. . . sr tart-looking and perfect-fitting . ..\\nin broadcloth prices start at $4.50; in\\noxford cloth, $5.00 white or colored.\\n\\n>7\\n\\nA/IHOW SHIRTS & TIES\\n\\nUNDERWEAR • HANDKERCHIEFS • CASUAL WEAR\\n\\nat prices from $4.50\\n\\nArrow Radnor\\n\\n•price.\\n\\ncollar dresses, up your wardrobe -\\n—makes it top-style at bottom\\n\\nthat’s the name and we’ve got it.\\n\\nwhere are you\\n\\nThis is the new-style Arrow Radnor, and if you’re not\\nwearing one now... you should be. Point those feet\\nour way and let us show you how this soft, rounded\\n\\nChicago - Evanston - Oak Park\\nEvergreen - Gary - Joliet - Alton\\n\\nupside down.) It is not known\\nwhether Neff also gets up in time\\nto attend his 8:30 classes.\\n\\nThree more answers were re-\\n\\nceived by Reynolds desk within\\nan hour of Neff\\'s original arrival.\\nThe total of the answers which\\nfinally got to the Maroon office\\nis more than fifty. Replies came\\nfrom every division except the\\nGraduate Library school.\\n\\nAt least five different individ-\\nuals appeared on the fifth floor\\nof the Administration building\\nthis week and asked the Chancel-\\nlor’s receptionist Beth Kinyon for\\ninformation about the different\\nclass gifts, trying to identify the\\nmystery spot by identifying the\\ndate.\\n\\nThe contest, now in its third\\nweek, consists of naming correct-\\nly the current mystery picture.\\nThe first person who brings the\\nright answer to Reynolds club or\\nto the Maroon office wins a car-\\n\\nton of cigarettes. This weeks mys-\\ntery photograph appears at the\\nleft.\\n\\nBerlin U denies\\nLAK statements\\n\\nA rebuttal of Lawrence A.\\nKimpton’s statement criticiz-\\ning the Free University of\\nBerlin which appeared in last\\nweek’s Maroon was issued\\nWednesday by professor Hirsch,\\nthe Free University’s president.\\n\\nHirsch came to the UC campus\\nas part of his visit to this coun-\\ntry for the Bi-centennial celebra-\\ntion of Columbia university.\\n\\nHirsch was puzzled by Kimp-\\nton’s statement that an “air of\\nfright” surrounds the Free uni-\\nversity. \"There is no such ‘fright’\\nsurrounding the university,”\\nHirsch commented, “and as to the\\nendless checking of passports to\\nwhich Mr. Kimpton referred, pass-\\npoets are checked only when you\\nenter the country and when you\\nleave.”\\n\\n“The Free university has devel-\\noped by leaps and bounds,” he\\ncommented. It now has an ex-\\nchange program with Stanford\\nand Columbia for professors and\\nwitii Stanford, Columbia, and\\nHarvard for students; the Free\\nuniversity was the first German\\nuniversity to give extension\\ncourses at night.\\n\\nThe needs of a new university\\nare very large, stated Hirsch, and\\nsome are impossible to supply; a\\ngreat deal of help, however, has\\ncome from the US through the\\nFord and Rockefeller foundations\\nand the State department.\\n\\nHirsch said that 40% of the\\nFree university’s students origin-\\nally came from the Soviet zone of\\nBerlin, and a few commute regu-\\nlarly between the Soviet zone and\\nthe university.\\n\\nOrgan concert at\\nRockefeller service\\n\\nRichard Luecke, a candidate for\\nthe Ph.D. in philosophy at UC and\\nPastor of Our Savior’s Lutheran\\nChurch, Chicago, will preach the\\nsermon at the ninth annual ref-\\normation vespers at Rockefeller\\nchapel, Sunday at 8 p.m.\\n\\nThe 16th century liturgical serv-\\nice, sung in Gregorian by the\\nValparaiso University choir, Val-\\nparaiso, Indiana, will be preceded\\nby an organ concert at 7:30 p.m.,\\nplayed by Heinrich Fleischer, UC\\norganist.\\n\\nMead says tolerance\\nforced on Protestants\\n\\n“Religious toleration was universal in the English colonies\\nby the middle of the 18th century, but Protestantism did not\\ncontribute to this religious liberty. It was forced into it,” con-\\n\\ncluded Sidney E. Mead, asso-\\nciate professor of history of\\nAmerican Christianity.\\n\\nMead spoke in the first of a\\nseries of four Walgreen founda-\\ntion lectures on “The shape of\\nProtestantism in America,” last\\nMonday. This first lecture, “From\\ncoercion to persuasion,” dealt\\nwith the development of relig-\\nious toleration in early colonial\\nAmerica.\\n\\nMead pointed out that early\\nProtestant aims to establish re-\\nligious coercion in the new world\\nwere frustrated by a variety of\\noutside influences. The self-inter-\\nest of individuals caused them to\\nforget the cries of the church\\nwhen it interfered with their per-\\nsonal ambitions; the vast spaces\\nof the new land made banishment\\nan enlargement of opportunity\\nrather than a confinement; and\\nEngland exerted pressure for a\\nmore tolerant attitude on relig-\\nious matters in New England.\\n\\nBesides these influences, “a\\nstrange alliance developed be-\\ntween the rationalists and the\\npietist revivalists which fore-\\nwarded the cause of religious\\n\\nC\\'shop drops all\\nhoars after five\\n\\nC-shop hours have again been\\nlimited to 7:30 a.m.-5 p.m. Lack of\\nstudent support was given by Rob-\\nert M. Strozier, dean of students,\\nas the reason for the scheduling\\nof no evening hours this year.\\n\\nStrozier said the C-shop, located\\noff Mandel corridor near the Com-\\nmons, lost too much money last\\nspring to allow it to continue to\\nremain open after 5.\\n\\nEvening hours have lost money\\nsince they were originated in Jan-\\nuary of 1952 explained Mrs. Alma\\nBaugh, supervisor of Hutchinson\\ncommons.\\n\\nPatronage dwindled during last\\nyear, and by the spring quarter\\nthe shop was losing too much\\nmoney for the administration to\\ncontinue to underwrite the loss.\\n\\nfreedom,” Mead said. This alli-\\nance was purely practical and not\\ntheoretical. The rationalist ap-\\nproach to religious freedom, based\\non the intellectual conception that\\nall religions good enough to pre-\\nserve peace and order have a\\nright to exist, could not be recon-\\nciled with that of the revivalists\\nwho, while having no interest in\\nconformity, had no intellectual in-\\nterest in anything.\\n\\nNevertheless, Mead continued,\\nthis alliance, combined with the\\nearlier factors of self-interest,\\nvast spaces, and pressure from\\nthe old world, brought American\\nProtestantism—-in spite of itself —\\nstill further down the road toward\\nreligious toleration.\\n\\n’New year in\\nNov.\\' festival\\n\\nA “New Year in November” at-\\nmosphere will prevail at the De-\\nwali festival 4 p.m. Sunday in the\\nassembly hall of International\\nhouse.\\n\\nFeatured for the afternoon will\\nbe movies pertaining to the mean-\\ning of Dewali, authentic Indian\\nfoods, and native Indian dances\\nby Mehta Von Essen and Nina\\nGuha.\\n\\nSponsored by the India Associa-\\ntion, this Dewali festival cele-\\nbrates the opening of the new\\nyear on the Indian lunar calendar,\\nand is open to all those wishing to\\nlearn about the festival.\\n\\nDewali. the only national Indian\\nholiday, is a traditional time of\\ngaiety and friendliness and marks\\nthe end of the Indian fiscal year.\\nThrough all parts of India on the\\nnight of Dewali candles are placed\\non streets, over doorways, and on\\nroof-tops.\\n\\nSegregation decision\\ntopic of Ming talk\\n\\n“Implementing the Supreme\\nCourt decision” will be the sub-\\nject of a talk by William R. Ming,\\nJr., professor of law, at 8 p.m.\\nTuesday in Hitchcock lounge. The\\nmeeting is open to the public. _\\n\\nProfessor Ming recently took\\npart in the litigation of the segre-\\ngation decision of the Supreme\\nCourt.\\n\\nAll organizations:\\nregister by \\'Nov. 3\\n\\nAll student groups seeking rec-\\nognition as student organizations\\nat UC must register in the Stu-\\ndent Activities Office by Wednes-\\nday. All organizations not regis-\\ntered by that date will not be list-\\ned in the student directory.\\n\\nTo secure recognition, an or-\\nganization must complete the reg-\\nistration forms issued by the ac-\\ntivities office and must have ten\\nor more members who are stu-\\ndents in good standing at the Uni-\\nversity.\\n\\nStudents\\' Favorite\\n\\nLAUNDROMAT\\n\\nFor the Fust Six Years\\n1. Efficient Laundromat\\nService\\n\\n2.\\tShirts - Flat Work -\\nAll Laundry Services\\n\\n3.\\tLowest Prices in\\n\\nHyde Pork\\n\\nCome In and See Our\\nNewly Remodeled Store\\nwith the LATEST Equipment\\n\\nUNIVERSITY\\nLAUNDROMAT\\n1376 E. 55th St. PL 2-9097\\n\\x0cPage 4\\tTHE CHICAGO MAROON\\t%\\n\\nOctober 29, 1954\\n\\nIssued once weekly by the publisher. The Chicago Maroon, at the publica-\\ntion office, 5706 South University Avenue, Chicago 37, Illinois. Telephones:\\nEditorial Office, Midway 3-0800, Ext. 1010; Business and Advertising Offices,\\nMidway 3-0800, Ext. 1009. Distributed free of charge, and subscriptions by\\nmail, $3 per year. Business Office hours: 1 to 5 p.m., Monday through Friday.\\n\\nAllen R. Janger\\neditor-in-chief\\n\\nRichard E. Ward\\nmanaging editor\\n\\nEditorial\\n\\nMAROON prints all news\\n\\nFor quite a while now it has become less fashionable to\\nrevile the Maroon for faults which range from a mere vicious\\nslanting of one story to hatching of vast conspiracies designed\\nto subvert the government (SG, of course).\\n\\nSo we are sorry to note that once again we have to defend ourselves\\nfor doing something which it is our duty and our stated purpose to\\ndo: provide an unbiased coverage for all the news in an unbiased\\nfashion, no matter how much the content or what we write might\\nplease or displease us.\\n\\nWe refer here to the story about Senator Paul H. Douglas which\\nappeared in the last issue of our paper. We are told that this story\\nis detrimental to the cause of the senator’s re-election.\\n\\nWe might remind our critics that the Maroon has not declared\\nitself either for or against Douglas, that even if we were supporting\\nthe senator editorially, the practice of printing or suppressing news\\nin line with orfe’s editorial policy i§ more suited to certain Chicago\\nmetropolitan papers than to ourselves. If the facts printed in the story\\nare the truth, then it is the actions of the persons involved that do,\\nor do not, reflect upon the various personalities.\\n\\nWe still propose to print all the news which we believe to be of\\ninterest to the student body. If this means stepping on the toes of\\nparticular interests, then we can only hope that the bones involved\\nare sound enough to stand it.\\n\\nfrom the Democratic and Republican\\nparties. In many cases, candidates and\\ntheir friends put tremendous pressures\\non members of our Board of Directors\\nin an attempt to Influence them. (You\\ncan be sure such pressures had no ef-\\nfect.) Never has the IVI endorsement\\nbeen so eagerly sought as this year.\\nMany candidates told us frankly that\\nif the usual close county vote prevails\\nthe IVI endorsement will determine the\\noutcome of several county races.\\n\\nNot only did Joseph Meek and Sena-\\ntor Douglas eagerly seek the IVI en-\\ndorsement, but Senator Douglas has\\ngiven full cooperation to our various\\ndistrict campaign committees. He has\\ngone out of his way to appear at some\\nof our public meetings. (Last February\\nhe flew from Washington to appear\\nwith Adlai Stevenson and Arch Carey\\nat our 10th anniversary celebration.\\n\\nAnd our members have enthusias-\\ntically supported Senator Douglas be-\\ncause^ of his intelligence and devotion,\\nbecause of his great fights on off-shore\\noil, his selfless attempts to wake up\\nAmericans to the need for economic plan-\\nning to avert depression, and his strong\\nsupport of the UN and economic aid to\\nunderdeveloped areas. It is a great rec-\\nord.\\n\\nWe hope that students, faculty and\\nall others associated with your great\\nuniversity will go on giving support to\\nAmerica’s Number One Senator, just as\\nthey have in the past.\\n\\nLeon M. Despres, Choirman\\n\\nJames V. Cunningham. Jr.\\n\\nExecutive Director I.V.I.\\n\\nagreed to fly in from Detroit for the\\noccasion and speak for the candidates.\\nMr. Cass initiated arrangements for\\nprocuring the Field House, and had re-\\nceived the consent of the proper admin-\\nistration personnel.\\n\\nBefore submitting a story on the\\nmeeting to the MAROON, on Wednes-\\nday, Oct. 13, I again checked with Miss\\nMalone at the Democratic Party. She\\nassured me that all publicity could be\\nissued. That evening Mr. Anderson got\\nin touch with me. He Informed me that\\nthe Democratic Party officials had made\\nan honest and innocent mistake in\\nscheduling Douglas for our proposed\\ngathering. The Democratic Party, he ex-\\nplained, has priority over all other\\nappointments, but this priority can only\\nbe utilized for Its ward meetings, and\\ncould not be extended to other groups\\nsuch as ours. Mr. Anderson then made\\nthose statements which have formed\\nthe basis of controversy on last Friday’s\\narticle.\\n\\nI cancelled the MAROON story which\\nannounced our proposed Mass Meeting,\\nand, in so doing, urged the editors of\\nthe MAROON to pursue the matter no\\nfurther. Nothing appeared that week.\\nThe following week, I was Interviewed\\nfor the story. By then, rumors and re-\\nporters had it that the remarks deroga-\\ntory to UC and to IVI were the Senator’s\\nand not those of his assistant. I urged\\nthe MAROON to make It clear that there\\nwas no reason to believe that the stated\\npositions were those of Mr. Douglas.\\nThere is still no evidence of the Sena-\\ntor’s holding such beliefs on the matter,\\n\\nand his welcoming of IVI support in the\\nprecincts and in his remarks at meet-\\nings would tend to indicate a difference\\nof opinion.\\n\\nMr. Anderson has subsequently issued\\nIdentical remarks to a women connected\\nwith the IVI on the North Side. This\\nwoman reported the comments to the\\nPolitical Action Personnel of the IVI\\nIVI has had the good sense to discuss\\nthis problem of a highly paced advisor\\nrejecting the support of liberals rather\\nthan denouncing those who report such\\ndiscouraging remarks.\\n\\nRalph D. Fertig\\n\\n“Wave You Heard”\\nTHE PIZZA KID\\nis on 63rd\\nFeaturing\\nPizza at its Finest\\nBar-B-Q Back Ribs - Chicken\\nSpaghetti - Ravioli • Mustaccoli\\nItalian Sausage or Beef Sandwiches\\nKosher Corned Beef\\n\\nDaily: 11 a.m. to 1 a.m.\\nSunday: 4 p.m. to 1 a.m.\\n“We Deliver”\\n\\nDO 3-9777\\t1125 E. 63rd\\n\\nE\\n\\nB\\n\\nLetters...\\n\\nSFD protests article\\n\\nIn last week’s issue of the Maroon\\nthere appeared an article entitled\\n•\\'Douglas Cancels Rally Date.’’ The in-\\naccuracies in the article were so fla-\\ngrantly shocking that we. the Executive\\nCommittee of Students for Douglas,\\nwould like to set the record straight.\\n\\nFirst, the article states that a mass\\nrally had been “scheduled on campus\\nfor Monday evening, October 18,” at\\nwhich Senator Douglas and other no-\\ntables were to appear. No such meeting\\nhad ever been screduled by Students for\\nDouglas. The Mr. Fertig that you men-\\ntioned is not and never has been a\\nmember of our organization.\\n\\nThe article went on to say that “the\\ndirector of the Speakers Bureau of the\\nDemocratic Party in Cook County had\\ntold members of the Students for Doug-\\nlas organization on campus to go ahead\\nwith publicity on Douglas’ appearance.”\\nNo member of Students for Douglas ever\\nspoke with the Speakers Bureau. We\\nhave had no contact with them, what-\\nsoever.\\n\\nThe article called Mr. Douglas Ander-\\nson the “administrative assistant to\\nDouglas.” Mr. Anderson does not and\\nnever has held this position. Mr. Ander-\\nson is the Illinois representative of the\\nSenator.\\n\\nThe article attributed to Mr. Anderson,\\nthe statement “Campaigning at the Uni-\\nversity of Chicago is the kiss of death”\\nand further stated that “he expressed\\nthe wish that people at the University\\nand the Independent Voters of Illinois,\\nwould not endorse Douglas,” allegedly\\nbecause the Senator wished to disasso-\\nciate himself from their “.radical poli-\\ntical elements.”\\n\\nMr. Andrson has assured us that he\\nhas never made such a statement to\\nany person, and that they are not his\\nviews. We can assure you that he has\\nnever made such a statement to Stu-\\ndents for Douglas. Anyone who knows\\nthe Senator and is familiar with his\\nrecord knows that they are not the views\\nof Senator Douglas. All one need do is\\npick up a phone and call Mr. Anderson\\n(as we did upon seeing the article), to\\nconfirm this.\\n\\nSenator Douglas has spoken in this\\ncampaign before numerous IVI meetings\\nand has the whole-hearted support of\\nthat organization. Only a week ago\\nTuesday he addressed an IVI meeting\\nat their Hyde Park headquarters at 1412\\nE. 55th Street.\\n\\nThe Senator has always been proud\\nof his more than 26 year association\\nwith the University of Chicago, and\\nhas openly welcomed the support of\\nits students and faculty, many of whom\\nare now actively campaigning for his\\nre-election.\\n\\nThis past Monday a representative of\\nDouglas* campaign headquarters appear-\\ned at a Students for Douglas meeting\\non campus to enlist the service of stu-\\ndents as poll-watchers, etc. The Sena-\\ntor’s wife, Mrs. Emily Taft Douglas,\\nformer Congresswoman - at - large from\\nIllinois spoke on campus this past Tues-\\nday at another Students-for-Douglas\\nsponsored meeting. Pick up any one of\\nthe numerous campaign pamphlets put\\nout by Douglas’ campaign headquarters\\nand you will discover what prominence\\nthe Senator’s long tenure at the U. of\\nC. is given. Are these the ways one\\ngoes about “disassociating Douglas”\\nname from the University?\\n\\nSumming up: the entire article In last\\nweek’s Maroon was from beginning to\\nend a long list of prevarications, some\\nof which, for the sake of conserving\\nspace, we have even neglected to men-\\ntion in this letter. The atricle was not\\nsubmitted by Students for Douglas, or by\\nany member thereof. Students for Doug-\\nlas knew nothing about the article until\\nthe Maroon published it. We are at a\\nloss to know why the name of our or-\\nganization was mentioned in the article.\\nIt sounded as though inspired and writ-\\nten by a “Student for Meek.”\\n\\n* Don Coss\\n\\nDavid A. Lone\\n\\nRichard Stevens\\n\\nSy Dresner\\n\\nExecutive Committee\\n\\nStudents for Douglas\\n\\nIVI supports Douglas\\n\\nWe read with considerable Inter* st\\nyour story about the cancellation of\\nSenator Douglas’ campus appearance,\\nand particularly the paragraph dealing\\nwith a statement by Mr. Douglas Ander-\\nson, who heads the Senator’s Chicago\\noffice, in which Mr. Anderson is quoted\\nas saying the Senator would get more\\nvotes without the endorsement of the\\nIndependent Voters of Illinois than he\\nwill with it.\\n\\nIf Mr. Anderson said these words, you\\ncan be sure he was not speaking for\\nthe Senator, and he was talking non-\\nsense. A few facts make this clear.\\n\\nBoth Joseph Meek and Senator Doug-\\nlas actively sought the endorsement of\\nthe IVI, as did ninety other candidates\\n\\nINTERNATIONAL HOUSE MOVIES\\n\\nAssembly Hall, Monday and Thursday Evenings at 8:30 P.M.\\n\\nMonday, Nov. 1 — ANA - TA - HAN (The Devil’s Pitchfork) (Japanese-\\nAmerican)\\n\\nThursday, Nov. 4—BELL FOR ADANO (American)\\n\\nEditor’s note: The story, ap-\\npearing in last week’s Maroon,\\nwas written from information\\nsupplied by Ralph Fertig, at that\\ntime, chairman of the citizen’s\\ncommittee for Barrett O’Hara.\\nDouglas Anderson was not avail-\\nable for comment up to the time\\nof publication.\\n\\nThe Maroon apologizes that this\\nwas not made clear in the story or\\nheadline as printed. For Fertig’s\\ncomments on the story read be-\\nlow.\\n\\nOur apologies also go to Frank\\nMcCulloch, Senator Douglas’ ad-\\nministrative assistant, whose title\\nwas given to Douglas Anderson,\\nthe senator’s Illinois representa-\\ntive.\\n\\nStudent explains\\nDouglas story\\n\\nA great deal of confusion and concern\\nhas been called to my attention with\\nreference to last week’s MAROON article\\non the abandoned Mass Meeting for\\nSenator Douglas. While we who are en-\\ngaged in electioneering may doubt the\\npractical advantage of such a story —\\nand I had grave misgiving’s about its\\nappearance — the story was thoroughly\\naccurate in its detail.\\n\\nIt is a sad commentary on Liberals\\nthat so many are prepared to throw to\\nthe winds freedom of the press when it\\nill suits a liberal candidate to have a\\nstory featured on him which is other-\\nwise relevant to the paper’s readership.\\nThe continued attacks upon the Integ-\\nrity of my co-workers in the campaign\\nfor Douglas, O’Hara, and Lohman com-\\npel me to explain in greater detail the\\nentire situation which led up to the\\nprinting of last Friday’s story.\\n\\nAfter a conference with Director of\\nStudent Activities, William Birenbaum.\\nheld Tuesday, October 12, the Chairman\\nof Students for Douglas, Don Cass, and\\nI, speaking for the Committee for Bar-\\nratt O’Hara agreed to co-sponsor the two\\ncandidates with other big name speakers\\nat a Mass Meeting for the campus. Mr.\\nCass agreed to make arrangements for\\na location, and I was to contact Douglas\\nand O’Hara. Mr. Douglas and his admin-\\nistrative assistant, Mr. Anderson, were\\nboth out of town. I was informed by\\ntheir office that the Democratic party\\nalso schedules Douglas, and so I con-\\ntacted the appropriate personnel there.\\nMiss Jerry Malone, head of the Speakers\\nBureau at the Democratic Party Head-\\nquarters assured me we could have\\nDouglas for Monday evening, October 18.\\nBarratt O’Hara arranged his schedule for\\nthat same evening, and Mr. Emil Mazey,\\nSecretary-Treasurer of the UAW-CIO\\n\\nB\\na*\\n\\n*\\ns\\n\\nI\\n\\nB\\n\\nB\\n\\nB\\n\\nI\\ng\\n\\nE\\nE\\n\\nSCHNEEMANN’S\\n\\nRed Door Book Shop\\n\\n1328 East 57th Street\\n\\nNOrmal 7-6111\\n\\nAnnouncement of Our Winter\\n\\nthe book-cellar\\n\\nWeekdays 10:00 A.M. to\\n\\nSundays 2:00 P.M. to\\n\\nthe used book room\\n\\n4:00 P.M. to 10:00\\n\\nHours\\n\\nI\\n\\nE\\n\\nB\\n\\nB\\n\\n10:00\\n\\n10:00\\n\\nP.M.\\n\\n6\\nI\\n\\nB\\n\\nM\\n\\n-\\nc\\n\\nC\\n\\nB\\n\\nE\\n\\nThe shop will Hose WEDNESDAY evenings\\n\\nI\\nB\\nw\\n\\nSiiiiiiiiiiiiiiiiiiiiiiiiiiiiiiiiiiiiiiiiiiiiiiiiiaiiiiiiiiiiiiiiiiiiiiiiiL\\n\\n|\\tRE - ELECT\\t|\\n\\nI SEN. MARSHALL !\\n\\nIKORSHAKI\\n\\n| 5TH SENATORIAL DISTRICT I\\n\\n| A Progressive |\\ni\\tand\\tf\\n\\n| Liberal Legislator |\\n\\n| VOTE ‘YES’ ON THE BLUE BALLOT |\\n\\n■B\\t“\\n\\nllllllllllllllllllllilllllllllllllllillllllllllllllllllllllllllllllllllllh\\n\\nTOMORROW NIGHT\\tFOLK CONCERT\\tSAT., OCTOBER 30\\n\\nPETE SEEGER • BILE BROONZY • SONNY TERRY\\n\\nMandel Hall 8:30 P.M.\\tGen. Admission $1.00\\n\\n(57th & University)\\t\\'\\tSeats on Sale at Box. Office\\n\\nSponsored by the V of C delegation to the National Student Association\\n\\x0cPage 5\\n\\nOctober 29, 1954\\tTH ^ CHICAGO MAROON\\n\\n_-———-——-————_—-^^\\t___________________________________\\n\\nSupport McCarthy censure\\n\\nThe campus Robin Hood club last week initiated its pro-\\ngram of support for the McCarthy censure, as recommended\\nbv the Senate Watkins subcommittee.\\n\\n\"The Robin Hood club was ac-\\ntivated on this issue,” said Suz-\\nanne Friedmann, Robin Hood sec-\\nretary, “because of our concern\\nwith the formation of the ‘national\\nrally for Joe McCarthy’ sched-\\nuled for November 11, and\\nnfter the Senate convenes to con-\\nbecause of the large response to\\n\\nthe rally.”\\n\\nThe Robin Hood projects in-\\nclude soap and baggage tag cam-\\npaign, consisting of hotel-size\\nbars of soap wired to baggage\\ntags which are stamped, “Don’t\\nWhitewash McCarthy—Vote Cen-\\nsure.”\\n\\nWhat have VICEROYS got\\nthat other\\nfilter tip cigarettes\\nhaven’t got ?\\n\\nTHE ANSWER IS\\n20,000 FILTERS\\nIN EVERY VICEROY TIP\\n\\nInside every Viceroy tip is a vast network\\nof 20,000 individual filters to filter your\\nsmoke over and over again. You get only\\nthe full, rich taste of Viceroy’s choice to-\\nbaccos . . . and Viceroys draw so freely.\\n\\nYes, you get Viceroy’s remarkable new\\ntip . . . with 20,000 individual filters . . .\\nplus king-size length for only a penny or\\ntwo more than cigarettes without filters.\\n\\nLong-time friend\\nof UC succumbs\\nin tragic death\\n\\nThe death-bell tolled last\\nweek as a silent band of cut-\\nters armed with saws and\\nladders beheaded UC’s friend of\\nlong standing — the ad-covered\\ntree in front of Woodworth’s\\nbookstore.\\n\\nAt 9:30 a.m. on Oct. 19 the tree’s\\nbranches creaked their last and\\nfell to the ground, temporarily\\nblocking 57th street traffic un-\\ntil the branches could be hewn\\nand carted away to their final\\nresting place.\\n\\nThe move was made to avert\\nthe imminent collapse of the late\\nly decayed tree upon Woodworth’s\\nduring anticipated winter wind-\\nstorms.\\n\\nThe tree was decapitated, rath-\\ner than cut down entirely, public\\nopinion deeming that the ad-cov-\\nered trunk should stand. The\\ntrunk, too, will be gone within\\nthree years. It is now completely\\ndead, and bark will begin to drop\\noff during the coming year.\\n\\nWhen no new branches ap-\\npeared last spring, the tree was\\ndiagnosed as dead; cause of death:\\nthirst.\\n\\nHaving grown in its late loca-\\ntion since 1893, the tree enjoyed a\\n\\nworld wide reputation and has\\nbeen granted coverage in such\\npublications as International\\nNews report. Life, the Christian\\nScience Monitor, and Time.\\n\\n►\\n\\n►\\n►\\n►\\n►\\n►\\n►\\n\\n*\\n►\\n►\\n►\\n\\n►\\n►\\n\\n►\\n\\n\\n\\nWORLD’S LARGEST-SELLING\\nFILTER TIP CIGARETTE\\n\\nNew\\nKing-Size\\n\\nFilterTip\\n\\nVicerot^y I\\n\\n*\\tI e\\'«-»»eTTt#\\t1/\\n\\nOnly a Penny or Two Moro than Cigarette* Without Filter*\\n\\nPaul Douglas\\' wife describes\\nprograms;.attacks administration\\n\\nCongress “should act like the good doctor — see the symp-\\ntoms, diagnose, and cure the economic pneumonia. Acts, not\\nwords, achieve results in economics.” So Senator Paul Doug-\\n\\nlas’ economic program was\\ndescribed by his wife, Emily\\nTaft Douglas, in a speech at a\\nStudents for Douglas meeting\\nTuesday afternoon.\\n\\nSenator Douglas, she said, be-\\nlieves that “this administration\\nhas been obtuse about human wel-\\nfare.” Several issues she men-\\ntioned as mismanaged included\\nhousing and tidelands oil.\\n\\nThere is a need for more public\\nhousing; the housing bill writ-\\nten in 1939 by Senator Douglas\\nand another senator has had its\\n\\nIllness postpones\\nSpencer lectures\\n\\nThe recent illness of William H.\\nSpencer, distinguished service\\nprofessor emeritus of the school\\nof business, has postponed the\\nopening of the University college\\ndistinguished service lecture se-\\nries from October 29 to Novem-\\nber 26.\\n\\nEugene M. K. Geiling, distin-\\nguished service professor of phar-\\nmacology, will speak on “the im-\\npact of the atomic age on bio-\\nchemical research” on November\\n26 in the Woodrow Wilson room,\\n116 S. Michigan avenue, for the\\nUniversity college.\\n\\nprovisions for homes cut by two-\\nthirds, she stated. More schools,\\nas well as more houses, are\\nneeded.\\n\\nSenator Douglas “wanted nat-\\nural resources to help the human\\nresources,” proposing that tide-\\nlands oil wealth be used for edu-\\ncation “to light the lamp of knowl-\\nedge”; off-shore oil was instead\\ngranted to four states.\\n\\nDuring the question and answer\\nperiod, Mrs. Douglas was queried\\nas to her husband’s voting in fa-\\nvor of outlawing the Communist\\nparty. She answered that her hus-\\nband felt that “to belong to the\\nCommunist party is to belong to\\nan active conspiracy to overthrow\\nthe government. It is a direct\\nthreat.”\\n\\nHard times\\nparty tonight\\n\\nPsi Upsilon’s traditional hard\\ntimes party will be held tonight\\nfrom 9 p.m. to 1 a.m. Dick Ger-\\nwin’s band will furnish musi-\\ncal entertainment.\\n\\nAll students are invited, with\\nor without dates. There is no\\nadmission, but visitors must\\nwear hard-times costumes, said\\nthe fraternity.\\n\\nMr. Spencer’s lecture on “Re-\\ncent trends in the relationship be-\\ntween government and business”\\ntween government and business”\\nwill close the series in April.\\n\\nITALIAN\\nFIESTA\\n PIZZERIA\\n\\nSpecial Pizza\\n’A Sausage\\n% Anchovy\\n’A Pepper\\n’A Mushroom\\n\\n1427 E. 67th\\nMU 4 ^\\n\\nFREE DELIVERY\\nTO U. of C. STUDENTS\\nOn orders over $2\\n\\nQuick Courteous Service\\n\\nTABLE SERVICE\\n\\n11 A.M. to 3 A.M\\n\\n7 Days a Week\\n\\nDELIVERY SERVICE\\n\\n5 P.M. to 3 A.M.\\n\\n<\\n\\n<\\n\\n<\\n\\n<\\n<\\n\\n<\\n1\\n<\\n<\\n\\nApproval deadline\\nset for special\\nhonors applicants\\n\\nThe deadline for approval of\\nspecial honor proposals in the\\ncollege has been set for Janu-\\nary 7.\\n\\nAll students wishing to be grad-\\nuated with special honors in any\\narea of the college should con-\\nsult with the chairman of the\\nstaff in which they wish to do\\nspecial honors work, John P.\\nNetherton, assistant dean in the\\ncollege, said this week.\\n\\nThe prerequisites for admit-\\ntance to the special honors pro-\\ngram is a B average with no\\ngrade lower than a C. An essay\\nis usually required to satisfy the\\ndepartmental requirements for\\nspecial honors. The requirements\\nmay vary slightly from staff to\\nstaff, however.\\n\\nThe honors, if achieved, will ap-\\npear on the convocation listings\\nand as a part of the student’s per-\\nmanent transcript.\\n\\nOver 120 students have taken\\nthe honors program since it was\\nfirst initiated in 1947, according\\nto Netherton.\\n\\nComplete Systems\\nFrom ^^ A\\n\\nCome in end Listen\\nto the\\nJensen Bathtub.\\n\\nlion\\n\\nTRADE\\nINS\\n\\nOn Hi-Fidelity\\nComponents at\\nAudiophile Net\\n\\nEverything for the Hi-Fi Fan—\\ncabinets, audio unit*, tuners, am-\\nplifiers and speakers—plus we will\\ntake any radio or phonograph in\\ntrade. At Lund you\\'ll find the fin-\\nest of equipment at reasonable\\nprices. Come in todayl\\n\\nGeneral honors are also award-\\ned without special wvk to stu-\\ndents having a half-A, half-B\\naverage or better in the college.\\n\\n\\n\\nTERMS\\n\\nLUND Company\\n\\n5236 Blackstone\\n\\nOpen Evenlngt Including Sunday TUI 8 P. M.\\n\\nMU 4-5300\\n\\nWE BUY USED EQUIPMENT\\n\\n(from page 1)\\nPHYSICAL SCIENCES\\n(four elected)\\n\\nByron Rainey\\t88 (ISL)\\nMario Baur\\t73 (ISL)\\nRobert Giedt\\t71 (ISL)\\nEli Stein\\t70 (ISL)\\nRobert March\\t53 (SRP)\\nMorris Hirsch\\t47 (SRP)\\nM. Ingberman\\t47 (SRP)\\nM. Prastein\\t42 (SRP).\\nSOCIAL SERVICES\\t\\nADMINISTRATION .\\t\\nDorothy Ingersoll\\t8 (ISL)\\nC. Schpoont\\t7 (ISL)\\nSOC IAL SCIENCES\\t\\n(ten elected)\\t\\nC. Gray\\t138 (ISL)\\nD. Utley\\t132 (ISL),\\nB. Mac Lach Ian\\t127 (ISL);\\nA. Solomon\\t126 (ISL)\\nJ. Stanford\\t124 (ISL)\\nM. Baron\\t120 (ISL)\\nD. ( ass\\t118 (ISL)\\nP. Breslow\\t103 (SRP);\\nJ. S. Burbach\\t102 (ISL)!\\nD. Weiss\\t102 (ISL)\\nRobert Trees\\t98 (SRP)\\nA. C. Graff\\t97 (SRP)I\\nMilt Kotler\\t95 (SRP)!\\nRhoda Sadigur\\t91 (SRP)]\\nC. Swenson\\t95 (SRP)]\\nDon Anderson\\t92 (SRP)\\nJim Flynn\\t92 (SRP):\\nLucius Meine\\t83 (SRP)\\nRobert Thomas\\t83 (SRP)]\\n\\x0cOctober 29, 1954\\n\\nTHE CHICAGO MAR^ ON\\n\\nPage 6\\n\\nLyric theatre opens\\nseason with\\'Norma\\'\\n\\nThe Chicago Lyric\\' theatre,\\nwhich restores resident grand op-\\nera to Chicago, opens its season\\nSunday at the Civic opera house\\nwith Bellini’s Norma. Tickets ma.y\\nbe purchased at the box office\\nfrom noon to 6 p.m.\\n\\nRosanna Carteri as she will\\nappear in La Boheme Saturday\\nevening, November 13.\\n\\nAppleton and Field concert\\ninteresting but not outstanding\\n\\nA program of two-piano music fs not usually a thrilling pros-\\npect, and it must be admitted that the first University concert\\nlast Friday, a recital by Vera Appleton and Michael Field, was\\nconsiderably more interesting than one would expect.\\n\\nTheir rendition of Brahms’ Variations on a Theme by Haydn\\n(better known in its subsequent orchestral version), after a\\n\\nrather shaky start exhibited\\nsome fine and sententious\\nplaying, albeit with frequent\\nyubatos.\\n\\nStravinsky’s Concerto for Two\\nPianos Without Accompaniment,\\nwhich followed, was flashily and\\nnoisily performed; it uses the in-\\nstruments almost entirely percus-\\nsively. with the usual “clashing\\nharmonies and biting rhythms’’ of\\nthe composer’s later style. The\\nfirst movement is a rather effec-\\ntive display piece, but the tepid\\nand aimless slow movement and\\nthe rcpe.titive third became very\\ntiresome with their unpianistic\\nconception.\\n\\nAlthough the Bartok pieces\\nfrom Mikrokosmos were particu-\\nlarly well done, the high point of\\nthe recital was, curiously, n o t\\noriginally written for two pianos,\\nnot was it on the printed program.\\n\\nEven considering the limita-\\ntions of the literature, one would\\n\\nhave preferred hearing fewer pi-\\nano versions of orchestra pieces.\\nThe 19th - century - style arrange-\\nment of a Bach chorale prelude\\nwhich served as an encore rather\\naccentuated this impression.\\n\\nThis was a remarkable arrange-\\nment of Debussy\\'s Fetes by Mau-\\nrice Ravel, which the duo played\\nwith much spirit and feeling, al-\\nthough it could hardly replace the\\norchestral version. Ravel’s own\\nFeria was considerably less effec-\\ntive.\\n\\nBob Bloch\\n\\n\\n\\nPlaywrights Theatre Club\\n1205 N. Dearborn\\n\\nCHEKHOV\\'S\\n\\n\\n\\nthe Sunday at 7:30\\n\\nTues, thru Sat., 8:30\\n\\nMemberships or reserv-\\n\\nWU ations available at Stu-\\n\\ndent Government Tick-\\net Agency or call\\n\\nWHitehall 3-227?\\n\\n\\'La Ronde\\' tricky trifle\\n\\nNature, working through the cold and inscrutable judgment of a film booker, has presented during\\nthe past week at the Hyde Park theatre an almost perfectly controlled cinematic experiment.\\n\\nMax Ophuls’ La Ronde and Thorold Dickinson’s Gaslight are both adapted from plays. Both are ap-\\nproximajfcely the same magnitude in significance: Gaslight is based bn frankly melodramatic prem-\\nises, while La Ronde is from Schnitzler’s tracky psychological trifle.\\n\\nThey differ simply in that La Ronde is a distressingly poor film while Gaslight is a work of consum-\\n\\nmate craftmanship.\\n\\nThe problem of understanding\\nwhy one film is a .failure and the\\nother is not, in this case, resolves\\nitself into seeing what character-\\nistic stylistic elements, what ap-\\nproach to subject matter and the\\nfilm medium each director has\\nutilized.\\n\\nOphuls doomed himself to al-\\nmost certain failure by the use of\\ndevices that just never seem to be\\nconvincing on the screen.\\n\\nChief among there was the use\\nof a “Mr. Fate” character to fur-\\nther the action. And it wasn’t\\nmerely the off-key- singing and\\nhorrendous posturing of Mr. Wal-\\nbrook that caused this.\\n\\nPlacement of the action in the\\ncontext of a stage-filmic-historical\\nnever-never-land betrays the most\\nfundamental principle of convinc-\\ning cinema.\\n\\nThe basis for Dickinson’s style\\nlies in the realization that any\\ncharacters or devices interposed\\nbetween direct visual presentation\\nof the action tend to destroy the\\nunity and rhythm of the film.\\n\\nDickinson is a master of using\\nobjects in a way that illuminates\\nand interacts with the world of\\ncharacter and action.\\n\\nIn the opening sequence, the\\nslashed furniture a demented\\nmurderer leaves in the wake of\\nhis search reflects the chaos of\\nhis mind, the frenzy of his action,\\nand the condition of his victim,\\nnow dying as just such a bundle\\nof useless rubbish.\\n\\nAgain in the flickering of the\\n\\ngaslight as the husband leaves the\\nattic we feel the emotional flut-\\ntering of his wife’s fears, doubts\\nand anguish as she lies on hei\\' bed.\\nIn themselves trifles, these de-\\nvices become significant when\\nthey make up the complex seam\\nless texture of the film. Perhaps\\nit is this element of not being told\\neverything, of participating in\\nmore than a passive way, that\\nsets the difference between good\\nand poor cinema.\\n\\nF. G. Ternenyl\\n\\n♦♦♦♦♦♦♦♦♦♦♦♦♦♦♦♦♦♦♦♦♦♦♦♦♦♦♦♦♦♦♦♦♦♦♦♦♦♦♦♦♦♦♦♦♦♦♦>\\n\\nRENTALS\\n\\nCameras\\n\\nTape Recorders\\n\\n. Slide Projectors\\nMovie Projectors\\n\\nWe are pleased to offer the\\nabove equipment on liberal\\nrental terms, by day or week.\\n\\nPHOTOGRAPHIC DEPT.\\n\\nUNIVERSITY of CHICAGO\\n\\nWhen you pause...make it count...have a Coke\\n\\nBOOKSTORE\\n\\n5802 Ellis Avenue\\n\\nBOTTLED UNDER AUTHORITY OP THE COCA COLA COMPANY BY\\n\\nThe Coco-Colo Bottling Company of Chicogo, Inc.\\n\\ni registered trade mark.\\t© 1953, The Coca-Cola Compaq\\n\\nt\\n\\ni^**\\n\\nPaul Robeson Sings Tonight\\n\\nhew \"Silvered-Tip\" writes\\nthe way you do . . . fine,\\nmedium or broad ... with-\\nAu* changing points. Re-\\n(fills available in blue, red, /\\ngreen or black ink. Goto 1\\nPaper-Mate Pen today!\\n\\nat the Pershing Hotel\\n\\n« Mm approve\\nI Ink can’t #m«<\\ner transfer ~~\\n\\n* Can\\'t Wa/\\n\\nSilvered-Tip\\nrefills... 49f\\n\\nA Program Devoted Exclusively\\nto Songs by Paul Robeson\\n\\nPRESENTED BY THE CHICAGO COMMITTEE FOR A PAUL ROBESON CONCERT\\n\\nTonight — Friday, Oct. 29th\\n\\nAdmission $1.00\\n\\n6400 S. Cottage Grove\\n\\x0cOctober 29, 1954\\n\\nTHE CHICAGO MAROON\\n\\nRecords fall as runners beat Albion;\\n\\nTeam, course, and attendance marks set\\n\\nby Pau! Baptist\\n\\nThe UC harriers resumed their\\nwinning ways last Saturday with\\n\\nBooters lose\\n\\na resounding 17-46 triumph over\\nAlbion College on the Albion\\nhome course Saturday.\\n\\nWalt Deike finished far ahead\\nof the pack in a brilliant 21:28\\nlime for the four mile course. Jim\\nFlynn moved into the number two\\nspot with an excellent time of\\n21:57. and Art Omuhundro, only\\ntwo seconds behind, got third.\\n\\nChapman of Albion finished\\nfourth, closely escorted by Lowell\\nHawkinson, Ted Fishman, Tihkie\\nHeyns and Paul Baptist to put\\nthe clincher on another decisice\\nvictory for the UC gang.\\n\\nHighlights of the meet were:\\n\\n1)\\tWalt Deike\\'s sparkling 21:28\\ntime which set a new course rec-\\nord for four miles.\\n\\n2)\\tThe Chicago win which snap-\\nped the harriers’ longest losing\\n\\nCAMPUS FOOD SHOP\\nDelicatessen - Rakery\\nLeave your party orders with us\\n\\n1369 E. 57th St.\\tMidway 3-7229\\n\\nstreak in two years: one game.\\n\\n3)\\tFor the first time in UC his-\\ntory seven Chicago runners fin-\\nished with times inside 23 min-\\nutes.\\n\\n4)\\tThe largest crowd ever to\\nattend a UC cross country race\\nwas recorded when 300 young\\nMichigan high school runners\\nstayed after their race to watch\\nthe college meet.\\n\\nTomorrow more records may\\ncrumble as the UC harriers meet\\nWright and Wisconsin State at\\n12 noon in Washington park.\\n\\nNavy Pier defeated Chicago 3-2 -\\nlast Saturday in the best played\\nsoccer game seen on Stagg field\\nso far this season.\\n\\nThe Illini started at a rapid\\npace and repeatedly threatened to\\nscore early in the game. Even so\\nit was Maroon forward John God-\\nfrey who drew first blood with a\\nshot from fifteen yards out.\\n\\nOnly minutes later Navy Pier\\nreplied with a goal scored after a\\ncorner kick, and the half ended\\nwithout further tallies. Godfrey\\nalmost scored again on a penalty\\nkick, but the boot was brilliantly\\n\\nAdvertisement — Advertisement — Advertisement — Advertisement\\n\\nOn Campus w&W i\\n\\n(Author 0/ “Barefoot Boy With Che9k^ tic.)\\n\\nHOME, SWEET HOMECOMING\\n\\nA great number of people have been asking me lately, “What is\\nHomecoming?” Yesterday, for example, as I walked from my house\\nto the establishment of Mr. Sigafoos, the local lepidopterist where\\n1 had left a half dozen luna moths to be mounted — a distance of no\\nmore than three blocks — 1’11 wager that well over a thousand people\\nstopped me and said, \"What is Homecoming?”\\n\\nWell, what with company coming for dinner and the cook down\\nwith a recurrence of breakbone fever, I could not tarry to answer\\ntheir questions. “Read my column next week,” I cried to them.\\n“I’ll tell all about Homecoming.” With that I brushed past and\\nraced home to baste the mallard and apply poultices to the cook,\\nwho, despite my unending ministrations, expired quietly during the\\nnight, a woman in her prime, scarcely 108 years old. Though her\\npassing grieved me, it was some satisfaction to be able to grant her\\nlast wish — to be buried at sea — which is no small task when you\\nlive in Pierre, South Dakota.\\n\\nWith the dinner guests fed and the cook laid to her watery rest,\\nI put out the cat and turned to the problem of Homecoming.\\n\\nFirst of all, let us define Homecoming. Homecoming is a weekend\\nwhen old graduates return to their alma maters to see a football\\ngame, ingest great quantities of food and drink, and inspect each\\nother\\'s bald spot!#\\n\\nThis occasion is marked by the singing of old songs, the slapping\\nof old backs, and the frequent utterance of such outcries as “Harry,\\nyou old polecat!” or \"Harry, you old rooster!” or \"Harry, you old\\nwombat!” or \"Harry, you old mandrill!” All old grads are named\\nHarry.\\n\\nDuring Homecoming the members of the faculty behave with\\nunaccustomed animation. They laugh and smile and pound backs\\nand keep shouting, \"Harry, you old retriever!” These unscholariy\\nactions are performed in the hope that the old grads, in a transport\\nof bonhomie, will endow a new geology building.\\n\\nThe old grads, however, are seldom seduced. By game time on\\nSaturday, their backs are so sore, their eyes so bleary, and their\\nlivers so sluggish that it is impossible to get a kind word out of\\nthem, much less a new geology building. \"Hmphh!” they snort as\\nthe home team completes a 101 yard march to a touchdown. \"Call\\nthat football? Why, back in my day they’d have been over on the\\nfirst down. By George, football was football back in those days —\\nnot this namby pamby girls game that passes for football today.\\nWhy, look at that bench. Fifty substitutes sitting there! Why, in\\nmy day, there were eleven men on a team and that was it. When you\\nbroke a leg, you got taped up and went right back in. Why, I remem-\\nber the big game against State. Harry Wallaby, our star quarter-\\nback, was killed in the third quarter. I mean he was pronounced dead.\\nBut did that stop old Harry? Not on your tintype! Back in he went\\nand kicked the winning drop-kick in the last four seconds of play,\\ndead as he was. Back in my day, they played fool bull, by George!”\\n\\nEverything, say the old grads, was better back in their day —\\neverything except one. Even the most unreconstructed of the old\\ngrads has to admit that back in his day they never had a smoke like\\ntoday’s vintage Philip Morris — never anything so mild and pleasing,\\nday in day out, at study or at play, in sunshine or in shower, on\\ngrassy bank or musty taproom, afoot or ahorse, at home or abroad,\\nany time, any weather, anywhere.\\n\\nI take up next another important aspect of Homecoming — the\\ndecorations in front of the fraternity house. Well do I remember\\none Homecoming of my undergraduate days. The game was against\\nPrinceton. The Homecoming slogan was \"Hold That Tiger!” Each\\nfraternity house built a decoration to reflect that slogan, and on\\nthe morning of the game a group of dignitaries toured Fraternity\\nRow to inspect the decorations and award a prize for the best.\\n\\nThe decoration chairman at our house was an enterprising young\\nman named Rex Sigafoos, nephew of the famous lepidopterist. Rex\\nsurveyed Fraternity Row, came back to our house and said, \"All\\nthe other houses are building cardboard cages with cardboard tigers\\ninside of them. We need to do something different — and I’ve got it.\\nWe’re going to have a real cage with a real tiger inside of it —a\\nsnarling, clawing, slashing, real live tiger!”\\n\\n\"Crikey!” we breathed. \"But where will you get him?”\\n\\n\"I’ll borrow him from the zoo,” said Rex, and sure enough, he did.\\n\\nWell sir, you can imagine what a sensation it was on Home-\\ncoming morning. The judges drove along nodding politely at card-\\nboard tigers in cardboard cages and suddenly they came to our house.\\nNo sham beast in a sham cage here! No sir! A real tiger in a real\\ncage — a great striped jungle killer who slashed and roared and\\nsnarled and dashed himself against the bars of his cage with mani-\\nacal fury.\\n\\nThere can be no doubt that we would have easily taken first prize\\nhad not the tiger knocked out the bars of the cage and leaped into\\nthe official car and devoured Mr. August Schlemmer, the governor\\nof the state, Mr. Wilson Ardsley Devereaux, president of the uni-\\nversity, Dr. O. P. Gransmire, author of A Treasury of the World’s\\nGreat Southpaws: An Anthology of Left Hand Literature, Mr.\\nHarrison J. Teed, commissioner of weights and measures, Mrs. Amy\\nDorr Nesbitt, inventor of the clarinet, Mr. Jarrett Thrum, world’s\\n135 pound lacrosse champion, Mr. Peter Bennett Hough, editor of the\\nliterary quarterly Spasm, and Mrs. Ora Wells Anthony, first woman\\nto tunnel under the North Platte River.\\t©Max shuiman, 1954\\n\\nThis column is brought to you by the makers of PHILIP MORRIS\\nwho think you would enjoy their cigarette.\\n\\nNow back to a full staff of 6 Barbers\\n\\nat the\\n\\nREYNOLDS CLUB\\n\\nBARBER SHOP\\n\\n57<h AND UNIVERSITY\\n\\nWaiting time will be a minimum\\n\\n9-5 Mon. - Fri. — 9-1 Saturday\\n\\noil\\n\\nBROOKS BROTHERS SPORTWEAR\\nan interesting new selection\\nthat\\'s colorful, exclusive and distinctive\\n\\nWe’ve an outstanding selection of new\\nFall sportwear items...including light-\\nweight wool jersey knit sport jackets,\\nminiature Tartan wool Odd Vests, tan-\\nlovat covert Odd Trousers... and a host\\nof practical, attractive outerwear items,\\nsport shirts, sweaters, etc.... as well as all\\nour traditional favorites.\\n\\nCatalogue upon request.\\n\\nSSTABLISHID 1l1t\\n\\nliens furnishings, flats ^f hoes\\n\\n346 MADISON AVENUE, COR. 44TH ST., NEW YORK 17, N. Y.\\nBOSTON • CHICAGO • LOS ANGELES • SAN FRANCISCO\\n\\nsaved by the Illini goalie.\\n\\nThe second half began auspici-\\nously for Chicago. In what was\\nperhaps the finest solo play of the\\nyear, Godfrey dribbled the ball\\nforty yards into the Navy Pier\\ngoal.\\n\\nChicago elation was shortlived,\\nhowever. Fifteen seconds later the\\nIllini roared down the field, drew\\ngoalie Jerry Czamanske out of\\nposition, and gave Ihor Dachniv-\\nsky a chance to tap the ball into\\nthe net to event the score. 2-2.\\n\\nThe winning goal came late in\\nthe last quarter when a long, fast\\nground ball took a tremendous\\nhop over the Maroon goalkeep-\\ner\\'s head, surprising everyone.\\nChicago was unable to score be-\\nfore time ran out.\\n\\nAero aims at\\nfilling posts\\n\\nAcrotheatre needs to fill a Tot\\nof empty shoes this fall, but not\\ndancing shoes, according to Presi-\\ndent John Frey.\\n\\nAlthough the organization has\\na fairly full complement of mod-\\nern, ballet, and afro-cuban danc-\\ners. it is lacking managers and\\n\\nadministrators for props.\\n\\nsets,\\n\\nmakeup, and other tasks. Frey\\nhopes to have these posts filled\\nsoon.\\n\\nSPORTS\\nCALENDER\\n\\nTomorrow:\\n\\nSoccer, Earlham, 9.30\\na.m., Stagg Field\\n\\nCross country, Wright\\nand Wisconsin\\nState, 12 noon,\\nWashington Park\\n\\nGordon’s Sport Shop\\n\\nTennis Balls, $6.00 a dozen\\n$16.50 Tennis Rockets, $9.95\\n\\n3757 Cottage Grove\\n\\nSS£*!^eS^«M»R£^^±*=f^5is^^ *’ fusion\\nV5ths Scotch . . . l/5th Yankee 71\\n| What a mixture of fun!\\n\\nI Paul Douglas\\n\\nI Alex Mackenzie\\n\\nI A tasty dish of\\n\\n4 pure whimsey\\n\\nStudents presenting their ID cards at\\nbox office will be admitted for 50c\\nany week night. Saturdays and Sun-\\ndays until 5 p.m.\\n\\nEye Examinations\\nVisual Training\\n\\nDr. Kurt Rosenbaum\\n\\noptometrist\\n\\n1132 E. 55th Street\\n\\nHYde Park 3-8372\\n\\nLouise Barker\\nphotographer\\n\"ivho captures\\nyour\\npersonality\\nas well as\\nyour person\\'’\\n\\n1457 E. 57th St.\\nBU 8-0876\\n\\x0cTHE CHICAGO MAROON\\n\\nOctober 29, 1954\\n\\nPage 8\\n\\nWant Ads\\n\\nLost\\n\\n\\n\\nam PHOTOGRAPHERS\\n\\nRandolph and Kar Analytic Geometry\\nand Calculus book. No name inside.\\nFinder please return to Edward Kowal-\\nski. Hitchcock Hall. Room 51.\\n\\nServices\\n\\nMoving? Call Prime Movers. Two husky\\nstudents, car, trailer. Call MI 3-920 or\\nPL 2-6412. Reasonable rates.\\n\\nMathematical instruction to fit needs\\nof individual or group. Soglin. ST 2-6727.\\n\\nWanted\\n\\nUsed lightweight woman’s bicycle. If\\nyou have one for sale call DO 3-1858 or\\nRY 3-7915.\\n\\nMother to care for my 14-months-old\\ngirl in her home; days; near University.\\nPL 2-2958.\\n\\nFor Sale\\n\\nBlue ribbed mohair couch and chair.\\nGood condition. $37.50. NO 7-0615.\\n\\n1947 Kaiser. Pretty fair condition. $85.\\nCall MI 3-0800, Ext. 1588.\\n\\nSofa. 17-inch Westinghouse TV. Upright\\nvacuum cleaner. Bookcase. Philco radio-\\nphonograph. Desk. Best offer. BO 8-4036\\nbefore Sunday.\\n\\nWoodlawn near 53rd. 2-flat brick. 8 and\\n7. Each apartment. 4 bedrooms, Pi\\nbaths, living, dining, kitchen, screen\\nporch. 8-room has many modern extras.\\n2-car brick garage, overhead door. Call\\nowner weekends or after 4 p.m. FA 4-7020.\\n\\nQuality photographic enlarger. Slightly\\nused. Perfect condition. 40-60% off. At\\nbookstore photographic. Joe Wolf, ES\\n5-1615.\\n\\nDrastically reduced—Revere tape radio-\\nrecorder. Slightly used. Excellent condi-\\ntion. Portable: 3 speed. Yours for bal-\\nance payments due; $148. June Johnna-\\nber. Ext. 3296. Evenings HY 3-2 23. s\\n\\nGerman monocular miscroscope. Five\\neye-pieces; four objectives. Wooden and\\nplastic cases. $300. NO 7-3136.\\n\\nHelp Wanted\\n\\n4 Salesmen. We pay salary plus commis-\\nsion. Good part-time job for students.\\nCar not necessary. Call 7-8 p.m., CO\\n4-7600. Thompson Movers, 434 W. 125th\\nPl.\\n\\nLocal moving express service to and\\nfrom freight depots. Rates reasonable.\\nMU 4-0435. John Sutcliffe.\\n\\nCarmen’s used furniture store. Moving\\nand light hauling. 1127 E. 55th St. MU\\n4-9003.\\n\\nPersonal\\n\\nFarewell to all my past ana present in-\\nstructors and other friends. It has been\\nboth a pleasure and a wonderful ex-\\nperience knowing you all. I look forward\\nto the day when we may meet again.\\nSincerely, Marv Lyonus.\\n\\nCARMEN\\'S\\nUsed Furniture Store\\nTypewriters and Desks\\nMoving and Light Hauling\\n1127 E. 55th MU 4-9003\\n\\nSAVE TIME — SAVE MONEY\\n\\nN & R Bonded Movers\\n— also —\\nNew and Used Furniture\\n\\nMi 3-4196\\t1510 E. 55th\\n\\nThe College\\n\\nLAUNDERETTE\\n\\n1449 East 57th St.\\n\\nMU 4-9236\\n\\nBETZ JEWELRY\\n\\nUnusual Jewelry Our Specialty\\n\\nExpert Jewelry and Watch Repair\\nN.S.A. Discount to Students\\n\\n1523 E. 53rd\\tPL 2-3038\\n\\nChoose an Expert\\nTHOMPSON\\nMOVERS\\n\\nLocal and Long Distance Moving\\nCO 4-7600\\n\\nBibo,\\nergo sum\\n\\nJimmy’s\\n\\n1172 E. 55th\\n\\nMIDWAY 3-4433\\n\\n1171 EAST 55th STREET\\n\\nACASA Book Store\\n\\nScholarly used books\\nTypewriters bought, sold and repaired\\n\\n1117 E. 55lli St.\\tHl 3-9651\\n\\nnew and different\\n\\nstag or drag\\n\\nDancing and Entertainment Tonight\\n\\nMusic by Eddie Fox, His Orchestra and Vocalist\\n\\nfrom 9:00 P.M. Admission $1.00 plus tax\\nand that\\'s all\\n\\nThe Elms Hotel, East 53rd Street and\\nCornell Avenue\\n\\nWe stock most blends of Twining Teas.\\nEarl Grey, $1.75 Jasmine, $2.00.\\nIn half pound canisters.\\n\\nGET MUCH MORE FLAVOR\\n\\nMUCH LESS NICOTINE I\\n\\nJisquhr.\\n\\n*WQ\\n\\nIt\\'s the FILTER that Counts\\nand L*M has the Best!\\n\\ngive you the Miracle Tip — the effec*\\ntive filtration you need.. Cet much\\nmore flavor — much less nicotine — a\\nlight, mild smoke. Yes, — it s the filter\\nthat counts ... and L&M has the best!\\n\\nBUY L&Ms King-size or regular.\\nJUST WHAT THE DOCTOR ORDERED!\\n\\nWhy do L&M sales soar higher every\\nday? It’s the one filter cigarette that\\ngives smokers a taste they can enjoy —\\na filter they can depend on. Now L&M\\ncomes king-size, too, at the same low\\nprice as regular.\\n\\nIn either size —only L&M Filters\\n\\n1 ^Yers\\n\\nION'"
      ]
     },
     "execution_count": 19,
     "metadata": {},
     "output_type": "execute_result"
    }
   ],
   "source": [
    "issue_txt_original"
   ]
  },
  {
   "attachments": {},
   "cell_type": "markdown",
   "id": "38661d9e",
   "metadata": {},
   "source": [
    "Split cleaning\n",
    "Need to make a non-split version when we turn this into a function"
   ]
  },
  {
   "cell_type": "code",
   "execution_count": 20,
   "id": "9608e089",
   "metadata": {},
   "outputs": [],
   "source": [
    "#\\s means all whitespace characters (regular spaces, tabs, etc.). Just putting in a space only gets regular spaces\n",
    "\n",
    "#sometimes boxes around a thing get turned into long chains of letters, usually i, so if there is a stretch of characters surrounded by spaces at least 20 long, remove it\n",
    "issue_txt = re.sub(r'[^\\s]{20,}', \" \", issue_txt_original)\n",
    "\n",
    "#words that are spread across multiple lines, marked with a dash to show continuation\n",
    "# this isn't perfect. There are lines where the line ends with a dash but the subsequent line is the start of a different paragraph. Like 20-30% of the time. Still worth it to do, but a reason to chop up the newspapers in the future.\n",
    "issue_txt = re.sub(r\"-\\s*\\n+\", \"\", issue_txt)\n",
    "\n",
    "#remove repeated stretches of certain kinds of punctuation\n",
    "# - and — are actually different! N and M dashes?\n",
    "issue_txt = re.sub(r'[.,_►<>♦❖\\^\\-\\—\\s]{6,}', \" \", issue_txt)\n",
    "\n",
    "#possibly remove: ■ * • | «» ♦\n",
    "issue_txt = issue_txt.replace('■', \"\").replace(\"«\", \"\")#.replace('*', \" \").replace(\"•\", \" \").replace(\"|\", \" \").replace(\" - \", \" \")\n",
    "\n",
    "#remove SINGLE newlines\n",
    "issue_txt = re.sub(r'([^\\n])(\\n)([^\\n])', r\"\\1 \\3\", issue_txt)\n",
    "#remove tabs, unrecognized characters\n",
    "issue_txt = re.sub(r'\\t|\\x0c', \" \", issue_txt)\n",
    "\n",
    "#if there is a lowercase followed by a capital with no space between, insert one. Probably two words smushed together\n",
    "issue_txt = re.sub(r'([a-z])([A-Z])', r'\\1 \\2', issue_txt)\n",
    "\n",
    "#remove multiple spaces\n",
    "issue_txt = re.sub(' +', \" \", issue_txt)\n",
    "\n",
    "#splitting on two or greater new lines\n",
    "para_lst = re.split(r'\\n{2,}', issue_txt)\n",
    "\n",
    "#should we repalce \"\\'\" with \"’\"? \n",
    "#\"^ is our most common non-standard character, but there is no consistency in what it actually is. Sometimes it is for e, other times for a, other times a space. Not sure how to deal wwith it.\""
   ]
  },
  {
   "cell_type": "code",
   "execution_count": 21,
   "id": "8453d2b2",
   "metadata": {},
   "outputs": [],
   "source": [
    "#Iterates through, combines the paragraphs into bigger ones of as close to 1500 characters as possible\n",
    "\n",
    "combi_para = [para_lst[0]]\n",
    "for para in para_lst[1:]:\n",
    "    #print(combi_para[-1])\n",
    "    #print(para)\n",
    "    para_len = len(para)\n",
    "    last_combi_len = len(combi_para[-1])\n",
    "    #print(\"combi para len:\", last_combi_len)\n",
    "    #print(\"para len:\", para_len)\n",
    "    if para_len + last_combi_len <750:      #\n",
    "        combi_para[-1] += (\" \" + para)\n",
    "        #print(\"new len:\", len(combi_para[-1]))\n",
    "    else:\n",
    "        #print(\"too large\")\n",
    "        combi_para.append(para)"
   ]
  },
  {
   "cell_type": "code",
   "execution_count": 22,
   "id": "395efa69",
   "metadata": {},
   "outputs": [
    {
     "data": {
      "text/plain": [
       "104"
      ]
     },
     "execution_count": 22,
     "metadata": {},
     "output_type": "execute_result"
    }
   ],
   "source": [
    "len(combi_para)"
   ]
  },
  {
   "cell_type": "code",
   "execution_count": 23,
   "id": "85fd0e9e",
   "metadata": {},
   "outputs": [
    {
     "name": "stdout",
     "output_type": "stream",
     "text": [
      "66659\n",
      "65891\n",
      "65335\n"
     ]
    }
   ],
   "source": [
    "#these should be close, but the combi para will have a bit less than issue_txt because of the absence of all the new lines but more than para_lst because of the spaces added in concatenation\n",
    "\n",
    "print(len(issue_txt))\n",
    "print(sum([len(combi) for combi in combi_para]))\n",
    "print(sum([len(para) for para in para_lst]))"
   ]
  },
  {
   "cell_type": "code",
   "execution_count": 24,
   "id": "79be8564",
   "metadata": {},
   "outputs": [],
   "source": [
    "tokenizer = AutoTokenizer.from_pretrained(\"dslim/bert-large-NER\")\n",
    "model = AutoModelForTokenClassification.from_pretrained(\"dslim/bert-large-NER\")\n",
    "classifier = pipeline(\"ner\", model=model, tokenizer=tokenizer)"
   ]
  },
  {
   "cell_type": "code",
   "execution_count": 159,
   "id": "12e4461c",
   "metadata": {},
   "outputs": [],
   "source": [
    "#for now ignore capitalization, that may have to change\n",
    "direction_set = (\"e\", \"e.\", \"east\", \"w\", \"w.\", \"west\", \"s\", \"s.\", \"south\", \"n\", \"n.\", \"north\")\n",
    "\n",
    "#faster to lower case the strings, or include capitals in the set????\n",
    "#also need to do the ones that just start with a capital\n",
    "direction_set_large = (\"e\", \"e.\", \"east\", \"w\", \"w.\", \"west\", \"s\", \"s.\", \"south\", \"n\", \"n.\", \"north\", \"East\", \"West\", \"South\", \"North\", 'E', 'E.', 'EAST', 'W', 'W.', 'WEST', 'S', 'S.', 'SOUTH', 'N', 'N.', 'NORTH')\n",
    "#suffixes that appear in the street database, how do we get all variations of them?????\n",
    "types_in_chicago = [\"PL\", \"ST\", \"DR\", \"BLVD\", \"PKWY\", \"ER\", \"CT\", \"AVE\", \"RD\", \"TER\", \"XR\", \"EXPY\", \"WAY\", \"PLZ\", \"ROW\", \"LN\", \"SR\", \"TOLL\", \"SQ\", \"RL\", \"HWY\", \"CRES\"]"
   ]
  },
  {
   "cell_type": "code",
   "execution_count": 13,
   "id": "d7b2f6d5",
   "metadata": {},
   "outputs": [],
   "source": [
    "#https://www.pb.com/docs/US/pdf/SIS/Mail-Services/USPS-Suffix-Abbreviations.pdf\n",
    "street_types = \"\"\"ALLEY ALLEE ALY ALLEY ALLEY ALY ALLEY ALLY ALY ALLEY ALY ALY ANNEX ANEX ANX ANNEX ANNEX ANX ANNEX ANNX ANX ANNEX ANX ANX ARCADE ARC ARC ARCADE ARCADE ARC AVENUE AV AVE AVENUE AVE AVE AVENUE AVEN AVE AVENUE AVENU AVE AVENUE AVENUE AVE AVENUE AVN AVE AVENUE AVNUE AVE BAYOO BAYOO BYU BAYOO BAYOU BYU BEACH BCH BCH BEACH BEACH BCH BEND BEND BND BEND BND BND BLUFF BLF BLF BLUFF BLUF BLF BLUFF BLUFF BLF BLUFFS BLUFFS BLFS BOTTOM BOT BTM BOTTOM BOTTM BTM BOTTOM BOTTOM BTM BOTTOM BTM BTM BOULEVARD BLVD BLVD BOULEVARD BOUL BLVD BOULEVARD BOULEVARD BLVD BOULEVARD BOULV BLVD BRANCH BR BR BRANCH BRANCH BR BRANCH BRNCH BR BRIDGE BRDGE BRG BRIDGE BRG BRG BRIDGE BRIDGE BRG BROOK BRK BRK BROOK BROOK BRK BROOKS BROOKS BRKS BURG BURG BG BURGS BURGS BGS BYPASS BYP BYP BYPASS BYPA BYP BYPASS BYPAS BYP BYPASS BYPASS BYP BYPASS BYPS BYP CAMP CAMP CP CAMP CMP CP CAMP CP CP CANYON CANYN CYN CANYON CANYON CYN CANYON CNYN CYN CANYON CYN CYN CAPE CAPE CPE CAPE CPE CPE CAUSEWAY CAUSEWAY CSWY CAUSEWAY CAUSWAY CSWY CAUSEWAY CSWY CSWY CENTER CEN CTR CENTER CENT CTR CENTER CENTER CTR CENTER CENTR CTR CENTER CENTRE CTR CENTER CNTER CTR CENTER CNTR CTR CENTER CTR CTR CENTERS CENTERS CTRS CIRCLE CIR CIR CIRCLE CIRC CIR CIRCLE CIRCL CIR CIRCLE CIRCLE CIR CIRCLE CRCL CIR CIRCLE CRCLE CIR CIRCLES CIRCLES CIRS CLIFF CLF CLF CLIFF CLIFF CLF CLIFFS CLFS CLFS CLIFFS CLIFFS CLFS CLUB CLB CLB CLUB CLUB CLB COMMON COMMON CMN CORNER COR COR CORNER CORNER COR CORNERS CORNERS CORS CORNERS CORS CORS COURSE COURSE CRSE COURSE CRSE CRSE COURT COURT CT COURT CRT CT COURT CT CT COURTS COURTS CTS COURTS CTS CTS COVE COVE CV COVE CV CV COVES COVES CVS CREEK CK CRK CREEK CR CRK CREEK CREEK CRK CREEK CRK CRK CRESCENT CRECENT CRES CRESCENT CRES CRES CRESCENT CRESCENT CRES CRESCENT CRESENT CRES CRESCENT CRSCNT CRES CRESCENT CRSENT CRES CRESCENT CRSNT CRES CREST CREST CRST CROSSING CROSSING XING CROSSING CRSSING XING CROSSING CRSSNG XING CROSSING XING XING CROSSROAD CROSSROAD XRD CURVE CURVE CURV DALE DALE DL DALE DL DL DAM DAM DM DAM DM DM DIVIDE DIV DV DIVIDE DIVIDE DV DIVIDE DV DV DIVIDE DVD DV DRIVE DR DR DRIVE DRIV DR DRIVE DRIVE DR DRIVE DRV DR DRIVES DRIVES DRS ESTATE EST EST ESTATE ESTATE EST ESTATES ESTATES ESTS ESTATES ESTS ESTS EXPRESSWAY EXP EXPY EXPRESSWAY EXPR EXPY EXPRESSWAY EXPRESS EXPY EXPRESSWAY EXPRESSWAY EXPY EXPRESSWAY EXPW EXPY EXPRESSWAY EXPY EXPY EXTENSION EXT EXT EXTENSION EXTENSION EXT EXTENSION EXTN EXT EXTENSION EXTNSN EXT EXTENSIONS EXTENSIONS EXTS EXTENSIONS EXTS EXTS FALL FALL FALL FALLS FALLS FLS FALLS FLS FLS FERRY FERRY FRY FERRY FRRY FRY FERRY FRY FRY FIELD FIELD FLD FIELD FLD FLD FIELDS FIELDS FLDS FIELDS FLDS FLDS FLAT FLAT FLT FLAT FLT FLT FLATS FLATS FLTS FLATS FLTS FLTS FORD FORD FRD FORD FRD FRD FORDS FORDS FRDS FOREST FOREST FRST FOREST FORESTS FRST FOREST FRST FRST FORGE FORG FRG FORGE FORGE FRG FORGE FRG FRG FORGES FORGES FRGS FORK FORK FRK FORK FRK FRK FORKS FORKS FRKS FORKS FRKS FRKS FORT FORT FT FORT FRT FT FORT FT FT FREEWAY FREEWAY FWY FREEWAY FREEWY FWY FREEWAY FRWAY FWY FREEWAY FRWY FWY FREEWAY FWY FWY GARDEN GARDEN GDN GARDEN GARDN GDN GARDEN GDN GDN GARDEN GRDEN GDN GARDEN GRDN GDN GARDENS GARDENS GDNS GARDENS GDNS GDNS GARDENS GRDNS GDNS GATEWAY GATEWAY GTWY GATEWAY GATEWY GTWY GATEWAY GATWAY GTWY GATEWAY GTWAY GTWY GATEWAY GTWY GTWY GLEN GLEN GLN GLEN GLN GLN GLENS GLENS GLNS GREEN GREEN GRN GREEN GRN GRN GREENS GREENS GRNS GROVE GROV GRV GROVE GROVE GRV GROVE GRV GRV GROVES GROVES GRVS HARBOR HARB HBR HARBOR HARBOR HBR HARBOR HARBR HBR HARBOR HBR HBR HARBOR HRBOR HBR HARBORS HARBORS HBRS HAVEN HAVEN HVN HAVEN HAVN HVN HAVEN HVN HVN HEIGHTS HEIGHT HTS HEIGHTS HEIGHTS HTS HEIGHTS HGTS HTS HEIGHTS HT HTS HEIGHTS HTS HTS HIGHWAY HIGHWAY HWY HIGHWAY HIGHWY HWY HIGHWAY HIWAY HWY HIGHWAY HIWY HWY HIGHWAY HWAY HWY HIGHWAY HWY HWY HILL HILL HL HILL HL HL HILLS HILLS HLS HILLS HLS HLS HOLLOW HLLW HOLW HOLLOW HOLLOW HOLW HOLLOW HOLLOWS HOLW HOLLOW HOLW HOLW HOLLOW HOLWS HOLW INLET INLET INLT INLET INLT INLT ISLAND IS IS ISLAND ISLAND IS ISLAND ISLND IS ISLANDS ISLANDS SS ISLANDS I SLNDS ISS ISLANDS ISS ISS ISLE ISLE ISLE ISLE ISLES ISLE JUNCTION JCT JCT JUNCTION JCTION JCT JUNCTION JCTN JCT JUNCTION JUNCTION JCT JUNCTION JUNCTN JCT JUNCTION JUNCTON JCT JUNCTIONS JCTNS JCTS JUNCTIONS JCTS JCTS JUNCTIONS JUNCTIONS JCTS KEY KEY KY KEY KY KY KEYS KEYS KYS KEYS KYS KYS KNOLL KNL KNL KNOLL KNOL KNL KNOLL KNOLL KNL KNOLLS KNLS KNLS KNOLLS KNOLLS KNLS LAKE LAKE LK LAKE LK LK LAKES LAKES LKS LAKES LKS LKS LAND LAND LAND LANDING LANDING LNDG LANDING LNDG LNDG LANDING LNDNG LNDG LANE LA LN LANE LANE LN LANE LANES LN LANE LN LN LIGHT LGT LGT LIGHT LIGHT LGT LIGHTS LIGHTS LGTS LOAF LF LF LOAF LOAF LF LOCK LCK LCK LOCK LOCK LCK LOCKS LCKS LCKS LOCKS LOCKS LCKS LODGE LDG LDG LODGE LDGE LDG LODGE LODG LDG LODGE LODGE LDG LOOP LOOP LOOP LOOP LOOPS LOOP MALL MALL MALL MANOR MANOR MNR MANOR MNR MNR MANORS MANORS MNRS MANORS MNRS MNRS MEADOW MDW MDW MEADOW MEADOW MDW MEADOWS MDWS MDWS MEADOWS MEADOWS MDWS MEADOWS MEDOWS MDWS MEWS MEWS MEWS MILL MILL ML MILL ML ML MILLS MILLS MLS MILLS MLS MLS MISSION MISSION MSN MISSION MISSN MSN MISSION MSN MSN MISSION MSSN MSN MOTORWAY MOTORWAY MTWY MOUNT MNT MT MOUNT MOUNT MT MOUNT MT MT MOUNTAIN MNTAIN MTN MOUNTAIN MNTN MTN MOUNTAIN MOUNTAIN MTN MOUNTAIN MOUNTIN MTN MOUNTAIN MTIN MTN MOUNTAIN MTN MTN MOUNTAINS MNTNS MTNS MOUNTAINS MOUNTAINS MTNS NECK NCK NCK NECK NECK NCK ORCHARD ORCH ORCH ORCHARD ORCHARD ORCH ORCHARD ORCHRD ORCH OVAL OVAL OVAL OVAL OVL OVAL OVERPASS OVERPASS OPAS PARK PARK PARK PARK PK PARK PARK PRK PARK PARKS PARKS PARK PARKWAY PARKWAY PKWY PARKWAY PARKWY PKWY PARKWAY PKWAY PKWY PARKWAY PKWY PKWY PARKWAY PKY PKWY PARKWAYS PARKWAYS PKWY PARKWAYS PKWYS PKWY PASS PASS PASS PASSAGE PASSAGE PSGE PATH PATH PATH PATH PATHS PATH PIKE PIKE PIKE PIKE PIKES PIKE PINE PINE PNE PINES PINES PNES PINES PNES PNES PLACE PL PL PLACE PLACE PL PLAIN PLAIN PLN PLAIN PLN PLN PLAINS PLAINES PLNS PLAINS PLAINS PLNS PLAINS PLNS PLNS PLAZA PLAZA PLZ PLAZA PLZ PLZ PLAZA PLZA PLZ POINT POINT PT POINT PT PT POINTS POINTS PTS POINTS PTS PTS PORT PORT PRT PORT PRT PRT PORTS PORTS PRTS PORTS PRTS PRTS PRAIRIE PR PR PRAIRIE PRAIRIE PR PRAIRIE PRARIE PR PRAIRIE PRR PR RADIAL RAD RADL RADIAL RADIAL RADL RADIAL RADIEL RADL RADIAL RADL RADL RAMP RAMP RAMP RANCH RANCH RNCH RANCH RANCHES RNCH RANCH RNCH RNCH RANCH RNCHS RNCH RAPID RAPID RPD RAPID RPD RPD RAPIDS RAPIDS RPDS RAPIDS RPDS RPDS REST REST RST REST RST RST RIDGE RDG RDG RIDGE RDGE RDG RIDGE RIDGE RDG RIDGES RDGS RDGS RIDGES RIDGES RDGS RIVER RIV RIV RIVER RIVER RIV RIVER RIVR RIV RIVER RVR RIV ROAD RD RD ROAD ROAD RD ROADS RDS RDS ROADS ROADS RDS ROUTE ROUTE RTE ROW ROW ROW RUE RUE RUE RUN RUN RUN SHOAL SHL SHL SHOAL SHOAL SHL SHOALS SHLS SHLS SHOALS SHOALS SHLS SHORE SHOAR SHR SHORE SHORE SHR SHORE SHR SHR SHORES SHOARS SHRS SHORES SHORES SHRS SHORES SHRS SHRS SKYWAY SKYWAY SKWY SPRING SPG SPG SPRING SPNG SPG SPRING SPRING SPG SPRING SPRNG SPG SPRINGS SPGS SPGS SPRINGS SPNGS SPGS SPRINGS SPRINGS SPGS SPRINGS SPRNGS SPGS SPUR SPUR SPUR SPURS SPURS SPUR SQUARE SQ SQ SQUARE SQR SQ SQUARE SQRE SQ SQUARE SQU SQ SQUARE SQUARE SQ SQUARES SQRS SQS SQUARES SQUARES SQS STATION STA STA STATION STATION STA STATION STATN STA STATION STN STA STRAVENUE STRA STRA STRAVENUE STRAV STRA STRAVENUE STRAVE STRA STRAVENUE STRAVEN STRA STRAVENUE STRAVENUE STRA STRAVENUE STRAVN STRA STRAVENUE STRVN STRA STRAVENUE STRVNUE STRA STREAM STREAM STRM STREAM STREME STRM STREAM STRM STRM STREET ST ST STREET STR ST STREET STREET ST STREET STRT ST STREETS STREETS STS SUMMIT SMT SMT SUMMIT SUMIT SMT SUMMIT SUMITT SMT SUMMIT SUMMIT SMT TERRACE TER TER TERRACE TERR TER TERRACE TERRACE TER THROUGHWAY THROUGHWAY TRWY TRACE TRACE TRCE TRACE TRACES TRCE TRACE TRCE TRCE TRACK TRACK TRAK TRACK TRACKS TRAK TRACK TRAK TRAK TRACK TRK TRAK TRACK TRKS TRAK TRAFFICWAY TRAFFICWAY TRFY TRAFFICWAY TRFY TRFY TRAIL TR TRL TRAIL TRAIL TRL TRAIL TRAILS TRL TRAIL TRL TRL TRAIL TRLS TRL TUNNEL TUNEL TUNL TUNNEL TUNL TUNL TUNNEL TUNLS TUNL TUNNEL TUNNEL TUNL TUNNEL TUNNELS TUNL TUNNEL TUNNL TUNL TURNPIKE TPK TPKE TURNPIKE TPKE TPKE TURNPIKE TRNPK TPKE TURNPIKE TRPK TPKE TURNPIKE TURNPIKE TPKE TURNPIKE TURNPK TPKE UNDERPASS UNDERPASS UPAS UNION UN UN UNION UNION UN UNIONS UNIONS UNS VALLEY VALLEY VLY VALLEY VALLY VLY VALLEY VLLY VLY VALLEY VLY VLY VALLEYS VALLEYS VLYS VALLEYS VLYS VLYS VIADUCT VDCT IA VIADUCT VIA VIA VIADUCT VIADCT VIA VIADUCT VIADUCT VIA VIEW VIEW VW VIEW VW VW VIEWS VIEWS VWS VIEWS VWS VWS VILLAGE VILL VLG VILLAGE VILLAG VLG VILLAGE VILLAGE VLG VILLAGE VILLG VLG VILLAGE VILLIAGE VLG VILLAGE VLG VLG VILLAGES VILLAGES VLGS VILLAGES VLGS VLGS VILLE VILLE VL VILLE VL VL VISTA VIS VIS VISTA VIST VIS VISTA VISTA VIS VISTA VST VIS VISTA VSTA VIS WALK WALK WALK WALKS WALKS WALK WALL WALL WALL WAY WAY WAY WAY WY WAY WAYS WAYS WAYS WELL WELL WL WELLS WELLS WLS WELLS WLS WLS\"\"\"\n",
    "street_type_lst = street_types.lower().split(\" \")"
   ]
  },
  {
   "cell_type": "code",
   "execution_count": 25,
   "id": "2d042604",
   "metadata": {},
   "outputs": [
    {
     "data": {
      "text/plain": [
       "[\"Carmen’s used furniture store. Moving and light hauling. 1127 E. 55th St. MU 4-9003. Personal Farewell to all my past ana present instructors and other friends. It has been both a pleasure and a wonderful experience knowing you all. I look forward to the day when we may meet again. Sincerely, Marv Lyonus. CARMEN'S Used Furniture Store Typewriters and Desks Moving and Light Hauling 1127 E. 55th MU 4-9003 SAVE TIME — SAVE MONEY N & R Bonded Movers — also — New and Used Furniture Mi 3-4196 1510 E. 55th The College LAUNDERETTE 1449 East 57th St. MU 4-9236 BETZ JEWELRY Unusual Jewelry Our Specialty Expert Jewelry and Watch Repair N.S.A. Discount to Students 1523 E. 53rd PL 2-3038 Choose an Expert THOMPSON MOVERS\"]"
      ]
     },
     "execution_count": 25,
     "metadata": {},
     "output_type": "execute_result"
    }
   ],
   "source": [
    "combi_para[101:102]"
   ]
  },
  {
   "cell_type": "code",
   "execution_count": 187,
   "id": "0432f076",
   "metadata": {},
   "outputs": [],
   "source": [
    "text = combi_para[101]"
   ]
  },
  {
   "attachments": {},
   "cell_type": "markdown",
   "id": "060c5c2b",
   "metadata": {},
   "source": [
    "How do I link up the outcomes from the NER model, which is character based, and the text list, which has separated words?"
   ]
  },
  {
   "cell_type": "code",
   "execution_count": 200,
   "id": "7e80799d",
   "metadata": {},
   "outputs": [],
   "source": [
    "ner_tokens = classifier(text)\n",
    "all_tokens_lst = tokenizer.tokenize(combi_para[101])\n",
    "results_df = pd.DataFrame(ner_tokens)\n",
    "results_df = results_df[results_df.entity.str.contains(\"B-LOC|I-LOC\")]"
   ]
  },
  {
   "attachments": {},
   "cell_type": "markdown",
   "id": "a47c88fe",
   "metadata": {},
   "source": [
    "Dealing with the phone codes, which cause problems"
   ]
  },
  {
   "cell_type": "code",
   "execution_count": 223,
   "id": "791e7a87",
   "metadata": {},
   "outputs": [
    {
     "data": {
      "text/plain": [
       "\"Carmen’s used furniture store. Moving and light hauling. 1127 E. 55th St. MU 4-9003. Personal Farewell to all my past ana present instructors and other friends. It has been both a pleasure and a wonderful experience knowing you all. I look forward to the day when we may meet again. Sincerely, Marv Lyonus. CARMEN'S Used Furniture Store Typewriters and Desks Moving and Light Hauling 1127 E. 55th MU 4-9003 SAVE TIME — SAVE MONEY N & R Bonded Movers — also — New and Used Furniture Mi 3-4196 1510 E. 55th The College LAUNDERETTE 1449 East 57th St. MU 4-9236 BETZ JEWELRY Unusual Jewelry Our Specialty Expert Jewelry and Watch Repair N.S.A. Discount to Students 1523 E. 53rd PL 2-3038 Choose an Expert THOMPSON MOVERS\""
      ]
     },
     "execution_count": 223,
     "metadata": {},
     "output_type": "execute_result"
    }
   ],
   "source": [
    "text"
   ]
  },
  {
   "attachments": {},
   "cell_type": "markdown",
   "id": "0d698634",
   "metadata": {},
   "source": [
    "Dealing with phone area codes"
   ]
  },
  {
   "cell_type": "code",
   "execution_count": 253,
   "id": "cb00688a",
   "metadata": {},
   "outputs": [
    {
     "name": "stdout",
     "output_type": "stream",
     "text": [
      "(385, 401) HYde Pork 3-5343\n",
      "(713, 722) MU 4-9106\n",
      "(57, 66) FA 4-5525\n",
      "(265, 274) PL 2-9097\n",
      "(486, 499) Midway 3-0800\n",
      "(546, 559) Midway 3-0800\n",
      "(630, 639) DO 3-9777\n",
      "(79, 92) NOrmal 7-6111\n",
      "(545, 554) MU 4-5300\n",
      "(673, 688) WHitehall 3-227\n",
      "(88, 101) Midway 3-7229\n",
      "(209, 225) HYde Park 3-8372\n",
      "(327, 336) BU 8-0876\n",
      "(622, 630) MI 3-920\n",
      "(634, 643) PL 2-6412\n",
      "(733, 742) ST 2-6727\n",
      "(64, 73) DO 3-1858\n",
      "(77, 86) RY 3-7915\n",
      "(165, 174) PL 2-2958\n",
      "(245, 254) NO 7-0615\n",
      "(302, 311) MI 3-0800\n",
      "(431, 440) BO 8-4036\n",
      "(678, 687) FA 4-7020\n",
      "(114, 123) ES 5-1615\n",
      "(410, 419) NO 7-3136\n",
      "(543, 552) CO 4-7600\n",
      "(663, 672) MU 4-0435\n",
      "(74, 83) MU 4-9003\n",
      "(397, 406) MU 4-9003\n",
      "(482, 491) Mi 3-4196\n",
      "(548, 557) MU 4-9236\n",
      "(674, 683) PL 2-3038\n",
      "(31, 40) CO 4-7600\n",
      "(77, 90) MIDWAY 3-4433\n",
      "(207, 216) Hl 3-9651\n"
     ]
    }
   ],
   "source": [
    "all_ranges = []\n",
    "for idx, combi in enumerate(combi_para):\n",
    "    ranges = []\n",
    "    #print(idx)\n",
    "    for match in re.finditer(r'(?i)(hyde\\s)?[A-Za-z]{1,}(\\s)?\\d{1,}-\\d{3,}', combi):\n",
    "        ranges.append(match.span())\n",
    "        print(match.span(), match.group())\n",
    "    if ranges:\n",
    "        all_ranges.append(ranges)"
   ]
  },
  {
   "attachments": {},
   "cell_type": "markdown",
   "id": "e3abab3a",
   "metadata": {},
   "source": [
    "Checking to see if location is actually a telephone exchange code"
   ]
  },
  {
   "cell_type": "code",
   "execution_count": 256,
   "id": "847c78d5",
   "metadata": {},
   "outputs": [
    {
     "name": "stdout",
     "output_type": "stream",
     "text": [
      "M\n"
     ]
    }
   ],
   "source": [
    "\"https://stackoverflow.com/questions/6053974/python-efficiently-check-if-integer-is-within-many-ranges\"\n",
    "position = 115\n",
    "if any(lower <= position <= upper for (lower, upper) in all_ranges[-3]):\n",
    "    print('M')"
   ]
  },
  {
   "attachments": {},
   "cell_type": "markdown",
   "id": "51fe2116",
   "metadata": {},
   "source": [
    "regex version"
   ]
  },
  {
   "cell_type": "code",
   "execution_count": 206,
   "id": "eb03d18c",
   "metadata": {},
   "outputs": [],
   "source": [
    "#should we take out the directions??????? Maybe, but could cause problems if they ever get sub-tokened, which happens with the street types\n",
    "loc_tokens = [token_dict for token_dict in ner_tokens if token_dict['entity'] in [\"B-LOC\", \"I-LOC\"]]\n",
    "location_idxs = set([token_dict['index'] - 1 for token_dict in loc_tokens])\n",
    "loc_tokens.reverse()"
   ]
  },
  {
   "attachments": {},
   "cell_type": "markdown",
   "id": "b86dcff0",
   "metadata": {},
   "source": [
    "Multi stage process may be easier to manage, if marginally less efficient"
   ]
  },
  {
   "cell_type": "code",
   "execution_count": 222,
   "id": "b0391ba3",
   "metadata": {},
   "outputs": [
    {
     "data": {
      "text/plain": [
       "['Carmen',\n",
       " '’',\n",
       " 's',\n",
       " 'used',\n",
       " 'furniture',\n",
       " 'store',\n",
       " '.',\n",
       " 'Moving',\n",
       " 'and',\n",
       " 'light',\n",
       " 'hauling',\n",
       " '.',\n",
       " '112',\n",
       " '##7',\n",
       " 'E',\n",
       " '.',\n",
       " '55',\n",
       " '##th',\n",
       " 'St',\n",
       " '.',\n",
       " 'M',\n",
       " '##U',\n",
       " '4',\n",
       " '-',\n",
       " '900',\n",
       " '##3',\n",
       " '.',\n",
       " 'Personal',\n",
       " 'Far',\n",
       " '##ew',\n",
       " '##ell',\n",
       " 'to',\n",
       " 'all',\n",
       " 'my',\n",
       " 'past',\n",
       " 'an',\n",
       " '##a',\n",
       " 'present',\n",
       " 'instructors',\n",
       " 'and',\n",
       " 'other',\n",
       " 'friends',\n",
       " '.',\n",
       " 'It',\n",
       " 'has',\n",
       " 'been',\n",
       " 'both',\n",
       " 'a',\n",
       " 'pleasure',\n",
       " 'and',\n",
       " 'a',\n",
       " 'wonderful',\n",
       " 'experience',\n",
       " 'knowing',\n",
       " 'you',\n",
       " 'all',\n",
       " '.',\n",
       " 'I',\n",
       " 'look',\n",
       " 'forward',\n",
       " 'to',\n",
       " 'the',\n",
       " 'day',\n",
       " 'when',\n",
       " 'we',\n",
       " 'may',\n",
       " 'meet',\n",
       " 'again',\n",
       " '.',\n",
       " 'Since',\n",
       " '##rel',\n",
       " '##y',\n",
       " ',',\n",
       " 'Mar',\n",
       " '##v',\n",
       " 'Lyon',\n",
       " '##us',\n",
       " '.',\n",
       " 'CA',\n",
       " '##R',\n",
       " '##ME',\n",
       " '##N',\n",
       " \"'\",\n",
       " 'S',\n",
       " 'Used',\n",
       " 'Fu',\n",
       " '##rn',\n",
       " '##iture',\n",
       " 'Store',\n",
       " 'Type',\n",
       " '##writer',\n",
       " '##s',\n",
       " 'and',\n",
       " 'Des',\n",
       " '##ks',\n",
       " 'Moving',\n",
       " 'and',\n",
       " 'Light',\n",
       " 'Ha',\n",
       " '##ulin',\n",
       " '##g',\n",
       " '112',\n",
       " '##7',\n",
       " 'E',\n",
       " '.',\n",
       " '55',\n",
       " '##th',\n",
       " 'M',\n",
       " '##U',\n",
       " '4',\n",
       " '-',\n",
       " '900',\n",
       " '##3',\n",
       " 'SA',\n",
       " '##VE',\n",
       " 'T',\n",
       " '##IM',\n",
       " '##E',\n",
       " '—',\n",
       " 'SA',\n",
       " '##VE',\n",
       " 'M',\n",
       " '##ON',\n",
       " '##E',\n",
       " '##Y',\n",
       " 'N',\n",
       " '&',\n",
       " 'R',\n",
       " 'Bond',\n",
       " '##ed',\n",
       " 'Move',\n",
       " '##rs',\n",
       " '—',\n",
       " 'also',\n",
       " '—',\n",
       " 'New',\n",
       " 'and',\n",
       " 'Used',\n",
       " 'Fu',\n",
       " '##rn',\n",
       " '##iture',\n",
       " 'Mi',\n",
       " '3',\n",
       " '-',\n",
       " '41',\n",
       " '##9',\n",
       " '##6',\n",
       " '151',\n",
       " '##0',\n",
       " 'E',\n",
       " '.',\n",
       " '55',\n",
       " '##th',\n",
       " 'The',\n",
       " 'College',\n",
       " 'LA',\n",
       " '##UN',\n",
       " '##DE',\n",
       " '##RE',\n",
       " '##TT',\n",
       " '##E',\n",
       " '144',\n",
       " '##9',\n",
       " 'East',\n",
       " '57',\n",
       " '##th',\n",
       " 'St',\n",
       " '.',\n",
       " 'M',\n",
       " '##U',\n",
       " '4',\n",
       " '-',\n",
       " '92',\n",
       " '##36',\n",
       " 'B',\n",
       " '##ET',\n",
       " '##Z',\n",
       " 'J',\n",
       " '##E',\n",
       " '##W',\n",
       " '##EL',\n",
       " '##R',\n",
       " '##Y',\n",
       " 'Un',\n",
       " '##us',\n",
       " '##ual',\n",
       " 'Jewel',\n",
       " '##ry',\n",
       " 'Our',\n",
       " 'Special',\n",
       " '##ty',\n",
       " 'Ex',\n",
       " '##pert',\n",
       " 'Jewel',\n",
       " '##ry',\n",
       " 'and',\n",
       " 'Watch',\n",
       " 'Rep',\n",
       " '##air',\n",
       " 'N',\n",
       " '.',\n",
       " 'S',\n",
       " '.',\n",
       " 'A',\n",
       " '.',\n",
       " 'Disco',\n",
       " '##unt',\n",
       " 'to',\n",
       " 'Students',\n",
       " '152',\n",
       " '##3',\n",
       " 'E',\n",
       " '.',\n",
       " '53',\n",
       " '##rd',\n",
       " 'P',\n",
       " '##L',\n",
       " '2',\n",
       " '-',\n",
       " '303',\n",
       " '##8',\n",
       " 'Cho',\n",
       " '##ose',\n",
       " 'an',\n",
       " 'Ex',\n",
       " '##pert',\n",
       " 'T',\n",
       " '##H',\n",
       " '##OM',\n",
       " '##PS',\n",
       " '##ON',\n",
       " 'M',\n",
       " '##O',\n",
       " '##VE',\n",
       " '##RS']"
      ]
     },
     "execution_count": 222,
     "metadata": {},
     "output_type": "execute_result"
    }
   ],
   "source": [
    "all_tokens_lst"
   ]
  },
  {
   "cell_type": "code",
   "execution_count": 261,
   "id": "94ff484d",
   "metadata": {},
   "outputs": [
    {
     "name": "stdout",
     "output_type": "stream",
     "text": [
      "PL\n",
      "53rd\n",
      "E\n",
      "MU\n",
      "St\n",
      "57th\n",
      "East\n",
      "55th\n",
      "E\n",
      "MU\n",
      "55th\n",
      "E\n",
      "MU\n",
      "St\n",
      "55th\n",
      "E\n"
     ]
    }
   ],
   "source": [
    "already_grabbed_idx_set = set()\n",
    "location_words = []\n",
    "for token_dict in loc_tokens:\n",
    "    word_idx = token_dict[\"index\"] - 1\n",
    "    if word_idx in already_grabbed_idx_set:\n",
    "        continue\n",
    "    word = token_dict[\"word\"]\n",
    "\n",
    "    #make this recursive?\n",
    "    if \"#\" in word:\n",
    "        left_word_idx = word_idx - 1\n",
    "        left_token = all_tokens_lst[left_word_idx]\n",
    "        word = left_token + word.strip(\"#\")\n",
    "        already_grabbed_idx_set.add(left_word_idx)\n",
    "    print(word)\n",
    "    location_words += [word]\n",
    "    #create a new list of dictionaries, with a list of indices for each location term?\n"
   ]
  },
  {
   "cell_type": "code",
   "execution_count": 263,
   "id": "c957fb2b",
   "metadata": {},
   "outputs": [],
   "source": [
    "location_words.reverse()"
   ]
  },
  {
   "cell_type": "code",
   "execution_count": 264,
   "id": "b9a1403f",
   "metadata": {},
   "outputs": [
    {
     "data": {
      "text/plain": [
       "['E',\n",
       " '55th',\n",
       " 'St',\n",
       " 'MU',\n",
       " 'E',\n",
       " '55th',\n",
       " 'MU',\n",
       " 'E',\n",
       " '55th',\n",
       " 'East',\n",
       " '57th',\n",
       " 'St',\n",
       " 'MU',\n",
       " 'E',\n",
       " '53rd',\n",
       " 'PL']"
      ]
     },
     "execution_count": 264,
     "metadata": {},
     "output_type": "execute_result"
    }
   ],
   "source": [
    "location_words"
   ]
  },
  {
   "cell_type": "code",
   "execution_count": 260,
   "id": "f204bbca",
   "metadata": {},
   "outputs": [
    {
     "data": {
      "text/html": [
       "<div>\n",
       "<style scoped>\n",
       "    .dataframe tbody tr th:only-of-type {\n",
       "        vertical-align: middle;\n",
       "    }\n",
       "\n",
       "    .dataframe tbody tr th {\n",
       "        vertical-align: top;\n",
       "    }\n",
       "\n",
       "    .dataframe thead th {\n",
       "        text-align: right;\n",
       "    }\n",
       "</style>\n",
       "<table border=\"1\" class=\"dataframe\">\n",
       "  <thead>\n",
       "    <tr style=\"text-align: right;\">\n",
       "      <th></th>\n",
       "      <th>entity</th>\n",
       "      <th>score</th>\n",
       "      <th>index</th>\n",
       "      <th>word</th>\n",
       "      <th>start</th>\n",
       "      <th>end</th>\n",
       "    </tr>\n",
       "  </thead>\n",
       "  <tbody>\n",
       "    <tr>\n",
       "      <th>1</th>\n",
       "      <td>B-LOC</td>\n",
       "      <td>0.872392</td>\n",
       "      <td>15</td>\n",
       "      <td>E</td>\n",
       "      <td>62</td>\n",
       "      <td>63</td>\n",
       "    </tr>\n",
       "    <tr>\n",
       "      <th>2</th>\n",
       "      <td>I-LOC</td>\n",
       "      <td>0.948822</td>\n",
       "      <td>18</td>\n",
       "      <td>##th</td>\n",
       "      <td>67</td>\n",
       "      <td>69</td>\n",
       "    </tr>\n",
       "    <tr>\n",
       "      <th>3</th>\n",
       "      <td>I-LOC</td>\n",
       "      <td>0.981856</td>\n",
       "      <td>19</td>\n",
       "      <td>St</td>\n",
       "      <td>70</td>\n",
       "      <td>72</td>\n",
       "    </tr>\n",
       "    <tr>\n",
       "      <th>4</th>\n",
       "      <td>B-LOC</td>\n",
       "      <td>0.640059</td>\n",
       "      <td>21</td>\n",
       "      <td>M</td>\n",
       "      <td>74</td>\n",
       "      <td>75</td>\n",
       "    </tr>\n",
       "    <tr>\n",
       "      <th>5</th>\n",
       "      <td>I-LOC</td>\n",
       "      <td>0.888306</td>\n",
       "      <td>22</td>\n",
       "      <td>##U</td>\n",
       "      <td>75</td>\n",
       "      <td>76</td>\n",
       "    </tr>\n",
       "    <tr>\n",
       "      <th>20</th>\n",
       "      <td>B-LOC</td>\n",
       "      <td>0.915945</td>\n",
       "      <td>104</td>\n",
       "      <td>E</td>\n",
       "      <td>389</td>\n",
       "      <td>390</td>\n",
       "    </tr>\n",
       "    <tr>\n",
       "      <th>21</th>\n",
       "      <td>I-LOC</td>\n",
       "      <td>0.942174</td>\n",
       "      <td>107</td>\n",
       "      <td>##th</td>\n",
       "      <td>394</td>\n",
       "      <td>396</td>\n",
       "    </tr>\n",
       "    <tr>\n",
       "      <th>22</th>\n",
       "      <td>I-LOC</td>\n",
       "      <td>0.836014</td>\n",
       "      <td>108</td>\n",
       "      <td>M</td>\n",
       "      <td>397</td>\n",
       "      <td>398</td>\n",
       "    </tr>\n",
       "    <tr>\n",
       "      <th>23</th>\n",
       "      <td>I-LOC</td>\n",
       "      <td>0.953823</td>\n",
       "      <td>109</td>\n",
       "      <td>##U</td>\n",
       "      <td>398</td>\n",
       "      <td>399</td>\n",
       "    </tr>\n",
       "    <tr>\n",
       "      <th>30</th>\n",
       "      <td>B-LOC</td>\n",
       "      <td>0.851010</td>\n",
       "      <td>150</td>\n",
       "      <td>E</td>\n",
       "      <td>497</td>\n",
       "      <td>498</td>\n",
       "    </tr>\n",
       "    <tr>\n",
       "      <th>31</th>\n",
       "      <td>I-LOC</td>\n",
       "      <td>0.857713</td>\n",
       "      <td>153</td>\n",
       "      <td>##th</td>\n",
       "      <td>502</td>\n",
       "      <td>504</td>\n",
       "    </tr>\n",
       "    <tr>\n",
       "      <th>33</th>\n",
       "      <td>B-LOC</td>\n",
       "      <td>0.885638</td>\n",
       "      <td>164</td>\n",
       "      <td>East</td>\n",
       "      <td>534</td>\n",
       "      <td>538</td>\n",
       "    </tr>\n",
       "    <tr>\n",
       "      <th>34</th>\n",
       "      <td>B-LOC</td>\n",
       "      <td>0.440348</td>\n",
       "      <td>165</td>\n",
       "      <td>57</td>\n",
       "      <td>539</td>\n",
       "      <td>541</td>\n",
       "    </tr>\n",
       "    <tr>\n",
       "      <th>35</th>\n",
       "      <td>I-LOC</td>\n",
       "      <td>0.958296</td>\n",
       "      <td>166</td>\n",
       "      <td>##th</td>\n",
       "      <td>541</td>\n",
       "      <td>543</td>\n",
       "    </tr>\n",
       "    <tr>\n",
       "      <th>36</th>\n",
       "      <td>I-LOC</td>\n",
       "      <td>0.986707</td>\n",
       "      <td>167</td>\n",
       "      <td>St</td>\n",
       "      <td>544</td>\n",
       "      <td>546</td>\n",
       "    </tr>\n",
       "    <tr>\n",
       "      <th>37</th>\n",
       "      <td>B-LOC</td>\n",
       "      <td>0.572798</td>\n",
       "      <td>169</td>\n",
       "      <td>M</td>\n",
       "      <td>548</td>\n",
       "      <td>549</td>\n",
       "    </tr>\n",
       "    <tr>\n",
       "      <th>38</th>\n",
       "      <td>I-LOC</td>\n",
       "      <td>0.880027</td>\n",
       "      <td>170</td>\n",
       "      <td>##U</td>\n",
       "      <td>549</td>\n",
       "      <td>550</td>\n",
       "    </tr>\n",
       "    <tr>\n",
       "      <th>43</th>\n",
       "      <td>B-LOC</td>\n",
       "      <td>0.802378</td>\n",
       "      <td>212</td>\n",
       "      <td>E</td>\n",
       "      <td>666</td>\n",
       "      <td>667</td>\n",
       "    </tr>\n",
       "    <tr>\n",
       "      <th>44</th>\n",
       "      <td>I-LOC</td>\n",
       "      <td>0.800894</td>\n",
       "      <td>215</td>\n",
       "      <td>##rd</td>\n",
       "      <td>671</td>\n",
       "      <td>673</td>\n",
       "    </tr>\n",
       "    <tr>\n",
       "      <th>45</th>\n",
       "      <td>I-LOC</td>\n",
       "      <td>0.551276</td>\n",
       "      <td>217</td>\n",
       "      <td>##L</td>\n",
       "      <td>675</td>\n",
       "      <td>676</td>\n",
       "    </tr>\n",
       "  </tbody>\n",
       "</table>\n",
       "</div>"
      ],
      "text/plain": [
       "   entity     score  index  word  start  end\n",
       "1   B-LOC  0.872392     15     E     62   63\n",
       "2   I-LOC  0.948822     18  ##th     67   69\n",
       "3   I-LOC  0.981856     19    St     70   72\n",
       "4   B-LOC  0.640059     21     M     74   75\n",
       "5   I-LOC  0.888306     22   ##U     75   76\n",
       "20  B-LOC  0.915945    104     E    389  390\n",
       "21  I-LOC  0.942174    107  ##th    394  396\n",
       "22  I-LOC  0.836014    108     M    397  398\n",
       "23  I-LOC  0.953823    109   ##U    398  399\n",
       "30  B-LOC  0.851010    150     E    497  498\n",
       "31  I-LOC  0.857713    153  ##th    502  504\n",
       "33  B-LOC  0.885638    164  East    534  538\n",
       "34  B-LOC  0.440348    165    57    539  541\n",
       "35  I-LOC  0.958296    166  ##th    541  543\n",
       "36  I-LOC  0.986707    167    St    544  546\n",
       "37  B-LOC  0.572798    169     M    548  549\n",
       "38  I-LOC  0.880027    170   ##U    549  550\n",
       "43  B-LOC  0.802378    212     E    666  667\n",
       "44  I-LOC  0.800894    215  ##rd    671  673\n",
       "45  I-LOC  0.551276    217   ##L    675  676"
      ]
     },
     "execution_count": 260,
     "metadata": {},
     "output_type": "execute_result"
    }
   ],
   "source": [
    "results_df"
   ]
  },
  {
   "cell_type": "code",
   "execution_count": 207,
   "id": "bc275346",
   "metadata": {},
   "outputs": [
    {
     "data": {
      "text/plain": [
       "{14,\n",
       " 17,\n",
       " 18,\n",
       " 20,\n",
       " 21,\n",
       " 103,\n",
       " 106,\n",
       " 107,\n",
       " 108,\n",
       " 149,\n",
       " 152,\n",
       " 163,\n",
       " 164,\n",
       " 165,\n",
       " 166,\n",
       " 168,\n",
       " 169,\n",
       " 211,\n",
       " 214,\n",
       " 216}"
      ]
     },
     "execution_count": 207,
     "metadata": {},
     "output_type": "execute_result"
    }
   ],
   "source": [
    "location_idxs"
   ]
  },
  {
   "attachments": {},
   "cell_type": "markdown",
   "id": "af833394",
   "metadata": {},
   "source": [
    "Reverse order version"
   ]
  },
  {
   "cell_type": "code",
   "execution_count": 218,
   "id": "c6931bdf",
   "metadata": {},
   "outputs": [
    {
     "name": "stdout",
     "output_type": "stream",
     "text": [
      "on location token number: 0\n",
      "##L 216\n",
      "substring, combine with one to the left\n",
      "PL\n",
      "on location token number: 1\n",
      "##rd 214\n",
      "substring, combine with one to the left\n",
      "53rd\n",
      "on location token number: 2\n",
      "E 211\n",
      "on location token number: 3\n",
      "##U 169\n",
      "left is loc\n",
      "substring, combine with one to the left\n",
      "MU\n",
      "left bob\n",
      "on location token number: 4\n",
      "M 168\n",
      "already grabbed\n",
      "on location token number: 5\n",
      "St 166\n",
      "left is loc\n",
      "on location token number: 6\n",
      "##th 165\n",
      "left is loc\n",
      "substring, combine with one to the left\n",
      "57th\n",
      "left bob\n",
      "on location token number: 7\n",
      "57 164\n",
      "already grabbed\n",
      "on location token number: 8\n",
      "East 163\n",
      "on location token number: 9\n",
      "##th 152\n",
      "substring, combine with one to the left\n",
      "55th\n",
      "on location token number: 10\n",
      "E 149\n",
      "on location token number: 11\n",
      "##U 108\n",
      "left is loc\n",
      "substring, combine with one to the left\n",
      "MU\n",
      "left bob\n",
      "on location token number: 12\n",
      "M 107\n",
      "already grabbed\n",
      "on location token number: 13\n",
      "##th 106\n",
      "substring, combine with one to the left\n",
      "55th\n",
      "on location token number: 14\n",
      "E 103\n",
      "on location token number: 15\n",
      "##U 21\n",
      "left is loc\n",
      "substring, combine with one to the left\n",
      "MU\n",
      "left bob\n",
      "on location token number: 16\n",
      "M 20\n",
      "already grabbed\n",
      "on location token number: 17\n",
      "St 18\n",
      "left is loc\n",
      "on location token number: 18\n",
      "##th 17\n",
      "substring, combine with one to the left\n",
      "55th\n",
      "on location token number: 19\n",
      "E 14\n"
     ]
    }
   ],
   "source": [
    "already_grabbed = set()\n",
    "for token_lst_idx, token_dict in enumerate(loc_tokens):\n",
    "    \"\"\"\n",
    "    token_lst_idx = the position of this location token in the list of location tokens\n",
    "    idx = the position of this location token in the list of all tokens in the document\n",
    "    \"\"\"\n",
    "    print(\"on location token number:\", token_lst_idx)\n",
    "    word = token_dict['word'] #token indices seem like they start from 1, not 0, are off by 1 from the all tokens list\n",
    "    idx = token_dict['index'] - 1\n",
    "    print(word, idx)\n",
    "    if token_lst_idx in already_grabbed:\n",
    "        print(\"already grabbed\")\n",
    "        continue\n",
    "\n",
    "    left_is_loc = False\n",
    "\n",
    "    left_idx = idx - 1\n",
    "    if left_idx in location_idxs:\n",
    "        left_is_loc = True\n",
    "        print(\"left is loc\")\n",
    "    \n",
    "    #some things that get tagged as locations are sub-tokenized\n",
    "    #sometimes the other subtoken is also tagged as a location, sometimes not, so we need to account for either scenario\n",
    "    if \"#\" in word: \n",
    "        print(\"substring, combine with one to the left\")\n",
    "        left_token = all_tokens_lst[left_idx]\n",
    "        word = left_token + word.strip(\"#\")\n",
    "        print(word)\n",
    "\n",
    "        if left_is_loc:\n",
    "            print(\"left bob\")\n",
    "            already_grabbed.add(token_lst_idx + 1)\n",
    "        \n"
   ]
  },
  {
   "attachments": {},
   "cell_type": "markdown",
   "id": "be1bcfb8",
   "metadata": {},
   "source": [
    "Problems: we get standalone s' because apostrophies get tokenized separately!!!"
   ]
  },
  {
   "attachments": {},
   "cell_type": "markdown",
   "id": "fd7986ae",
   "metadata": {},
   "source": [
    "Starting with direction verions"
   ]
  },
  {
   "cell_type": "code",
   "execution_count": 146,
   "id": "a5aea28c",
   "metadata": {},
   "outputs": [],
   "source": [
    "def look_left_for_number (tokens_lst, starting_idx):\n",
    "    \"\"\"\n",
    "    Look to the left of a thing for an address number.\n",
    "    Because sometimes numbers are chopped into multiple tokens, need to do this recursively.\n",
    "    Returns a combined numeric string, and the token indices it came from\n",
    "    \"\"\"\n",
    "    left_idxs = []\n",
    "    left_token = tokens_lst[starting_idx-1]\n",
    "    print(\"left token:\", left_token)\n",
    "    if bool(re.search(r'\\d', left_token)):\n",
    "        print(\"a number!\")\n",
    "        #adding index to list\n",
    "        left_idxs += [starting_idx-1]\n",
    "        #token was split up, so we have to recurse!!!!!!!\n",
    "        if \"#\" in left_token:\n",
    "            leftier_token, more_idxs = look_left_for_number (tokens_lst, starting_idx - 1)\n",
    "            #secondary base case of sorts...\n",
    "            if leftier_token:\n",
    "                left_token = leftier_token + left_token.strip(\"#\")\n",
    "                left_idxs = more_idxs + left_idxs\n",
    "            else:\n",
    "                print(\"this shouldn't happen! A word that ends with a number got split up\")\n",
    "                #overriding the non-numeric check to grab it????\n",
    "                #leftier_token = tokens_lst[starting_idx - 2]\n",
    "                #more_idxs = [starting_idx - 2]\n",
    "\n",
    "                #doing this instead of those two lines, may need to change this\n",
    "                left_token = left_token.strip(\"#\")\n",
    "        #base case\n",
    "        return left_token, left_idxs\n",
    "    \n",
    "    print(\"not a number\")\n",
    "    return False, []"
   ]
  },
  {
   "cell_type": "code",
   "execution_count": 153,
   "id": "d290e9be",
   "metadata": {},
   "outputs": [],
   "source": [
    "test = [\"hello\", \"my\", \"name\", \"4567\",\"is\", \"bob\", \"73\", \"#82\", \"#793\", \"E.\", \"pie\", \"#73\", \"#82\", \"#793\", \"mom\"]"
   ]
  },
  {
   "cell_type": "code",
   "execution_count": null,
   "id": "52e6a69e",
   "metadata": {},
   "outputs": [],
   "source": [
    "loc_tokens = set(\"Adams\")"
   ]
  },
  {
   "attachments": {},
   "cell_type": "markdown",
   "id": "dce24e84",
   "metadata": {},
   "source": [
    "To Do:\n",
    "Sometimes the street suffix gets split into separate tokens, yay!!!! So we need to combine ones with #\n",
    "\n",
    "Need to get all permutations of street type. Long and short form, for the types in Chicago"
   ]
  },
  {
   "cell_type": "code",
   "execution_count": 172,
   "id": "c6ffb467",
   "metadata": {},
   "outputs": [
    {
     "name": "stdout",
     "output_type": "stream",
     "text": [
      "0 hello\n",
      "1 my\n",
      "2 name\n",
      "3 4567\n",
      "4 is\n",
      "5 bob\n",
      "6 73\n",
      "7 #82\n",
      "8 #793\n",
      "9 A\n",
      "10 E.\n",
      "a direction! Check to the left for a number\n",
      "left token: A\n",
      "not a number\n",
      "didn't find a number, looking one more over\n",
      "left token: #793\n",
      "a number!\n",
      "left token: #82\n",
      "a number!\n",
      "left token: 73\n",
      "a number!\n",
      "now going to the right\n",
      "continuation of the street name!\n",
      "street type suffix!\n",
      "11 70\n",
      "12 ##th\n",
      "13 PL\n",
      "14 pie\n",
      "15 #73\n",
      "16 #82\n",
      "17 #793\n",
      "18 West\n",
      "a direction! Check to the left for a number\n",
      "left token: #793\n",
      "a number!\n",
      "left token: #82\n",
      "a number!\n",
      "left token: #73\n",
      "a number!\n",
      "left token: pie\n",
      "not a number\n",
      "this shouldn't happen! A word that ends with a number got split up\n",
      "now going to the right\n",
      "19 John\n",
      "20 Adams\n",
      "21 DR\n",
      "22 mom\n"
     ]
    }
   ],
   "source": [
    "addr_idx_lst = []\n",
    "list_of_tokens = [\"hello\", \"my\", \"name\", \"4567\",\"is\", \"bob\", \"73\", \"#82\", \"#793\", \"A\", \"E.\", \"70\", \"##th\", \"PL\", \"pie\", \"#73\", \"#82\", \"#793\", \"West\", \"John\", \"Adams\", \"DR\", \"mom\"]\n",
    "addr_string_lst = []\n",
    "\n",
    "for idx, token in enumerate(list_of_tokens):\n",
    "    #if idx in addr_idx_lst:            #turning this bit off for now\n",
    "    #    print(\"already grabbed it!\")\n",
    "    #    continue\n",
    "    addr_string = \"\"\n",
    "    addr_idxs = []\n",
    "    print(idx, token)\n",
    "\n",
    "    #scenario #1. We hit a direction token first\n",
    "    if token in direction_set_large:\n",
    "        #if a direction, check two to the right for a numerica\n",
    "        print(\"a direction! Check to the left for a number\")\n",
    "        number_token, number_idxs = look_left_for_number (list_of_tokens, idx)\n",
    "        if number_token:\n",
    "            addr_string = number_token + \" \" + token\n",
    "            addr_idxs = number_idxs + [idx]\n",
    "        #checking one more over, in case of street numbers like 4515A, that A could get separated into a different token\n",
    "        else:\n",
    "            print(\"didn't find a number, looking one more over\")\n",
    "            number_token, number_idxs = look_left_for_number (list_of_tokens, idx - 1)\n",
    "            if number_token:\n",
    "                addr_string = number_token + list_of_tokens[idx-1] + \" \" + token\n",
    "                addr_idxs = number_idxs + [idx-1, idx]\n",
    "\n",
    "        #now going to the right\n",
    "        #always grab the first to the right. Past that one, we need to start checking for stuff\n",
    "        print(\"now going to the right\")\n",
    "        addr_string = addr_string + \" \" + list_of_tokens[idx+1]\n",
    "\n",
    "        righter_token = list_of_tokens[idx+2]\n",
    "        if righter_token in types_in_chicago:\n",
    "            print(\"street type suffix!\")\n",
    "            addr_string += \" \" + righter_token\n",
    "        if righter_token in loc_tokens:\n",
    "            print(\"continuation of the street name!\")\n",
    "            addr_string += \" \" + righter_token\n",
    "            righterer_token = list_of_tokens[idx+3]\n",
    "            if righterer_token in types_in_chicago:\n",
    "                print(\"street type suffix!\")\n",
    "                addr_string += \" \" + righterer_token\n",
    "\n",
    "        #didn't find anything, so keep checking.....\n",
    "    \n",
    "    if addr_string:\n",
    "        addr_string_lst.append(addr_string)\n",
    "    if addr_idxs:\n",
    "        addr_idx_lst += addr_idxs\n",
    "\n",
    "\n",
    "    #scenario #2, we hit a location token first\n",
    "\n"
   ]
  },
  {
   "cell_type": "code",
   "execution_count": 173,
   "id": "6f5ec5f1",
   "metadata": {},
   "outputs": [
    {
     "data": {
      "text/plain": [
       "['7382793A E. 70 ##th PL', '7382793 West John']"
      ]
     },
     "execution_count": 173,
     "metadata": {},
     "output_type": "execute_result"
    }
   ],
   "source": [
    "addr_string_lst"
   ]
  },
  {
   "cell_type": "code",
   "execution_count": 174,
   "id": "f6b91bb1",
   "metadata": {},
   "outputs": [
    {
     "data": {
      "text/plain": [
       "[6, 7, 8, 9, 10, 15, 16, 17, 18]"
      ]
     },
     "execution_count": 174,
     "metadata": {},
     "output_type": "execute_result"
    }
   ],
   "source": [
    "addr_idx_lst"
   ]
  },
  {
   "cell_type": "code",
   "execution_count": 115,
   "id": "d36c9075",
   "metadata": {},
   "outputs": [
    {
     "data": {
      "text/plain": [
       "[13, 14, 102, 103, 148, 149, 210, 211]"
      ]
     },
     "execution_count": 115,
     "metadata": {},
     "output_type": "execute_result"
    }
   ],
   "source": [
    "addr_idx"
   ]
  },
  {
   "attachments": {},
   "cell_type": "markdown",
   "id": "94b857b3",
   "metadata": {},
   "source": [
    "For now, need to make two passes. Will find a more pythonic way of dealing with this in the future"
   ]
  },
  {
   "cell_type": "code",
   "execution_count": 102,
   "id": "9f651a96",
   "metadata": {},
   "outputs": [
    {
     "name": "stdout",
     "output_type": "stream",
     "text": [
      "E\n",
      "direction!!!!\n",
      "7\n",
      "##th\n",
      "55th\n",
      "St\n",
      "M\n",
      "##U\n",
      "MU\n",
      "E\n",
      "direction!!!!\n",
      "7\n",
      "##th\n",
      "55th\n",
      "M\n",
      "##U\n",
      "MU\n",
      "E\n",
      "direction!!!!\n",
      "0\n",
      "##th\n",
      "55th\n",
      "East\n",
      "57\n",
      "##th\n",
      "57th\n",
      "St\n",
      "M\n",
      "##U\n",
      "MU\n",
      "E\n",
      "direction!!!!\n",
      "3\n",
      "##rd\n",
      "53rd\n",
      "##L\n",
      "PL\n"
     ]
    }
   ],
   "source": [
    "#it would be nice to have a cleaned up list of locations, with all the words that have been split into multiple tokens recombined\n",
    "address_indices = set()\n",
    "\n",
    "for result in results:\n",
    "    if result['entity'] not in [\"B-LOC\", \"I-LOC\"]:\n",
    "        continue\n",
    "    word = result[\"word\"]\n",
    "    index = result[\"index\"] - 1\n",
    "    #####address_indices.add\n",
    "    print(word)\n",
    "    if \"#\" in word:\n",
    "        print(tokens_lst[index - 1] + word.strip(\"#\"))"
   ]
  },
  {
   "cell_type": "code",
   "execution_count": null,
   "id": "423140ab",
   "metadata": {},
   "outputs": [],
   "source": [
    "#build up a record of address indices, if index has already been tagged as an address, no need to check it\n",
    "address_indices = set()\n",
    "\n",
    "for result in results:\n",
    "    if result['entity'] not in [\"B-LOC\", \"I-LOC\"]:\n",
    "        continue\n",
    "    word = result[\"word\"]\n",
    "    index = result[\"index\"]\n",
    "    print(word)\n",
    "    if word in direction_set_large:\n",
    "        print(\"direction!!!!\")\n",
    "        print(tokens_lst[index - 2].strip(\"#\"))\n",
    "\n",
    "    if \"#\" in word:\n",
    "        print(tokens_lst[index - 2] + word.strip(\"#\"))"
   ]
  },
  {
   "cell_type": "code",
   "execution_count": 178,
   "id": "984062fb",
   "metadata": {},
   "outputs": [
    {
     "name": "stdout",
     "output_type": "stream",
     "text": [
      "Text 0\n",
      "Text 1\n",
      "Text 2\n",
      "Text 3\n",
      "Text 4\n",
      "Text 5\n",
      "Text 6\n",
      "Text 7\n",
      "Text 8\n",
      "Text 9\n",
      "Text 10\n",
      "Text 11\n",
      "Text 12\n",
      "Text 13\n",
      "Text 14\n",
      "Text 15\n",
      "Text 16\n",
      "Text 17\n",
      "Text 18\n",
      "Text 19\n",
      "Text 20\n",
      "Text 21\n",
      "Text 22\n",
      "Text 23\n",
      "Text 24\n",
      "Text 25\n",
      "Text 26\n",
      "Text 27\n",
      "Text 28\n",
      "Text 29\n",
      "Text 30\n",
      "Text 31\n",
      "Text 32\n",
      "Text 33\n",
      "Text 34\n",
      "Text 35\n",
      "Text 36\n",
      "Text 37\n",
      "Text 38\n",
      "Text 39\n",
      "Text 40\n",
      "Text 41\n",
      "Text 42\n",
      "Text 43\n",
      "Text 44\n",
      "Text 45\n",
      "Text 46\n",
      "Text 47\n",
      "Text 48\n",
      "Text 49\n",
      "Text 50\n",
      "Text 51\n",
      "Text 52\n",
      "Text 53\n",
      "Text 54\n",
      "Text 55\n",
      "Text 56\n",
      "Text 57\n",
      "Text 58\n",
      "Text 59\n",
      "Text 60\n",
      "Text 61\n",
      "Text 62\n",
      "Text 63\n",
      "Text 64\n",
      "Text 65\n",
      "Text 66\n",
      "Text 67\n",
      "Text 68\n",
      "Text 69\n",
      "Text 70\n",
      "Text 71\n",
      "Text 72\n",
      "Text 73\n",
      "Text 74\n",
      "Text 75\n",
      "Text 76\n",
      "Text 77\n",
      "Text 78\n",
      "Text 79\n",
      "Text 80\n",
      "Text 81\n",
      "Text 82\n",
      "Text 83\n",
      "Text 84\n",
      "Text 85\n",
      "Text 86\n",
      "Text 87\n",
      "Text 88\n",
      "Text 89\n",
      "Text 90\n",
      "Text 91\n",
      "Text 92\n",
      "Text 93\n",
      "Text 94\n",
      "Text 95\n",
      "Text 96\n",
      "Text 97\n",
      "Text 98\n",
      "Text 99\n",
      "Text 100\n",
      "Text 101\n",
      "Text 102\n",
      "Text 103\n"
     ]
    }
   ],
   "source": [
    "all_loc_tokens = set()\n",
    "i = 0\n",
    "for text in combi_para:\n",
    "    print(\"Text\", i)\n",
    "    results = classifier(text)\n",
    "    loc_tokens = [result[\"word\"] for result in results if result['entity'] in [\"B-LOC\", \"I-LOC\"]]\n",
    "    all_loc_tokens.update(loc_tokens)\n",
    "    i+=1\n",
    "    "
   ]
  },
  {
   "cell_type": "code",
   "execution_count": 179,
   "id": "f7d7368f",
   "metadata": {},
   "outputs": [
    {
     "data": {
      "text/plain": [
       "{'##A',\n",
       " '##AG',\n",
       " '##AN',\n",
       " '##E',\n",
       " '##ER',\n",
       " '##H',\n",
       " '##HT',\n",
       " '##I',\n",
       " '##IA',\n",
       " '##IC',\n",
       " '##IR',\n",
       " '##K',\n",
       " '##L',\n",
       " '##MO',\n",
       " '##O',\n",
       " '##OR',\n",
       " '##U',\n",
       " '##W',\n",
       " '##Y',\n",
       " '##Z',\n",
       " '##ag',\n",
       " '##ais',\n",
       " '##ater',\n",
       " '##born',\n",
       " '##ck',\n",
       " '##del',\n",
       " '##e',\n",
       " '##el',\n",
       " '##erman',\n",
       " '##g',\n",
       " '##green',\n",
       " '##ham',\n",
       " '##i',\n",
       " '##l',\n",
       " '##latt',\n",
       " '##law',\n",
       " '##ley',\n",
       " '##lie',\n",
       " '##lli',\n",
       " '##n',\n",
       " '##ning',\n",
       " '##nity',\n",
       " '##o',\n",
       " '##par',\n",
       " '##rd',\n",
       " '##rea',\n",
       " '##s',\n",
       " '##shing',\n",
       " '##sted',\n",
       " '##t',\n",
       " '##th',\n",
       " '##ton',\n",
       " '##tub',\n",
       " '##vior',\n",
       " '##worth',\n",
       " '##y',\n",
       " '##yes',\n",
       " '##yric',\n",
       " '.',\n",
       " '126',\n",
       " '3rd',\n",
       " '53',\n",
       " '55',\n",
       " '57',\n",
       " 'AM',\n",
       " 'AN',\n",
       " 'Alto',\n",
       " 'America',\n",
       " 'Assembly',\n",
       " 'Ave',\n",
       " 'Avenue',\n",
       " 'B',\n",
       " 'Bath',\n",
       " 'Berlin',\n",
       " 'Brand',\n",
       " 'C',\n",
       " 'CH',\n",
       " 'CO',\n",
       " 'Chicago',\n",
       " 'Chico',\n",
       " 'China',\n",
       " 'Church',\n",
       " 'Civic',\n",
       " 'Commons',\n",
       " 'Cook',\n",
       " 'Cornell',\n",
       " 'Cottage',\n",
       " 'County',\n",
       " 'Dakota',\n",
       " 'Dear',\n",
       " 'Detroit',\n",
       " 'E',\n",
       " 'Earl',\n",
       " 'East',\n",
       " 'Ellis',\n",
       " 'Elm',\n",
       " 'England',\n",
       " 'Evans',\n",
       " 'Ever',\n",
       " 'Ex',\n",
       " 'F',\n",
       " 'Field',\n",
       " 'Fr',\n",
       " 'Frankfurt',\n",
       " 'Gary',\n",
       " 'Green',\n",
       " 'Grove',\n",
       " 'H',\n",
       " 'Hall',\n",
       " 'Harper',\n",
       " 'Hill',\n",
       " 'Hit',\n",
       " 'Hitchcock',\n",
       " 'Hotel',\n",
       " 'House',\n",
       " 'Hull',\n",
       " 'Hutchinson',\n",
       " 'Hyde',\n",
       " 'Ida',\n",
       " 'Illinois',\n",
       " 'India',\n",
       " 'Indiana',\n",
       " 'International',\n",
       " 'Jo',\n",
       " 'Judd',\n",
       " 'K',\n",
       " 'L',\n",
       " 'Lund',\n",
       " 'Lutheran',\n",
       " 'M',\n",
       " 'Man',\n",
       " 'Mark',\n",
       " 'Michigan',\n",
       " 'Midway',\n",
       " 'Mt',\n",
       " 'N',\n",
       " 'NE',\n",
       " 'Navy',\n",
       " 'New',\n",
       " 'No',\n",
       " 'North',\n",
       " 'Oak',\n",
       " 'Our',\n",
       " 'P',\n",
       " 'Pa',\n",
       " 'Park',\n",
       " 'Per',\n",
       " 'Pier',\n",
       " 'Pierre',\n",
       " 'Q',\n",
       " 'River',\n",
       " 'Rockefeller',\n",
       " 'Row',\n",
       " 'S',\n",
       " 'SA',\n",
       " 'Sa',\n",
       " 'Sc',\n",
       " 'Side',\n",
       " 'So',\n",
       " 'South',\n",
       " 'St',\n",
       " 'States',\n",
       " 'Street',\n",
       " 'Sunny',\n",
       " 'Swift',\n",
       " 'U',\n",
       " 'US',\n",
       " 'United',\n",
       " 'University',\n",
       " 'Val',\n",
       " 'W',\n",
       " 'Washington',\n",
       " 'Wood',\n",
       " 'Wright',\n",
       " 'Y',\n",
       " 'York',\n",
       " 'avenue',\n",
       " 'gym',\n",
       " 'of',\n",
       " 'park',\n",
       " 's',\n",
       " '«',\n",
       " '’'}"
      ]
     },
     "execution_count": 179,
     "metadata": {},
     "output_type": "execute_result"
    }
   ],
   "source": [
    "all_loc_tokens"
   ]
  },
  {
   "cell_type": "code",
   "execution_count": 181,
   "id": "collect-forth",
   "metadata": {},
   "outputs": [
    {
     "data": {
      "text/html": [
       "<pre style=\"white-space:pre;overflow-x:auto;line-height:normal;font-family:Menlo,'DejaVu Sans Mono',consolas,'Courier New',monospace\"><span style=\"color: #800000; text-decoration-color: #800000; font-weight: bold\">person</span> <span style=\"color: #008000; text-decoration-color: #008000; font-weight: bold\">location</span> <span style=\"color: #000080; text-decoration-color: #000080; font-weight: bold\">organization</span>\n",
       "</pre>\n"
      ],
      "text/plain": [
       "\u001b[1;31mperson\u001b[0m \u001b[1;32mlocation\u001b[0m \u001b[1;34morganization\u001b[0m\n"
      ]
     },
     "metadata": {},
     "output_type": "display_data"
    },
    {
     "name": "stdout",
     "output_type": "stream",
     "text": [
      "Text 0\n"
     ]
    },
    {
     "data": {
      "text/html": [
       "<pre style=\"white-space:pre;overflow-x:auto;line-height:normal;font-family:Menlo,'DejaVu Sans Mono',consolas,'Courier New',monospace\"><span style=\"color: #000080; text-decoration-color: #000080; font-weight: bold\">SG</span> elects <span style=\"color: #800000; text-decoration-color: #800000; font-weight: bold\">Fortier</span> president; by-law amendment adopted New officer’s for the 1954-55 <span style=\"color: #000080; text-decoration-color: #000080; font-weight: bold\">Student</span> \n",
       "<span style=\"color: #000080; text-decoration-color: #000080; font-weight: bold\">Government</span> were the principal item of business for the first meeting of the new <span style=\"color: #000080; text-decoration-color: #000080; font-weight: bold\">SG</span> assembly \n",
       "last Tuesday. <span style=\"color: #800000; text-decoration-color: #800000; font-weight: bold\">Al</span> <span style=\"color: #800000; text-decoration-color: #800000; font-weight: bold\">Fortier</span> (ISL-col) was elected president of SG. Other officers elected were \n",
       "<span style=\"color: #800000; text-decoration-color: #800000; font-weight: bold\">Emil</span> <span style=\"color: #800000; text-decoration-color: #800000; font-weight: bold\">John</span> Writedns illegal, eight ballots void A major controversy in the re- Asked why he \n",
       "didn’t petition cent <span style=\"color: #000080; text-decoration-color: #000080; font-weight: bold\">Student</span> <span style=\"color: #000080; text-decoration-color: #000080; font-weight: bold\">Government</span> elec- and register as an official candison (ISL-col),\n",
       "vice-president; <span style=\"color: #800000; text-decoration-color: #800000; font-weight: bold\">Sabina</span> <span style=\"color: #800000; text-decoration-color: #800000; font-weight: bold\">Wagner</span> (ISL-col), secretary; and <span style=\"color: #800000; text-decoration-color: #800000; font-weight: bold\">Pat</span> <span style=\"color: #800000; text-decoration-color: #800000; font-weight: bold\">Parker</span> (ISLbus), treasurer. \n",
       "</pre>\n"
      ],
      "text/plain": [
       "\u001b[1;34mSG\u001b[0m elects \u001b[1;31mFortier\u001b[0m president; by-law amendment adopted New officer’s for the 1954-55 \u001b[1;34mStudent\u001b[0m \n",
       "\u001b[1;34mGovernment\u001b[0m were the principal item of business for the first meeting of the new \u001b[1;34mSG\u001b[0m assembly \n",
       "last Tuesday. \u001b[1;31mAl\u001b[0m \u001b[1;31mFortier\u001b[0m (ISL-col) was elected president of SG. Other officers elected were \n",
       "\u001b[1;31mEmil\u001b[0m \u001b[1;31mJohn\u001b[0m Writedns illegal, eight ballots void A major controversy in the re- Asked why he \n",
       "didn’t petition cent \u001b[1;34mStudent\u001b[0m \u001b[1;34mGovernment\u001b[0m elec- and register as an official candison (ISL-col),\n",
       "vice-president; \u001b[1;31mSabina\u001b[0m \u001b[1;31mWagner\u001b[0m (ISL-col), secretary; and \u001b[1;31mPat\u001b[0m \u001b[1;31mParker\u001b[0m (ISLbus), treasurer. \n"
      ]
     },
     "metadata": {},
     "output_type": "display_data"
    },
    {
     "name": "stdout",
     "output_type": "stream",
     "text": [
      "Text 1\n"
     ]
    },
    {
     "data": {
      "text/html": [
       "<pre style=\"white-space:pre;overflow-x:auto;line-height:normal;font-family:Menlo,'DejaVu Sans Mono',consolas,'Courier New',monospace\">An amendment to the <span style=\"color: #000080; text-decoration-color: #000080; font-weight: bold\">SG</span> by-laws was adopted which provides that any party receiving 25 per \n",
       "cent of the total vote in an <span style=\"color: #000080; text-decoration-color: #000080; font-weight: bold\">SG</span> election and holding a seat in the assembly is entitled to a \n",
       "committee-at-large, and thu <span style=\"color: #000080; text-decoration-color: #000080; font-weight: bold\">S</span> to a representative on the <span style=\"color: #000080; text-decoration-color: #000080; font-weight: bold\">SG</span> executive council. This gives the\n",
       "<span style=\"color: #000080; text-decoration-color: #000080; font-weight: bold\">Student</span> <span style=\"color: #000080; text-decoration-color: #000080; font-weight: bold\">Representative</span> party a seat on the council, which it would not otherwise have had. \n",
       "The former by-law provided that any party with 20 per cent of the seats in <span style=\"color: #000080; text-decoration-color: #000080; font-weight: bold\">SG</span> was entitled to\n",
       "a committee-at-large. <span style=\"color: #800000; text-decoration-color: #800000; font-weight: bold\">Clark</span> <span style=\"color: #800000; text-decoration-color: #800000; font-weight: bold\">Kucheman</span> (ISL-FTS) proposed an amendment whereby this requirement\n",
       "could be waived by a two-thirds vote of the assembly Photo by Tipton <span style=\"color: #800000; text-decoration-color: #800000; font-weight: bold\">Al</span> <span style=\"color: #800000; text-decoration-color: #800000; font-weight: bold\">Fortier,</span> \n",
       "newly-elected <span style=\"color: #000080; text-decoration-color: #000080; font-weight: bold\">Student</span> <span style=\"color: #000080; text-decoration-color: #000080; font-weight: bold\">Government</span> president, discussing <span style=\"color: #000080; text-decoration-color: #000080; font-weight: bold\">SG</span> activities with members <span style=\"color: #800000; text-decoration-color: #800000; font-weight: bold\">Jan</span> <span style=\"color: #800000; text-decoration-color: #800000; font-weight: bold\">Porter</span> \n",
       "and <span style=\"color: #800000; text-decoration-color: #800000; font-weight: bold\">Paul</span> Bresiow. \n",
       "</pre>\n"
      ],
      "text/plain": [
       "An amendment to the \u001b[1;34mSG\u001b[0m by-laws was adopted which provides that any party receiving 25 per \n",
       "cent of the total vote in an \u001b[1;34mSG\u001b[0m election and holding a seat in the assembly is entitled to a \n",
       "committee-at-large, and thu \u001b[1;34mS\u001b[0m to a representative on the \u001b[1;34mSG\u001b[0m executive council. This gives the\n",
       "\u001b[1;34mStudent\u001b[0m \u001b[1;34mRepresentative\u001b[0m party a seat on the council, which it would not otherwise have had. \n",
       "The former by-law provided that any party with 20 per cent of the seats in \u001b[1;34mSG\u001b[0m was entitled to\n",
       "a committee-at-large. \u001b[1;31mClark\u001b[0m \u001b[1;31mKucheman\u001b[0m (ISL-FTS) proposed an amendment whereby this requirement\n",
       "could be waived by a two-thirds vote of the assembly Photo by Tipton \u001b[1;31mAl\u001b[0m \u001b[1;31mFortier,\u001b[0m \n",
       "newly-elected \u001b[1;34mStudent\u001b[0m \u001b[1;34mGovernment\u001b[0m president, discussing \u001b[1;34mSG\u001b[0m activities with members \u001b[1;31mJan\u001b[0m \u001b[1;31mPorter\u001b[0m \n",
       "and \u001b[1;31mPaul\u001b[0m Bresiow. \n"
      ]
     },
     "metadata": {},
     "output_type": "display_data"
    },
    {
     "name": "stdout",
     "output_type": "stream",
     "text": [
      "Text 2\n"
     ]
    },
    {
     "data": {
      "text/html": [
       "<pre style=\"white-space:pre;overflow-x:auto;line-height:normal;font-family:Menlo,'DejaVu Sans Mono',consolas,'Courier New',monospace\">tions centered around the three seats in the <span style=\"color: #000080; text-decoration-color: #000080; font-weight: bold\">Medical</span> school. Although three positions were \n",
       "open to Med school candidates, <span style=\"color: #000080; text-decoration-color: #000080; font-weight: bold\">SRP</span> ran none, and <span style=\"color: #000080; text-decoration-color: #000080; font-weight: bold\">ISL</span> had only two. After the ballots were \n",
       "counted it was reported that eight of the Med school ballots had been counted as void because\n",
       "each had the name of <span style=\"color: #800000; text-decoration-color: #800000; font-weight: bold\">Fred</span> <span style=\"color: #800000; text-decoration-color: #800000; font-weight: bold\">Solomon</span> written in. <span style=\"color: #800000; text-decoration-color: #800000; font-weight: bold\">Solomon</span> thereupon contested the ruling that the\n",
       "ballots were invalid and asked for the rule which governed write-ins. The rule governing \n",
       "write-ins, according to <span style=\"color: #800000; text-decoration-color: #800000; font-weight: bold\">Jim</span> <span style=\"color: #800000; text-decoration-color: #800000; font-weight: bold\">Handler,</span> chairman of the <span style=\"color: #000080; text-decoration-color: #000080; font-weight: bold\">SG</span> election and rules committee, is as \n",
       "follows: “Any writing on a ballot shall render the ballot void.” This rule is interpreted by \n",
       "the <span style=\"color: #000080; text-decoration-color: #000080; font-weight: bold\">E</span> and <span style=\"color: #000080; text-decoration-color: #000080; font-weight: bold\">R</span> committee to cover any and all writing. <span style=\"color: #800000; text-decoration-color: #800000; font-weight: bold\">Anderson</span> wants <span style=\"color: #000080; text-decoration-color: #000080; font-weight: bold\">UC</span> support: <span style=\"color: #000080; text-decoration-color: #000080; font-weight: bold\">ISL</span> wins \n",
       "election \n",
       "</pre>\n"
      ],
      "text/plain": [
       "tions centered around the three seats in the \u001b[1;34mMedical\u001b[0m school. Although three positions were \n",
       "open to Med school candidates, \u001b[1;34mSRP\u001b[0m ran none, and \u001b[1;34mISL\u001b[0m had only two. After the ballots were \n",
       "counted it was reported that eight of the Med school ballots had been counted as void because\n",
       "each had the name of \u001b[1;31mFred\u001b[0m \u001b[1;31mSolomon\u001b[0m written in. \u001b[1;31mSolomon\u001b[0m thereupon contested the ruling that the\n",
       "ballots were invalid and asked for the rule which governed write-ins. The rule governing \n",
       "write-ins, according to \u001b[1;31mJim\u001b[0m \u001b[1;31mHandler,\u001b[0m chairman of the \u001b[1;34mSG\u001b[0m election and rules committee, is as \n",
       "follows: “Any writing on a ballot shall render the ballot void.” This rule is interpreted by \n",
       "the \u001b[1;34mE\u001b[0m and \u001b[1;34mR\u001b[0m committee to cover any and all writing. \u001b[1;31mAnderson\u001b[0m wants \u001b[1;34mUC\u001b[0m support: \u001b[1;34mISL\u001b[0m wins \n",
       "election \n"
      ]
     },
     "metadata": {},
     "output_type": "display_data"
    },
    {
     "name": "stdout",
     "output_type": "stream",
     "text": [
      "Text 3\n"
     ]
    },
    {
     "data": {
      "text/html": [
       "<pre style=\"white-space:pre;overflow-x:auto;line-height:normal;font-family:Menlo,'DejaVu Sans Mono',consolas,'Courier New',monospace\">tells why <span style=\"color: #800000; text-decoration-color: #800000; font-weight: bold\">Douglas</span> did not get here <span style=\"color: #800000; text-decoration-color: #800000; font-weight: bold\">Douglas</span> <span style=\"color: #800000; text-decoration-color: #800000; font-weight: bold\">Anderson,</span> Senator <span style=\"color: #800000; text-decoration-color: #800000; font-weight: bold\">Douglas’</span> <span style=\"color: #008000; text-decoration-color: #008000; font-weight: bold\">Illinois</span> \n",
       "representative, denied categorically that he had ever spurned the support of the Independent \n",
       "date, <span style=\"color: #800000; text-decoration-color: #800000; font-weight: bold\">Solomon</span> replied: “For personal reasons I did not know until late last week that I could\n",
       "spend any time in <span style=\"color: #000080; text-decoration-color: #000080; font-weight: bold\">Student</span> <span style=\"color: #000080; text-decoration-color: #000080; font-weight: bold\">Government.</span> “In this context,” he added, “writing means extraneous \n",
       "remarks, defamatory remarks after a candidate’s name, and the like. It does not mean ‘no \n",
       "write-in votes allowed.’ I assumed a democratic election would allow a voter to vote for \n",
       "candidates of his choice, whether or not their names appeared on the ballot.” \n",
       "</pre>\n"
      ],
      "text/plain": [
       "tells why \u001b[1;31mDouglas\u001b[0m did not get here \u001b[1;31mDouglas\u001b[0m \u001b[1;31mAnderson,\u001b[0m Senator \u001b[1;31mDouglas’\u001b[0m \u001b[1;32mIllinois\u001b[0m \n",
       "representative, denied categorically that he had ever spurned the support of the Independent \n",
       "date, \u001b[1;31mSolomon\u001b[0m replied: “For personal reasons I did not know until late last week that I could\n",
       "spend any time in \u001b[1;34mStudent\u001b[0m \u001b[1;34mGovernment.\u001b[0m “In this context,” he added, “writing means extraneous \n",
       "remarks, defamatory remarks after a candidate’s name, and the like. It does not mean ‘no \n",
       "write-in votes allowed.’ I assumed a democratic election would allow a voter to vote for \n",
       "candidates of his choice, whether or not their names appeared on the ballot.” \n"
      ]
     },
     "metadata": {},
     "output_type": "display_data"
    },
    {
     "name": "stdout",
     "output_type": "stream",
     "text": [
      "Text 4\n"
     ]
    },
    {
     "data": {
      "text/html": [
       "<pre style=\"white-space:pre;overflow-x:auto;line-height:normal;font-family:Menlo,'DejaVu Sans Mono',consolas,'Courier New',monospace\">At the <span style=\"color: #000080; text-decoration-color: #000080; font-weight: bold\">Student</span> <span style=\"color: #000080; text-decoration-color: #000080; font-weight: bold\">Government</span> meeting last Tuesday, <span style=\"color: #800000; text-decoration-color: #800000; font-weight: bold\">Jerry</span> Zisook moved that <span style=\"color: #800000; text-decoration-color: #800000; font-weight: bold\">Solomon</span> be seated as \n",
       "the third <span style=\"color: #000080; text-decoration-color: #000080; font-weight: bold\">Med</span> school delegate. <span style=\"color: #800000; text-decoration-color: #800000; font-weight: bold\">Eli</span> <span style=\"color: #800000; text-decoration-color: #800000; font-weight: bold\">Stein</span> immediately challenged that the motion was out <span style=\"color: #000080; text-decoration-color: #000080; font-weight: bold\">of</span> \n",
       "order and suggested that the ruling could be brought up in <span style=\"color: #000080; text-decoration-color: #000080; font-weight: bold\">Student</span> - <span style=\"color: #000080; text-decoration-color: #000080; font-weight: bold\">Faculty</span> - <span style=\"color: #000080; text-decoration-color: #000080; font-weight: bold\">Administration</span>\n",
       "court. The motion was declared out <span style=\"color: #000080; text-decoration-color: #000080; font-weight: bold\">of</span> order by the chair. Award Fulbright to <span style=\"color: #800000; text-decoration-color: #800000; font-weight: bold\">Towle</span> at last in\n",
       "42 seat landslide voters <span style=\"color: #000080; text-decoration-color: #000080; font-weight: bold\">of</span> <span style=\"color: #008000; text-decoration-color: #008000; font-weight: bold\">Illinois</span> and groups at the <span style=\"color: #000080; text-decoration-color: #000080; font-weight: bold\">University</span> <span style=\"color: #000080; text-decoration-color: #000080; font-weight: bold\">of</span> <span style=\"color: #000080; text-decoration-color: #000080; font-weight: bold\">Chicago.</span> <span style=\"color: #800000; text-decoration-color: #800000; font-weight: bold\">Anderson</span> \n",
       "maintained that the only reason that <span style=\"color: #800000; text-decoration-color: #800000; font-weight: bold\">Douglas</span> was unable to appear on campus was that <span style=\"color: #800000; text-decoration-color: #800000; font-weight: bold\">Douglas</span> \n",
       "had previously scheduled meetings with the <span style=\"color: #000080; text-decoration-color: #000080; font-weight: bold\">IVI</span> in the fifth, second, and seventh wards that \n",
       "same \n",
       "</pre>\n"
      ],
      "text/plain": [
       "At the \u001b[1;34mStudent\u001b[0m \u001b[1;34mGovernment\u001b[0m meeting last Tuesday, \u001b[1;31mJerry\u001b[0m Zisook moved that \u001b[1;31mSolomon\u001b[0m be seated as \n",
       "the third \u001b[1;34mMed\u001b[0m school delegate. \u001b[1;31mEli\u001b[0m \u001b[1;31mStein\u001b[0m immediately challenged that the motion was out \u001b[1;34mof\u001b[0m \n",
       "order and suggested that the ruling could be brought up in \u001b[1;34mStudent\u001b[0m - \u001b[1;34mFaculty\u001b[0m - \u001b[1;34mAdministration\u001b[0m\n",
       "court. The motion was declared out \u001b[1;34mof\u001b[0m order by the chair. Award Fulbright to \u001b[1;31mTowle\u001b[0m at last in\n",
       "42 seat landslide voters \u001b[1;34mof\u001b[0m \u001b[1;32mIllinois\u001b[0m and groups at the \u001b[1;34mUniversity\u001b[0m \u001b[1;34mof\u001b[0m \u001b[1;34mChicago.\u001b[0m \u001b[1;31mAnderson\u001b[0m \n",
       "maintained that the only reason that \u001b[1;31mDouglas\u001b[0m was unable to appear on campus was that \u001b[1;31mDouglas\u001b[0m \n",
       "had previously scheduled meetings with the \u001b[1;34mIVI\u001b[0m in the fifth, second, and seventh wards that \n",
       "same \n"
      ]
     },
     "metadata": {},
     "output_type": "display_data"
    },
    {
     "name": "stdout",
     "output_type": "stream",
     "text": [
      "Text 5\n"
     ]
    },
    {
     "data": {
      "text/html": [
       "<pre style=\"white-space:pre;overflow-x:auto;line-height:normal;font-family:Menlo,'DejaVu Sans Mono',consolas,'Courier New',monospace\">For the first time in <span style=\"color: #000080; text-decoration-color: #000080; font-weight: bold\">Student</span> <span style=\"color: #000080; text-decoration-color: #000080; font-weight: bold\">Government</span> history a political party captured all but three \n",
       "seats, as the <span style=\"color: #000080; text-decoration-color: #000080; font-weight: bold\">Independent</span> <span style=\"color: #000080; text-decoration-color: #000080; font-weight: bold\">Students</span> <span style=\"color: #000080; text-decoration-color: #000080; font-weight: bold\">League</span> won 42 of 45 contested positions in the all-campus \n",
       "election last week. <span style=\"color: #000080; text-decoration-color: #000080; font-weight: bold\">Student</span> <span style=\"color: #000080; text-decoration-color: #000080; font-weight: bold\">Representative</span> party candidates were elected to fill one position\n",
       "in the college, one in the social sciences division, and one in the federated theological \n",
       "schools. There were no independent candidates on this year’s slate. This election, described \n",
       "by <span style=\"color: #800000; text-decoration-color: #800000; font-weight: bold\">Clive</span> <span style=\"color: #800000; text-decoration-color: #800000; font-weight: bold\">Gray</span> (ISL), last year’s <span style=\"color: #000080; text-decoration-color: #000080; font-weight: bold\">SG</span> president, as the “biggest landslide a party ever had,” \n",
       "gave <span style=\"color: #000080; text-decoration-color: #000080; font-weight: bold\">ISL</span> control of <span style=\"color: #000080; text-decoration-color: #000080; font-weight: bold\">SG</span> for the sixth time since <span style=\"color: #000080; text-decoration-color: #000080; font-weight: bold\">ISL’s</span> inception in 1948. • \n",
       "</pre>\n"
      ],
      "text/plain": [
       "For the first time in \u001b[1;34mStudent\u001b[0m \u001b[1;34mGovernment\u001b[0m history a political party captured all but three \n",
       "seats, as the \u001b[1;34mIndependent\u001b[0m \u001b[1;34mStudents\u001b[0m \u001b[1;34mLeague\u001b[0m won 42 of 45 contested positions in the all-campus \n",
       "election last week. \u001b[1;34mStudent\u001b[0m \u001b[1;34mRepresentative\u001b[0m party candidates were elected to fill one position\n",
       "in the college, one in the social sciences division, and one in the federated theological \n",
       "schools. There were no independent candidates on this year’s slate. This election, described \n",
       "by \u001b[1;31mClive\u001b[0m \u001b[1;31mGray\u001b[0m (ISL), last year’s \u001b[1;34mSG\u001b[0m president, as the “biggest landslide a party ever had,” \n",
       "gave \u001b[1;34mISL\u001b[0m control of \u001b[1;34mSG\u001b[0m for the sixth time since \u001b[1;34mISL’s\u001b[0m inception in 1948. • \n"
      ]
     },
     "metadata": {},
     "output_type": "display_data"
    },
    {
     "name": "stdout",
     "output_type": "stream",
     "text": [
      "Text 6\n"
     ]
    },
    {
     "data": {
      "text/html": [
       "<pre style=\"white-space:pre;overflow-x:auto;line-height:normal;font-family:Menlo,'DejaVu Sans Mono',consolas,'Courier New',monospace\">Two seats in the assembly are vacant. At the first <span style=\"color: #000080; text-decoration-color: #000080; font-weight: bold\">SG</span> meeting held last Tuesday, <span style=\"color: #800000; text-decoration-color: #800000; font-weight: bold\">Al</span> <span style=\"color: #800000; text-decoration-color: #800000; font-weight: bold\">Fortier</span> \n",
       "was elected president, thereby relinquishing his seat as a delegate. The other vacancy is in \n",
       "the medical school, where only two of three seats were filled. <span style=\"color: #000080; text-decoration-color: #000080; font-weight: bold\">SRP</span> had no candidates in this \n",
       "division. Approximately 32 per cent of the total student body cast about fifteen hundred \n",
       "ballots. This vote is 4% less than the 36% that voted in last year’s election, and 5% less \n",
       "than the record vote of 37% in 1952. Three schools were uncontested, and had a very light \n",
       "vote this year. <span style=\"color: #000080; text-decoration-color: #000080; font-weight: bold\">ISL</span> candidates received 62.2% and <span style=\"color: #000080; text-decoration-color: #000080; font-weight: bold\">SRP</span> candidates 37.8% of the total votes \n",
       "cast for individual candidates. \n",
       "</pre>\n"
      ],
      "text/plain": [
       "Two seats in the assembly are vacant. At the first \u001b[1;34mSG\u001b[0m meeting held last Tuesday, \u001b[1;31mAl\u001b[0m \u001b[1;31mFortier\u001b[0m \n",
       "was elected president, thereby relinquishing his seat as a delegate. The other vacancy is in \n",
       "the medical school, where only two of three seats were filled. \u001b[1;34mSRP\u001b[0m had no candidates in this \n",
       "division. Approximately 32 per cent of the total student body cast about fifteen hundred \n",
       "ballots. This vote is 4% less than the 36% that voted in last year’s election, and 5% less \n",
       "than the record vote of 37% in 1952. Three schools were uncontested, and had a very light \n",
       "vote this year. \u001b[1;34mISL\u001b[0m candidates received 62.2% and \u001b[1;34mSRP\u001b[0m candidates 37.8% of the total votes \n",
       "cast for individual candidates. \n"
      ]
     },
     "metadata": {},
     "output_type": "display_data"
    },
    {
     "name": "stdout",
     "output_type": "stream",
     "text": [
      "Text 7\n"
     ]
    },
    {
     "data": {
      "text/html": [
       "<pre style=\"white-space:pre;overflow-x:auto;line-height:normal;font-family:Menlo,'DejaVu Sans Mono',consolas,'Courier New',monospace\">In the following tabulation of the election results by divisions and schools, winning \n",
       "candidates are listed in boldface type. night. <span style=\"color: #800000; text-decoration-color: #800000; font-weight: bold\">Douglas,</span> he said, “was eager to speak on the \n",
       "campus if an open date could be arranged.” <span style=\"color: #800000; text-decoration-color: #800000; font-weight: bold\">Ralph</span> <span style=\"color: #800000; text-decoration-color: #800000; font-weight: bold\">Fertig,</span> who maintains that <span style=\"color: #800000; text-decoration-color: #800000; font-weight: bold\">Anderson</span> had made\n",
       "the controversial statements in a telephone talk with him, agreed that this was the reason \n",
       "that <span style=\"color: #800000; text-decoration-color: #800000; font-weight: bold\">Douglas</span> could nut appear. <span style=\"color: #800000; text-decoration-color: #800000; font-weight: bold\">Anderson</span> called it inconceivable that he could have made such \n",
       "remarks. He said he was a founder of the <span style=\"color: #000080; text-decoration-color: #000080; font-weight: bold\">Americans</span> <span style=\"color: #000080; text-decoration-color: #000080; font-weight: bold\">for</span> <span style=\"color: #000080; text-decoration-color: #000080; font-weight: bold\">Democratic</span> <span style=\"color: #000080; text-decoration-color: #000080; font-weight: bold\">Action</span> and had worked on \n",
       "arrangements that were to unite the <span style=\"color: #000080; text-decoration-color: #000080; font-weight: bold\">IVI</span> with the <span style=\"color: #000080; text-decoration-color: #000080; font-weight: bold\">ADA.</span> \n",
       "</pre>\n"
      ],
      "text/plain": [
       "In the following tabulation of the election results by divisions and schools, winning \n",
       "candidates are listed in boldface type. night. \u001b[1;31mDouglas,\u001b[0m he said, “was eager to speak on the \n",
       "campus if an open date could be arranged.” \u001b[1;31mRalph\u001b[0m \u001b[1;31mFertig,\u001b[0m who maintains that \u001b[1;31mAnderson\u001b[0m had made\n",
       "the controversial statements in a telephone talk with him, agreed that this was the reason \n",
       "that \u001b[1;31mDouglas\u001b[0m could nut appear. \u001b[1;31mAnderson\u001b[0m called it inconceivable that he could have made such \n",
       "remarks. He said he was a founder of the \u001b[1;34mAmericans\u001b[0m \u001b[1;34mfor\u001b[0m \u001b[1;34mDemocratic\u001b[0m \u001b[1;34mAction\u001b[0m and had worked on \n",
       "arrangements that were to unite the \u001b[1;34mIVI\u001b[0m with the \u001b[1;34mADA.\u001b[0m \n"
      ]
     },
     "metadata": {},
     "output_type": "display_data"
    },
    {
     "name": "stdout",
     "output_type": "stream",
     "text": [
      "Text 8\n"
     ]
    },
    {
     "data": {
      "text/html": [
       "<pre style=\"white-space:pre;overflow-x:auto;line-height:normal;font-family:Menlo,'DejaVu Sans Mono',consolas,'Courier New',monospace\"><span style=\"color: #800000; text-decoration-color: #800000; font-weight: bold\">Anderson</span> said that <span style=\"color: #800000; text-decoration-color: #800000; font-weight: bold\">Fertig</span> had “gone <span style=\"color: #000080; text-decoration-color: #000080; font-weight: bold\">off</span> on his own hook” making arrangements for speakers on \n",
       "the strength <span style=\"color: #000080; text-decoration-color: #000080; font-weight: bold\">of</span> <span style=\"color: #800000; text-decoration-color: #800000; font-weight: bold\">Douglas’</span> name before final arrangements had been made with <span style=\"color: #800000; text-decoration-color: #800000; font-weight: bold\">Anderson.</span> <span style=\"color: #800000; text-decoration-color: #800000; font-weight: bold\">Fertig</span> \n",
       "and <span style=\"color: #800000; text-decoration-color: #800000; font-weight: bold\">John</span> <span style=\"color: #800000; text-decoration-color: #800000; font-weight: bold\">Gilmore,</span> who made calls to <span style=\"color: #800000; text-decoration-color: #800000; font-weight: bold\">Barratt</span> O'Hara, Democratic incumbent from the second \n",
       "Congressional district, and other notables scheduled to appear at the rally, denied \n",
       "<span style=\"color: #800000; text-decoration-color: #800000; font-weight: bold\">Anderson's</span> allegation. Dr. <span style=\"color: #800000; text-decoration-color: #800000; font-weight: bold\">Charlotte</span> <span style=\"color: #800000; text-decoration-color: #800000; font-weight: bold\">Towle,</span> who was denied a Fulbright scholarship by the \n",
       "foreign scholarship board in <span style=\"color: #008000; text-decoration-color: #008000; font-weight: bold\">Washington</span> in September <span style=\"color: #000080; text-decoration-color: #000080; font-weight: bold\">of</span> this year, has been granted the \n",
       "Fulbright upon reconsideration <span style=\"color: #000080; text-decoration-color: #000080; font-weight: bold\">of</span> the board. Professor <span style=\"color: #800000; text-decoration-color: #800000; font-weight: bold\">Towle</span> will lecture on generic social \n",
       "case work at the <span style=\"color: #000080; text-decoration-color: #000080; font-weight: bold\">London</span> <span style=\"color: #000080; text-decoration-color: #000080; font-weight: bold\">School</span> <span style=\"color: #000080; text-decoration-color: #000080; font-weight: bold\">of</span> <span style=\"color: #000080; text-decoration-color: #000080; font-weight: bold\">Economics,</span> starting in January. \n",
       "</pre>\n"
      ],
      "text/plain": [
       "\u001b[1;31mAnderson\u001b[0m said that \u001b[1;31mFertig\u001b[0m had “gone \u001b[1;34moff\u001b[0m on his own hook” making arrangements for speakers on \n",
       "the strength \u001b[1;34mof\u001b[0m \u001b[1;31mDouglas’\u001b[0m name before final arrangements had been made with \u001b[1;31mAnderson.\u001b[0m \u001b[1;31mFertig\u001b[0m \n",
       "and \u001b[1;31mJohn\u001b[0m \u001b[1;31mGilmore,\u001b[0m who made calls to \u001b[1;31mBarratt\u001b[0m O'Hara, Democratic incumbent from the second \n",
       "Congressional district, and other notables scheduled to appear at the rally, denied \n",
       "\u001b[1;31mAnderson's\u001b[0m allegation. Dr. \u001b[1;31mCharlotte\u001b[0m \u001b[1;31mTowle,\u001b[0m who was denied a Fulbright scholarship by the \n",
       "foreign scholarship board in \u001b[1;32mWashington\u001b[0m in September \u001b[1;34mof\u001b[0m this year, has been granted the \n",
       "Fulbright upon reconsideration \u001b[1;34mof\u001b[0m the board. Professor \u001b[1;31mTowle\u001b[0m will lecture on generic social \n",
       "case work at the \u001b[1;34mLondon\u001b[0m \u001b[1;34mSchool\u001b[0m \u001b[1;34mof\u001b[0m \u001b[1;34mEconomics,\u001b[0m starting in January. \n"
      ]
     },
     "metadata": {},
     "output_type": "display_data"
    },
    {
     "name": "stdout",
     "output_type": "stream",
     "text": [
      "Text 9\n"
     ]
    },
    {
     "data": {
      "text/html": [
       "<pre style=\"white-space:pre;overflow-x:auto;line-height:normal;font-family:Menlo,'DejaVu Sans Mono',consolas,'Courier New',monospace\">Dr. <span style=\"color: #800000; text-decoration-color: #800000; font-weight: bold\">Towle,</span> professor of social service administration at <span style=\"color: #000080; text-decoration-color: #000080; font-weight: bold\">UC,</span> is believed to have been \n",
       "originally denied the Fulbright because she urged clemency for the <span style=\"color: #800000; text-decoration-color: #800000; font-weight: bold\">Rosenbergs</span> and because she\n",
       "belonged to an organization advocating aid to the Spanish loyalists. BIOLOGICAL SCIENCES (two\n",
       "elected) <span style=\"color: #800000; text-decoration-color: #800000; font-weight: bold\">Marty</span> <span style=\"color: #800000; text-decoration-color: #800000; font-weight: bold\">Gouterman</span> 31 (ISL) <span style=\"color: #800000; text-decoration-color: #800000; font-weight: bold\">Gary</span> <span style=\"color: #800000; text-decoration-color: #800000; font-weight: bold\">Friedman</span> 33 (ISL) <span style=\"color: #800000; text-decoration-color: #800000; font-weight: bold\">Lawrence</span> <span style=\"color: #800000; text-decoration-color: #800000; font-weight: bold\">Lichtenstein</span> 22 (SRP) \n",
       "<span style=\"color: #800000; text-decoration-color: #800000; font-weight: bold\">Joseph</span> <span style=\"color: #800000; text-decoration-color: #800000; font-weight: bold\">Yavit</span> 21 (SRP) BUSINESS SCHOOL ’ l’at <span style=\"color: #800000; text-decoration-color: #800000; font-weight: bold\">Parker</span> 11 (ISL) COLLEGE Photo by Tipton <span style=\"color: #000080; text-decoration-color: #000080; font-weight: bold\">SG</span> \n",
       "ballots being counted. (13 elected) \n",
       "</pre>\n"
      ],
      "text/plain": [
       "Dr. \u001b[1;31mTowle,\u001b[0m professor of social service administration at \u001b[1;34mUC,\u001b[0m is believed to have been \n",
       "originally denied the Fulbright because she urged clemency for the \u001b[1;31mRosenbergs\u001b[0m and because she\n",
       "belonged to an organization advocating aid to the Spanish loyalists. BIOLOGICAL SCIENCES (two\n",
       "elected) \u001b[1;31mMarty\u001b[0m \u001b[1;31mGouterman\u001b[0m 31 (ISL) \u001b[1;31mGary\u001b[0m \u001b[1;31mFriedman\u001b[0m 33 (ISL) \u001b[1;31mLawrence\u001b[0m \u001b[1;31mLichtenstein\u001b[0m 22 (SRP) \n",
       "\u001b[1;31mJoseph\u001b[0m \u001b[1;31mYavit\u001b[0m 21 (SRP) BUSINESS SCHOOL ’ l’at \u001b[1;31mParker\u001b[0m 11 (ISL) COLLEGE Photo by Tipton \u001b[1;34mSG\u001b[0m \n",
       "ballots being counted. (13 elected) \n"
      ]
     },
     "metadata": {},
     "output_type": "display_data"
    },
    {
     "name": "stdout",
     "output_type": "stream",
     "text": [
      "Text 10\n"
     ]
    },
    {
     "data": {
      "text/html": [
       "<pre style=\"white-space:pre;overflow-x:auto;line-height:normal;font-family:Menlo,'DejaVu Sans Mono',consolas,'Courier New',monospace\"><span style=\"color: #800000; text-decoration-color: #800000; font-weight: bold\">Jan</span> <span style=\"color: #800000; text-decoration-color: #800000; font-weight: bold\">Metros</span> <span style=\"color: #800000; text-decoration-color: #800000; font-weight: bold\">Al</span> <span style=\"color: #800000; text-decoration-color: #800000; font-weight: bold\">Fortier</span> <span style=\"color: #800000; text-decoration-color: #800000; font-weight: bold\">E.</span> <span style=\"color: #800000; text-decoration-color: #800000; font-weight: bold\">Fukushima</span> <span style=\"color: #800000; text-decoration-color: #800000; font-weight: bold\">Emil</span> <span style=\"color: #800000; text-decoration-color: #800000; font-weight: bold\">Johnson</span> <span style=\"color: #800000; text-decoration-color: #800000; font-weight: bold\">Bob</span> <span style=\"color: #800000; text-decoration-color: #800000; font-weight: bold\">Heavilin</span> <span style=\"color: #800000; text-decoration-color: #800000; font-weight: bold\">Joli</span> <span style=\"color: #800000; text-decoration-color: #800000; font-weight: bold\">Lasker</span> <span style=\"color: #800000; text-decoration-color: #800000; font-weight: bold\">Pete</span> <span style=\"color: #800000; text-decoration-color: #800000; font-weight: bold\">Carmel</span> <span style=\"color: #800000; text-decoration-color: #800000; font-weight: bold\">V.</span> \n",
       "Bickerstaff <span style=\"color: #800000; text-decoration-color: #800000; font-weight: bold\">Jan</span> <span style=\"color: #800000; text-decoration-color: #800000; font-weight: bold\">Porter</span> <span style=\"color: #800000; text-decoration-color: #800000; font-weight: bold\">Ralph</span> <span style=\"color: #800000; text-decoration-color: #800000; font-weight: bold\">Henkle</span> <span style=\"color: #800000; text-decoration-color: #800000; font-weight: bold\">Boh</span> <span style=\"color: #800000; text-decoration-color: #800000; font-weight: bold\">Reichler</span> <span style=\"color: #800000; text-decoration-color: #800000; font-weight: bold\">Bob</span> <span style=\"color: #800000; text-decoration-color: #800000; font-weight: bold\">Kurland</span> <span style=\"color: #800000; text-decoration-color: #800000; font-weight: bold\">Sabina</span> <span style=\"color: #800000; text-decoration-color: #800000; font-weight: bold\">Magner</span> <span style=\"color: #800000; text-decoration-color: #800000; font-weight: bold\">Joan</span> <span style=\"color: #800000; text-decoration-color: #800000; font-weight: bold\">Raphael</span> \n",
       "<span style=\"color: #800000; text-decoration-color: #800000; font-weight: bold\">Carolyn</span> <span style=\"color: #800000; text-decoration-color: #800000; font-weight: bold\">Eggert</span> <span style=\"color: #800000; text-decoration-color: #800000; font-weight: bold\">Dave</span> <span style=\"color: #800000; text-decoration-color: #800000; font-weight: bold\">Bobrow</span> <span style=\"color: #800000; text-decoration-color: #800000; font-weight: bold\">Karl</span> <span style=\"color: #800000; text-decoration-color: #800000; font-weight: bold\">Rodman</span> <span style=\"color: #800000; text-decoration-color: #800000; font-weight: bold\">Noel</span> <span style=\"color: #800000; text-decoration-color: #800000; font-weight: bold\">Perlman</span> <span style=\"color: #800000; text-decoration-color: #800000; font-weight: bold\">Suzanne</span> <span style=\"color: #800000; text-decoration-color: #800000; font-weight: bold\">Friedmann</span> <span style=\"color: #800000; text-decoration-color: #800000; font-weight: bold\">Bob</span> <span style=\"color: #800000; text-decoration-color: #800000; font-weight: bold\">Stein</span> <span style=\"color: #800000; text-decoration-color: #800000; font-weight: bold\">Jean</span> <span style=\"color: #800000; text-decoration-color: #800000; font-weight: bold\">Gourfain</span>\n",
       "<span style=\"color: #800000; text-decoration-color: #800000; font-weight: bold\">Barbara</span> <span style=\"color: #800000; text-decoration-color: #800000; font-weight: bold\">Klein</span> <span style=\"color: #800000; text-decoration-color: #800000; font-weight: bold\">Ann</span> <span style=\"color: #800000; text-decoration-color: #800000; font-weight: bold\">B.</span> <span style=\"color: #800000; text-decoration-color: #800000; font-weight: bold\">Huddleson</span> 444 (ISL) 416 (ISL) 405 (ISL) 383 (LSD 386 (ISL) 371 (ISL) 369\n",
       "(ISL) 367 (ISL) 366 (SRP) 358 (ISL) 337 (ISL) 336 (ISL) 333 (ISL) 311 (ISL) 307 (SRP) 285 \n",
       "(SRP) 260 (SRP) 259 (SRP) 247 (SRP) 245 (SRP) 238 (SRP) 238 (SRP) 227 (SRP) <span style=\"color: #000080; text-decoration-color: #000080; font-weight: bold\">University</span> <span style=\"color: #000080; text-decoration-color: #000080; font-weight: bold\">of</span> \n",
       "<span style=\"color: #000080; text-decoration-color: #000080; font-weight: bold\">Chicago,</span> October 29, 1954University debate team tie for first in tournament; then lose by \n",
       "decision \n",
       "</pre>\n"
      ],
      "text/plain": [
       "\u001b[1;31mJan\u001b[0m \u001b[1;31mMetros\u001b[0m \u001b[1;31mAl\u001b[0m \u001b[1;31mFortier\u001b[0m \u001b[1;31mE.\u001b[0m \u001b[1;31mFukushima\u001b[0m \u001b[1;31mEmil\u001b[0m \u001b[1;31mJohnson\u001b[0m \u001b[1;31mBob\u001b[0m \u001b[1;31mHeavilin\u001b[0m \u001b[1;31mJoli\u001b[0m \u001b[1;31mLasker\u001b[0m \u001b[1;31mPete\u001b[0m \u001b[1;31mCarmel\u001b[0m \u001b[1;31mV.\u001b[0m \n",
       "Bickerstaff \u001b[1;31mJan\u001b[0m \u001b[1;31mPorter\u001b[0m \u001b[1;31mRalph\u001b[0m \u001b[1;31mHenkle\u001b[0m \u001b[1;31mBoh\u001b[0m \u001b[1;31mReichler\u001b[0m \u001b[1;31mBob\u001b[0m \u001b[1;31mKurland\u001b[0m \u001b[1;31mSabina\u001b[0m \u001b[1;31mMagner\u001b[0m \u001b[1;31mJoan\u001b[0m \u001b[1;31mRaphael\u001b[0m \n",
       "\u001b[1;31mCarolyn\u001b[0m \u001b[1;31mEggert\u001b[0m \u001b[1;31mDave\u001b[0m \u001b[1;31mBobrow\u001b[0m \u001b[1;31mKarl\u001b[0m \u001b[1;31mRodman\u001b[0m \u001b[1;31mNoel\u001b[0m \u001b[1;31mPerlman\u001b[0m \u001b[1;31mSuzanne\u001b[0m \u001b[1;31mFriedmann\u001b[0m \u001b[1;31mBob\u001b[0m \u001b[1;31mStein\u001b[0m \u001b[1;31mJean\u001b[0m \u001b[1;31mGourfain\u001b[0m\n",
       "\u001b[1;31mBarbara\u001b[0m \u001b[1;31mKlein\u001b[0m \u001b[1;31mAnn\u001b[0m \u001b[1;31mB.\u001b[0m \u001b[1;31mHuddleson\u001b[0m 444 (ISL) 416 (ISL) 405 (ISL) 383 (LSD 386 (ISL) 371 (ISL) 369\n",
       "(ISL) 367 (ISL) 366 (SRP) 358 (ISL) 337 (ISL) 336 (ISL) 333 (ISL) 311 (ISL) 307 (SRP) 285 \n",
       "(SRP) 260 (SRP) 259 (SRP) 247 (SRP) 245 (SRP) 238 (SRP) 238 (SRP) 227 (SRP) \u001b[1;34mUniversity\u001b[0m \u001b[1;34mof\u001b[0m \n",
       "\u001b[1;34mChicago,\u001b[0m October 29, 1954University debate team tie for first in tournament; then lose by \n",
       "decision \n"
      ]
     },
     "metadata": {},
     "output_type": "display_data"
    },
    {
     "name": "stdout",
     "output_type": "stream",
     "text": [
      "Text 11\n"
     ]
    },
    {
     "data": {
      "text/html": [
       "<pre style=\"white-space:pre;overflow-x:auto;line-height:normal;font-family:Menlo,'DejaVu Sans Mono',consolas,'Courier New',monospace\">The Purdue Invitational Debate tournament last weekend ended in a three-way tie for first \n",
       "place between teams of <span style=\"color: #000080; text-decoration-color: #000080; font-weight: bold\">Wake</span> <span style=\"color: #000080; text-decoration-color: #000080; font-weight: bold\">Forest,</span> <span style=\"color: #000080; text-decoration-color: #000080; font-weight: bold\">Notre</span> <span style=\"color: #000080; text-decoration-color: #000080; font-weight: bold\">Dame,</span> and <span style=\"color: #000080; text-decoration-color: #000080; font-weight: bold\">UC.</span> Each of these teams had a record of \n",
       "six victories and two defeats on the basis of a point scoring system. However, the tie was \n",
       "broken in favor of <span style=\"color: #000080; text-decoration-color: #000080; font-weight: bold\">Wake</span> <span style=\"color: #000080; text-decoration-color: #000080; font-weight: bold\">Forest,</span> with <span style=\"color: #000080; text-decoration-color: #000080; font-weight: bold\">Notre</span> <span style=\"color: #000080; text-decoration-color: #000080; font-weight: bold\">Dame</span> second and <span style=\"color: #000080; text-decoration-color: #000080; font-weight: bold\">Chicago</span> third. Debating the topic:\n",
       "“Resolved: that the <span style=\"color: #008000; text-decoration-color: #008000; font-weight: bold\">United</span> <span style=\"color: #008000; text-decoration-color: #008000; font-weight: bold\">States</span> should extend diplomatic recognition to the Communist \n",
       "government of <span style=\"color: #008000; text-decoration-color: #008000; font-weight: bold\">China,”</span> the <span style=\"color: #000080; text-decoration-color: #000080; font-weight: bold\">UC</span> <span style=\"color: #000080; text-decoration-color: #000080; font-weight: bold\">Student</span> <span style=\"color: #000080; text-decoration-color: #000080; font-weight: bold\">Forum</span> affirmative team of <span style=\"color: #800000; text-decoration-color: #800000; font-weight: bold\">Don</span> <span style=\"color: #800000; text-decoration-color: #800000; font-weight: bold\">Mc</span> Clintock and <span style=\"color: #800000; text-decoration-color: #800000; font-weight: bold\">Roger</span> \n",
       "<span style=\"color: #800000; text-decoration-color: #800000; font-weight: bold\">Bowen</span> won all four of their debates, the only affirmative FEDERATED THEOLOGICAL SCHOOLS three\n",
       "elected) <span style=\"color: #800000; text-decoration-color: #800000; font-weight: bold\">Roland</span> Delattre 88 <span style=\"color: #800000; text-decoration-color: #800000; font-weight: bold\">Clark</span> <span style=\"color: #800000; text-decoration-color: #800000; font-weight: bold\">Kucheman</span> 78 Should apply now to go to Qermany; decision \n",
       "Nov. 15 \n",
       "</pre>\n"
      ],
      "text/plain": [
       "The Purdue Invitational Debate tournament last weekend ended in a three-way tie for first \n",
       "place between teams of \u001b[1;34mWake\u001b[0m \u001b[1;34mForest,\u001b[0m \u001b[1;34mNotre\u001b[0m \u001b[1;34mDame,\u001b[0m and \u001b[1;34mUC.\u001b[0m Each of these teams had a record of \n",
       "six victories and two defeats on the basis of a point scoring system. However, the tie was \n",
       "broken in favor of \u001b[1;34mWake\u001b[0m \u001b[1;34mForest,\u001b[0m with \u001b[1;34mNotre\u001b[0m \u001b[1;34mDame\u001b[0m second and \u001b[1;34mChicago\u001b[0m third. Debating the topic:\n",
       "“Resolved: that the \u001b[1;32mUnited\u001b[0m \u001b[1;32mStates\u001b[0m should extend diplomatic recognition to the Communist \n",
       "government of \u001b[1;32mChina,”\u001b[0m the \u001b[1;34mUC\u001b[0m \u001b[1;34mStudent\u001b[0m \u001b[1;34mForum\u001b[0m affirmative team of \u001b[1;31mDon\u001b[0m \u001b[1;31mMc\u001b[0m Clintock and \u001b[1;31mRoger\u001b[0m \n",
       "\u001b[1;31mBowen\u001b[0m won all four of their debates, the only affirmative FEDERATED THEOLOGICAL SCHOOLS three\n",
       "elected) \u001b[1;31mRoland\u001b[0m Delattre 88 \u001b[1;31mClark\u001b[0m \u001b[1;31mKucheman\u001b[0m 78 Should apply now to go to Qermany; decision \n",
       "Nov. 15 \n"
      ]
     },
     "metadata": {},
     "output_type": "display_data"
    },
    {
     "name": "stdout",
     "output_type": "stream",
     "text": [
      "Text 12\n"
     ]
    },
    {
     "data": {
      "text/html": [
       "<pre style=\"white-space:pre;overflow-x:auto;line-height:normal;font-family:Menlo,'DejaVu Sans Mono',consolas,'Courier New',monospace\">Applications for the 1955-56 <span style=\"color: #000080; text-decoration-color: #000080; font-weight: bold\">Student</span> <span style=\"color: #000080; text-decoration-color: #000080; font-weight: bold\">Government</span> <span style=\"color: #000080; text-decoration-color: #000080; font-weight: bold\">Frankfurt</span> exchange program may be picked up \n",
       "at the <span style=\"color: #000080; text-decoration-color: #000080; font-weight: bold\">SG</span> box in the <span style=\"color: #000080; text-decoration-color: #000080; font-weight: bold\">Reynolds</span> club, <span style=\"color: #800000; text-decoration-color: #800000; font-weight: bold\">Jan</span> <span style=\"color: #800000; text-decoration-color: #800000; font-weight: bold\">Metros,</span> <span style=\"color: #000080; text-decoration-color: #000080; font-weight: bold\">NSA</span> committee chairman, announced today. \n",
       "Before November 15 a student committee will meet to select two exchange students to go to \n",
       "<span style=\"color: #000080; text-decoration-color: #000080; font-weight: bold\">Frankfurt</span> next year. These students will receive tuition and room and board scholarships at \n",
       "the German school Qualifications include a g o o d academic record, experience in the \n",
       "extra-curriculum, and willingness to participate in German student life. Applicants will be \n",
       "interviewed by the selection committee. <span style=\"color: #800000; text-decoration-color: #800000; font-weight: bold\">C.</span> <span style=\"color: #800000; text-decoration-color: #800000; font-weight: bold\">Smith</span> (ISL) (ISL) 63 (SRP) <span style=\"color: #800000; text-decoration-color: #800000; font-weight: bold\">Lon</span> Speer 57 (SRP) \n",
       "GRADUATE LIBRARY SCHOOL (one elected) <span style=\"color: #800000; text-decoration-color: #800000; font-weight: bold\">Jerry</span> O’Mara 15 (ISL) <span style=\"color: #800000; text-decoration-color: #800000; font-weight: bold\">Barbara</span> <span style=\"color: #800000; text-decoration-color: #800000; font-weight: bold\">Birthwright</span> 7 (SRP) \n",
       "HUMANITIES (four elected) \n",
       "</pre>\n"
      ],
      "text/plain": [
       "Applications for the 1955-56 \u001b[1;34mStudent\u001b[0m \u001b[1;34mGovernment\u001b[0m \u001b[1;34mFrankfurt\u001b[0m exchange program may be picked up \n",
       "at the \u001b[1;34mSG\u001b[0m box in the \u001b[1;34mReynolds\u001b[0m club, \u001b[1;31mJan\u001b[0m \u001b[1;31mMetros,\u001b[0m \u001b[1;34mNSA\u001b[0m committee chairman, announced today. \n",
       "Before November 15 a student committee will meet to select two exchange students to go to \n",
       "\u001b[1;34mFrankfurt\u001b[0m next year. These students will receive tuition and room and board scholarships at \n",
       "the German school Qualifications include a g o o d academic record, experience in the \n",
       "extra-curriculum, and willingness to participate in German student life. Applicants will be \n",
       "interviewed by the selection committee. \u001b[1;31mC.\u001b[0m \u001b[1;31mSmith\u001b[0m (ISL) (ISL) 63 (SRP) \u001b[1;31mLon\u001b[0m Speer 57 (SRP) \n",
       "GRADUATE LIBRARY SCHOOL (one elected) \u001b[1;31mJerry\u001b[0m O’Mara 15 (ISL) \u001b[1;31mBarbara\u001b[0m \u001b[1;31mBirthwright\u001b[0m 7 (SRP) \n",
       "HUMANITIES (four elected) \n"
      ]
     },
     "metadata": {},
     "output_type": "display_data"
    },
    {
     "name": "stdout",
     "output_type": "stream",
     "text": [
      "Text 13\n"
     ]
    },
    {
     "data": {
      "text/html": [
       "<pre style=\"white-space:pre;overflow-x:auto;line-height:normal;font-family:Menlo,'DejaVu Sans Mono',consolas,'Courier New',monospace\"><span style=\"color: #800000; text-decoration-color: #800000; font-weight: bold\">Jerry</span> Zisook <span style=\"color: #800000; text-decoration-color: #800000; font-weight: bold\">Louis</span> <span style=\"color: #800000; text-decoration-color: #800000; font-weight: bold\">Schaefer</span> <span style=\"color: #800000; text-decoration-color: #800000; font-weight: bold\">Romeyn</span> <span style=\"color: #800000; text-decoration-color: #800000; font-weight: bold\">Taylor</span> <span style=\"color: #800000; text-decoration-color: #800000; font-weight: bold\">Jim</span> <span style=\"color: #800000; text-decoration-color: #800000; font-weight: bold\">Camp</span> <span style=\"color: #800000; text-decoration-color: #800000; font-weight: bold\">Doris</span> <span style=\"color: #800000; text-decoration-color: #800000; font-weight: bold\">Cooperson</span> <span style=\"color: #800000; text-decoration-color: #800000; font-weight: bold\">Dale</span> <span style=\"color: #800000; text-decoration-color: #800000; font-weight: bold\">Chapman</span> <span style=\"color: #800000; text-decoration-color: #800000; font-weight: bold\">Palmer</span> <span style=\"color: #800000; text-decoration-color: #800000; font-weight: bold\">Pinney</span>\n",
       "<span style=\"color: #800000; text-decoration-color: #800000; font-weight: bold\">Jerrold</span> <span style=\"color: #800000; text-decoration-color: #800000; font-weight: bold\">Levy</span> LAW SCHOOL <span style=\"color: #800000; text-decoration-color: #800000; font-weight: bold\">Harold</span> <span style=\"color: #800000; text-decoration-color: #800000; font-weight: bold\">Ward</span> <span style=\"color: #800000; text-decoration-color: #800000; font-weight: bold\">B.</span> Vogel fa nger <span style=\"color: #800000; text-decoration-color: #800000; font-weight: bold\">George</span> <span style=\"color: #800000; text-decoration-color: #800000; font-weight: bold\">Stone</span> <span style=\"color: #800000; text-decoration-color: #800000; font-weight: bold\">Ward</span> <span style=\"color: #800000; text-decoration-color: #800000; font-weight: bold\">Wright</span> <span style=\"color: #800000; text-decoration-color: #800000; font-weight: bold\">Michael</span> <span style=\"color: #800000; text-decoration-color: #800000; font-weight: bold\">Gordon</span> \n",
       "58 (ISL) 55 (ISL) 49 (ISL) 45 (ISL) 40 (SRP) 39 (SRP) 36 (SRP) 35 (SRP) (three elected) 110 \n",
       "(ISL) 85 (ISL) 71 (ISL) 67 (SRP) 62 (SRP) MEDICAL SCHOOL <span style=\"color: #800000; text-decoration-color: #800000; font-weight: bold\">Norman</span> <span style=\"color: #800000; text-decoration-color: #800000; font-weight: bold\">Rose</span> 7 (ISL) <span style=\"color: #800000; text-decoration-color: #800000; font-weight: bold\">Daniel</span> <span style=\"color: #800000; text-decoration-color: #800000; font-weight: bold\">Offer</span> 6 \n",
       "(ISL) See ‘ISL,’ page 5 team to do so. Their victims were <span style=\"color: #000080; text-decoration-color: #000080; font-weight: bold\">Michigan</span> <span style=\"color: #000080; text-decoration-color: #000080; font-weight: bold\">State,</span> <span style=\"color: #000080; text-decoration-color: #000080; font-weight: bold\">Illinois,</span> <span style=\"color: #000080; text-decoration-color: #000080; font-weight: bold\">Boston,</span> \n",
       "and <span style=\"color: #000080; text-decoration-color: #000080; font-weight: bold\">Notre</span> <span style=\"color: #000080; text-decoration-color: #000080; font-weight: bold\">Dame.</span> \n",
       "</pre>\n"
      ],
      "text/plain": [
       "\u001b[1;31mJerry\u001b[0m Zisook \u001b[1;31mLouis\u001b[0m \u001b[1;31mSchaefer\u001b[0m \u001b[1;31mRomeyn\u001b[0m \u001b[1;31mTaylor\u001b[0m \u001b[1;31mJim\u001b[0m \u001b[1;31mCamp\u001b[0m \u001b[1;31mDoris\u001b[0m \u001b[1;31mCooperson\u001b[0m \u001b[1;31mDale\u001b[0m \u001b[1;31mChapman\u001b[0m \u001b[1;31mPalmer\u001b[0m \u001b[1;31mPinney\u001b[0m\n",
       "\u001b[1;31mJerrold\u001b[0m \u001b[1;31mLevy\u001b[0m LAW SCHOOL \u001b[1;31mHarold\u001b[0m \u001b[1;31mWard\u001b[0m \u001b[1;31mB.\u001b[0m Vogel fa nger \u001b[1;31mGeorge\u001b[0m \u001b[1;31mStone\u001b[0m \u001b[1;31mWard\u001b[0m \u001b[1;31mWright\u001b[0m \u001b[1;31mMichael\u001b[0m \u001b[1;31mGordon\u001b[0m \n",
       "58 (ISL) 55 (ISL) 49 (ISL) 45 (ISL) 40 (SRP) 39 (SRP) 36 (SRP) 35 (SRP) (three elected) 110 \n",
       "(ISL) 85 (ISL) 71 (ISL) 67 (SRP) 62 (SRP) MEDICAL SCHOOL \u001b[1;31mNorman\u001b[0m \u001b[1;31mRose\u001b[0m 7 (ISL) \u001b[1;31mDaniel\u001b[0m \u001b[1;31mOffer\u001b[0m 6 \n",
       "(ISL) See ‘ISL,’ page 5 team to do so. Their victims were \u001b[1;34mMichigan\u001b[0m \u001b[1;34mState,\u001b[0m \u001b[1;34mIllinois,\u001b[0m \u001b[1;34mBoston,\u001b[0m \n",
       "and \u001b[1;34mNotre\u001b[0m \u001b[1;34mDame.\u001b[0m \n"
      ]
     },
     "metadata": {},
     "output_type": "display_data"
    },
    {
     "name": "stdout",
     "output_type": "stream",
     "text": [
      "Text 14\n"
     ]
    },
    {
     "data": {
      "text/html": [
       "<pre style=\"white-space:pre;overflow-x:auto;line-height:normal;font-family:Menlo,'DejaVu Sans Mono',consolas,'Courier New',monospace\">For the negative, <span style=\"color: #000080; text-decoration-color: #000080; font-weight: bold\">UC</span> debaters <span style=\"color: #800000; text-decoration-color: #800000; font-weight: bold\">Joe</span> <span style=\"color: #800000; text-decoration-color: #800000; font-weight: bold\">Engel</span> and <span style=\"color: #800000; text-decoration-color: #800000; font-weight: bold\">Edward</span> <span style=\"color: #800000; text-decoration-color: #800000; font-weight: bold\">Renshaw</span> defeated <span style=\"color: #000080; text-decoration-color: #000080; font-weight: bold\">Pittsburgh</span> and the \n",
       "<span style=\"color: #000080; text-decoration-color: #000080; font-weight: bold\">University</span> <span style=\"color: #000080; text-decoration-color: #000080; font-weight: bold\">of</span> <span style=\"color: #000080; text-decoration-color: #000080; font-weight: bold\">Kentucky,</span> and lost to <span style=\"color: #000080; text-decoration-color: #000080; font-weight: bold\">Indiana</span> and <span style=\"color: #000080; text-decoration-color: #000080; font-weight: bold\">Southern</span> <span style=\"color: #000080; text-decoration-color: #000080; font-weight: bold\">Illinois.</span> In the final round, the \n",
       "judge, in violation <span style=\"color: #000080; text-decoration-color: #000080; font-weight: bold\">of</span> tournament tradition, allowed the decision to be made by a <span style=\"color: #000080; text-decoration-color: #000080; font-weight: bold\">Purdue</span> \n",
       "girls’ speech class who witnessed the debate. The girls voted 15 to 13 for the opposition. \n",
       "The score sheet <span style=\"color: #000080; text-decoration-color: #000080; font-weight: bold\">of</span> the judge had indicated a tie, a situation in which the verdict ordinarily\n",
       "goes to tile negative, since the affirmative bears the burden <span style=\"color: #000080; text-decoration-color: #000080; font-weight: bold\">of</span> proof and is bound to \n",
       "demonstrate some advantage for its side. \n",
       "</pre>\n"
      ],
      "text/plain": [
       "For the negative, \u001b[1;34mUC\u001b[0m debaters \u001b[1;31mJoe\u001b[0m \u001b[1;31mEngel\u001b[0m and \u001b[1;31mEdward\u001b[0m \u001b[1;31mRenshaw\u001b[0m defeated \u001b[1;34mPittsburgh\u001b[0m and the \n",
       "\u001b[1;34mUniversity\u001b[0m \u001b[1;34mof\u001b[0m \u001b[1;34mKentucky,\u001b[0m and lost to \u001b[1;34mIndiana\u001b[0m and \u001b[1;34mSouthern\u001b[0m \u001b[1;34mIllinois.\u001b[0m In the final round, the \n",
       "judge, in violation \u001b[1;34mof\u001b[0m tournament tradition, allowed the decision to be made by a \u001b[1;34mPurdue\u001b[0m \n",
       "girls’ speech class who witnessed the debate. The girls voted 15 to 13 for the opposition. \n",
       "The score sheet \u001b[1;34mof\u001b[0m the judge had indicated a tie, a situation in which the verdict ordinarily\n",
       "goes to tile negative, since the affirmative bears the burden \u001b[1;34mof\u001b[0m proof and is bound to \n",
       "demonstrate some advantage for its side. \n"
      ]
     },
     "metadata": {},
     "output_type": "display_data"
    },
    {
     "name": "stdout",
     "output_type": "stream",
     "text": [
      "Text 15\n"
     ]
    },
    {
     "data": {
      "text/html": [
       "<pre style=\"white-space:pre;overflow-x:auto;line-height:normal;font-family:Menlo,'DejaVu Sans Mono',consolas,'Courier New',monospace\">“The success of <span style=\"color: #008000; text-decoration-color: #008000; font-weight: bold\">Chicago</span> in the 16-team tourney was based upon its previous analysis of the \n",
       "question rather than on speaking skill,” stated <span style=\"color: #800000; text-decoration-color: #800000; font-weight: bold\">Marv</span> <span style=\"color: #800000; text-decoration-color: #800000; font-weight: bold\">Phillips,</span> <span style=\"color: #000080; text-decoration-color: #000080; font-weight: bold\">Forum</span> director. “Many of the \n",
       "issues which the team had rejected as indefensible in their preparation for the meet were \n",
       "found to be the basis of opposition arguments. Our prior determination of the weaknesses in \n",
       "these arguments gave the <span style=\"color: #000080; text-decoration-color: #000080; font-weight: bold\">UC</span> team a considerable advantage. “It appeared,” he added, “that \n",
       "most of the other teams had built cases upon shades of meaning in the topic itself, intending\n",
       "to surprise their opponents, rather than upon real life attitudes on the question. Since most\n",
       "teams anticipated such tactics the element \n",
       "</pre>\n"
      ],
      "text/plain": [
       "“The success of \u001b[1;32mChicago\u001b[0m in the 16-team tourney was based upon its previous analysis of the \n",
       "question rather than on speaking skill,” stated \u001b[1;31mMarv\u001b[0m \u001b[1;31mPhillips,\u001b[0m \u001b[1;34mForum\u001b[0m director. “Many of the \n",
       "issues which the team had rejected as indefensible in their preparation for the meet were \n",
       "found to be the basis of opposition arguments. Our prior determination of the weaknesses in \n",
       "these arguments gave the \u001b[1;34mUC\u001b[0m team a considerable advantage. “It appeared,” he added, “that \n",
       "most of the other teams had built cases upon shades of meaning in the topic itself, intending\n",
       "to surprise their opponents, rather than upon real life attitudes on the question. Since most\n",
       "teams anticipated such tactics the element \n"
      ]
     },
     "metadata": {},
     "output_type": "display_data"
    },
    {
     "name": "stdout",
     "output_type": "stream",
     "text": [
      "Text 16\n"
     ]
    },
    {
     "data": {
      "text/html": [
       "<pre style=\"white-space:pre;overflow-x:auto;line-height:normal;font-family:Menlo,'DejaVu Sans Mono',consolas,'Courier New',monospace\">of surprise lay solely with the <span style=\"color: #008000; text-decoration-color: #008000; font-weight: bold\">Chicago</span> team which had followed the latter course.” The next \n",
       "tournament <span style=\"color: #008000; text-decoration-color: #008000; font-weight: bold\">Chicago</span> will attend is to be held at <span style=\"color: #008000; text-decoration-color: #008000; font-weight: bold\">Brandley</span> on November 19. In the meantime \n",
       "debates with the larger colleges are being schduled on the <span style=\"color: #000080; text-decoration-color: #000080; font-weight: bold\">UC</span> campus to give the student body\n",
       "an opportunity to see the debate team. University debaters, who participated in a tournament \n",
       "at <span style=\"color: #000080; text-decoration-color: #000080; font-weight: bold\">Purdue</span> university Saturday. From left to right, <span style=\"color: #800000; text-decoration-color: #800000; font-weight: bold\">Roger</span> <span style=\"color: #800000; text-decoration-color: #800000; font-weight: bold\">Bowen,</span> <span style=\"color: #800000; text-decoration-color: #800000; font-weight: bold\">Don</span> <span style=\"color: #800000; text-decoration-color: #800000; font-weight: bold\">Mc</span> Clintock, <span style=\"color: #800000; text-decoration-color: #800000; font-weight: bold\">Marvin</span> \n",
       "<span style=\"color: #800000; text-decoration-color: #800000; font-weight: bold\">Phillips</span> (director of debate) and <span style=\"color: #800000; text-decoration-color: #800000; font-weight: bold\">Edward</span> <span style=\"color: #800000; text-decoration-color: #800000; font-weight: bold\">Renslow.</span> Pag* 2 THE CHICAGO MAROON October 29, 1954 \n",
       "Calendar Friday, Oct. 29 \n",
       "</pre>\n"
      ],
      "text/plain": [
       "of surprise lay solely with the \u001b[1;32mChicago\u001b[0m team which had followed the latter course.” The next \n",
       "tournament \u001b[1;32mChicago\u001b[0m will attend is to be held at \u001b[1;32mBrandley\u001b[0m on November 19. In the meantime \n",
       "debates with the larger colleges are being schduled on the \u001b[1;34mUC\u001b[0m campus to give the student body\n",
       "an opportunity to see the debate team. University debaters, who participated in a tournament \n",
       "at \u001b[1;34mPurdue\u001b[0m university Saturday. From left to right, \u001b[1;31mRoger\u001b[0m \u001b[1;31mBowen,\u001b[0m \u001b[1;31mDon\u001b[0m \u001b[1;31mMc\u001b[0m Clintock, \u001b[1;31mMarvin\u001b[0m \n",
       "\u001b[1;31mPhillips\u001b[0m (director of debate) and \u001b[1;31mEdward\u001b[0m \u001b[1;31mRenslow.\u001b[0m Pag* 2 THE CHICAGO MAROON October 29, 1954 \n",
       "Calendar Friday, Oct. 29 \n"
      ]
     },
     "metadata": {},
     "output_type": "display_data"
    },
    {
     "name": "stdout",
     "output_type": "stream",
     "text": [
      "Text 17\n"
     ]
    },
    {
     "data": {
      "text/html": [
       "<pre style=\"white-space:pre;overflow-x:auto;line-height:normal;font-family:Menlo,'DejaVu Sans Mono',consolas,'Courier New',monospace\">S^jbath service and fireside discussion on religious service in the Buddhist tradition \n",
       "sponsored by <span style=\"color: #000080; text-decoration-color: #000080; font-weight: bold\">Hillel,</span> 5715 <span style=\"color: #008000; text-decoration-color: #008000; font-weight: bold\">Woodlawt</span> Service starts at 7:45 p.m., fireside at 8 30 p.m. Guest \n",
       "of the evening is Rev. <span style=\"color: #800000; text-decoration-color: #800000; font-weight: bold\">G.</span> <span style=\"color: #800000; text-decoration-color: #800000; font-weight: bold\">M.</span> <span style=\"color: #800000; text-decoration-color: #800000; font-weight: bold\">Kubose</span> of the <span style=\"color: #008000; text-decoration-color: #008000; font-weight: bold\">Chicago</span> Buddhist church. <span style=\"color: #008000; text-decoration-color: #008000; font-weight: bold\">Halloween</span> party sponsored\n",
       "by <span style=\"color: #000080; text-decoration-color: #000080; font-weight: bold\">Channing</span> club at <span style=\"color: #800000; text-decoration-color: #800000; font-weight: bold\">Fenn</span> house, 5638 <span style=\"color: #008000; text-decoration-color: #008000; font-weight: bold\">Woodlawn.</span> Begins at 9 p.m. Saturday, Oct. 30 Folk \n",
       "concert — <span style=\"color: #800000; text-decoration-color: #800000; font-weight: bold\">Pete</span> <span style=\"color: #800000; text-decoration-color: #800000; font-weight: bold\">Seeger,</span> <span style=\"color: #800000; text-decoration-color: #800000; font-weight: bold\">Bill</span> Broonzy, <span style=\"color: #800000; text-decoration-color: #800000; font-weight: bold\">Sonny</span> <span style=\"color: #800000; text-decoration-color: #800000; font-weight: bold\">Terry,</span> in <span style=\"color: #008000; text-decoration-color: #008000; font-weight: bold\">Mandel</span> <span style=\"color: #008000; text-decoration-color: #008000; font-weight: bold\">Hall,</span> ' t?30 p.m. Tickets at box \n",
       "office. Chamber music recital will be held in <span style=\"color: #008000; text-decoration-color: #008000; font-weight: bold\">Ida</span> <span style=\"color: #008000; text-decoration-color: #008000; font-weight: bold\">Noyes</span> by the <span style=\"color: #000080; text-decoration-color: #000080; font-weight: bold\">Musical</span> <span style=\"color: #000080; text-decoration-color: #000080; font-weight: bold\">Society.</span> <span style=\"color: #008000; text-decoration-color: #008000; font-weight: bold\">No</span> admission \n",
       "charge. Starts at 8 p.m. Sunday, Oct. 31 \n",
       "</pre>\n"
      ],
      "text/plain": [
       "S^jbath service and fireside discussion on religious service in the Buddhist tradition \n",
       "sponsored by \u001b[1;34mHillel,\u001b[0m 5715 \u001b[1;32mWoodlawt\u001b[0m Service starts at 7:45 p.m., fireside at 8 30 p.m. Guest \n",
       "of the evening is Rev. \u001b[1;31mG.\u001b[0m \u001b[1;31mM.\u001b[0m \u001b[1;31mKubose\u001b[0m of the \u001b[1;32mChicago\u001b[0m Buddhist church. \u001b[1;32mHalloween\u001b[0m party sponsored\n",
       "by \u001b[1;34mChanning\u001b[0m club at \u001b[1;31mFenn\u001b[0m house, 5638 \u001b[1;32mWoodlawn.\u001b[0m Begins at 9 p.m. Saturday, Oct. 30 Folk \n",
       "concert — \u001b[1;31mPete\u001b[0m \u001b[1;31mSeeger,\u001b[0m \u001b[1;31mBill\u001b[0m Broonzy, \u001b[1;31mSonny\u001b[0m \u001b[1;31mTerry,\u001b[0m in \u001b[1;32mMandel\u001b[0m \u001b[1;32mHall,\u001b[0m ' t?30 p.m. Tickets at box \n",
       "office. Chamber music recital will be held in \u001b[1;32mIda\u001b[0m \u001b[1;32mNoyes\u001b[0m by the \u001b[1;34mMusical\u001b[0m \u001b[1;34mSociety.\u001b[0m \u001b[1;32mNo\u001b[0m admission \n",
       "charge. Starts at 8 p.m. Sunday, Oct. 31 \n"
      ]
     },
     "metadata": {},
     "output_type": "display_data"
    },
    {
     "name": "stdout",
     "output_type": "stream",
     "text": [
      "Text 18\n"
     ]
    },
    {
     "data": {
      "text/html": [
       "<pre style=\"white-space:pre;overflow-x:auto;line-height:normal;font-family:Menlo,'DejaVu Sans Mono',consolas,'Courier New',monospace\"><span style=\"color: #008000; text-decoration-color: #008000; font-weight: bold\">India</span> association presents the Dewali festival commemorating the annual <span style=\"color: #008000; text-decoration-color: #008000; font-weight: bold\">Indian</span> new year \n",
       "celebrations. There will be native dances, <span style=\"color: #008000; text-decoration-color: #008000; font-weight: bold\">Indian</span> foods, and films in <span style=\"color: #008000; text-decoration-color: #008000; font-weight: bold\">International</span> <span style=\"color: #008000; text-decoration-color: #008000; font-weight: bold\">House.</span> \n",
       "Admission is 35 cents. Halloween party and book sale will be held bv <span style=\"color: #008000; text-decoration-color: #008000; font-weight: bold\">Hitchock</span> hall. The party\n",
       "starts at 7:30 p.m. Admission is 20 cents for men, and includes the price of a book. There \n",
       "will be dancing and refreshments in <span style=\"color: #008000; text-decoration-color: #008000; font-weight: bold\">Hitchcock</span> lounge. Channing club meeting will be held in \n",
       "the <span style=\"color: #800000; text-decoration-color: #800000; font-weight: bold\">Fenn</span> house, 5638 <span style=\"color: #008000; text-decoration-color: #008000; font-weight: bold\">Woodlawn.</span> After the supper at 6:30 p.m., <span style=\"color: #800000; text-decoration-color: #800000; font-weight: bold\">Alan</span> <span style=\"color: #800000; text-decoration-color: #800000; font-weight: bold\">Sawyer,</span> assistant curator \n",
       "of decorative arts at the <span style=\"color: #000080; text-decoration-color: #000080; font-weight: bold\">Art</span> <span style=\"color: #000080; text-decoration-color: #000080; font-weight: bold\">Institute</span> will speak on “Primitive Religion.” Slides will be \n",
       "shown. \n",
       "</pre>\n"
      ],
      "text/plain": [
       "\u001b[1;32mIndia\u001b[0m association presents the Dewali festival commemorating the annual \u001b[1;32mIndian\u001b[0m new year \n",
       "celebrations. There will be native dances, \u001b[1;32mIndian\u001b[0m foods, and films in \u001b[1;32mInternational\u001b[0m \u001b[1;32mHouse.\u001b[0m \n",
       "Admission is 35 cents. Halloween party and book sale will be held bv \u001b[1;32mHitchock\u001b[0m hall. The party\n",
       "starts at 7:30 p.m. Admission is 20 cents for men, and includes the price of a book. There \n",
       "will be dancing and refreshments in \u001b[1;32mHitchcock\u001b[0m lounge. Channing club meeting will be held in \n",
       "the \u001b[1;31mFenn\u001b[0m house, 5638 \u001b[1;32mWoodlawn.\u001b[0m After the supper at 6:30 p.m., \u001b[1;31mAlan\u001b[0m \u001b[1;31mSawyer,\u001b[0m assistant curator \n",
       "of decorative arts at the \u001b[1;34mArt\u001b[0m \u001b[1;34mInstitute\u001b[0m will speak on “Primitive Religion.” Slides will be \n",
       "shown. \n"
      ]
     },
     "metadata": {},
     "output_type": "display_data"
    },
    {
     "name": "stdout",
     "output_type": "stream",
     "text": [
      "Text 19\n"
     ]
    },
    {
     "data": {
      "text/html": [
       "<pre style=\"white-space:pre;overflow-x:auto;line-height:normal;font-family:Menlo,'DejaVu Sans Mono',consolas,'Courier New',monospace\">What makes a good labor law will be the subject of a lecture by <span style=\"color: #800000; text-decoration-color: #800000; font-weight: bold\">Edward</span> <span style=\"color: #800000; text-decoration-color: #800000; font-weight: bold\">Marciniak.</span> He will \n",
       "talk under the sponsorship of the <span style=\"color: #000080; text-decoration-color: #000080; font-weight: bold\">Calvert</span> club at 4:30 p.m. in the <span style=\"color: #000080; text-decoration-color: #000080; font-weight: bold\">De</span> <span style=\"color: #000080; text-decoration-color: #000080; font-weight: bold\">Sales</span> house. <span style=\"color: #008000; text-decoration-color: #008000; font-weight: bold\">Green</span> hall\n",
       "will hold a “come-as-yourrepressed-desire” Halloween party between 7:30 p.m. and midnight. \n",
       "Monday, Nov. 1 The <span style=\"color: #000080; text-decoration-color: #000080; font-weight: bold\">Hug</span> Ivra Hebrew speaking group will meet at 12:30 p.m. in <span style=\"color: #008000; text-decoration-color: #008000; font-weight: bold\">Hillel.</span> The \n",
       "<span style=\"color: #008000; text-decoration-color: #008000; font-weight: bold\">Hillel</span> folk dance group will meet at 3:30 p.m. in <span style=\"color: #008000; text-decoration-color: #008000; font-weight: bold\">Hillel.</span> Lecture by Dr. Vogt, \n",
       "minister-emeritus of the <span style=\"color: #000080; text-decoration-color: #000080; font-weight: bold\">1st</span> <span style=\"color: #000080; text-decoration-color: #000080; font-weight: bold\">Unitarian</span> church on “The Three-fold Imperative.” To take place \n",
       "<span style=\"color: #000080; text-decoration-color: #000080; font-weight: bold\">In</span> the <span style=\"color: #000080; text-decoration-color: #000080; font-weight: bold\">Hull</span> chapel, at 8 p.m., it is cosponsored by the <span style=\"color: #000080; text-decoration-color: #000080; font-weight: bold\">Channing</span> club and , the <span style=\"color: #000080; text-decoration-color: #000080; font-weight: bold\">1st</span> <span style=\"color: #000080; text-decoration-color: #000080; font-weight: bold\">Unitarian</span>\n",
       "church. \n",
       "</pre>\n"
      ],
      "text/plain": [
       "What makes a good labor law will be the subject of a lecture by \u001b[1;31mEdward\u001b[0m \u001b[1;31mMarciniak.\u001b[0m He will \n",
       "talk under the sponsorship of the \u001b[1;34mCalvert\u001b[0m club at 4:30 p.m. in the \u001b[1;34mDe\u001b[0m \u001b[1;34mSales\u001b[0m house. \u001b[1;32mGreen\u001b[0m hall\n",
       "will hold a “come-as-yourrepressed-desire” Halloween party between 7:30 p.m. and midnight. \n",
       "Monday, Nov. 1 The \u001b[1;34mHug\u001b[0m Ivra Hebrew speaking group will meet at 12:30 p.m. in \u001b[1;32mHillel.\u001b[0m The \n",
       "\u001b[1;32mHillel\u001b[0m folk dance group will meet at 3:30 p.m. in \u001b[1;32mHillel.\u001b[0m Lecture by Dr. Vogt, \n",
       "minister-emeritus of the \u001b[1;34m1st\u001b[0m \u001b[1;34mUnitarian\u001b[0m church on “The Three-fold Imperative.” To take place \n",
       "\u001b[1;34mIn\u001b[0m the \u001b[1;34mHull\u001b[0m chapel, at 8 p.m., it is cosponsored by the \u001b[1;34mChanning\u001b[0m club and , the \u001b[1;34m1st\u001b[0m \u001b[1;34mUnitarian\u001b[0m\n",
       "church. \n"
      ]
     },
     "metadata": {},
     "output_type": "display_data"
    },
    {
     "name": "stdout",
     "output_type": "stream",
     "text": [
      "Text 20\n"
     ]
    },
    {
     "data": {
      "text/html": [
       "<pre style=\"white-space:pre;overflow-x:auto;line-height:normal;font-family:Menlo,'DejaVu Sans Mono',consolas,'Courier New',monospace\">Walgreen lecture <span style=\"color: #000080; text-decoration-color: #000080; font-weight: bold\">on</span> “The Urgency of Our Dilemma,” part of the series <span style=\"color: #000080; text-decoration-color: #000080; font-weight: bold\">on</span> “Our Foreign Economic\n",
       "Policy” will be given in Breasted hall at 8 p.m. The speaker is <span style=\"color: #800000; text-decoration-color: #800000; font-weight: bold\">Clarence</span> <span style=\"color: #008000; text-decoration-color: #008000; font-weight: bold\">B.</span> <span style=\"color: #800000; text-decoration-color: #800000; font-weight: bold\">Randall,</span> former \n",
       "chairman of the US <span style=\"color: #000080; text-decoration-color: #000080; font-weight: bold\">Commission</span> <span style=\"color: #000080; text-decoration-color: #000080; font-weight: bold\">on</span> Foreign Economic Policy. <span style=\"color: #000080; text-decoration-color: #000080; font-weight: bold\">US-Japanese</span> film Ana-ta-han (The \n",
       "Devil’s Pitchfork) will be shown in <span style=\"color: #008000; text-decoration-color: #008000; font-weight: bold\">International</span> <span style=\"color: #008000; text-decoration-color: #008000; font-weight: bold\">House</span> at 8 p.m. Tuesday, Nov. 2 Elementary \n",
       "Hebrew class will meet at <span style=\"color: #008000; text-decoration-color: #008000; font-weight: bold\">Hillel</span> at 3:30 p.m. Concert band rehearsal will be at 8 p.m. in \n",
       "<span style=\"color: #008000; text-decoration-color: #008000; font-weight: bold\">Sunny</span> <span style=\"color: #008000; text-decoration-color: #008000; font-weight: bold\">gym.</span> Bring Instruments. New members are welcome. Prof. <span style=\"color: #800000; text-decoration-color: #800000; font-weight: bold\">Kermit</span> Eby will lecture for the \n",
       "<span style=\"color: #000080; text-decoration-color: #000080; font-weight: bold\">Veterans</span> <span style=\"color: #000080; text-decoration-color: #000080; font-weight: bold\">Nursery</span> school <span style=\"color: #000080; text-decoration-color: #000080; font-weight: bold\">on</span> “Religion and the Child.” The talk, third in series <span style=\"color: #000080; text-decoration-color: #000080; font-weight: bold\">on</span> child \n",
       "development, will be given in <span style=\"color: #008000; text-decoration-color: #008000; font-weight: bold\">Judd</span> <span style=\"color: #008000; text-decoration-color: #008000; font-weight: bold\">126</span> at 8 p.m. Admission is 50 cents. \n",
       "</pre>\n"
      ],
      "text/plain": [
       "Walgreen lecture \u001b[1;34mon\u001b[0m “The Urgency of Our Dilemma,” part of the series \u001b[1;34mon\u001b[0m “Our Foreign Economic\n",
       "Policy” will be given in Breasted hall at 8 p.m. The speaker is \u001b[1;31mClarence\u001b[0m \u001b[1;32mB.\u001b[0m \u001b[1;31mRandall,\u001b[0m former \n",
       "chairman of the US \u001b[1;34mCommission\u001b[0m \u001b[1;34mon\u001b[0m Foreign Economic Policy. \u001b[1;34mUS-Japanese\u001b[0m film Ana-ta-han (The \n",
       "Devil’s Pitchfork) will be shown in \u001b[1;32mInternational\u001b[0m \u001b[1;32mHouse\u001b[0m at 8 p.m. Tuesday, Nov. 2 Elementary \n",
       "Hebrew class will meet at \u001b[1;32mHillel\u001b[0m at 3:30 p.m. Concert band rehearsal will be at 8 p.m. in \n",
       "\u001b[1;32mSunny\u001b[0m \u001b[1;32mgym.\u001b[0m Bring Instruments. New members are welcome. Prof. \u001b[1;31mKermit\u001b[0m Eby will lecture for the \n",
       "\u001b[1;34mVeterans\u001b[0m \u001b[1;34mNursery\u001b[0m school \u001b[1;34mon\u001b[0m “Religion and the Child.” The talk, third in series \u001b[1;34mon\u001b[0m child \n",
       "development, will be given in \u001b[1;32mJudd\u001b[0m \u001b[1;32m126\u001b[0m at 8 p.m. Admission is 50 cents. \n"
      ]
     },
     "metadata": {},
     "output_type": "display_data"
    },
    {
     "name": "stdout",
     "output_type": "stream",
     "text": [
      "Text 21\n"
     ]
    },
    {
     "data": {
      "text/html": [
       "<pre style=\"white-space:pre;overflow-x:auto;line-height:normal;font-family:Menlo,'DejaVu Sans Mono',consolas,'Courier New',monospace\"><span style=\"color: #000080; text-decoration-color: #000080; font-weight: bold\">Canterbury</span> club will meet in <span style=\"color: #008000; text-decoration-color: #008000; font-weight: bold\">Ida</span> <span style=\"color: #008000; text-decoration-color: #008000; font-weight: bold\">Noyes</span> at 7:45 p.m. to discuss the Christian student \n",
       "organization—the how and the why. Walgreen lecture, given by <span style=\"color: #800000; text-decoration-color: #800000; font-weight: bold\">Clarence</span> <span style=\"color: #800000; text-decoration-color: #800000; font-weight: bold\">B.</span> <span style=\"color: #800000; text-decoration-color: #800000; font-weight: bold\">Randall</span> on “Trade \n",
       "Must Move Towards Liberalization” will be held in Breasted hall at 8 p.m. “Implementing the \n",
       "Supreme Court Decision” is the subject of the Hitchcock-Snell forum, to be held at 8 p.m. in \n",
       "Hitchcock lounge. The forum features <span style=\"color: #800000; text-decoration-color: #800000; font-weight: bold\">William</span> <span style=\"color: #800000; text-decoration-color: #800000; font-weight: bold\">R.</span> <span style=\"color: #800000; text-decoration-color: #800000; font-weight: bold\">Ming,</span> professor of law. Wednesday, <span style=\"color: #008000; text-decoration-color: #008000; font-weight: bold\">Nov.</span> 3 \n",
       "Intermediate Hebrew class will meet at <span style=\"color: #000080; text-decoration-color: #000080; font-weight: bold\">Hillel</span> at 1:30 p.m. <span style=\"color: #000080; text-decoration-color: #000080; font-weight: bold\">Hillel</span> choral group will meet at \n",
       "3:30 p.m. Walgreen lecture by <span style=\"color: #800000; text-decoration-color: #800000; font-weight: bold\">Clarence</span> <span style=\"color: #800000; text-decoration-color: #800000; font-weight: bold\">Randall</span> on “Some of the Roadblocks to Trade \n",
       "Liberalization” will be held in Breasted hall at 8 p.m. \n",
       "</pre>\n"
      ],
      "text/plain": [
       "\u001b[1;34mCanterbury\u001b[0m club will meet in \u001b[1;32mIda\u001b[0m \u001b[1;32mNoyes\u001b[0m at 7:45 p.m. to discuss the Christian student \n",
       "organization—the how and the why. Walgreen lecture, given by \u001b[1;31mClarence\u001b[0m \u001b[1;31mB.\u001b[0m \u001b[1;31mRandall\u001b[0m on “Trade \n",
       "Must Move Towards Liberalization” will be held in Breasted hall at 8 p.m. “Implementing the \n",
       "Supreme Court Decision” is the subject of the Hitchcock-Snell forum, to be held at 8 p.m. in \n",
       "Hitchcock lounge. The forum features \u001b[1;31mWilliam\u001b[0m \u001b[1;31mR.\u001b[0m \u001b[1;31mMing,\u001b[0m professor of law. Wednesday, \u001b[1;32mNov.\u001b[0m 3 \n",
       "Intermediate Hebrew class will meet at \u001b[1;34mHillel\u001b[0m at 1:30 p.m. \u001b[1;34mHillel\u001b[0m choral group will meet at \n",
       "3:30 p.m. Walgreen lecture by \u001b[1;31mClarence\u001b[0m \u001b[1;31mRandall\u001b[0m on “Some of the Roadblocks to Trade \n",
       "Liberalization” will be held in Breasted hall at 8 p.m. \n"
      ]
     },
     "metadata": {},
     "output_type": "display_data"
    },
    {
     "name": "stdout",
     "output_type": "stream",
     "text": [
      "Text 22\n"
     ]
    },
    {
     "data": {
      "text/html": [
       "<pre style=\"white-space:pre;overflow-x:auto;line-height:normal;font-family:Menlo,'DejaVu Sans Mono',consolas,'Courier New',monospace\">There will be English country dancing in <span style=\"color: #008000; text-decoration-color: #008000; font-weight: bold\">Ida</span> <span style=\"color: #008000; text-decoration-color: #008000; font-weight: bold\">Noyes</span> between 8 p.m. and 10. Wear rubber-soled \n",
       "shoes. Instruction for beginners will be provided. “The Centrality of Worship” will be the \n",
       "subject of Dr. Vogt, sponsored by the <span style=\"color: #000080; text-decoration-color: #000080; font-weight: bold\">Channing</span> club and the 1st <span style=\"color: #000080; text-decoration-color: #000080; font-weight: bold\">Unitarian</span> church. It will \n",
       "take place in <span style=\"color: #008000; text-decoration-color: #008000; font-weight: bold\">Hull</span> chapel. 8 p.m. Thursday, <span style=\"color: #008000; text-decoration-color: #008000; font-weight: bold\">Nov.</span> 4 A Bell for Adano, American film, will be \n",
       "shown in the International house at 8 p.m. Coffee hour at <span style=\"color: #008000; text-decoration-color: #008000; font-weight: bold\">Hillel</span> will feature <span style=\"color: #800000; text-decoration-color: #800000; font-weight: bold\">Meyer</span> <span style=\"color: #800000; text-decoration-color: #800000; font-weight: bold\">Isenberg,</span>\n",
       "of the college humanities staff, who will discuss “Mottel, the Cantor’s Son” by Sholom \n",
       "<span style=\"color: #800000; text-decoration-color: #800000; font-weight: bold\">Aleichem.</span> It will be held at 3:30 p.m. There will be no admission charge. \n",
       "</pre>\n"
      ],
      "text/plain": [
       "There will be English country dancing in \u001b[1;32mIda\u001b[0m \u001b[1;32mNoyes\u001b[0m between 8 p.m. and 10. Wear rubber-soled \n",
       "shoes. Instruction for beginners will be provided. “The Centrality of Worship” will be the \n",
       "subject of Dr. Vogt, sponsored by the \u001b[1;34mChanning\u001b[0m club and the 1st \u001b[1;34mUnitarian\u001b[0m church. It will \n",
       "take place in \u001b[1;32mHull\u001b[0m chapel. 8 p.m. Thursday, \u001b[1;32mNov.\u001b[0m 4 A Bell for Adano, American film, will be \n",
       "shown in the International house at 8 p.m. Coffee hour at \u001b[1;32mHillel\u001b[0m will feature \u001b[1;31mMeyer\u001b[0m \u001b[1;31mIsenberg,\u001b[0m\n",
       "of the college humanities staff, who will discuss “Mottel, the Cantor’s Son” by Sholom \n",
       "\u001b[1;31mAleichem.\u001b[0m It will be held at 3:30 p.m. There will be no admission charge. \n"
      ]
     },
     "metadata": {},
     "output_type": "display_data"
    },
    {
     "name": "stdout",
     "output_type": "stream",
     "text": [
      "Text 23\n"
     ]
    },
    {
     "data": {
      "text/html": [
       "<pre style=\"white-space:pre;overflow-x:auto;line-height:normal;font-family:Menlo,'DejaVu Sans Mono',consolas,'Courier New',monospace\">Father <span style=\"color: #800000; text-decoration-color: #800000; font-weight: bold\">John</span> <span style=\"color: #800000; text-decoration-color: #800000; font-weight: bold\">Stafford,</span> chairman of the department of psychology and psychiatry of the Catholic\n",
       "university in <span style=\"color: #008000; text-decoration-color: #008000; font-weight: bold\">Washington</span> will lecture before the <span style=\"color: #000080; text-decoration-color: #000080; font-weight: bold\">Psychology</span> club at 4:30 p.m. in <span style=\"color: #008000; text-decoration-color: #008000; font-weight: bold\">Swift.</span> \n",
       "<span style=\"color: #000080; text-decoration-color: #000080; font-weight: bold\">Inter-varsity</span> <span style=\"color: #000080; text-decoration-color: #000080; font-weight: bold\">Christian</span> <span style=\"color: #000080; text-decoration-color: #000080; font-weight: bold\">Fellowship</span> will sponsor group study of gospel according to St. <span style=\"color: #008000; text-decoration-color: #008000; font-weight: bold\">Mark</span> \n",
       "at 7:30 p.m. in <span style=\"color: #008000; text-decoration-color: #008000; font-weight: bold\">Ida</span> <span style=\"color: #008000; text-decoration-color: #008000; font-weight: bold\">Noyes.</span> A CIO official will give an analysis of what Tuesday’s election \n",
       "means to labor in <span style=\"color: #008000; text-decoration-color: #008000; font-weight: bold\">Ida</span> <span style=\"color: #008000; text-decoration-color: #008000; font-weight: bold\">Noyes</span> east lounge at 7:45 p.m. He is sponsored by the <span style=\"color: #000080; text-decoration-color: #000080; font-weight: bold\">Socialist</span> club. A\n",
       "discussion, and a business meeting of the club will follow. Students <span style=\"color: #000080; text-decoration-color: #000080; font-weight: bold\">for</span> <span style=\"color: #000080; text-decoration-color: #000080; font-weight: bold\">Democratic</span> <span style=\"color: #000080; text-decoration-color: #000080; font-weight: bold\">Action</span> \n",
       "will hold a discussion of educational and political projects, and will also elect officers at\n",
       "4:30 p.m. in <span style=\"color: #008000; text-decoration-color: #008000; font-weight: bold\">Soc.</span> <span style=\"color: #008000; text-decoration-color: #008000; font-weight: bold\">Sci.</span> 122 REPEATED SAVE ’1.06 EACH CALLON <span style=\"color: #800000; text-decoration-color: #800000; font-weight: bold\">ALEXANDER’S</span> RESTAURANT \n",
       "</pre>\n"
      ],
      "text/plain": [
       "Father \u001b[1;31mJohn\u001b[0m \u001b[1;31mStafford,\u001b[0m chairman of the department of psychology and psychiatry of the Catholic\n",
       "university in \u001b[1;32mWashington\u001b[0m will lecture before the \u001b[1;34mPsychology\u001b[0m club at 4:30 p.m. in \u001b[1;32mSwift.\u001b[0m \n",
       "\u001b[1;34mInter-varsity\u001b[0m \u001b[1;34mChristian\u001b[0m \u001b[1;34mFellowship\u001b[0m will sponsor group study of gospel according to St. \u001b[1;32mMark\u001b[0m \n",
       "at 7:30 p.m. in \u001b[1;32mIda\u001b[0m \u001b[1;32mNoyes.\u001b[0m A CIO official will give an analysis of what Tuesday’s election \n",
       "means to labor in \u001b[1;32mIda\u001b[0m \u001b[1;32mNoyes\u001b[0m east lounge at 7:45 p.m. He is sponsored by the \u001b[1;34mSocialist\u001b[0m club. A\n",
       "discussion, and a business meeting of the club will follow. Students \u001b[1;34mfor\u001b[0m \u001b[1;34mDemocratic\u001b[0m \u001b[1;34mAction\u001b[0m \n",
       "will hold a discussion of educational and political projects, and will also elect officers at\n",
       "4:30 p.m. in \u001b[1;32mSoc.\u001b[0m \u001b[1;32mSci.\u001b[0m 122 REPEATED SAVE ’1.06 EACH CALLON \u001b[1;31mALEXANDER’S\u001b[0m RESTAURANT \n"
      ]
     },
     "metadata": {},
     "output_type": "display_data"
    },
    {
     "name": "stdout",
     "output_type": "stream",
     "text": [
      "Text 24\n"
     ]
    },
    {
     "data": {
      "text/html": [
       "<pre style=\"white-space:pre;overflow-x:auto;line-height:normal;font-family:Menlo,'DejaVu Sans Mono',consolas,'Courier New',monospace\">1137 <span style=\"color: #008000; text-decoration-color: #008000; font-weight: bold\">E.</span> «3rd <span style=\"color: #008000; text-decoration-color: #008000; font-weight: bold\">St.</span> <span style=\"color: #008000; text-decoration-color: #008000; font-weight: bold\">Mt)</span> 4-5735 COMPLETE DINNERS from 95c COMPLETE LUNCHEONS from 75c COMPLETE \n",
       "BREAKFASTS from 38c Preserve those important records, lecture notes, papers, and letters with\n",
       "a permanent, lie-flat, circular PLASTIC BINDING Capacity: from 1 sheet to 250 Prices: from \n",
       "25c to $1, including labor. binding strip, stiff cover at the HYDE PARK LETTER SHOP 5646 <span style=\"color: #008000; text-decoration-color: #008000; font-weight: bold\">S.</span> \n",
       "<span style=\"color: #008000; text-decoration-color: #008000; font-weight: bold\">Harper</span> <span style=\"color: #008000; text-decoration-color: #008000; font-weight: bold\">Ave.</span> (37) HYde Pork 3-5343 I PERMANENT TYPE I ANTI-FREEZE <span style=\"color: #008000; text-decoration-color: #008000; font-weight: bold\">M</span> Per Callon  : CASH AND \n",
       "CARRY = I ~ REGULAR PRICE AFTER THIS SALE $2.95 I ; Will Not Boil Away — Lasts All Winter ; B\n",
       "<span style=\"color: #008000; text-decoration-color: #008000; font-weight: bold\">Ml</span> i • £ Prevents Corrosion — Ethylene Glycol Type = GOOD FOR A LIMITED TIME ONLY! = I JEWEL \n",
       "SERVICTSTATIONI | AND PERFECT CAR WASH | = 5601 <span style=\"color: #008000; text-decoration-color: #008000; font-weight: bold\">South</span> <span style=\"color: #008000; text-decoration-color: #008000; font-weight: bold\">Cottage</span> <span style=\"color: #008000; text-decoration-color: #008000; font-weight: bold\">Grove</span> <span style=\"color: #008000; text-decoration-color: #008000; font-weight: bold\">MU</span> 4-9106 I  \n",
       "</pre>\n"
      ],
      "text/plain": [
       "1137 \u001b[1;32mE.\u001b[0m «3rd \u001b[1;32mSt.\u001b[0m \u001b[1;32mMt)\u001b[0m 4-5735 COMPLETE DINNERS from 95c COMPLETE LUNCHEONS from 75c COMPLETE \n",
       "BREAKFASTS from 38c Preserve those important records, lecture notes, papers, and letters with\n",
       "a permanent, lie-flat, circular PLASTIC BINDING Capacity: from 1 sheet to 250 Prices: from \n",
       "25c to $1, including labor. binding strip, stiff cover at the HYDE PARK LETTER SHOP 5646 \u001b[1;32mS.\u001b[0m \n",
       "\u001b[1;32mHarper\u001b[0m \u001b[1;32mAve.\u001b[0m (37) HYde Pork 3-5343 I PERMANENT TYPE I ANTI-FREEZE \u001b[1;32mM\u001b[0m Per Callon  : CASH AND \n",
       "CARRY = I ~ REGULAR PRICE AFTER THIS SALE $2.95 I ; Will Not Boil Away — Lasts All Winter ; B\n",
       "\u001b[1;32mMl\u001b[0m i • £ Prevents Corrosion — Ethylene Glycol Type = GOOD FOR A LIMITED TIME ONLY! = I JEWEL \n",
       "SERVICTSTATIONI | AND PERFECT CAR WASH | = 5601 \u001b[1;32mSouth\u001b[0m \u001b[1;32mCottage\u001b[0m \u001b[1;32mGrove\u001b[0m \u001b[1;32mMU\u001b[0m 4-9106 I  \n"
      ]
     },
     "metadata": {},
     "output_type": "display_data"
    },
    {
     "name": "stdout",
     "output_type": "stream",
     "text": [
      "Text 25\n"
     ]
    },
    {
     "data": {
      "text/html": [
       "<pre style=\"white-space:pre;overflow-x:auto;line-height:normal;font-family:Menlo,'DejaVu Sans Mono',consolas,'Courier New',monospace\">What makes a Lucky taste better? “IT’S TOASTED’’ to taste better! <span style=\"color: #800000; text-decoration-color: #800000; font-weight: bold\">ALPHABET</span> BLOCKS FOR \n",
       "<span style=\"color: #000080; text-decoration-color: #000080; font-weight: bold\">ILLITERATES</span> BUTTERFLY SKIPPING ROPE FIFTY-DOLLAR , BOY SCOUT KNIFE \n",
       "</pre>\n"
      ],
      "text/plain": [
       "What makes a Lucky taste better? “IT’S TOASTED’’ to taste better! \u001b[1;31mALPHABET\u001b[0m BLOCKS FOR \n",
       "\u001b[1;34mILLITERATES\u001b[0m BUTTERFLY SKIPPING ROPE FIFTY-DOLLAR , BOY SCOUT KNIFE \n"
      ]
     },
     "metadata": {},
     "output_type": "display_data"
    },
    {
     "name": "stdout",
     "output_type": "stream",
     "text": [
      "Text 26\n"
     ]
    },
    {
     "data": {
      "text/html": [
       "<pre style=\"white-space:pre;overflow-x:auto;line-height:normal;font-family:Menlo,'DejaVu Sans Mono',consolas,'Courier New',monospace\">Co Dege smokers from coast to coast prefer Luckies to any other brand. Luckies lead, and by a\n",
       "wide margin, according to the latest, biggest college survey. Once again, the No. 1 reason: \n",
       "Luckies taste better. They taste better because Lucky Strike is the cigarette of fine tobacco\n",
       "and “It’s Toasted’* to taste better. “IPs Toasted”—the famous Lucky Strike process—tones up \n",
       "Luckies’ light, mild, goodtasting tobacco to make it taste even better. This explains the \n",
       "Droodle below, which is: Eskimo seminar enjoying Luckies in badly built classroom. Like all \n",
       "real cool people, Eskimos know Luckies taste better. So, get the better-tasting cigarette \n",
       "Lucky Strike. LUCKIES TASTE BETTER Cleaner, Fresher, Smoother! <span style=\"color: #008000; text-decoration-color: #008000; font-weight: bold\">COMO</span> PIZZERIA 1520 E. <span style=\"color: #008000; text-decoration-color: #008000; font-weight: bold\">55th</span> <span style=\"color: #008000; text-decoration-color: #008000; font-weight: bold\">St.</span>\n",
       "</pre>\n"
      ],
      "text/plain": [
       "Co Dege smokers from coast to coast prefer Luckies to any other brand. Luckies lead, and by a\n",
       "wide margin, according to the latest, biggest college survey. Once again, the No. 1 reason: \n",
       "Luckies taste better. They taste better because Lucky Strike is the cigarette of fine tobacco\n",
       "and “It’s Toasted’* to taste better. “IPs Toasted”—the famous Lucky Strike process—tones up \n",
       "Luckies’ light, mild, goodtasting tobacco to make it taste even better. This explains the \n",
       "Droodle below, which is: Eskimo seminar enjoying Luckies in badly built classroom. Like all \n",
       "real cool people, Eskimos know Luckies taste better. So, get the better-tasting cigarette \n",
       "Lucky Strike. LUCKIES TASTE BETTER Cleaner, Fresher, Smoother! \u001b[1;32mCOMO\u001b[0m PIZZERIA 1520 E. \u001b[1;32m55th\u001b[0m \u001b[1;32mSt.\u001b[0m\n"
      ]
     },
     "metadata": {},
     "output_type": "display_data"
    },
    {
     "name": "stdout",
     "output_type": "stream",
     "text": [
      "Text 27\n"
     ]
    },
    {
     "data": {
      "text/html": [
       "<pre style=\"white-space:pre;overflow-x:auto;line-height:normal;font-family:Menlo,'DejaVu Sans Mono',consolas,'Courier New',monospace\">• Bar-be-cue chicken • Bar-be-cue ribs Delivery Anywhere FA 4-5525 GHOST WITH CINDER IN HIS \n",
       "EYI DEPRESSED FLEA COMMITTING SUICIDE LUCKY STRIKE TIC-TAC-TOE KIT “What’s this?” asks ROGER \n",
       "PRICE* For solution see paragraph above. m A Ai. GOT A LUCKY DROODLE? If you’ve got a Lucky \n",
       "Droodle in your noodle, send it in. We pay $25 for all we use, and also for many we don t \n",
       "use. Send as many as you like with your descriptive titles to: Lucky Droodle, P. O. Box 67, \n",
       "<span style=\"color: #008000; text-decoration-color: #008000; font-weight: bold\">New</span> <span style=\"color: #008000; text-decoration-color: #008000; font-weight: bold\">York</span> 46, <span style=\"color: #008000; text-decoration-color: #008000; font-weight: bold\">N.</span> <span style=\"color: #008000; text-decoration-color: #008000; font-weight: bold\">Y.</span> OROODLES, Copyright, 1954, by <span style=\"color: #800000; text-decoration-color: #800000; font-weight: bold\">Roger</span> <span style=\"color: #800000; text-decoration-color: #800000; font-weight: bold\">Price</span> PRODUCT OF <span style=\"color: #008000; text-decoration-color: #008000; font-weight: bold\">AMERICA'S</span> LEADING \n",
       "MANUFACTURER OF CIGARBTTB# October 29, 1954 THE CHICAGO MAROON Page 3 Neff has to wake early \n",
       "to win weekly MAROON photo prize How early do <span style=\"color: #000080; text-decoration-color: #000080; font-weight: bold\">UC</span> students get up in the morning? \n",
       "</pre>\n"
      ],
      "text/plain": [
       "• Bar-be-cue chicken • Bar-be-cue ribs Delivery Anywhere FA 4-5525 GHOST WITH CINDER IN HIS \n",
       "EYI DEPRESSED FLEA COMMITTING SUICIDE LUCKY STRIKE TIC-TAC-TOE KIT “What’s this?” asks ROGER \n",
       "PRICE* For solution see paragraph above. m A Ai. GOT A LUCKY DROODLE? If you’ve got a Lucky \n",
       "Droodle in your noodle, send it in. We pay $25 for all we use, and also for many we don t \n",
       "use. Send as many as you like with your descriptive titles to: Lucky Droodle, P. O. Box 67, \n",
       "\u001b[1;32mNew\u001b[0m \u001b[1;32mYork\u001b[0m 46, \u001b[1;32mN.\u001b[0m \u001b[1;32mY.\u001b[0m OROODLES, Copyright, 1954, by \u001b[1;31mRoger\u001b[0m \u001b[1;31mPrice\u001b[0m PRODUCT OF \u001b[1;32mAMERICA'S\u001b[0m LEADING \n",
       "MANUFACTURER OF CIGARBTTB# October 29, 1954 THE CHICAGO MAROON Page 3 Neff has to wake early \n",
       "to win weekly MAROON photo prize How early do \u001b[1;34mUC\u001b[0m students get up in the morning? \n"
      ]
     },
     "metadata": {},
     "output_type": "display_data"
    },
    {
     "name": "stdout",
     "output_type": "stream",
     "text": [
      "Text 28\n"
     ]
    },
    {
     "data": {
      "text/html": [
       "<pre style=\"white-space:pre;overflow-x:auto;line-height:normal;font-family:Menlo,'DejaVu Sans Mono',consolas,'Courier New',monospace\">At least some of them get up early enough to get to <span style=\"color: #000080; text-decoration-color: #000080; font-weight: bold\">Reynolds</span> club by 8:30 a.m. This was the \n",
       "case last Friday with <span style=\"color: #800000; text-decoration-color: #800000; font-weight: bold\">Richard</span> Neff, a college student who was standing at the door as the \n",
       "club opened in order to claim the prize in the Maroon “Know the Quadrangles” contest. He got \n",
       "it, even though <span style=\"color: #000080; text-decoration-color: #000080; font-weight: bold\">Reynolds</span> opens officially at 9, by identifying correctly last week’s mystery \n",
       "picture. The right answer was the inscription on the fountain in front of <span style=\"color: #800000; text-decoration-color: #800000; font-weight: bold\">Kent.</span> (It appeared \n",
       "no 7 9071 hyde park theatre ^ss’rd1' student rate 50c Now playing through Sunday Exclusive \n",
       "Chicago Showing Shakespeare and Shaw series number two <span style=\"color: #800000; text-decoration-color: #800000; font-weight: bold\">Max</span> <span style=\"color: #800000; text-decoration-color: #800000; font-weight: bold\">Reinhardt's</span> production of A \n",
       "Midsummer Night's Dream with the <span style=\"color: #800000; text-decoration-color: #800000; font-weight: bold\">Mendelssohn</span> music Shaw's own screen version of his great \n",
       "play Major Barbara \n",
       "</pre>\n"
      ],
      "text/plain": [
       "At least some of them get up early enough to get to \u001b[1;34mReynolds\u001b[0m club by 8:30 a.m. This was the \n",
       "case last Friday with \u001b[1;31mRichard\u001b[0m Neff, a college student who was standing at the door as the \n",
       "club opened in order to claim the prize in the Maroon “Know the Quadrangles” contest. He got \n",
       "it, even though \u001b[1;34mReynolds\u001b[0m opens officially at 9, by identifying correctly last week’s mystery \n",
       "picture. The right answer was the inscription on the fountain in front of \u001b[1;31mKent.\u001b[0m (It appeared \n",
       "no 7 9071 hyde park theatre ^ss’rd1' student rate 50c Now playing through Sunday Exclusive \n",
       "Chicago Showing Shakespeare and Shaw series number two \u001b[1;31mMax\u001b[0m \u001b[1;31mReinhardt's\u001b[0m production of A \n",
       "Midsummer Night's Dream with the \u001b[1;31mMendelssohn\u001b[0m music Shaw's own screen version of his great \n",
       "play Major Barbara \n"
      ]
     },
     "metadata": {},
     "output_type": "display_data"
    },
    {
     "name": "stdout",
     "output_type": "stream",
     "text": [
      "Text 29\n"
     ]
    },
    {
     "data": {
      "text/html": [
       "<pre style=\"white-space:pre;overflow-x:auto;line-height:normal;font-family:Menlo,'DejaVu Sans Mono',consolas,'Courier New',monospace\"><span style=\"color: #800000; text-decoration-color: #800000; font-weight: bold\">Wendy</span> <span style=\"color: #800000; text-decoration-color: #800000; font-weight: bold\">Hiller</span> <span style=\"color: #800000; text-decoration-color: #800000; font-weight: bold\">Rex</span> <span style=\"color: #800000; text-decoration-color: #800000; font-weight: bold\">Harrison</span> <span style=\"color: #800000; text-decoration-color: #800000; font-weight: bold\">Robert</span> <span style=\"color: #800000; text-decoration-color: #800000; font-weight: bold\">Newton</span> NEXT ATTRACTION <span style=\"color: #800000; text-decoration-color: #800000; font-weight: bold\">Robert</span> <span style=\"color: #800000; text-decoration-color: #800000; font-weight: bold\">Morley</span> (Consult your newspaper\n",
       "for exact starting date* MOIRA <span style=\"color: #800000; text-decoration-color: #800000; font-weight: bold\">SHEARER</span> ROBERT HELPMANN and BEN HECHT'S Tales of Hoffman \n",
       "Spectre of the Rose May we collar you soon in a smart ARROW Radnor? With 90% of a shirt’s \n",
       "style up in the collar, the man who wears an Arrow Radnor is smarter than a wet whip. Choose \n",
       "a Radnor Button-Down (above), a regular Radnor, or Radnor “E”—with eyelets, shown at. right. \n",
       "The Radnor “E” is also available with French Cuffs. They’re all Arrow all easy on the eyes a \n",
       "id on the budget. Arrow Radnors sr tart-looking and perfect-fitting in broadcloth prices \n",
       "start at $4.50; in oxford cloth, $5.00 white or colored. &gt;7 A/IHOW <span style=\"color: #800000; text-decoration-color: #800000; font-weight: bold\">SHIRTS</span> &amp; TIES \n",
       "</pre>\n"
      ],
      "text/plain": [
       "\u001b[1;31mWendy\u001b[0m \u001b[1;31mHiller\u001b[0m \u001b[1;31mRex\u001b[0m \u001b[1;31mHarrison\u001b[0m \u001b[1;31mRobert\u001b[0m \u001b[1;31mNewton\u001b[0m NEXT ATTRACTION \u001b[1;31mRobert\u001b[0m \u001b[1;31mMorley\u001b[0m (Consult your newspaper\n",
       "for exact starting date* MOIRA \u001b[1;31mSHEARER\u001b[0m ROBERT HELPMANN and BEN HECHT'S Tales of Hoffman \n",
       "Spectre of the Rose May we collar you soon in a smart ARROW Radnor? With 90% of a shirt’s \n",
       "style up in the collar, the man who wears an Arrow Radnor is smarter than a wet whip. Choose \n",
       "a Radnor Button-Down (above), a regular Radnor, or Radnor “E”—with eyelets, shown at. right. \n",
       "The Radnor “E” is also available with French Cuffs. They’re all Arrow all easy on the eyes a \n",
       "id on the budget. Arrow Radnors sr tart-looking and perfect-fitting in broadcloth prices \n",
       "start at $4.50; in oxford cloth, $5.00 white or colored. >7 A/IHOW \u001b[1;31mSHIRTS\u001b[0m & TIES \n"
      ]
     },
     "metadata": {},
     "output_type": "display_data"
    },
    {
     "name": "stdout",
     "output_type": "stream",
     "text": [
      "Text 30\n"
     ]
    },
    {
     "data": {
      "text/html": [
       "<pre style=\"white-space:pre;overflow-x:auto;line-height:normal;font-family:Menlo,'DejaVu Sans Mono',consolas,'Courier New',monospace\">UNDERWEAR • HANDKERCHIEFS • <span style=\"color: #000080; text-decoration-color: #000080; font-weight: bold\">CASUAL</span> WEAR at prices from $4.50 Arrow Radnor •price. collar \n",
       "dresses, up your wardrobe —makes it top-style at bottom that’s the name and we’ve got it. \n",
       "where are you This is the new-style Arrow Radnor, and if you’re not wearing one now... you \n",
       "should be. Point those feet our way and let us show you how this soft, rounded <span style=\"color: #008000; text-decoration-color: #008000; font-weight: bold\">Chicago</span> - \n",
       "<span style=\"color: #008000; text-decoration-color: #008000; font-weight: bold\">Evanston</span> - <span style=\"color: #008000; text-decoration-color: #008000; font-weight: bold\">Oak</span> <span style=\"color: #008000; text-decoration-color: #008000; font-weight: bold\">Park</span> <span style=\"color: #008000; text-decoration-color: #008000; font-weight: bold\">Evergreen</span> - <span style=\"color: #008000; text-decoration-color: #008000; font-weight: bold\">Gary</span> - <span style=\"color: #008000; text-decoration-color: #008000; font-weight: bold\">Joliet</span> - <span style=\"color: #008000; text-decoration-color: #008000; font-weight: bold\">Alton</span> upside down.) It is not known whether \n",
       "Neff also gets up in time to attend his 8:30 classes. Three more answers were received by \n",
       "<span style=\"color: #800000; text-decoration-color: #800000; font-weight: bold\">Reynolds</span> desk within an hour of Neff's original arrival. The total of the answers which \n",
       "finally got to the <span style=\"color: #000080; text-decoration-color: #000080; font-weight: bold\">Maroon</span> office is more than fifty. Replies came from every division except \n",
       "the <span style=\"color: #000080; text-decoration-color: #000080; font-weight: bold\">Graduate</span> <span style=\"color: #000080; text-decoration-color: #000080; font-weight: bold\">Library</span> school. \n",
       "</pre>\n"
      ],
      "text/plain": [
       "UNDERWEAR • HANDKERCHIEFS • \u001b[1;34mCASUAL\u001b[0m WEAR at prices from $4.50 Arrow Radnor •price. collar \n",
       "dresses, up your wardrobe —makes it top-style at bottom that’s the name and we’ve got it. \n",
       "where are you This is the new-style Arrow Radnor, and if you’re not wearing one now... you \n",
       "should be. Point those feet our way and let us show you how this soft, rounded \u001b[1;32mChicago\u001b[0m - \n",
       "\u001b[1;32mEvanston\u001b[0m - \u001b[1;32mOak\u001b[0m \u001b[1;32mPark\u001b[0m \u001b[1;32mEvergreen\u001b[0m - \u001b[1;32mGary\u001b[0m - \u001b[1;32mJoliet\u001b[0m - \u001b[1;32mAlton\u001b[0m upside down.) It is not known whether \n",
       "Neff also gets up in time to attend his 8:30 classes. Three more answers were received by \n",
       "\u001b[1;31mReynolds\u001b[0m desk within an hour of Neff's original arrival. The total of the answers which \n",
       "finally got to the \u001b[1;34mMaroon\u001b[0m office is more than fifty. Replies came from every division except \n",
       "the \u001b[1;34mGraduate\u001b[0m \u001b[1;34mLibrary\u001b[0m school. \n"
      ]
     },
     "metadata": {},
     "output_type": "display_data"
    },
    {
     "name": "stdout",
     "output_type": "stream",
     "text": [
      "Text 31\n"
     ]
    },
    {
     "data": {
      "text/html": [
       "<pre style=\"white-space:pre;overflow-x:auto;line-height:normal;font-family:Menlo,'DejaVu Sans Mono',consolas,'Courier New',monospace\">At least five different individuals appeared on the fifth floor of the <span style=\"color: #000080; text-decoration-color: #000080; font-weight: bold\">Administration</span> \n",
       "building this week and asked the Chancellor’s receptionist <span style=\"color: #800000; text-decoration-color: #800000; font-weight: bold\">Beth</span> <span style=\"color: #800000; text-decoration-color: #800000; font-weight: bold\">Kinyon</span> for information about \n",
       "the different class gifts, trying to identify the mystery spot by identifying the date. The \n",
       "contest, now in its third week, consists of naming correctly the current mystery picture. The\n",
       "first person who brings the right answer to <span style=\"color: #000080; text-decoration-color: #000080; font-weight: bold\">Reynolds</span> <span style=\"color: #000080; text-decoration-color: #000080; font-weight: bold\">club</span> or to the <span style=\"color: #000080; text-decoration-color: #000080; font-weight: bold\">Maroon</span> office wins a \n",
       "carton of cigarettes. This weeks mystery photograph appears at the left. <span style=\"color: #000080; text-decoration-color: #000080; font-weight: bold\">Berlin</span> <span style=\"color: #000080; text-decoration-color: #000080; font-weight: bold\">U</span> denies <span style=\"color: #000080; text-decoration-color: #000080; font-weight: bold\">LAK</span> \n",
       "statements \n",
       "</pre>\n"
      ],
      "text/plain": [
       "At least five different individuals appeared on the fifth floor of the \u001b[1;34mAdministration\u001b[0m \n",
       "building this week and asked the Chancellor’s receptionist \u001b[1;31mBeth\u001b[0m \u001b[1;31mKinyon\u001b[0m for information about \n",
       "the different class gifts, trying to identify the mystery spot by identifying the date. The \n",
       "contest, now in its third week, consists of naming correctly the current mystery picture. The\n",
       "first person who brings the right answer to \u001b[1;34mReynolds\u001b[0m \u001b[1;34mclub\u001b[0m or to the \u001b[1;34mMaroon\u001b[0m office wins a \n",
       "carton of cigarettes. This weeks mystery photograph appears at the left. \u001b[1;34mBerlin\u001b[0m \u001b[1;34mU\u001b[0m denies \u001b[1;34mLAK\u001b[0m \n",
       "statements \n"
      ]
     },
     "metadata": {},
     "output_type": "display_data"
    },
    {
     "name": "stdout",
     "output_type": "stream",
     "text": [
      "Text 32\n"
     ]
    },
    {
     "data": {
      "text/html": [
       "<pre style=\"white-space:pre;overflow-x:auto;line-height:normal;font-family:Menlo,'DejaVu Sans Mono',consolas,'Courier New',monospace\"><span style=\"color: #800000; text-decoration-color: #800000; font-weight: bold\">A</span> rebuttal <span style=\"color: #000080; text-decoration-color: #000080; font-weight: bold\">of</span> <span style=\"color: #800000; text-decoration-color: #800000; font-weight: bold\">Lawrence</span> <span style=\"color: #800000; text-decoration-color: #800000; font-weight: bold\">A.</span> <span style=\"color: #800000; text-decoration-color: #800000; font-weight: bold\">Kimpton’s</span> statement criticizing the <span style=\"color: #000080; text-decoration-color: #000080; font-weight: bold\">Free</span> <span style=\"color: #000080; text-decoration-color: #000080; font-weight: bold\">University</span> <span style=\"color: #000080; text-decoration-color: #000080; font-weight: bold\">of</span> <span style=\"color: #000080; text-decoration-color: #000080; font-weight: bold\">Berlin</span> which\n",
       "appeared in last week’s Maroon was issued Wednesday by professor <span style=\"color: #800000; text-decoration-color: #800000; font-weight: bold\">Hirsch,</span> the <span style=\"color: #000080; text-decoration-color: #000080; font-weight: bold\">Free</span> \n",
       "<span style=\"color: #000080; text-decoration-color: #000080; font-weight: bold\">University’s</span> president. <span style=\"color: #800000; text-decoration-color: #800000; font-weight: bold\">Hirsch</span> came to the <span style=\"color: #000080; text-decoration-color: #000080; font-weight: bold\">UC</span> campus as part <span style=\"color: #000080; text-decoration-color: #000080; font-weight: bold\">of</span> his visit to this country for\n",
       "the Bi-centennial celebration <span style=\"color: #000080; text-decoration-color: #000080; font-weight: bold\">of</span> <span style=\"color: #000080; text-decoration-color: #000080; font-weight: bold\">Columbia</span> <span style=\"color: #000080; text-decoration-color: #000080; font-weight: bold\">university.</span> <span style=\"color: #800000; text-decoration-color: #800000; font-weight: bold\">Hirsch</span> was puzzled by <span style=\"color: #800000; text-decoration-color: #800000; font-weight: bold\">Kimpton’s</span> \n",
       "statement that an “air <span style=\"color: #000080; text-decoration-color: #000080; font-weight: bold\">of</span> fright” surrounds the <span style=\"color: #000080; text-decoration-color: #000080; font-weight: bold\">Free</span> <span style=\"color: #000080; text-decoration-color: #000080; font-weight: bold\">university.</span> \"There is no such ‘fright’ \n",
       "surrounding the <span style=\"color: #000080; text-decoration-color: #000080; font-weight: bold\">university,”</span> <span style=\"color: #800000; text-decoration-color: #800000; font-weight: bold\">Hirsch</span> commented, “and as to the endless checking <span style=\"color: #000080; text-decoration-color: #000080; font-weight: bold\">of</span> passports \n",
       "to which Mr. <span style=\"color: #800000; text-decoration-color: #800000; font-weight: bold\">Kimpton</span> referred, passpoets are checked only when you enter the country and when\n",
       "you leave.” \n",
       "</pre>\n"
      ],
      "text/plain": [
       "\u001b[1;31mA\u001b[0m rebuttal \u001b[1;34mof\u001b[0m \u001b[1;31mLawrence\u001b[0m \u001b[1;31mA.\u001b[0m \u001b[1;31mKimpton’s\u001b[0m statement criticizing the \u001b[1;34mFree\u001b[0m \u001b[1;34mUniversity\u001b[0m \u001b[1;34mof\u001b[0m \u001b[1;34mBerlin\u001b[0m which\n",
       "appeared in last week’s Maroon was issued Wednesday by professor \u001b[1;31mHirsch,\u001b[0m the \u001b[1;34mFree\u001b[0m \n",
       "\u001b[1;34mUniversity’s\u001b[0m president. \u001b[1;31mHirsch\u001b[0m came to the \u001b[1;34mUC\u001b[0m campus as part \u001b[1;34mof\u001b[0m his visit to this country for\n",
       "the Bi-centennial celebration \u001b[1;34mof\u001b[0m \u001b[1;34mColumbia\u001b[0m \u001b[1;34muniversity.\u001b[0m \u001b[1;31mHirsch\u001b[0m was puzzled by \u001b[1;31mKimpton’s\u001b[0m \n",
       "statement that an “air \u001b[1;34mof\u001b[0m fright” surrounds the \u001b[1;34mFree\u001b[0m \u001b[1;34muniversity.\u001b[0m \"There is no such ‘fright’ \n",
       "surrounding the \u001b[1;34muniversity,”\u001b[0m \u001b[1;31mHirsch\u001b[0m commented, “and as to the endless checking \u001b[1;34mof\u001b[0m passports \n",
       "to which Mr. \u001b[1;31mKimpton\u001b[0m referred, passpoets are checked only when you enter the country and when\n",
       "you leave.” \n"
      ]
     },
     "metadata": {},
     "output_type": "display_data"
    },
    {
     "name": "stdout",
     "output_type": "stream",
     "text": [
      "Text 33\n"
     ]
    },
    {
     "data": {
      "text/html": [
       "<pre style=\"white-space:pre;overflow-x:auto;line-height:normal;font-family:Menlo,'DejaVu Sans Mono',consolas,'Courier New',monospace\">“The <span style=\"color: #000080; text-decoration-color: #000080; font-weight: bold\">Free</span> university has developed by leaps and bounds,” he commented. It now has an exchange\n",
       "program with <span style=\"color: #000080; text-decoration-color: #000080; font-weight: bold\">Stanford</span> and <span style=\"color: #000080; text-decoration-color: #000080; font-weight: bold\">Columbia</span> for professors and witii <span style=\"color: #000080; text-decoration-color: #000080; font-weight: bold\">Stanford,</span> <span style=\"color: #000080; text-decoration-color: #000080; font-weight: bold\">Columbia,</span> and <span style=\"color: #000080; text-decoration-color: #000080; font-weight: bold\">Harvard</span> \n",
       "for students; the <span style=\"color: #000080; text-decoration-color: #000080; font-weight: bold\">Free</span> university was the first German university to give extension courses \n",
       "at night. The needs of a new university are very large, stated <span style=\"color: #800000; text-decoration-color: #800000; font-weight: bold\">Hirsch,</span> and some are \n",
       "impossible to supply; a great deal of help, however, has come from the <span style=\"color: #008000; text-decoration-color: #008000; font-weight: bold\">US</span> through the <span style=\"color: #000080; text-decoration-color: #000080; font-weight: bold\">Ford</span> \n",
       "and <span style=\"color: #000080; text-decoration-color: #000080; font-weight: bold\">Rockefeller</span> foundations and the <span style=\"color: #000080; text-decoration-color: #000080; font-weight: bold\">State</span> <span style=\"color: #000080; text-decoration-color: #000080; font-weight: bold\">department.</span> <span style=\"color: #800000; text-decoration-color: #800000; font-weight: bold\">Hirsch</span> said that 40% of the <span style=\"color: #000080; text-decoration-color: #000080; font-weight: bold\">Free</span> \n",
       "university’s students originally came from the Soviet zone of <span style=\"color: #008000; text-decoration-color: #008000; font-weight: bold\">Berlin,</span> and a few commute \n",
       "regularly between the Soviet zone and the university. Organ concert at <span style=\"color: #000080; text-decoration-color: #000080; font-weight: bold\">Rockefeller</span> service \n",
       "</pre>\n"
      ],
      "text/plain": [
       "“The \u001b[1;34mFree\u001b[0m university has developed by leaps and bounds,” he commented. It now has an exchange\n",
       "program with \u001b[1;34mStanford\u001b[0m and \u001b[1;34mColumbia\u001b[0m for professors and witii \u001b[1;34mStanford,\u001b[0m \u001b[1;34mColumbia,\u001b[0m and \u001b[1;34mHarvard\u001b[0m \n",
       "for students; the \u001b[1;34mFree\u001b[0m university was the first German university to give extension courses \n",
       "at night. The needs of a new university are very large, stated \u001b[1;31mHirsch,\u001b[0m and some are \n",
       "impossible to supply; a great deal of help, however, has come from the \u001b[1;32mUS\u001b[0m through the \u001b[1;34mFord\u001b[0m \n",
       "and \u001b[1;34mRockefeller\u001b[0m foundations and the \u001b[1;34mState\u001b[0m \u001b[1;34mdepartment.\u001b[0m \u001b[1;31mHirsch\u001b[0m said that 40% of the \u001b[1;34mFree\u001b[0m \n",
       "university’s students originally came from the Soviet zone of \u001b[1;32mBerlin,\u001b[0m and a few commute \n",
       "regularly between the Soviet zone and the university. Organ concert at \u001b[1;34mRockefeller\u001b[0m service \n"
      ]
     },
     "metadata": {},
     "output_type": "display_data"
    },
    {
     "name": "stdout",
     "output_type": "stream",
     "text": [
      "Text 34\n"
     ]
    },
    {
     "data": {
      "text/html": [
       "<pre style=\"white-space:pre;overflow-x:auto;line-height:normal;font-family:Menlo,'DejaVu Sans Mono',consolas,'Courier New',monospace\"><span style=\"color: #800000; text-decoration-color: #800000; font-weight: bold\">Richard</span> <span style=\"color: #800000; text-decoration-color: #800000; font-weight: bold\">Luecke,</span> a candidate for the Ph.D. in philosophy at <span style=\"color: #000080; text-decoration-color: #000080; font-weight: bold\">UC</span> and Pastor of <span style=\"color: #008000; text-decoration-color: #008000; font-weight: bold\">Our</span> <span style=\"color: #008000; text-decoration-color: #008000; font-weight: bold\">Savior’s</span> \n",
       "<span style=\"color: #800000; text-decoration-color: #800000; font-weight: bold\">Lutheran</span> <span style=\"color: #008000; text-decoration-color: #008000; font-weight: bold\">Church,</span> <span style=\"color: #008000; text-decoration-color: #008000; font-weight: bold\">Chicago,</span> will preach the sermon at the ninth annual reformation vespers at \n",
       "<span style=\"color: #008000; text-decoration-color: #008000; font-weight: bold\">Rockefeller</span> chapel, Sunday at 8 p.m. The 16th century liturgical service, sung in Gregorian \n",
       "by the <span style=\"color: #000080; text-decoration-color: #000080; font-weight: bold\">Valparaiso</span> <span style=\"color: #000080; text-decoration-color: #000080; font-weight: bold\">University</span> choir, <span style=\"color: #000080; text-decoration-color: #000080; font-weight: bold\">Valparaiso,</span> <span style=\"color: #008000; text-decoration-color: #008000; font-weight: bold\">Indiana,</span> will be preceded by an organ concert\n",
       "at 7:30 p.m., played by <span style=\"color: #800000; text-decoration-color: #800000; font-weight: bold\">Heinrich</span> Fleischer, <span style=\"color: #000080; text-decoration-color: #000080; font-weight: bold\">UC</span> organist. <span style=\"color: #800000; text-decoration-color: #800000; font-weight: bold\">Mead</span> says tolerance forced on \n",
       "Protestants “Religious toleration was universal in the English colonies by the middle of the \n",
       "18th century, but Protestantism did not contribute to this religious liberty. It was forced \n",
       "into it,” concluded <span style=\"color: #800000; text-decoration-color: #800000; font-weight: bold\">Sidney</span> <span style=\"color: #800000; text-decoration-color: #800000; font-weight: bold\">E.</span> <span style=\"color: #800000; text-decoration-color: #800000; font-weight: bold\">Mead,</span> associate professor of history of American Christianity. \n",
       "</pre>\n"
      ],
      "text/plain": [
       "\u001b[1;31mRichard\u001b[0m \u001b[1;31mLuecke,\u001b[0m a candidate for the Ph.D. in philosophy at \u001b[1;34mUC\u001b[0m and Pastor of \u001b[1;32mOur\u001b[0m \u001b[1;32mSavior’s\u001b[0m \n",
       "\u001b[1;31mLutheran\u001b[0m \u001b[1;32mChurch,\u001b[0m \u001b[1;32mChicago,\u001b[0m will preach the sermon at the ninth annual reformation vespers at \n",
       "\u001b[1;32mRockefeller\u001b[0m chapel, Sunday at 8 p.m. The 16th century liturgical service, sung in Gregorian \n",
       "by the \u001b[1;34mValparaiso\u001b[0m \u001b[1;34mUniversity\u001b[0m choir, \u001b[1;34mValparaiso,\u001b[0m \u001b[1;32mIndiana,\u001b[0m will be preceded by an organ concert\n",
       "at 7:30 p.m., played by \u001b[1;31mHeinrich\u001b[0m Fleischer, \u001b[1;34mUC\u001b[0m organist. \u001b[1;31mMead\u001b[0m says tolerance forced on \n",
       "Protestants “Religious toleration was universal in the English colonies by the middle of the \n",
       "18th century, but Protestantism did not contribute to this religious liberty. It was forced \n",
       "into it,” concluded \u001b[1;31mSidney\u001b[0m \u001b[1;31mE.\u001b[0m \u001b[1;31mMead,\u001b[0m associate professor of history of American Christianity. \n"
      ]
     },
     "metadata": {},
     "output_type": "display_data"
    },
    {
     "name": "stdout",
     "output_type": "stream",
     "text": [
      "Text 35\n"
     ]
    },
    {
     "data": {
      "text/html": [
       "<pre style=\"white-space:pre;overflow-x:auto;line-height:normal;font-family:Menlo,'DejaVu Sans Mono',consolas,'Courier New',monospace\"><span style=\"color: #800000; text-decoration-color: #800000; font-weight: bold\">Mead</span> spoke in the first of a series of four Walgreen foundation lectures on “The shape of \n",
       "Protestantism in <span style=\"color: #008000; text-decoration-color: #008000; font-weight: bold\">America,”</span> last Monday. This first lecture, “From coercion to persuasion,” \n",
       "dealt with the development of religious toleration in early colonial <span style=\"color: #008000; text-decoration-color: #008000; font-weight: bold\">America.</span> <span style=\"color: #800000; text-decoration-color: #800000; font-weight: bold\">Mead</span> pointed \n",
       "out that early Protestant aims to establish religious coercion in the new world were \n",
       "frustrated by a variety of outside influences. The self-interest of individuals caused them \n",
       "to forget the cries of the church when it interfered with their personal ambitions; the vast \n",
       "spaces of the new land made banishment an enlargement of opportunity rather than a \n",
       "confinement; and <span style=\"color: #008000; text-decoration-color: #008000; font-weight: bold\">England</span> exerted pressure for a more tolerant attitude on religious matters \n",
       "in <span style=\"color: #008000; text-decoration-color: #008000; font-weight: bold\">New</span> <span style=\"color: #008000; text-decoration-color: #008000; font-weight: bold\">England.</span> \n",
       "</pre>\n"
      ],
      "text/plain": [
       "\u001b[1;31mMead\u001b[0m spoke in the first of a series of four Walgreen foundation lectures on “The shape of \n",
       "Protestantism in \u001b[1;32mAmerica,”\u001b[0m last Monday. This first lecture, “From coercion to persuasion,” \n",
       "dealt with the development of religious toleration in early colonial \u001b[1;32mAmerica.\u001b[0m \u001b[1;31mMead\u001b[0m pointed \n",
       "out that early Protestant aims to establish religious coercion in the new world were \n",
       "frustrated by a variety of outside influences. The self-interest of individuals caused them \n",
       "to forget the cries of the church when it interfered with their personal ambitions; the vast \n",
       "spaces of the new land made banishment an enlargement of opportunity rather than a \n",
       "confinement; and \u001b[1;32mEngland\u001b[0m exerted pressure for a more tolerant attitude on religious matters \n",
       "in \u001b[1;32mNew\u001b[0m \u001b[1;32mEngland.\u001b[0m \n"
      ]
     },
     "metadata": {},
     "output_type": "display_data"
    },
    {
     "name": "stdout",
     "output_type": "stream",
     "text": [
      "Text 36\n"
     ]
    },
    {
     "data": {
      "text/html": [
       "<pre style=\"white-space:pre;overflow-x:auto;line-height:normal;font-family:Menlo,'DejaVu Sans Mono',consolas,'Courier New',monospace\">Besides these influences, “a strange alliance developed between the rationalists and the \n",
       "pietist revivalists which forewarded the cause of religious C'shop drops all hoars after five\n",
       "C-shop hours have again been limited to 7:30 a.m.-5 p.m. Lack of student support was given by\n",
       "<span style=\"color: #800000; text-decoration-color: #800000; font-weight: bold\">Robert</span> <span style=\"color: #800000; text-decoration-color: #800000; font-weight: bold\">M.</span> <span style=\"color: #800000; text-decoration-color: #800000; font-weight: bold\">Strozier,</span> dean of students, as the reason for the scheduling of no evening hours \n",
       "this year. <span style=\"color: #800000; text-decoration-color: #800000; font-weight: bold\">Strozier</span> said the C-shop, located off <span style=\"color: #008000; text-decoration-color: #008000; font-weight: bold\">Mandel</span> corridor near the <span style=\"color: #008000; text-decoration-color: #008000; font-weight: bold\">Commons,</span> lost too \n",
       "much money last spring to allow it to continue to remain open after 5. Evening hours have \n",
       "lost money since they were originated in January of 1952 explained Mrs. <span style=\"color: #800000; text-decoration-color: #800000; font-weight: bold\">Alma</span> <span style=\"color: #800000; text-decoration-color: #800000; font-weight: bold\">Baugh,</span> \n",
       "supervisor of <span style=\"color: #008000; text-decoration-color: #008000; font-weight: bold\">Hutchinson</span> commons. \n",
       "</pre>\n"
      ],
      "text/plain": [
       "Besides these influences, “a strange alliance developed between the rationalists and the \n",
       "pietist revivalists which forewarded the cause of religious C'shop drops all hoars after five\n",
       "C-shop hours have again been limited to 7:30 a.m.-5 p.m. Lack of student support was given by\n",
       "\u001b[1;31mRobert\u001b[0m \u001b[1;31mM.\u001b[0m \u001b[1;31mStrozier,\u001b[0m dean of students, as the reason for the scheduling of no evening hours \n",
       "this year. \u001b[1;31mStrozier\u001b[0m said the C-shop, located off \u001b[1;32mMandel\u001b[0m corridor near the \u001b[1;32mCommons,\u001b[0m lost too \n",
       "much money last spring to allow it to continue to remain open after 5. Evening hours have \n",
       "lost money since they were originated in January of 1952 explained Mrs. \u001b[1;31mAlma\u001b[0m \u001b[1;31mBaugh,\u001b[0m \n",
       "supervisor of \u001b[1;32mHutchinson\u001b[0m commons. \n"
      ]
     },
     "metadata": {},
     "output_type": "display_data"
    },
    {
     "name": "stdout",
     "output_type": "stream",
     "text": [
      "Text 37\n"
     ]
    },
    {
     "data": {
      "text/html": [
       "<pre style=\"white-space:pre;overflow-x:auto;line-height:normal;font-family:Menlo,'DejaVu Sans Mono',consolas,'Courier New',monospace\">Patronage dwindled during last year, and by the spring quarter the shop was losing too much \n",
       "money for the administration to continue to underwrite the loss. freedom,” <span style=\"color: #800000; text-decoration-color: #800000; font-weight: bold\">Mead</span> said. This \n",
       "alliance was purely practical and not theoretical. The rationalist approach to religious \n",
       "freedom, based on the intellectual conception that all religions good enough to preserve \n",
       "peace and order have a right to exist, could not be reconciled with that of the revivalists \n",
       "who, while having no interest in conformity, had no intellectual interest in anything. \n",
       "</pre>\n"
      ],
      "text/plain": [
       "Patronage dwindled during last year, and by the spring quarter the shop was losing too much \n",
       "money for the administration to continue to underwrite the loss. freedom,” \u001b[1;31mMead\u001b[0m said. This \n",
       "alliance was purely practical and not theoretical. The rationalist approach to religious \n",
       "freedom, based on the intellectual conception that all religions good enough to preserve \n",
       "peace and order have a right to exist, could not be reconciled with that of the revivalists \n",
       "who, while having no interest in conformity, had no intellectual interest in anything. \n"
      ]
     },
     "metadata": {},
     "output_type": "display_data"
    },
    {
     "name": "stdout",
     "output_type": "stream",
     "text": [
      "Text 38\n"
     ]
    },
    {
     "data": {
      "text/html": [
       "<pre style=\"white-space:pre;overflow-x:auto;line-height:normal;font-family:Menlo,'DejaVu Sans Mono',consolas,'Courier New',monospace\">Nevertheless, <span style=\"color: #800000; text-decoration-color: #800000; font-weight: bold\">Mead</span> continued, this alliance, combined with the earlier factors of \n",
       "self-interest, vast spaces, and pressure from the old world, brought American \n",
       "Protestantism—-in spite of itself — still further down the road toward religious toleration. \n",
       "’New year in Nov.' festival A “New Year in November” atmosphere will prevail at the Dewali \n",
       "festival 4 p.m. Sunday in the assembly hall of International house. Featured for the \n",
       "afternoon will be movies pertaining to the meaning of Dewali, authentic Indian foods, and \n",
       "native Indian dances by <span style=\"color: #800000; text-decoration-color: #800000; font-weight: bold\">Mehta</span> <span style=\"color: #800000; text-decoration-color: #800000; font-weight: bold\">Von</span> Essen and <span style=\"color: #800000; text-decoration-color: #800000; font-weight: bold\">Nina</span> Guha. \n",
       "</pre>\n"
      ],
      "text/plain": [
       "Nevertheless, \u001b[1;31mMead\u001b[0m continued, this alliance, combined with the earlier factors of \n",
       "self-interest, vast spaces, and pressure from the old world, brought American \n",
       "Protestantism—-in spite of itself — still further down the road toward religious toleration. \n",
       "’New year in Nov.' festival A “New Year in November” atmosphere will prevail at the Dewali \n",
       "festival 4 p.m. Sunday in the assembly hall of International house. Featured for the \n",
       "afternoon will be movies pertaining to the meaning of Dewali, authentic Indian foods, and \n",
       "native Indian dances by \u001b[1;31mMehta\u001b[0m \u001b[1;31mVon\u001b[0m Essen and \u001b[1;31mNina\u001b[0m Guha. \n"
      ]
     },
     "metadata": {},
     "output_type": "display_data"
    },
    {
     "name": "stdout",
     "output_type": "stream",
     "text": [
      "Text 39\n"
     ]
    },
    {
     "data": {
      "text/html": [
       "<pre style=\"white-space:pre;overflow-x:auto;line-height:normal;font-family:Menlo,'DejaVu Sans Mono',consolas,'Courier New',monospace\">Sponsored by the <span style=\"color: #000080; text-decoration-color: #000080; font-weight: bold\">India</span> <span style=\"color: #000080; text-decoration-color: #000080; font-weight: bold\">Association,</span> this Dewali festival celebrates the opening of the new \n",
       "year on the <span style=\"color: #000080; text-decoration-color: #000080; font-weight: bold\">Indian</span> lunar calendar, and is open to all those wishing to learn about the \n",
       "festival. Dewali. the only national <span style=\"color: #000080; text-decoration-color: #000080; font-weight: bold\">Indian</span> holiday, is a traditional time of gaiety and \n",
       "friendliness and marks the end of the <span style=\"color: #000080; text-decoration-color: #000080; font-weight: bold\">Indian</span> fiscal year. Through all parts of <span style=\"color: #000080; text-decoration-color: #000080; font-weight: bold\">India</span> on the \n",
       "night of Dewali candles are placed on streets, over doorways, and on roof-tops. Segregation \n",
       "decision topic of Ming talk \n",
       "</pre>\n"
      ],
      "text/plain": [
       "Sponsored by the \u001b[1;34mIndia\u001b[0m \u001b[1;34mAssociation,\u001b[0m this Dewali festival celebrates the opening of the new \n",
       "year on the \u001b[1;34mIndian\u001b[0m lunar calendar, and is open to all those wishing to learn about the \n",
       "festival. Dewali. the only national \u001b[1;34mIndian\u001b[0m holiday, is a traditional time of gaiety and \n",
       "friendliness and marks the end of the \u001b[1;34mIndian\u001b[0m fiscal year. Through all parts of \u001b[1;34mIndia\u001b[0m on the \n",
       "night of Dewali candles are placed on streets, over doorways, and on roof-tops. Segregation \n",
       "decision topic of Ming talk \n"
      ]
     },
     "metadata": {},
     "output_type": "display_data"
    },
    {
     "name": "stdout",
     "output_type": "stream",
     "text": [
      "Text 40\n"
     ]
    },
    {
     "data": {
      "text/html": [
       "<pre style=\"white-space:pre;overflow-x:auto;line-height:normal;font-family:Menlo,'DejaVu Sans Mono',consolas,'Courier New',monospace\">“Implementing the <span style=\"color: #000080; text-decoration-color: #000080; font-weight: bold\">Supreme</span> <span style=\"color: #000080; text-decoration-color: #000080; font-weight: bold\">Court</span> decision” will be the subject of a talk by <span style=\"color: #800000; text-decoration-color: #800000; font-weight: bold\">William</span> <span style=\"color: #800000; text-decoration-color: #800000; font-weight: bold\">R.</span> <span style=\"color: #800000; text-decoration-color: #800000; font-weight: bold\">Ming,</span> \n",
       "<span style=\"color: #800000; text-decoration-color: #800000; font-weight: bold\">Jr.,</span> professor of law, at 8 p.m. Tuesday in <span style=\"color: #800000; text-decoration-color: #800000; font-weight: bold\">Hitchcock</span> lounge. The meeting is open to the \n",
       "public Professor <span style=\"color: #800000; text-decoration-color: #800000; font-weight: bold\">Ming</span> recently took part in the litigation of the segregation decision of the\n",
       "<span style=\"color: #000080; text-decoration-color: #000080; font-weight: bold\">Supreme</span> <span style=\"color: #000080; text-decoration-color: #000080; font-weight: bold\">Court.</span> All organizations: register by 'Nov. 3 All student groups seeking recognition \n",
       "as student organizations at <span style=\"color: #000080; text-decoration-color: #000080; font-weight: bold\">UC</span> must register in the <span style=\"color: #000080; text-decoration-color: #000080; font-weight: bold\">Student</span> <span style=\"color: #000080; text-decoration-color: #000080; font-weight: bold\">Activities</span> <span style=\"color: #000080; text-decoration-color: #000080; font-weight: bold\">Office</span> by Wednesday. \n",
       "All organizations not registered by that date will not be listed in the student directory. To\n",
       "secure recognition, an organization must complete the registration forms issued by the \n",
       "activities office and must have ten or more members who are students in good standing at the \n",
       "<span style=\"color: #000080; text-decoration-color: #000080; font-weight: bold\">University.</span> \n",
       "</pre>\n"
      ],
      "text/plain": [
       "“Implementing the \u001b[1;34mSupreme\u001b[0m \u001b[1;34mCourt\u001b[0m decision” will be the subject of a talk by \u001b[1;31mWilliam\u001b[0m \u001b[1;31mR.\u001b[0m \u001b[1;31mMing,\u001b[0m \n",
       "\u001b[1;31mJr.,\u001b[0m professor of law, at 8 p.m. Tuesday in \u001b[1;31mHitchcock\u001b[0m lounge. The meeting is open to the \n",
       "public Professor \u001b[1;31mMing\u001b[0m recently took part in the litigation of the segregation decision of the\n",
       "\u001b[1;34mSupreme\u001b[0m \u001b[1;34mCourt.\u001b[0m All organizations: register by 'Nov. 3 All student groups seeking recognition \n",
       "as student organizations at \u001b[1;34mUC\u001b[0m must register in the \u001b[1;34mStudent\u001b[0m \u001b[1;34mActivities\u001b[0m \u001b[1;34mOffice\u001b[0m by Wednesday. \n",
       "All organizations not registered by that date will not be listed in the student directory. To\n",
       "secure recognition, an organization must complete the registration forms issued by the \n",
       "activities office and must have ten or more members who are students in good standing at the \n",
       "\u001b[1;34mUniversity.\u001b[0m \n"
      ]
     },
     "metadata": {},
     "output_type": "display_data"
    },
    {
     "name": "stdout",
     "output_type": "stream",
     "text": [
      "Text 41\n"
     ]
    },
    {
     "data": {
      "text/html": [
       "<pre style=\"white-space:pre;overflow-x:auto;line-height:normal;font-family:Menlo,'DejaVu Sans Mono',consolas,'Courier New',monospace\"><span style=\"color: #008000; text-decoration-color: #008000; font-weight: bold\">Students'</span> Favorite LAUNDROMAT For the Fust Six Years 1. Efficient Laundromat Service 2. \n",
       "Shirts - Flat Work All Laundry Services 3. Lowest Prices in <span style=\"color: #000080; text-decoration-color: #000080; font-weight: bold\">Hyde</span> <span style=\"color: #000080; text-decoration-color: #000080; font-weight: bold\">Pork</span> Come In and See Our \n",
       "Newly Remodeled <span style=\"color: #008000; text-decoration-color: #008000; font-weight: bold\">Store</span> with the LATEST Equipment UNIVERSITY LAUNDROMAT 1376 <span style=\"color: #008000; text-decoration-color: #008000; font-weight: bold\">E.</span> <span style=\"color: #008000; text-decoration-color: #008000; font-weight: bold\">55th</span> <span style=\"color: #008000; text-decoration-color: #008000; font-weight: bold\">St.</span> PL \n",
       "2-9097 Page 4 THE CHICAGO MAROON % October 29, 1954 Issued once weekly by the publisher. <span style=\"color: #000080; text-decoration-color: #000080; font-weight: bold\">The</span> \n",
       "<span style=\"color: #000080; text-decoration-color: #000080; font-weight: bold\">Chicago</span> <span style=\"color: #000080; text-decoration-color: #000080; font-weight: bold\">Maroon,</span> at the publication office, 5706 <span style=\"color: #008000; text-decoration-color: #008000; font-weight: bold\">South</span> <span style=\"color: #008000; text-decoration-color: #008000; font-weight: bold\">University</span> <span style=\"color: #008000; text-decoration-color: #008000; font-weight: bold\">Avenue,</span> <span style=\"color: #000080; text-decoration-color: #000080; font-weight: bold\">Chicago</span> 37, \n",
       "<span style=\"color: #008000; text-decoration-color: #008000; font-weight: bold\">Illinois.</span> Telephones: Editorial Office, <span style=\"color: #008000; text-decoration-color: #008000; font-weight: bold\">Midway</span> 3-0800, <span style=\"color: #008000; text-decoration-color: #008000; font-weight: bold\">Ext.</span> 1010; Business and Advertising \n",
       "Offices, <span style=\"color: #008000; text-decoration-color: #008000; font-weight: bold\">Midway</span> 3-0800, <span style=\"color: #008000; text-decoration-color: #008000; font-weight: bold\">Ext.</span> 1009. Distributed free of charge, and subscriptions by mail, $3 \n",
       "per year. Business Office hours: 1 to 5 p.m., Monday through Friday. <span style=\"color: #800000; text-decoration-color: #800000; font-weight: bold\">Allen</span> <span style=\"color: #800000; text-decoration-color: #800000; font-weight: bold\">R.</span> <span style=\"color: #800000; text-decoration-color: #800000; font-weight: bold\">Janger</span> \n",
       "editor-in-chief \n",
       "</pre>\n"
      ],
      "text/plain": [
       "\u001b[1;32mStudents'\u001b[0m Favorite LAUNDROMAT For the Fust Six Years 1. Efficient Laundromat Service 2. \n",
       "Shirts - Flat Work All Laundry Services 3. Lowest Prices in \u001b[1;34mHyde\u001b[0m \u001b[1;34mPork\u001b[0m Come In and See Our \n",
       "Newly Remodeled \u001b[1;32mStore\u001b[0m with the LATEST Equipment UNIVERSITY LAUNDROMAT 1376 \u001b[1;32mE.\u001b[0m \u001b[1;32m55th\u001b[0m \u001b[1;32mSt.\u001b[0m PL \n",
       "2-9097 Page 4 THE CHICAGO MAROON % October 29, 1954 Issued once weekly by the publisher. \u001b[1;34mThe\u001b[0m \n",
       "\u001b[1;34mChicago\u001b[0m \u001b[1;34mMaroon,\u001b[0m at the publication office, 5706 \u001b[1;32mSouth\u001b[0m \u001b[1;32mUniversity\u001b[0m \u001b[1;32mAvenue,\u001b[0m \u001b[1;34mChicago\u001b[0m 37, \n",
       "\u001b[1;32mIllinois.\u001b[0m Telephones: Editorial Office, \u001b[1;32mMidway\u001b[0m 3-0800, \u001b[1;32mExt.\u001b[0m 1010; Business and Advertising \n",
       "Offices, \u001b[1;32mMidway\u001b[0m 3-0800, \u001b[1;32mExt.\u001b[0m 1009. Distributed free of charge, and subscriptions by mail, $3 \n",
       "per year. Business Office hours: 1 to 5 p.m., Monday through Friday. \u001b[1;31mAllen\u001b[0m \u001b[1;31mR.\u001b[0m \u001b[1;31mJanger\u001b[0m \n",
       "editor-in-chief \n"
      ]
     },
     "metadata": {},
     "output_type": "display_data"
    },
    {
     "name": "stdout",
     "output_type": "stream",
     "text": [
      "Text 42\n"
     ]
    },
    {
     "data": {
      "text/html": [
       "<pre style=\"white-space:pre;overflow-x:auto;line-height:normal;font-family:Menlo,'DejaVu Sans Mono',consolas,'Courier New',monospace\"><span style=\"color: #800000; text-decoration-color: #800000; font-weight: bold\">Richard</span> <span style=\"color: #800000; text-decoration-color: #800000; font-weight: bold\">E.</span> <span style=\"color: #800000; text-decoration-color: #800000; font-weight: bold\">Ward</span> managing editor Editorial <span style=\"color: #000080; text-decoration-color: #000080; font-weight: bold\">MAROON</span> prints all news For quite a while now it has\n",
       "become less fashionable to revile the Maroon for faults which range from a mere vicious \n",
       "slanting of one story to hatching of vast conspiracies designed to subvert the government \n",
       "(SG, of course). <span style=\"color: #000080; text-decoration-color: #000080; font-weight: bold\">So</span> we are sorry to note that once again we have to defend ourselves for \n",
       "doing something which it is our duty and our stated purpose to do: provide an unbiased \n",
       "coverage for all the news in an unbiased fashion, no matter how much the content or what we \n",
       "write might please or displease us. \n",
       "</pre>\n"
      ],
      "text/plain": [
       "\u001b[1;31mRichard\u001b[0m \u001b[1;31mE.\u001b[0m \u001b[1;31mWard\u001b[0m managing editor Editorial \u001b[1;34mMAROON\u001b[0m prints all news For quite a while now it has\n",
       "become less fashionable to revile the Maroon for faults which range from a mere vicious \n",
       "slanting of one story to hatching of vast conspiracies designed to subvert the government \n",
       "(SG, of course). \u001b[1;34mSo\u001b[0m we are sorry to note that once again we have to defend ourselves for \n",
       "doing something which it is our duty and our stated purpose to do: provide an unbiased \n",
       "coverage for all the news in an unbiased fashion, no matter how much the content or what we \n",
       "write might please or displease us. \n"
      ]
     },
     "metadata": {},
     "output_type": "display_data"
    },
    {
     "name": "stdout",
     "output_type": "stream",
     "text": [
      "Text 43\n"
     ]
    },
    {
     "data": {
      "text/html": [
       "<pre style=\"white-space:pre;overflow-x:auto;line-height:normal;font-family:Menlo,'DejaVu Sans Mono',consolas,'Courier New',monospace\">We refer here to the story about Senator <span style=\"color: #800000; text-decoration-color: #800000; font-weight: bold\">Paul</span> <span style=\"color: #800000; text-decoration-color: #800000; font-weight: bold\">H.</span> <span style=\"color: #800000; text-decoration-color: #800000; font-weight: bold\">Douglas</span> which appeared in the last issue of \n",
       "our paper. We are told that this story is detrimental to the cause of the senator’s \n",
       "re-election. We might remind our critics that the <span style=\"color: #000080; text-decoration-color: #000080; font-weight: bold\">Maroon</span> has not declared itself either for \n",
       "or against <span style=\"color: #800000; text-decoration-color: #800000; font-weight: bold\">Douglas,</span> that even if we were supporting the senator editorially, the practice of \n",
       "printing or suppressing news in line with orfe’s editorial policy i§ more suited to certain \n",
       "<span style=\"color: #008000; text-decoration-color: #008000; font-weight: bold\">Chicago</span> metropolitan papers than to ourselves. If the facts printed in the story are the \n",
       "truth, then it is the actions of the persons involved that do, or do not, reflect upon the \n",
       "various personalities. \n",
       "</pre>\n"
      ],
      "text/plain": [
       "We refer here to the story about Senator \u001b[1;31mPaul\u001b[0m \u001b[1;31mH.\u001b[0m \u001b[1;31mDouglas\u001b[0m which appeared in the last issue of \n",
       "our paper. We are told that this story is detrimental to the cause of the senator’s \n",
       "re-election. We might remind our critics that the \u001b[1;34mMaroon\u001b[0m has not declared itself either for \n",
       "or against \u001b[1;31mDouglas,\u001b[0m that even if we were supporting the senator editorially, the practice of \n",
       "printing or suppressing news in line with orfe’s editorial policy i§ more suited to certain \n",
       "\u001b[1;32mChicago\u001b[0m metropolitan papers than to ourselves. If the facts printed in the story are the \n",
       "truth, then it is the actions of the persons involved that do, or do not, reflect upon the \n",
       "various personalities. \n"
      ]
     },
     "metadata": {},
     "output_type": "display_data"
    },
    {
     "name": "stdout",
     "output_type": "stream",
     "text": [
      "Text 44\n"
     ]
    },
    {
     "data": {
      "text/html": [
       "<pre style=\"white-space:pre;overflow-x:auto;line-height:normal;font-family:Menlo,'DejaVu Sans Mono',consolas,'Courier New',monospace\">We still propose to print all the news which we believe to be <span style=\"color: #000080; text-decoration-color: #000080; font-weight: bold\">of</span> interest to the student \n",
       "body. If this means stepping on the toes <span style=\"color: #000080; text-decoration-color: #000080; font-weight: bold\">of</span> particular interests, then we can only hope that \n",
       "the bones involved are sound enough to stand it. from the Democratic and Republican parties. \n",
       "In many cases, candidates and their friends put tremendous pressures on members <span style=\"color: #000080; text-decoration-color: #000080; font-weight: bold\">of</span> our <span style=\"color: #000080; text-decoration-color: #000080; font-weight: bold\">Board</span> \n",
       "<span style=\"color: #000080; text-decoration-color: #000080; font-weight: bold\">of</span> Directors in an attempt to Influence them. (You can be sure such pressures had no effect.)\n",
       "Never has the <span style=\"color: #000080; text-decoration-color: #000080; font-weight: bold\">IVI</span> endorsement been so eagerly sought as this year. Many candidates told us \n",
       "frankly that if the usual close county vote prevails the <span style=\"color: #000080; text-decoration-color: #000080; font-weight: bold\">IVI</span> endorsement will determine the \n",
       "outcome <span style=\"color: #000080; text-decoration-color: #000080; font-weight: bold\">of</span> several county races. \n",
       "</pre>\n"
      ],
      "text/plain": [
       "We still propose to print all the news which we believe to be \u001b[1;34mof\u001b[0m interest to the student \n",
       "body. If this means stepping on the toes \u001b[1;34mof\u001b[0m particular interests, then we can only hope that \n",
       "the bones involved are sound enough to stand it. from the Democratic and Republican parties. \n",
       "In many cases, candidates and their friends put tremendous pressures on members \u001b[1;34mof\u001b[0m our \u001b[1;34mBoard\u001b[0m \n",
       "\u001b[1;34mof\u001b[0m Directors in an attempt to Influence them. (You can be sure such pressures had no effect.)\n",
       "Never has the \u001b[1;34mIVI\u001b[0m endorsement been so eagerly sought as this year. Many candidates told us \n",
       "frankly that if the usual close county vote prevails the \u001b[1;34mIVI\u001b[0m endorsement will determine the \n",
       "outcome \u001b[1;34mof\u001b[0m several county races. \n"
      ]
     },
     "metadata": {},
     "output_type": "display_data"
    },
    {
     "name": "stdout",
     "output_type": "stream",
     "text": [
      "Text 45\n"
     ]
    },
    {
     "data": {
      "text/html": [
       "<pre style=\"white-space:pre;overflow-x:auto;line-height:normal;font-family:Menlo,'DejaVu Sans Mono',consolas,'Courier New',monospace\">Not only did <span style=\"color: #800000; text-decoration-color: #800000; font-weight: bold\">Joseph</span> <span style=\"color: #800000; text-decoration-color: #800000; font-weight: bold\">Meek</span> and Senator <span style=\"color: #800000; text-decoration-color: #800000; font-weight: bold\">Douglas</span> eagerly seek the <span style=\"color: #000080; text-decoration-color: #000080; font-weight: bold\">IVI</span> endorsement, but Senator \n",
       "<span style=\"color: #800000; text-decoration-color: #800000; font-weight: bold\">Douglas</span> has given full cooperation to our various district campaign committees. He has gone \n",
       "out of his way to appear at some of our public meetings. (Last February he flew from \n",
       "<span style=\"color: #008000; text-decoration-color: #008000; font-weight: bold\">Washington</span> to appear with <span style=\"color: #800000; text-decoration-color: #800000; font-weight: bold\">Adlai</span> <span style=\"color: #800000; text-decoration-color: #800000; font-weight: bold\">Stevenson</span> and <span style=\"color: #800000; text-decoration-color: #800000; font-weight: bold\">Arch</span> <span style=\"color: #800000; text-decoration-color: #800000; font-weight: bold\">Carey</span> at our 10th anniversary celebration.\n",
       "And our members have enthusiastically supported Senator <span style=\"color: #800000; text-decoration-color: #800000; font-weight: bold\">Douglas</span> because^ of his intelligence \n",
       "and devotion, because of his great fights on off-shore oil, his selfless attempts to wake up \n",
       "Americans to the need for economic planning to avert depression, and his strong support of \n",
       "the <span style=\"color: #000080; text-decoration-color: #000080; font-weight: bold\">UN</span> and economic aid to underdeveloped areas. It is a great record. \n",
       "</pre>\n"
      ],
      "text/plain": [
       "Not only did \u001b[1;31mJoseph\u001b[0m \u001b[1;31mMeek\u001b[0m and Senator \u001b[1;31mDouglas\u001b[0m eagerly seek the \u001b[1;34mIVI\u001b[0m endorsement, but Senator \n",
       "\u001b[1;31mDouglas\u001b[0m has given full cooperation to our various district campaign committees. He has gone \n",
       "out of his way to appear at some of our public meetings. (Last February he flew from \n",
       "\u001b[1;32mWashington\u001b[0m to appear with \u001b[1;31mAdlai\u001b[0m \u001b[1;31mStevenson\u001b[0m and \u001b[1;31mArch\u001b[0m \u001b[1;31mCarey\u001b[0m at our 10th anniversary celebration.\n",
       "And our members have enthusiastically supported Senator \u001b[1;31mDouglas\u001b[0m because^ of his intelligence \n",
       "and devotion, because of his great fights on off-shore oil, his selfless attempts to wake up \n",
       "Americans to the need for economic planning to avert depression, and his strong support of \n",
       "the \u001b[1;34mUN\u001b[0m and economic aid to underdeveloped areas. It is a great record. \n"
      ]
     },
     "metadata": {},
     "output_type": "display_data"
    },
    {
     "name": "stdout",
     "output_type": "stream",
     "text": [
      "Text 46\n"
     ]
    },
    {
     "data": {
      "text/html": [
       "<pre style=\"white-space:pre;overflow-x:auto;line-height:normal;font-family:Menlo,'DejaVu Sans Mono',consolas,'Courier New',monospace\">We hope that students, faculty and all others associated with your great university will go \n",
       "on giving support to <span style=\"color: #008000; text-decoration-color: #008000; font-weight: bold\">America’s</span> Number One Senator, just as they have in the past. <span style=\"color: #800000; text-decoration-color: #800000; font-weight: bold\">Leon</span> <span style=\"color: #800000; text-decoration-color: #800000; font-weight: bold\">M.</span> \n",
       "<span style=\"color: #800000; text-decoration-color: #800000; font-weight: bold\">Despres,</span> Choirman <span style=\"color: #800000; text-decoration-color: #800000; font-weight: bold\">James</span> <span style=\"color: #800000; text-decoration-color: #800000; font-weight: bold\">V.</span> <span style=\"color: #800000; text-decoration-color: #800000; font-weight: bold\">Cunningham.</span> <span style=\"color: #800000; text-decoration-color: #800000; font-weight: bold\">Jr.</span> Executive Director I.V.I. agreed to fly in from \n",
       "<span style=\"color: #008000; text-decoration-color: #008000; font-weight: bold\">Detroit</span> for the occasion and speak for the candidates. Mr. <span style=\"color: #800000; text-decoration-color: #800000; font-weight: bold\">Cass</span> initiated arrangements for \n",
       "procuring the <span style=\"color: #008000; text-decoration-color: #008000; font-weight: bold\">Field</span> <span style=\"color: #008000; text-decoration-color: #008000; font-weight: bold\">House,</span> and had received the consent of the proper administration \n",
       "personnel. \n",
       "</pre>\n"
      ],
      "text/plain": [
       "We hope that students, faculty and all others associated with your great university will go \n",
       "on giving support to \u001b[1;32mAmerica’s\u001b[0m Number One Senator, just as they have in the past. \u001b[1;31mLeon\u001b[0m \u001b[1;31mM.\u001b[0m \n",
       "\u001b[1;31mDespres,\u001b[0m Choirman \u001b[1;31mJames\u001b[0m \u001b[1;31mV.\u001b[0m \u001b[1;31mCunningham.\u001b[0m \u001b[1;31mJr.\u001b[0m Executive Director I.V.I. agreed to fly in from \n",
       "\u001b[1;32mDetroit\u001b[0m for the occasion and speak for the candidates. Mr. \u001b[1;31mCass\u001b[0m initiated arrangements for \n",
       "procuring the \u001b[1;32mField\u001b[0m \u001b[1;32mHouse,\u001b[0m and had received the consent of the proper administration \n",
       "personnel. \n"
      ]
     },
     "metadata": {},
     "output_type": "display_data"
    },
    {
     "name": "stdout",
     "output_type": "stream",
     "text": [
      "Text 47\n"
     ]
    },
    {
     "data": {
      "text/html": [
       "<pre style=\"white-space:pre;overflow-x:auto;line-height:normal;font-family:Menlo,'DejaVu Sans Mono',consolas,'Courier New',monospace\">Before submitting a story on the meeting to the <span style=\"color: #000080; text-decoration-color: #000080; font-weight: bold\">MAROON,</span> on Wednesday, Oct. 13, I again \n",
       "checked with Miss <span style=\"color: #800000; text-decoration-color: #800000; font-weight: bold\">Malone</span> at the <span style=\"color: #000080; text-decoration-color: #000080; font-weight: bold\">Democratic</span> <span style=\"color: #000080; text-decoration-color: #000080; font-weight: bold\">Party.</span> She assured me that all publicity could be \n",
       "issued. That evening Mr. <span style=\"color: #800000; text-decoration-color: #800000; font-weight: bold\">Anderson</span> got in touch with me. He Informed me that the <span style=\"color: #000080; text-decoration-color: #000080; font-weight: bold\">Democratic</span> \n",
       "<span style=\"color: #000080; text-decoration-color: #000080; font-weight: bold\">Party</span> officials had made an honest and innocent mistake in scheduling <span style=\"color: #800000; text-decoration-color: #800000; font-weight: bold\">Douglas</span> for our \n",
       "proposed gathering. The <span style=\"color: #000080; text-decoration-color: #000080; font-weight: bold\">Democratic</span> <span style=\"color: #000080; text-decoration-color: #000080; font-weight: bold\">Party,</span> he explained, has priority over all other \n",
       "appointments, but this priority can only be utilized for Its ward meetings, and could not be \n",
       "extended to other groups such as ours. Mr. <span style=\"color: #800000; text-decoration-color: #800000; font-weight: bold\">Anderson</span> then made those statements which have \n",
       "formed the basis of controversy on last Friday’s article. \n",
       "</pre>\n"
      ],
      "text/plain": [
       "Before submitting a story on the meeting to the \u001b[1;34mMAROON,\u001b[0m on Wednesday, Oct. 13, I again \n",
       "checked with Miss \u001b[1;31mMalone\u001b[0m at the \u001b[1;34mDemocratic\u001b[0m \u001b[1;34mParty.\u001b[0m She assured me that all publicity could be \n",
       "issued. That evening Mr. \u001b[1;31mAnderson\u001b[0m got in touch with me. He Informed me that the \u001b[1;34mDemocratic\u001b[0m \n",
       "\u001b[1;34mParty\u001b[0m officials had made an honest and innocent mistake in scheduling \u001b[1;31mDouglas\u001b[0m for our \n",
       "proposed gathering. The \u001b[1;34mDemocratic\u001b[0m \u001b[1;34mParty,\u001b[0m he explained, has priority over all other \n",
       "appointments, but this priority can only be utilized for Its ward meetings, and could not be \n",
       "extended to other groups such as ours. Mr. \u001b[1;31mAnderson\u001b[0m then made those statements which have \n",
       "formed the basis of controversy on last Friday’s article. \n"
      ]
     },
     "metadata": {},
     "output_type": "display_data"
    },
    {
     "name": "stdout",
     "output_type": "stream",
     "text": [
      "Text 48\n"
     ]
    },
    {
     "data": {
      "text/html": [
       "<pre style=\"white-space:pre;overflow-x:auto;line-height:normal;font-family:Menlo,'DejaVu Sans Mono',consolas,'Courier New',monospace\">I cancelled the <span style=\"color: #000080; text-decoration-color: #000080; font-weight: bold\">MAROON</span> story which announced our proposed Mass Meeting, and, in so doing, \n",
       "urged the editors of the <span style=\"color: #000080; text-decoration-color: #000080; font-weight: bold\">MAROON</span> to pursue the matter no further. Nothing appeared that week. \n",
       "The following week, I was Interviewed for the story. By then, rumors and reporters had it \n",
       "that the remarks derogatory to <span style=\"color: #000080; text-decoration-color: #000080; font-weight: bold\">UC</span> and to <span style=\"color: #000080; text-decoration-color: #000080; font-weight: bold\">IVI</span> were the Senator’s and not those of his \n",
       "assistant. I urged the <span style=\"color: #000080; text-decoration-color: #000080; font-weight: bold\">MAROON</span> to make It clear that there was no reason to believe that the \n",
       "stated positions were those of Mr. <span style=\"color: #800000; text-decoration-color: #800000; font-weight: bold\">Douglas.</span> There is still no evidence of the Senator’s \n",
       "holding such beliefs on the matter, and his welcoming of <span style=\"color: #000080; text-decoration-color: #000080; font-weight: bold\">IVI</span> support in the precincts and in \n",
       "his remarks at meetings would tend to indicate a difference of opinion. \n",
       "</pre>\n"
      ],
      "text/plain": [
       "I cancelled the \u001b[1;34mMAROON\u001b[0m story which announced our proposed Mass Meeting, and, in so doing, \n",
       "urged the editors of the \u001b[1;34mMAROON\u001b[0m to pursue the matter no further. Nothing appeared that week. \n",
       "The following week, I was Interviewed for the story. By then, rumors and reporters had it \n",
       "that the remarks derogatory to \u001b[1;34mUC\u001b[0m and to \u001b[1;34mIVI\u001b[0m were the Senator’s and not those of his \n",
       "assistant. I urged the \u001b[1;34mMAROON\u001b[0m to make It clear that there was no reason to believe that the \n",
       "stated positions were those of Mr. \u001b[1;31mDouglas.\u001b[0m There is still no evidence of the Senator’s \n",
       "holding such beliefs on the matter, and his welcoming of \u001b[1;34mIVI\u001b[0m support in the precincts and in \n",
       "his remarks at meetings would tend to indicate a difference of opinion. \n"
      ]
     },
     "metadata": {},
     "output_type": "display_data"
    },
    {
     "name": "stdout",
     "output_type": "stream",
     "text": [
      "Text 49\n"
     ]
    },
    {
     "data": {
      "text/html": [
       "<pre style=\"white-space:pre;overflow-x:auto;line-height:normal;font-family:Menlo,'DejaVu Sans Mono',consolas,'Courier New',monospace\">Mr. <span style=\"color: #800000; text-decoration-color: #800000; font-weight: bold\">Anderson</span> has subsequently issued Identical remarks to a women connected with the <span style=\"color: #000080; text-decoration-color: #000080; font-weight: bold\">IVI</span> on \n",
       "the <span style=\"color: #008000; text-decoration-color: #008000; font-weight: bold\">North</span> <span style=\"color: #008000; text-decoration-color: #008000; font-weight: bold\">Side.</span> This woman reported the comments to the Political Action Personnel of the <span style=\"color: #000080; text-decoration-color: #000080; font-weight: bold\">IVI</span>\n",
       "<span style=\"color: #000080; text-decoration-color: #000080; font-weight: bold\">IVI</span> has had the good sense to discuss this problem of a highly paced advisor rejecting the \n",
       "support of liberals rather than denouncing those who report such discouraging remarks. <span style=\"color: #800000; text-decoration-color: #800000; font-weight: bold\">Ralph</span> \n",
       "<span style=\"color: #800000; text-decoration-color: #800000; font-weight: bold\">D.</span> <span style=\"color: #800000; text-decoration-color: #800000; font-weight: bold\">Fertig</span> “Wave You Heard” THE PIZZA KID is on 63rd <span style=\"color: #800000; text-decoration-color: #800000; font-weight: bold\">Featuring</span> Pizza at its Finest Bar-B-Q \n",
       "Back Ribs - Chicken Spaghetti - Ravioli • Mustaccoli Italian Sausage or Beef Sandwiches \n",
       "Kosher Corned Beef Daily: 11 a.m. to 1 a.m. Sunday: 4 p.m. to 1 a.m. “We Deliver” <span style=\"color: #800000; text-decoration-color: #800000; font-weight: bold\">DO</span> 3-9777 \n",
       "1125 E. 63rd E B Letters <span style=\"color: #000080; text-decoration-color: #000080; font-weight: bold\">SFD</span> protests article \n",
       "</pre>\n"
      ],
      "text/plain": [
       "Mr. \u001b[1;31mAnderson\u001b[0m has subsequently issued Identical remarks to a women connected with the \u001b[1;34mIVI\u001b[0m on \n",
       "the \u001b[1;32mNorth\u001b[0m \u001b[1;32mSide.\u001b[0m This woman reported the comments to the Political Action Personnel of the \u001b[1;34mIVI\u001b[0m\n",
       "\u001b[1;34mIVI\u001b[0m has had the good sense to discuss this problem of a highly paced advisor rejecting the \n",
       "support of liberals rather than denouncing those who report such discouraging remarks. \u001b[1;31mRalph\u001b[0m \n",
       "\u001b[1;31mD.\u001b[0m \u001b[1;31mFertig\u001b[0m “Wave You Heard” THE PIZZA KID is on 63rd \u001b[1;31mFeaturing\u001b[0m Pizza at its Finest Bar-B-Q \n",
       "Back Ribs - Chicken Spaghetti - Ravioli • Mustaccoli Italian Sausage or Beef Sandwiches \n",
       "Kosher Corned Beef Daily: 11 a.m. to 1 a.m. Sunday: 4 p.m. to 1 a.m. “We Deliver” \u001b[1;31mDO\u001b[0m 3-9777 \n",
       "1125 E. 63rd E B Letters \u001b[1;34mSFD\u001b[0m protests article \n"
      ]
     },
     "metadata": {},
     "output_type": "display_data"
    },
    {
     "name": "stdout",
     "output_type": "stream",
     "text": [
      "Text 50\n"
     ]
    },
    {
     "data": {
      "text/html": [
       "<pre style=\"white-space:pre;overflow-x:auto;line-height:normal;font-family:Menlo,'DejaVu Sans Mono',consolas,'Courier New',monospace\">In last week’s issue of the <span style=\"color: #000080; text-decoration-color: #000080; font-weight: bold\">Maroon</span> there appeared an article entitled •'Douglas Cancels Rally\n",
       "Date.’’ The inaccuracies in the article were so flagrantly shocking that we. the Executive \n",
       "<span style=\"color: #000080; text-decoration-color: #000080; font-weight: bold\">Committee</span> of <span style=\"color: #000080; text-decoration-color: #000080; font-weight: bold\">Students</span> <span style=\"color: #000080; text-decoration-color: #000080; font-weight: bold\">for</span> <span style=\"color: #800000; text-decoration-color: #800000; font-weight: bold\">Douglas,</span> would like to set the record straight. First, the article \n",
       "states that a mass rally had been “scheduled on campus <span style=\"color: #000080; text-decoration-color: #000080; font-weight: bold\">for</span> Monday evening, October 18,” at \n",
       "which Senator <span style=\"color: #800000; text-decoration-color: #800000; font-weight: bold\">Douglas</span> and other notables were to appear. No such meeting had ever been \n",
       "screduled by <span style=\"color: #000080; text-decoration-color: #000080; font-weight: bold\">Students</span> <span style=\"color: #000080; text-decoration-color: #000080; font-weight: bold\">for</span> <span style=\"color: #800000; text-decoration-color: #800000; font-weight: bold\">Douglas.</span> The Mr. <span style=\"color: #800000; text-decoration-color: #800000; font-weight: bold\">Fertig</span> that you mentioned is not and never has \n",
       "been a member of our organization. \n",
       "</pre>\n"
      ],
      "text/plain": [
       "In last week’s issue of the \u001b[1;34mMaroon\u001b[0m there appeared an article entitled •'Douglas Cancels Rally\n",
       "Date.’’ The inaccuracies in the article were so flagrantly shocking that we. the Executive \n",
       "\u001b[1;34mCommittee\u001b[0m of \u001b[1;34mStudents\u001b[0m \u001b[1;34mfor\u001b[0m \u001b[1;31mDouglas,\u001b[0m would like to set the record straight. First, the article \n",
       "states that a mass rally had been “scheduled on campus \u001b[1;34mfor\u001b[0m Monday evening, October 18,” at \n",
       "which Senator \u001b[1;31mDouglas\u001b[0m and other notables were to appear. No such meeting had ever been \n",
       "screduled by \u001b[1;34mStudents\u001b[0m \u001b[1;34mfor\u001b[0m \u001b[1;31mDouglas.\u001b[0m The Mr. \u001b[1;31mFertig\u001b[0m that you mentioned is not and never has \n",
       "been a member of our organization. \n"
      ]
     },
     "metadata": {},
     "output_type": "display_data"
    },
    {
     "name": "stdout",
     "output_type": "stream",
     "text": [
      "Text 51\n"
     ]
    },
    {
     "data": {
      "text/html": [
       "<pre style=\"white-space:pre;overflow-x:auto;line-height:normal;font-family:Menlo,'DejaVu Sans Mono',consolas,'Courier New',monospace\">The article went on to say that “the director of the <span style=\"color: #000080; text-decoration-color: #000080; font-weight: bold\">Speakers</span> <span style=\"color: #000080; text-decoration-color: #000080; font-weight: bold\">Bureau</span> of the <span style=\"color: #000080; text-decoration-color: #000080; font-weight: bold\">Democratic</span> <span style=\"color: #000080; text-decoration-color: #000080; font-weight: bold\">Party</span> \n",
       "in <span style=\"color: #008000; text-decoration-color: #008000; font-weight: bold\">Cook</span> <span style=\"color: #008000; text-decoration-color: #008000; font-weight: bold\">County</span> had told members of the <span style=\"color: #000080; text-decoration-color: #000080; font-weight: bold\">Students</span> <span style=\"color: #000080; text-decoration-color: #000080; font-weight: bold\">for</span> <span style=\"color: #000080; text-decoration-color: #000080; font-weight: bold\">Douglas</span> organization on campus to go \n",
       "ahead with publicity on <span style=\"color: #000080; text-decoration-color: #000080; font-weight: bold\">Douglas’</span> appearance.” No member of <span style=\"color: #000080; text-decoration-color: #000080; font-weight: bold\">Students</span> <span style=\"color: #000080; text-decoration-color: #000080; font-weight: bold\">for</span> <span style=\"color: #000080; text-decoration-color: #000080; font-weight: bold\">Douglas</span> ever spoke \n",
       "with the <span style=\"color: #000080; text-decoration-color: #000080; font-weight: bold\">Speakers</span> <span style=\"color: #000080; text-decoration-color: #000080; font-weight: bold\">Bureau.</span> We have had no contact with them, whatsoever. The article called \n",
       "Mr. <span style=\"color: #000080; text-decoration-color: #000080; font-weight: bold\">Douglas</span> <span style=\"color: #800000; text-decoration-color: #800000; font-weight: bold\">Anderson</span> the “administrative assistant to <span style=\"color: #000080; text-decoration-color: #000080; font-weight: bold\">Douglas.”</span> Mr. <span style=\"color: #800000; text-decoration-color: #800000; font-weight: bold\">Anderson</span> does not and \n",
       "never has held this position. Mr. <span style=\"color: #800000; text-decoration-color: #800000; font-weight: bold\">Anderson</span> is the <span style=\"color: #008000; text-decoration-color: #008000; font-weight: bold\">Illinois</span> representative of the Senator. \n",
       "</pre>\n"
      ],
      "text/plain": [
       "The article went on to say that “the director of the \u001b[1;34mSpeakers\u001b[0m \u001b[1;34mBureau\u001b[0m of the \u001b[1;34mDemocratic\u001b[0m \u001b[1;34mParty\u001b[0m \n",
       "in \u001b[1;32mCook\u001b[0m \u001b[1;32mCounty\u001b[0m had told members of the \u001b[1;34mStudents\u001b[0m \u001b[1;34mfor\u001b[0m \u001b[1;34mDouglas\u001b[0m organization on campus to go \n",
       "ahead with publicity on \u001b[1;34mDouglas’\u001b[0m appearance.” No member of \u001b[1;34mStudents\u001b[0m \u001b[1;34mfor\u001b[0m \u001b[1;34mDouglas\u001b[0m ever spoke \n",
       "with the \u001b[1;34mSpeakers\u001b[0m \u001b[1;34mBureau.\u001b[0m We have had no contact with them, whatsoever. The article called \n",
       "Mr. \u001b[1;34mDouglas\u001b[0m \u001b[1;31mAnderson\u001b[0m the “administrative assistant to \u001b[1;34mDouglas.”\u001b[0m Mr. \u001b[1;31mAnderson\u001b[0m does not and \n",
       "never has held this position. Mr. \u001b[1;31mAnderson\u001b[0m is the \u001b[1;32mIllinois\u001b[0m representative of the Senator. \n"
      ]
     },
     "metadata": {},
     "output_type": "display_data"
    },
    {
     "name": "stdout",
     "output_type": "stream",
     "text": [
      "Text 52\n"
     ]
    },
    {
     "data": {
      "text/html": [
       "<pre style=\"white-space:pre;overflow-x:auto;line-height:normal;font-family:Menlo,'DejaVu Sans Mono',consolas,'Courier New',monospace\">The article attributed to Mr. <span style=\"color: #800000; text-decoration-color: #800000; font-weight: bold\">Anderson,</span> the statement “Campaigning at the <span style=\"color: #000080; text-decoration-color: #000080; font-weight: bold\">University</span> <span style=\"color: #000080; text-decoration-color: #000080; font-weight: bold\">of</span> \n",
       "<span style=\"color: #000080; text-decoration-color: #000080; font-weight: bold\">Chicago</span> is the kiss <span style=\"color: #000080; text-decoration-color: #000080; font-weight: bold\">of</span> death” and further stated that “he expressed the wish that people at \n",
       "the <span style=\"color: #000080; text-decoration-color: #000080; font-weight: bold\">University</span> and the <span style=\"color: #000080; text-decoration-color: #000080; font-weight: bold\">Independent</span> Voters <span style=\"color: #000080; text-decoration-color: #000080; font-weight: bold\">of</span> <span style=\"color: #000080; text-decoration-color: #000080; font-weight: bold\">Illinois,</span> would not endorse <span style=\"color: #800000; text-decoration-color: #800000; font-weight: bold\">Douglas,”</span> allegedly \n",
       "because the Senator wished to disassociate himself from their “.radical political elements.” \n",
       "</pre>\n"
      ],
      "text/plain": [
       "The article attributed to Mr. \u001b[1;31mAnderson,\u001b[0m the statement “Campaigning at the \u001b[1;34mUniversity\u001b[0m \u001b[1;34mof\u001b[0m \n",
       "\u001b[1;34mChicago\u001b[0m is the kiss \u001b[1;34mof\u001b[0m death” and further stated that “he expressed the wish that people at \n",
       "the \u001b[1;34mUniversity\u001b[0m and the \u001b[1;34mIndependent\u001b[0m Voters \u001b[1;34mof\u001b[0m \u001b[1;34mIllinois,\u001b[0m would not endorse \u001b[1;31mDouglas,”\u001b[0m allegedly \n",
       "because the Senator wished to disassociate himself from their “.radical political elements.” \n"
      ]
     },
     "metadata": {},
     "output_type": "display_data"
    },
    {
     "name": "stdout",
     "output_type": "stream",
     "text": [
      "Text 53\n"
     ]
    },
    {
     "data": {
      "text/html": [
       "<pre style=\"white-space:pre;overflow-x:auto;line-height:normal;font-family:Menlo,'DejaVu Sans Mono',consolas,'Courier New',monospace\">Mr. <span style=\"color: #800000; text-decoration-color: #800000; font-weight: bold\">Andrson</span> has assured us that he has never made such a statement to any person, and that \n",
       "they are not his views. We can assure you that he has never made such a statement to <span style=\"color: #000080; text-decoration-color: #000080; font-weight: bold\">Students</span>\n",
       "<span style=\"color: #000080; text-decoration-color: #000080; font-weight: bold\">for</span> <span style=\"color: #000080; text-decoration-color: #000080; font-weight: bold\">Douglas.</span> Anyone who knows the Senator and is familiar with his record knows that they are\n",
       "not the views of Senator <span style=\"color: #000080; text-decoration-color: #000080; font-weight: bold\">Douglas.</span> All one need do is pick up a phone and call Mr. <span style=\"color: #800000; text-decoration-color: #800000; font-weight: bold\">Anderson</span> \n",
       "(as we did upon seeing the article), to confirm this. Senator <span style=\"color: #000080; text-decoration-color: #000080; font-weight: bold\">Douglas</span> has spoken in this \n",
       "campaign before numerous <span style=\"color: #000080; text-decoration-color: #000080; font-weight: bold\">IVI</span> meetings and has the whole-hearted support of that organization.\n",
       "Only a week ago Tuesday he addressed an <span style=\"color: #000080; text-decoration-color: #000080; font-weight: bold\">IVI</span> meeting at their <span style=\"color: #008000; text-decoration-color: #008000; font-weight: bold\">Hyde</span> <span style=\"color: #008000; text-decoration-color: #008000; font-weight: bold\">Park</span> headquarters at 1412 \n",
       "<span style=\"color: #008000; text-decoration-color: #008000; font-weight: bold\">E.</span> <span style=\"color: #008000; text-decoration-color: #008000; font-weight: bold\">55th</span> <span style=\"color: #008000; text-decoration-color: #008000; font-weight: bold\">Street.</span> \n",
       "</pre>\n"
      ],
      "text/plain": [
       "Mr. \u001b[1;31mAndrson\u001b[0m has assured us that he has never made such a statement to any person, and that \n",
       "they are not his views. We can assure you that he has never made such a statement to \u001b[1;34mStudents\u001b[0m\n",
       "\u001b[1;34mfor\u001b[0m \u001b[1;34mDouglas.\u001b[0m Anyone who knows the Senator and is familiar with his record knows that they are\n",
       "not the views of Senator \u001b[1;34mDouglas.\u001b[0m All one need do is pick up a phone and call Mr. \u001b[1;31mAnderson\u001b[0m \n",
       "(as we did upon seeing the article), to confirm this. Senator \u001b[1;34mDouglas\u001b[0m has spoken in this \n",
       "campaign before numerous \u001b[1;34mIVI\u001b[0m meetings and has the whole-hearted support of that organization.\n",
       "Only a week ago Tuesday he addressed an \u001b[1;34mIVI\u001b[0m meeting at their \u001b[1;32mHyde\u001b[0m \u001b[1;32mPark\u001b[0m headquarters at 1412 \n",
       "\u001b[1;32mE.\u001b[0m \u001b[1;32m55th\u001b[0m \u001b[1;32mStreet.\u001b[0m \n"
      ]
     },
     "metadata": {},
     "output_type": "display_data"
    },
    {
     "name": "stdout",
     "output_type": "stream",
     "text": [
      "Text 54\n"
     ]
    },
    {
     "data": {
      "text/html": [
       "<pre style=\"white-space:pre;overflow-x:auto;line-height:normal;font-family:Menlo,'DejaVu Sans Mono',consolas,'Courier New',monospace\">The Senator has always been proud <span style=\"color: #000080; text-decoration-color: #000080; font-weight: bold\">of</span> his more than 26 year association with the <span style=\"color: #000080; text-decoration-color: #000080; font-weight: bold\">University</span> <span style=\"color: #000080; text-decoration-color: #000080; font-weight: bold\">of</span>\n",
       "<span style=\"color: #000080; text-decoration-color: #000080; font-weight: bold\">Chicago,</span> and has openly welcomed the support <span style=\"color: #000080; text-decoration-color: #000080; font-weight: bold\">of</span> its students and faculty, many <span style=\"color: #000080; text-decoration-color: #000080; font-weight: bold\">of</span> whom are \n",
       "now actively campaigning for his re-election. \n",
       "</pre>\n"
      ],
      "text/plain": [
       "The Senator has always been proud \u001b[1;34mof\u001b[0m his more than 26 year association with the \u001b[1;34mUniversity\u001b[0m \u001b[1;34mof\u001b[0m\n",
       "\u001b[1;34mChicago,\u001b[0m and has openly welcomed the support \u001b[1;34mof\u001b[0m its students and faculty, many \u001b[1;34mof\u001b[0m whom are \n",
       "now actively campaigning for his re-election. \n"
      ]
     },
     "metadata": {},
     "output_type": "display_data"
    },
    {
     "name": "stdout",
     "output_type": "stream",
     "text": [
      "Text 55\n"
     ]
    },
    {
     "data": {
      "text/html": [
       "<pre style=\"white-space:pre;overflow-x:auto;line-height:normal;font-family:Menlo,'DejaVu Sans Mono',consolas,'Courier New',monospace\">This past Monday a representative <span style=\"color: #008000; text-decoration-color: #008000; font-weight: bold\">of</span> <span style=\"color: #800000; text-decoration-color: #800000; font-weight: bold\">Douglas*</span> campaign headquarters appeared at a <span style=\"color: #000080; text-decoration-color: #000080; font-weight: bold\">Students</span> \n",
       "<span style=\"color: #000080; text-decoration-color: #000080; font-weight: bold\">for</span> <span style=\"color: #800000; text-decoration-color: #800000; font-weight: bold\">Douglas</span> meeting on campus to enlist the service <span style=\"color: #008000; text-decoration-color: #008000; font-weight: bold\">of</span> students as poll-watchers, etc. The \n",
       "Senator’s wife, Mrs. <span style=\"color: #800000; text-decoration-color: #800000; font-weight: bold\">Emily</span> <span style=\"color: #800000; text-decoration-color: #800000; font-weight: bold\">Taft</span> <span style=\"color: #800000; text-decoration-color: #800000; font-weight: bold\">Douglas,</span> <span style=\"color: #000080; text-decoration-color: #000080; font-weight: bold\">former</span> Congresswoman - at - large from <span style=\"color: #008000; text-decoration-color: #008000; font-weight: bold\">Illinois</span> \n",
       "spoke on campus this past Tuesday at another sponsored meeting. Pick up any one <span style=\"color: #008000; text-decoration-color: #008000; font-weight: bold\">of</span> the \n",
       "numerous campaign pamphlets put out by <span style=\"color: #800000; text-decoration-color: #800000; font-weight: bold\">Douglas’</span> campaign headquarters and you will discover \n",
       "what prominence the Senator’s long tenure at the <span style=\"color: #000080; text-decoration-color: #000080; font-weight: bold\">U.</span> <span style=\"color: #008000; text-decoration-color: #008000; font-weight: bold\">of</span> <span style=\"color: #008000; text-decoration-color: #008000; font-weight: bold\">C.</span> is given. Are these the ways one \n",
       "goes about “disassociating <span style=\"color: #800000; text-decoration-color: #800000; font-weight: bold\">Douglas”</span> name from the <span style=\"color: #000080; text-decoration-color: #000080; font-weight: bold\">University?</span> \n",
       "</pre>\n"
      ],
      "text/plain": [
       "This past Monday a representative \u001b[1;32mof\u001b[0m \u001b[1;31mDouglas*\u001b[0m campaign headquarters appeared at a \u001b[1;34mStudents\u001b[0m \n",
       "\u001b[1;34mfor\u001b[0m \u001b[1;31mDouglas\u001b[0m meeting on campus to enlist the service \u001b[1;32mof\u001b[0m students as poll-watchers, etc. The \n",
       "Senator’s wife, Mrs. \u001b[1;31mEmily\u001b[0m \u001b[1;31mTaft\u001b[0m \u001b[1;31mDouglas,\u001b[0m \u001b[1;34mformer\u001b[0m Congresswoman - at - large from \u001b[1;32mIllinois\u001b[0m \n",
       "spoke on campus this past Tuesday at another sponsored meeting. Pick up any one \u001b[1;32mof\u001b[0m the \n",
       "numerous campaign pamphlets put out by \u001b[1;31mDouglas’\u001b[0m campaign headquarters and you will discover \n",
       "what prominence the Senator’s long tenure at the \u001b[1;34mU.\u001b[0m \u001b[1;32mof\u001b[0m \u001b[1;32mC.\u001b[0m is given. Are these the ways one \n",
       "goes about “disassociating \u001b[1;31mDouglas”\u001b[0m name from the \u001b[1;34mUniversity?\u001b[0m \n"
      ]
     },
     "metadata": {},
     "output_type": "display_data"
    },
    {
     "name": "stdout",
     "output_type": "stream",
     "text": [
      "Text 56\n"
     ]
    },
    {
     "data": {
      "text/html": [
       "<pre style=\"white-space:pre;overflow-x:auto;line-height:normal;font-family:Menlo,'DejaVu Sans Mono',consolas,'Courier New',monospace\">Summing up: the entire article In last week’s <span style=\"color: #000080; text-decoration-color: #000080; font-weight: bold\">Maroon</span> was from beginning to end a long list of\n",
       "prevarications, some of which, <span style=\"color: #000080; text-decoration-color: #000080; font-weight: bold\">for</span> the sake of conserving space, we have even neglected to \n",
       "mention in this letter. The atricle was not submitted by <span style=\"color: #000080; text-decoration-color: #000080; font-weight: bold\">Students</span> <span style=\"color: #000080; text-decoration-color: #000080; font-weight: bold\">for</span> <span style=\"color: #000080; text-decoration-color: #000080; font-weight: bold\">Douglas,</span> or by any \n",
       "member thereof. <span style=\"color: #000080; text-decoration-color: #000080; font-weight: bold\">Students</span> <span style=\"color: #000080; text-decoration-color: #000080; font-weight: bold\">for</span> <span style=\"color: #000080; text-decoration-color: #000080; font-weight: bold\">Douglas</span> knew nothing about the article until the <span style=\"color: #000080; text-decoration-color: #000080; font-weight: bold\">Maroon</span> \n",
       "published it. We are at a loss to know why the name of our organization was mentioned in the \n",
       "article. It sounded as though inspired and written by a “Student <span style=\"color: #000080; text-decoration-color: #000080; font-weight: bold\">for</span> <span style=\"color: #000080; text-decoration-color: #000080; font-weight: bold\">Meek.”</span> * <span style=\"color: #800000; text-decoration-color: #800000; font-weight: bold\">Don</span> <span style=\"color: #800000; text-decoration-color: #800000; font-weight: bold\">Coss</span> <span style=\"color: #800000; text-decoration-color: #800000; font-weight: bold\">David</span> \n",
       "<span style=\"color: #800000; text-decoration-color: #800000; font-weight: bold\">A.</span> <span style=\"color: #800000; text-decoration-color: #800000; font-weight: bold\">Lone</span> <span style=\"color: #800000; text-decoration-color: #800000; font-weight: bold\">Richard</span> <span style=\"color: #800000; text-decoration-color: #800000; font-weight: bold\">Stevens</span> <span style=\"color: #000080; text-decoration-color: #000080; font-weight: bold\">Sy</span> <span style=\"color: #800000; text-decoration-color: #800000; font-weight: bold\">Dresner</span> Executive <span style=\"color: #800000; text-decoration-color: #800000; font-weight: bold\">Committee</span> <span style=\"color: #000080; text-decoration-color: #000080; font-weight: bold\">Students</span> <span style=\"color: #000080; text-decoration-color: #000080; font-weight: bold\">for</span> <span style=\"color: #000080; text-decoration-color: #000080; font-weight: bold\">Douglas</span> <span style=\"color: #000080; text-decoration-color: #000080; font-weight: bold\">IVI</span> supports \n",
       "<span style=\"color: #000080; text-decoration-color: #000080; font-weight: bold\">Douglas</span> \n",
       "</pre>\n"
      ],
      "text/plain": [
       "Summing up: the entire article In last week’s \u001b[1;34mMaroon\u001b[0m was from beginning to end a long list of\n",
       "prevarications, some of which, \u001b[1;34mfor\u001b[0m the sake of conserving space, we have even neglected to \n",
       "mention in this letter. The atricle was not submitted by \u001b[1;34mStudents\u001b[0m \u001b[1;34mfor\u001b[0m \u001b[1;34mDouglas,\u001b[0m or by any \n",
       "member thereof. \u001b[1;34mStudents\u001b[0m \u001b[1;34mfor\u001b[0m \u001b[1;34mDouglas\u001b[0m knew nothing about the article until the \u001b[1;34mMaroon\u001b[0m \n",
       "published it. We are at a loss to know why the name of our organization was mentioned in the \n",
       "article. It sounded as though inspired and written by a “Student \u001b[1;34mfor\u001b[0m \u001b[1;34mMeek.”\u001b[0m * \u001b[1;31mDon\u001b[0m \u001b[1;31mCoss\u001b[0m \u001b[1;31mDavid\u001b[0m \n",
       "\u001b[1;31mA.\u001b[0m \u001b[1;31mLone\u001b[0m \u001b[1;31mRichard\u001b[0m \u001b[1;31mStevens\u001b[0m \u001b[1;34mSy\u001b[0m \u001b[1;31mDresner\u001b[0m Executive \u001b[1;31mCommittee\u001b[0m \u001b[1;34mStudents\u001b[0m \u001b[1;34mfor\u001b[0m \u001b[1;34mDouglas\u001b[0m \u001b[1;34mIVI\u001b[0m supports \n",
       "\u001b[1;34mDouglas\u001b[0m \n"
      ]
     },
     "metadata": {},
     "output_type": "display_data"
    },
    {
     "name": "stdout",
     "output_type": "stream",
     "text": [
      "Text 57\n"
     ]
    },
    {
     "data": {
      "text/html": [
       "<pre style=\"white-space:pre;overflow-x:auto;line-height:normal;font-family:Menlo,'DejaVu Sans Mono',consolas,'Courier New',monospace\">We read with considerable Inter* st your story about the cancellation <span style=\"color: #000080; text-decoration-color: #000080; font-weight: bold\">of</span> Senator <span style=\"color: #800000; text-decoration-color: #800000; font-weight: bold\">Douglas’</span> \n",
       "campus appearance, and particularly the paragraph dealing with a statement by Mr. <span style=\"color: #800000; text-decoration-color: #800000; font-weight: bold\">Douglas</span> \n",
       "<span style=\"color: #800000; text-decoration-color: #800000; font-weight: bold\">Anderson,</span> who heads the Senator’s <span style=\"color: #008000; text-decoration-color: #008000; font-weight: bold\">Chicago</span> <span style=\"color: #000080; text-decoration-color: #000080; font-weight: bold\">office,</span> in which Mr. <span style=\"color: #800000; text-decoration-color: #800000; font-weight: bold\">Anderson</span> is quoted as saying \n",
       "the Senator would get more votes without the endorsement <span style=\"color: #000080; text-decoration-color: #000080; font-weight: bold\">of</span> the <span style=\"color: #000080; text-decoration-color: #000080; font-weight: bold\">Independent</span> Voters <span style=\"color: #000080; text-decoration-color: #000080; font-weight: bold\">of</span> \n",
       "<span style=\"color: #000080; text-decoration-color: #000080; font-weight: bold\">Illinois</span> than he will with it. If Mr. <span style=\"color: #800000; text-decoration-color: #800000; font-weight: bold\">Anderson</span> said these words, you can be sure he was not \n",
       "speaking for the Senator, and he was talking nonsense. A few facts make this clear. Both \n",
       "<span style=\"color: #800000; text-decoration-color: #800000; font-weight: bold\">Joseph</span> <span style=\"color: #800000; text-decoration-color: #800000; font-weight: bold\">Meek</span> and Senator <span style=\"color: #800000; text-decoration-color: #800000; font-weight: bold\">Douglas</span> actively sought the endorsement <span style=\"color: #000080; text-decoration-color: #000080; font-weight: bold\">of</span> the <span style=\"color: #000080; text-decoration-color: #000080; font-weight: bold\">IVI,</span> as did ninety \n",
       "other candidates INTERNATIONAL HOUSE MOVIES <span style=\"color: #008000; text-decoration-color: #008000; font-weight: bold\">Assembly</span> <span style=\"color: #008000; text-decoration-color: #008000; font-weight: bold\">Hall,</span> Monday and Thursday Evenings at \n",
       "8:30 P.M. \n",
       "</pre>\n"
      ],
      "text/plain": [
       "We read with considerable Inter* st your story about the cancellation \u001b[1;34mof\u001b[0m Senator \u001b[1;31mDouglas’\u001b[0m \n",
       "campus appearance, and particularly the paragraph dealing with a statement by Mr. \u001b[1;31mDouglas\u001b[0m \n",
       "\u001b[1;31mAnderson,\u001b[0m who heads the Senator’s \u001b[1;32mChicago\u001b[0m \u001b[1;34moffice,\u001b[0m in which Mr. \u001b[1;31mAnderson\u001b[0m is quoted as saying \n",
       "the Senator would get more votes without the endorsement \u001b[1;34mof\u001b[0m the \u001b[1;34mIndependent\u001b[0m Voters \u001b[1;34mof\u001b[0m \n",
       "\u001b[1;34mIllinois\u001b[0m than he will with it. If Mr. \u001b[1;31mAnderson\u001b[0m said these words, you can be sure he was not \n",
       "speaking for the Senator, and he was talking nonsense. A few facts make this clear. Both \n",
       "\u001b[1;31mJoseph\u001b[0m \u001b[1;31mMeek\u001b[0m and Senator \u001b[1;31mDouglas\u001b[0m actively sought the endorsement \u001b[1;34mof\u001b[0m the \u001b[1;34mIVI,\u001b[0m as did ninety \n",
       "other candidates INTERNATIONAL HOUSE MOVIES \u001b[1;32mAssembly\u001b[0m \u001b[1;32mHall,\u001b[0m Monday and Thursday Evenings at \n",
       "8:30 P.M. \n"
      ]
     },
     "metadata": {},
     "output_type": "display_data"
    },
    {
     "name": "stdout",
     "output_type": "stream",
     "text": [
      "Text 58\n"
     ]
    },
    {
     "data": {
      "text/html": [
       "<pre style=\"white-space:pre;overflow-x:auto;line-height:normal;font-family:Menlo,'DejaVu Sans Mono',consolas,'Courier New',monospace\">Monday, Nov. 1 — <span style=\"color: #000080; text-decoration-color: #000080; font-weight: bold\">ANA</span> - TA - HAN (The <span style=\"color: #000080; text-decoration-color: #000080; font-weight: bold\">Devil’s</span> <span style=\"color: #000080; text-decoration-color: #000080; font-weight: bold\">Pitchfork)</span> (Japanese American) Thursday, Nov. \n",
       "4—BELL FOR <span style=\"color: #800000; text-decoration-color: #800000; font-weight: bold\">ADANO</span> (American) Editor’s note: <span style=\"color: #000080; text-decoration-color: #000080; font-weight: bold\">The</span> story, appearing in last week’s <span style=\"color: #000080; text-decoration-color: #000080; font-weight: bold\">Maroon,</span> was \n",
       "written from information supplied by <span style=\"color: #800000; text-decoration-color: #800000; font-weight: bold\">Ralph</span> <span style=\"color: #800000; text-decoration-color: #800000; font-weight: bold\">Fertig,</span> at that time, chairman of the citizen’s \n",
       "committee for <span style=\"color: #800000; text-decoration-color: #800000; font-weight: bold\">Barrett</span> O’Hara. <span style=\"color: #800000; text-decoration-color: #800000; font-weight: bold\">Douglas</span> <span style=\"color: #800000; text-decoration-color: #800000; font-weight: bold\">Anderson</span> was not available for comment up to the time \n",
       "of publication. <span style=\"color: #000080; text-decoration-color: #000080; font-weight: bold\">The</span> <span style=\"color: #000080; text-decoration-color: #000080; font-weight: bold\">Maroon</span> apologizes that this was not made clear in the story or headline \n",
       "as printed. For <span style=\"color: #800000; text-decoration-color: #800000; font-weight: bold\">Fertig’s</span> comments on the story read below. Our apologies also go to <span style=\"color: #800000; text-decoration-color: #800000; font-weight: bold\">Frank</span> <span style=\"color: #800000; text-decoration-color: #800000; font-weight: bold\">Mc</span> \n",
       "Culloch, Senator <span style=\"color: #800000; text-decoration-color: #800000; font-weight: bold\">Douglas’</span> administrative assistant, whose title was given to <span style=\"color: #800000; text-decoration-color: #800000; font-weight: bold\">Douglas</span> \n",
       "<span style=\"color: #800000; text-decoration-color: #800000; font-weight: bold\">Anderson,</span> the senator’s <span style=\"color: #008000; text-decoration-color: #008000; font-weight: bold\">Illinois</span> representative. Student explains <span style=\"color: #800000; text-decoration-color: #800000; font-weight: bold\">Douglas</span> story \n",
       "</pre>\n"
      ],
      "text/plain": [
       "Monday, Nov. 1 — \u001b[1;34mANA\u001b[0m - TA - HAN (The \u001b[1;34mDevil’s\u001b[0m \u001b[1;34mPitchfork)\u001b[0m (Japanese American) Thursday, Nov. \n",
       "4—BELL FOR \u001b[1;31mADANO\u001b[0m (American) Editor’s note: \u001b[1;34mThe\u001b[0m story, appearing in last week’s \u001b[1;34mMaroon,\u001b[0m was \n",
       "written from information supplied by \u001b[1;31mRalph\u001b[0m \u001b[1;31mFertig,\u001b[0m at that time, chairman of the citizen’s \n",
       "committee for \u001b[1;31mBarrett\u001b[0m O’Hara. \u001b[1;31mDouglas\u001b[0m \u001b[1;31mAnderson\u001b[0m was not available for comment up to the time \n",
       "of publication. \u001b[1;34mThe\u001b[0m \u001b[1;34mMaroon\u001b[0m apologizes that this was not made clear in the story or headline \n",
       "as printed. For \u001b[1;31mFertig’s\u001b[0m comments on the story read below. Our apologies also go to \u001b[1;31mFrank\u001b[0m \u001b[1;31mMc\u001b[0m \n",
       "Culloch, Senator \u001b[1;31mDouglas’\u001b[0m administrative assistant, whose title was given to \u001b[1;31mDouglas\u001b[0m \n",
       "\u001b[1;31mAnderson,\u001b[0m the senator’s \u001b[1;32mIllinois\u001b[0m representative. Student explains \u001b[1;31mDouglas\u001b[0m story \n"
      ]
     },
     "metadata": {},
     "output_type": "display_data"
    },
    {
     "name": "stdout",
     "output_type": "stream",
     "text": [
      "Text 59\n"
     ]
    },
    {
     "data": {
      "text/html": [
       "<pre style=\"white-space:pre;overflow-x:auto;line-height:normal;font-family:Menlo,'DejaVu Sans Mono',consolas,'Courier New',monospace\">A great deal of confusion and concern has been called to my attention with reference to last \n",
       "week’s <span style=\"color: #000080; text-decoration-color: #000080; font-weight: bold\">MAROON</span> article on the abandoned Mass Meeting for Senator <span style=\"color: #800000; text-decoration-color: #800000; font-weight: bold\">Douglas.</span> While we who are \n",
       "engaged in electioneering may doubt the practical advantage of such a story — and I had grave\n",
       "misgiving’s about its appearance — the story was thoroughly accurate in its detail. \n",
       "</pre>\n"
      ],
      "text/plain": [
       "A great deal of confusion and concern has been called to my attention with reference to last \n",
       "week’s \u001b[1;34mMAROON\u001b[0m article on the abandoned Mass Meeting for Senator \u001b[1;31mDouglas.\u001b[0m While we who are \n",
       "engaged in electioneering may doubt the practical advantage of such a story — and I had grave\n",
       "misgiving’s about its appearance — the story was thoroughly accurate in its detail. \n"
      ]
     },
     "metadata": {},
     "output_type": "display_data"
    },
    {
     "name": "stdout",
     "output_type": "stream",
     "text": [
      "Text 60\n"
     ]
    },
    {
     "data": {
      "text/html": [
       "<pre style=\"white-space:pre;overflow-x:auto;line-height:normal;font-family:Menlo,'DejaVu Sans Mono',consolas,'Courier New',monospace\">It is a sad commentary on Liberals that so many are prepared to throw to the winds freedom of\n",
       "the press when it ill suits a liberal candidate to have a story featured on him which is \n",
       "otherwise relevant to the paper’s readership. The continued attacks upon the Integrity of my \n",
       "co-workers in the campaign for <span style=\"color: #800000; text-decoration-color: #800000; font-weight: bold\">Douglas,</span> O’Hara, and <span style=\"color: #800000; text-decoration-color: #800000; font-weight: bold\">Lohman</span> compel me to explain in greater \n",
       "detail the entire situation which led up to the printing of last Friday’s story. \n",
       "</pre>\n"
      ],
      "text/plain": [
       "It is a sad commentary on Liberals that so many are prepared to throw to the winds freedom of\n",
       "the press when it ill suits a liberal candidate to have a story featured on him which is \n",
       "otherwise relevant to the paper’s readership. The continued attacks upon the Integrity of my \n",
       "co-workers in the campaign for \u001b[1;31mDouglas,\u001b[0m O’Hara, and \u001b[1;31mLohman\u001b[0m compel me to explain in greater \n",
       "detail the entire situation which led up to the printing of last Friday’s story. \n"
      ]
     },
     "metadata": {},
     "output_type": "display_data"
    },
    {
     "name": "stdout",
     "output_type": "stream",
     "text": [
      "Text 61\n"
     ]
    },
    {
     "data": {
      "text/html": [
       "<pre style=\"white-space:pre;overflow-x:auto;line-height:normal;font-family:Menlo,'DejaVu Sans Mono',consolas,'Courier New',monospace\">After a conference with Director of Student Activities, <span style=\"color: #800000; text-decoration-color: #800000; font-weight: bold\">William</span> Birenbaum. held Tuesday, \n",
       "October 12, the Chairman of <span style=\"color: #000080; text-decoration-color: #000080; font-weight: bold\">Students</span> <span style=\"color: #000080; text-decoration-color: #000080; font-weight: bold\">for</span> <span style=\"color: #000080; text-decoration-color: #000080; font-weight: bold\">Douglas,</span> <span style=\"color: #800000; text-decoration-color: #800000; font-weight: bold\">Don</span> <span style=\"color: #800000; text-decoration-color: #800000; font-weight: bold\">Cass,</span> and I, speaking <span style=\"color: #000080; text-decoration-color: #000080; font-weight: bold\">for</span> the <span style=\"color: #000080; text-decoration-color: #000080; font-weight: bold\">Committee</span>\n",
       "<span style=\"color: #000080; text-decoration-color: #000080; font-weight: bold\">for</span> <span style=\"color: #000080; text-decoration-color: #000080; font-weight: bold\">Barratt</span> O’Hara agreed to co-sponsor the two candidates with other big name speakers at a \n",
       "<span style=\"color: #800000; text-decoration-color: #800000; font-weight: bold\">Mass</span> Meeting <span style=\"color: #000080; text-decoration-color: #000080; font-weight: bold\">for</span> the campus. Mr. <span style=\"color: #800000; text-decoration-color: #800000; font-weight: bold\">Cass</span> agreed to make arrangements <span style=\"color: #000080; text-decoration-color: #000080; font-weight: bold\">for</span> a location, and I was \n",
       "to contact <span style=\"color: #000080; text-decoration-color: #000080; font-weight: bold\">Douglas</span> and O’Hara. Mr. <span style=\"color: #000080; text-decoration-color: #000080; font-weight: bold\">Douglas</span> and his administrative assistant, Mr. <span style=\"color: #800000; text-decoration-color: #800000; font-weight: bold\">Anderson,</span> \n",
       "were both out of town. I was informed by their office that the Democratic party also \n",
       "schedules <span style=\"color: #000080; text-decoration-color: #000080; font-weight: bold\">Douglas,</span> and so I contacted the appropriate personnel there. Miss <span style=\"color: #800000; text-decoration-color: #800000; font-weight: bold\">Jerry</span> <span style=\"color: #800000; text-decoration-color: #800000; font-weight: bold\">Malone,</span> \n",
       "head of the <span style=\"color: #000080; text-decoration-color: #000080; font-weight: bold\">Speakers</span> <span style=\"color: #000080; text-decoration-color: #000080; font-weight: bold\">Bureau</span> at the Democratic <span style=\"color: #000080; text-decoration-color: #000080; font-weight: bold\">Party</span> <span style=\"color: #000080; text-decoration-color: #000080; font-weight: bold\">Headquarters</span> assured me we could have \n",
       "<span style=\"color: #000080; text-decoration-color: #000080; font-weight: bold\">Douglas</span> <span style=\"color: #000080; text-decoration-color: #000080; font-weight: bold\">for</span> Monday evening, October 18. <span style=\"color: #000080; text-decoration-color: #000080; font-weight: bold\">Barratt</span> O’Hara arranged his schedule <span style=\"color: #000080; text-decoration-color: #000080; font-weight: bold\">for</span> that same \n",
       "evening, and Mr. <span style=\"color: #800000; text-decoration-color: #800000; font-weight: bold\">Emil</span> <span style=\"color: #800000; text-decoration-color: #800000; font-weight: bold\">Mazey,</span> Secretary-Treasurer of the UAW-CIO \n",
       "</pre>\n"
      ],
      "text/plain": [
       "After a conference with Director of Student Activities, \u001b[1;31mWilliam\u001b[0m Birenbaum. held Tuesday, \n",
       "October 12, the Chairman of \u001b[1;34mStudents\u001b[0m \u001b[1;34mfor\u001b[0m \u001b[1;34mDouglas,\u001b[0m \u001b[1;31mDon\u001b[0m \u001b[1;31mCass,\u001b[0m and I, speaking \u001b[1;34mfor\u001b[0m the \u001b[1;34mCommittee\u001b[0m\n",
       "\u001b[1;34mfor\u001b[0m \u001b[1;34mBarratt\u001b[0m O’Hara agreed to co-sponsor the two candidates with other big name speakers at a \n",
       "\u001b[1;31mMass\u001b[0m Meeting \u001b[1;34mfor\u001b[0m the campus. Mr. \u001b[1;31mCass\u001b[0m agreed to make arrangements \u001b[1;34mfor\u001b[0m a location, and I was \n",
       "to contact \u001b[1;34mDouglas\u001b[0m and O’Hara. Mr. \u001b[1;34mDouglas\u001b[0m and his administrative assistant, Mr. \u001b[1;31mAnderson,\u001b[0m \n",
       "were both out of town. I was informed by their office that the Democratic party also \n",
       "schedules \u001b[1;34mDouglas,\u001b[0m and so I contacted the appropriate personnel there. Miss \u001b[1;31mJerry\u001b[0m \u001b[1;31mMalone,\u001b[0m \n",
       "head of the \u001b[1;34mSpeakers\u001b[0m \u001b[1;34mBureau\u001b[0m at the Democratic \u001b[1;34mParty\u001b[0m \u001b[1;34mHeadquarters\u001b[0m assured me we could have \n",
       "\u001b[1;34mDouglas\u001b[0m \u001b[1;34mfor\u001b[0m Monday evening, October 18. \u001b[1;34mBarratt\u001b[0m O’Hara arranged his schedule \u001b[1;34mfor\u001b[0m that same \n",
       "evening, and Mr. \u001b[1;31mEmil\u001b[0m \u001b[1;31mMazey,\u001b[0m Secretary-Treasurer of the UAW-CIO \n"
      ]
     },
     "metadata": {},
     "output_type": "display_data"
    },
    {
     "name": "stdout",
     "output_type": "stream",
     "text": [
      "Text 62\n"
     ]
    },
    {
     "data": {
      "text/html": [
       "<pre style=\"white-space:pre;overflow-x:auto;line-height:normal;font-family:Menlo,'DejaVu Sans Mono',consolas,'Courier New',monospace\">B a* * s <span style=\"color: #800000; text-decoration-color: #800000; font-weight: bold\">I</span> B B B <span style=\"color: #800000; text-decoration-color: #800000; font-weight: bold\">I</span> g E E <span style=\"color: #000080; text-decoration-color: #000080; font-weight: bold\">SCHNEEMANN’S</span> <span style=\"color: #000080; text-decoration-color: #000080; font-weight: bold\">Red</span> <span style=\"color: #000080; text-decoration-color: #000080; font-weight: bold\">Door</span> <span style=\"color: #000080; text-decoration-color: #000080; font-weight: bold\">Book</span> <span style=\"color: #000080; text-decoration-color: #000080; font-weight: bold\">Shop</span> 1328 <span style=\"color: #008000; text-decoration-color: #008000; font-weight: bold\">East</span> <span style=\"color: #008000; text-decoration-color: #008000; font-weight: bold\">57th</span> <span style=\"color: #008000; text-decoration-color: #008000; font-weight: bold\">Street</span> NOrmal 7-6111 \n",
       "Announcement of Our Winter the book-cellar Weekdays 10:00 A.M. to Sundays 2:00 P.M. to the \n",
       "used book room 4:00 P.M. to 10:00 Hours <span style=\"color: #800000; text-decoration-color: #800000; font-weight: bold\">I</span> E B B 10:00 10:00 P.M. 6 <span style=\"color: #800000; text-decoration-color: #800000; font-weight: bold\">I</span> B M c <span style=\"color: #000080; text-decoration-color: #000080; font-weight: bold\">C</span> B E The shop \n",
       "will Hose WEDNESDAY evenings <span style=\"color: #800000; text-decoration-color: #800000; font-weight: bold\">I</span> B\n",
       "w | RE - ELECT | <span style=\"color: #800000; text-decoration-color: #800000; font-weight: bold\">I</span> SEN. <span style=\"color: #800000; text-decoration-color: #800000; font-weight: bold\">MARSHALL</span> ! IKORSHAKI | 5TH SENATORIAL DISTRICT <span style=\"color: #800000; text-decoration-color: #800000; font-weight: bold\">I</span> | A Progressive | i \n",
       "and f | Liberal Legislator | | VOTE ‘YES’ ON THE BLUE BALLOT | B “ TOMORROW NIGHT FOLK \n",
       "CONCERT SAT., OCTOBER 30 PETE SEEGER • BILE <span style=\"color: #000080; text-decoration-color: #000080; font-weight: bold\">BROONZY</span> • SONNY TERRY <span style=\"color: #008000; text-decoration-color: #008000; font-weight: bold\">Mandel</span> <span style=\"color: #008000; text-decoration-color: #008000; font-weight: bold\">Hall</span> 8:30 P.M. Gen. \n",
       "Admission $1.00 (57th &amp; <span style=\"color: #008000; text-decoration-color: #008000; font-weight: bold\">University)</span> ' Seats on Sale at Box. Office Sponsored by the <span style=\"color: #000080; text-decoration-color: #000080; font-weight: bold\">V</span> of <span style=\"color: #000080; text-decoration-color: #000080; font-weight: bold\">C</span> \n",
       "delegation to the <span style=\"color: #000080; text-decoration-color: #000080; font-weight: bold\">National</span> <span style=\"color: #000080; text-decoration-color: #000080; font-weight: bold\">Student</span> <span style=\"color: #000080; text-decoration-color: #000080; font-weight: bold\">Association</span> Page 5 \n",
       "</pre>\n"
      ],
      "text/plain": [
       "B a* * s \u001b[1;31mI\u001b[0m B B B \u001b[1;31mI\u001b[0m g E E \u001b[1;34mSCHNEEMANN’S\u001b[0m \u001b[1;34mRed\u001b[0m \u001b[1;34mDoor\u001b[0m \u001b[1;34mBook\u001b[0m \u001b[1;34mShop\u001b[0m 1328 \u001b[1;32mEast\u001b[0m \u001b[1;32m57th\u001b[0m \u001b[1;32mStreet\u001b[0m NOrmal 7-6111 \n",
       "Announcement of Our Winter the book-cellar Weekdays 10:00 A.M. to Sundays 2:00 P.M. to the \n",
       "used book room 4:00 P.M. to 10:00 Hours \u001b[1;31mI\u001b[0m E B B 10:00 10:00 P.M. 6 \u001b[1;31mI\u001b[0m B M c \u001b[1;34mC\u001b[0m B E The shop \n",
       "will Hose WEDNESDAY evenings \u001b[1;31mI\u001b[0m B\n",
       "w | RE - ELECT | \u001b[1;31mI\u001b[0m SEN. \u001b[1;31mMARSHALL\u001b[0m ! IKORSHAKI | 5TH SENATORIAL DISTRICT \u001b[1;31mI\u001b[0m | A Progressive | i \n",
       "and f | Liberal Legislator | | VOTE ‘YES’ ON THE BLUE BALLOT | B “ TOMORROW NIGHT FOLK \n",
       "CONCERT SAT., OCTOBER 30 PETE SEEGER • BILE \u001b[1;34mBROONZY\u001b[0m • SONNY TERRY \u001b[1;32mMandel\u001b[0m \u001b[1;32mHall\u001b[0m 8:30 P.M. Gen. \n",
       "Admission $1.00 (57th & \u001b[1;32mUniversity)\u001b[0m ' Seats on Sale at Box. Office Sponsored by the \u001b[1;34mV\u001b[0m of \u001b[1;34mC\u001b[0m \n",
       "delegation to the \u001b[1;34mNational\u001b[0m \u001b[1;34mStudent\u001b[0m \u001b[1;34mAssociation\u001b[0m Page 5 \n"
      ]
     },
     "metadata": {},
     "output_type": "display_data"
    },
    {
     "name": "stdout",
     "output_type": "stream",
     "text": [
      "Text 63\n"
     ]
    },
    {
     "data": {
      "text/html": [
       "<pre style=\"white-space:pre;overflow-x:auto;line-height:normal;font-family:Menlo,'DejaVu Sans Mono',consolas,'Courier New',monospace\">October 29, 1954 TH ^ <span style=\"color: #008000; text-decoration-color: #008000; font-weight: bold\">CHICAGO</span> MAROON Support <span style=\"color: #800000; text-decoration-color: #800000; font-weight: bold\">Mc</span> <span style=\"color: #800000; text-decoration-color: #800000; font-weight: bold\">Carthy</span> censure The campus <span style=\"color: #000080; text-decoration-color: #000080; font-weight: bold\">Robin</span> <span style=\"color: #000080; text-decoration-color: #000080; font-weight: bold\">Hood</span> club \n",
       "last week initiated its program of support for the <span style=\"color: #800000; text-decoration-color: #800000; font-weight: bold\">Mc</span> <span style=\"color: #800000; text-decoration-color: #800000; font-weight: bold\">Carthy</span> censure, as recommended bv the \n",
       "<span style=\"color: #000080; text-decoration-color: #000080; font-weight: bold\">Senate</span> Watkins subcommittee. \"The <span style=\"color: #000080; text-decoration-color: #000080; font-weight: bold\">Robin</span> <span style=\"color: #000080; text-decoration-color: #000080; font-weight: bold\">Hood</span> club was activated on this issue,” said <span style=\"color: #800000; text-decoration-color: #800000; font-weight: bold\">Suzanne</span> \n",
       "<span style=\"color: #800000; text-decoration-color: #800000; font-weight: bold\">Friedmann,</span> <span style=\"color: #000080; text-decoration-color: #000080; font-weight: bold\">Robin</span> <span style=\"color: #000080; text-decoration-color: #000080; font-weight: bold\">Hood</span> secretary, “because of our concern with the formation of the ‘national \n",
       "rally for <span style=\"color: #800000; text-decoration-color: #800000; font-weight: bold\">Joe</span> <span style=\"color: #800000; text-decoration-color: #800000; font-weight: bold\">Mc</span> <span style=\"color: #800000; text-decoration-color: #800000; font-weight: bold\">Carthy’</span> scheduled for November 11, and nfter the <span style=\"color: #000080; text-decoration-color: #000080; font-weight: bold\">Senate</span> convenes to \n",
       "conbecause of the large response to the rally.” The <span style=\"color: #000080; text-decoration-color: #000080; font-weight: bold\">Robin</span> <span style=\"color: #000080; text-decoration-color: #000080; font-weight: bold\">Hood</span> projects include soap and \n",
       "baggage tag campaign, consisting of hotel-size bars of soap wired to baggage tags which are \n",
       "stamped, “Don’t Whitewash <span style=\"color: #800000; text-decoration-color: #800000; font-weight: bold\">Mc</span> <span style=\"color: #800000; text-decoration-color: #800000; font-weight: bold\">Carthy—Vote</span> Censure.” \n",
       "</pre>\n"
      ],
      "text/plain": [
       "October 29, 1954 TH ^ \u001b[1;32mCHICAGO\u001b[0m MAROON Support \u001b[1;31mMc\u001b[0m \u001b[1;31mCarthy\u001b[0m censure The campus \u001b[1;34mRobin\u001b[0m \u001b[1;34mHood\u001b[0m club \n",
       "last week initiated its program of support for the \u001b[1;31mMc\u001b[0m \u001b[1;31mCarthy\u001b[0m censure, as recommended bv the \n",
       "\u001b[1;34mSenate\u001b[0m Watkins subcommittee. \"The \u001b[1;34mRobin\u001b[0m \u001b[1;34mHood\u001b[0m club was activated on this issue,” said \u001b[1;31mSuzanne\u001b[0m \n",
       "\u001b[1;31mFriedmann,\u001b[0m \u001b[1;34mRobin\u001b[0m \u001b[1;34mHood\u001b[0m secretary, “because of our concern with the formation of the ‘national \n",
       "rally for \u001b[1;31mJoe\u001b[0m \u001b[1;31mMc\u001b[0m \u001b[1;31mCarthy’\u001b[0m scheduled for November 11, and nfter the \u001b[1;34mSenate\u001b[0m convenes to \n",
       "conbecause of the large response to the rally.” The \u001b[1;34mRobin\u001b[0m \u001b[1;34mHood\u001b[0m projects include soap and \n",
       "baggage tag campaign, consisting of hotel-size bars of soap wired to baggage tags which are \n",
       "stamped, “Don’t Whitewash \u001b[1;31mMc\u001b[0m \u001b[1;31mCarthy—Vote\u001b[0m Censure.” \n"
      ]
     },
     "metadata": {},
     "output_type": "display_data"
    },
    {
     "name": "stdout",
     "output_type": "stream",
     "text": [
      "Text 64\n"
     ]
    },
    {
     "data": {
      "text/html": [
       "<pre style=\"white-space:pre;overflow-x:auto;line-height:normal;font-family:Menlo,'DejaVu Sans Mono',consolas,'Courier New',monospace\">What have VICEROYS got that other filter tip cigarettes haven’t got ? THE ANSWER IS 20,000 \n",
       "FILTERS IN EVERY VICEROY TIP Inside every Viceroy tip is a vast network of 20,000 individual \n",
       "filters to filter your smoke over and over again. You get only the full, rich taste of \n",
       "Viceroy’s choice tobaccos and Viceroys draw so freely. Yes, you get Viceroy’s remarkable new \n",
       "tip with 20,000 individual filters plus king-size length for only a penny or two more than \n",
       "cigarettes without filters. Long-time friend of <span style=\"color: #000080; text-decoration-color: #000080; font-weight: bold\">UC</span> succumbs in tragic death The death-bell \n",
       "tolled last week as a silent band of cutters armed with saws and ladders beheaded <span style=\"color: #000080; text-decoration-color: #000080; font-weight: bold\">UC’s</span> friend\n",
       "of long standing — the ad-covered tree in front of <span style=\"color: #000080; text-decoration-color: #000080; font-weight: bold\">Woodworth’s</span> bookstore. \n",
       "</pre>\n"
      ],
      "text/plain": [
       "What have VICEROYS got that other filter tip cigarettes haven’t got ? THE ANSWER IS 20,000 \n",
       "FILTERS IN EVERY VICEROY TIP Inside every Viceroy tip is a vast network of 20,000 individual \n",
       "filters to filter your smoke over and over again. You get only the full, rich taste of \n",
       "Viceroy’s choice tobaccos and Viceroys draw so freely. Yes, you get Viceroy’s remarkable new \n",
       "tip with 20,000 individual filters plus king-size length for only a penny or two more than \n",
       "cigarettes without filters. Long-time friend of \u001b[1;34mUC\u001b[0m succumbs in tragic death The death-bell \n",
       "tolled last week as a silent band of cutters armed with saws and ladders beheaded \u001b[1;34mUC’s\u001b[0m friend\n",
       "of long standing — the ad-covered tree in front of \u001b[1;34mWoodworth’s\u001b[0m bookstore. \n"
      ]
     },
     "metadata": {},
     "output_type": "display_data"
    },
    {
     "name": "stdout",
     "output_type": "stream",
     "text": [
      "Text 65\n"
     ]
    },
    {
     "data": {
      "text/html": [
       "<pre style=\"white-space:pre;overflow-x:auto;line-height:normal;font-family:Menlo,'DejaVu Sans Mono',consolas,'Courier New',monospace\">At 9:30 a.m. on Oct. 19 the tree’s branches creaked their last and fell to the ground, \n",
       "temporarily blocking 57th street traffic until the branches could be hewn and carted away to \n",
       "their final resting place. The move was made to avert the imminent collapse of the late ly \n",
       "decayed tree upon <span style=\"color: #008000; text-decoration-color: #008000; font-weight: bold\">Woodworth’s</span> during anticipated winter windstorms. The tree was decapitated,\n",
       "rather than cut down entirely, public opinion deeming that the ad-covered trunk should stand.\n",
       "The trunk, too, will be gone within three years. It is now completely dead, and bark will \n",
       "begin to drop off during the coming year. When no new branches appeared last spring, the tree\n",
       "was diagnosed as dead; cause of death: thirst. \n",
       "</pre>\n"
      ],
      "text/plain": [
       "At 9:30 a.m. on Oct. 19 the tree’s branches creaked their last and fell to the ground, \n",
       "temporarily blocking 57th street traffic until the branches could be hewn and carted away to \n",
       "their final resting place. The move was made to avert the imminent collapse of the late ly \n",
       "decayed tree upon \u001b[1;32mWoodworth’s\u001b[0m during anticipated winter windstorms. The tree was decapitated,\n",
       "rather than cut down entirely, public opinion deeming that the ad-covered trunk should stand.\n",
       "The trunk, too, will be gone within three years. It is now completely dead, and bark will \n",
       "begin to drop off during the coming year. When no new branches appeared last spring, the tree\n",
       "was diagnosed as dead; cause of death: thirst. \n"
      ]
     },
     "metadata": {},
     "output_type": "display_data"
    },
    {
     "name": "stdout",
     "output_type": "stream",
     "text": [
      "Text 66\n"
     ]
    },
    {
     "data": {
      "text/html": [
       "<pre style=\"white-space:pre;overflow-x:auto;line-height:normal;font-family:Menlo,'DejaVu Sans Mono',consolas,'Courier New',monospace\">Having grown in its late location since 1893, the tree enjoyed a world wide reputation and \n",
       "has been granted coverage in such publications as <span style=\"color: #000080; text-decoration-color: #000080; font-weight: bold\">International</span> <span style=\"color: #000080; text-decoration-color: #000080; font-weight: bold\">News</span> <span style=\"color: #000080; text-decoration-color: #000080; font-weight: bold\">report.</span> <span style=\"color: #000080; text-decoration-color: #000080; font-weight: bold\">Life,</span> the \n",
       "<span style=\"color: #000080; text-decoration-color: #000080; font-weight: bold\">Christian</span> <span style=\"color: #000080; text-decoration-color: #000080; font-weight: bold\">Science</span> <span style=\"color: #000080; text-decoration-color: #000080; font-weight: bold\">Monitor,</span> and <span style=\"color: #000080; text-decoration-color: #000080; font-weight: bold\">Time</span> * WORLD’S LARGEST-SELLING FILTER TIP CIGARETTE New \n",
       "King-Size Filter Tip Vicerot^y I * I e'«-»»e TTt# 1/ Only a Penny or Two Moro than Cigarette*\n",
       "Without Filter* <span style=\"color: #800000; text-decoration-color: #800000; font-weight: bold\">Paul</span> <span style=\"color: #800000; text-decoration-color: #800000; font-weight: bold\">Douglas'</span> wife describes programs;.attacks administration <span style=\"color: #000080; text-decoration-color: #000080; font-weight: bold\">Congress</span> \n",
       "“should act like the good doctor — see the symptoms, diagnose, and cure the economic \n",
       "pneumonia. Acts, not words, achieve results in economics.” So Senator <span style=\"color: #800000; text-decoration-color: #800000; font-weight: bold\">Paul</span> <span style=\"color: #800000; text-decoration-color: #800000; font-weight: bold\">Douglas’</span> economic \n",
       "program was described by his wife, <span style=\"color: #800000; text-decoration-color: #800000; font-weight: bold\">Emily</span> <span style=\"color: #800000; text-decoration-color: #800000; font-weight: bold\">Taft</span> <span style=\"color: #800000; text-decoration-color: #800000; font-weight: bold\">Douglas,</span> in a speech at a Students for <span style=\"color: #800000; text-decoration-color: #800000; font-weight: bold\">Douglas</span> \n",
       "meeting Tuesday afternoon. \n",
       "</pre>\n"
      ],
      "text/plain": [
       "Having grown in its late location since 1893, the tree enjoyed a world wide reputation and \n",
       "has been granted coverage in such publications as \u001b[1;34mInternational\u001b[0m \u001b[1;34mNews\u001b[0m \u001b[1;34mreport.\u001b[0m \u001b[1;34mLife,\u001b[0m the \n",
       "\u001b[1;34mChristian\u001b[0m \u001b[1;34mScience\u001b[0m \u001b[1;34mMonitor,\u001b[0m and \u001b[1;34mTime\u001b[0m * WORLD’S LARGEST-SELLING FILTER TIP CIGARETTE New \n",
       "King-Size Filter Tip Vicerot^y I * I e'«-»»e TTt# 1/ Only a Penny or Two Moro than Cigarette*\n",
       "Without Filter* \u001b[1;31mPaul\u001b[0m \u001b[1;31mDouglas'\u001b[0m wife describes programs;.attacks administration \u001b[1;34mCongress\u001b[0m \n",
       "“should act like the good doctor — see the symptoms, diagnose, and cure the economic \n",
       "pneumonia. Acts, not words, achieve results in economics.” So Senator \u001b[1;31mPaul\u001b[0m \u001b[1;31mDouglas’\u001b[0m economic \n",
       "program was described by his wife, \u001b[1;31mEmily\u001b[0m \u001b[1;31mTaft\u001b[0m \u001b[1;31mDouglas,\u001b[0m in a speech at a Students for \u001b[1;31mDouglas\u001b[0m \n",
       "meeting Tuesday afternoon. \n"
      ]
     },
     "metadata": {},
     "output_type": "display_data"
    },
    {
     "name": "stdout",
     "output_type": "stream",
     "text": [
      "Text 67\n"
     ]
    },
    {
     "data": {
      "text/html": [
       "<pre style=\"white-space:pre;overflow-x:auto;line-height:normal;font-family:Menlo,'DejaVu Sans Mono',consolas,'Courier New',monospace\">Senator <span style=\"color: #800000; text-decoration-color: #800000; font-weight: bold\">Douglas,</span> she said, believes that “this administration has been obtuse about human \n",
       "welfare.” Several issues she mentioned as mismanaged included housing and tidelands oil. \n",
       "There is a need for more public housing; the housing bill written in 1939 by Senator <span style=\"color: #800000; text-decoration-color: #800000; font-weight: bold\">Douglas</span> \n",
       "and another senator has had its Illness postpones <span style=\"color: #800000; text-decoration-color: #800000; font-weight: bold\">Spencer</span> lectures The recent illness of \n",
       "<span style=\"color: #800000; text-decoration-color: #800000; font-weight: bold\">William</span> <span style=\"color: #800000; text-decoration-color: #800000; font-weight: bold\">H.</span> <span style=\"color: #800000; text-decoration-color: #800000; font-weight: bold\">Spencer,</span> distinguished service professor emeritus of the school of business, has \n",
       "postponed the opening of the <span style=\"color: #000080; text-decoration-color: #000080; font-weight: bold\">University</span> college distinguished service lecture series from \n",
       "October 29 to November 26. \n",
       "</pre>\n"
      ],
      "text/plain": [
       "Senator \u001b[1;31mDouglas,\u001b[0m she said, believes that “this administration has been obtuse about human \n",
       "welfare.” Several issues she mentioned as mismanaged included housing and tidelands oil. \n",
       "There is a need for more public housing; the housing bill written in 1939 by Senator \u001b[1;31mDouglas\u001b[0m \n",
       "and another senator has had its Illness postpones \u001b[1;31mSpencer\u001b[0m lectures The recent illness of \n",
       "\u001b[1;31mWilliam\u001b[0m \u001b[1;31mH.\u001b[0m \u001b[1;31mSpencer,\u001b[0m distinguished service professor emeritus of the school of business, has \n",
       "postponed the opening of the \u001b[1;34mUniversity\u001b[0m college distinguished service lecture series from \n",
       "October 29 to November 26. \n"
      ]
     },
     "metadata": {},
     "output_type": "display_data"
    },
    {
     "name": "stdout",
     "output_type": "stream",
     "text": [
      "Text 68\n"
     ]
    },
    {
     "data": {
      "text/html": [
       "<pre style=\"white-space:pre;overflow-x:auto;line-height:normal;font-family:Menlo,'DejaVu Sans Mono',consolas,'Courier New',monospace\"><span style=\"color: #800000; text-decoration-color: #800000; font-weight: bold\">Eugene</span> <span style=\"color: #800000; text-decoration-color: #800000; font-weight: bold\">M.</span> <span style=\"color: #800000; text-decoration-color: #800000; font-weight: bold\">K.</span> Geiling, distinguished service professor of pharmacology, will speak on “the \n",
       "impact of the atomic age on biochemical research” on November 26 in the <span style=\"color: #800000; text-decoration-color: #800000; font-weight: bold\">Woodrow</span> <span style=\"color: #800000; text-decoration-color: #800000; font-weight: bold\">Wilson</span> room, \n",
       "116 <span style=\"color: #008000; text-decoration-color: #008000; font-weight: bold\">S.</span> <span style=\"color: #008000; text-decoration-color: #008000; font-weight: bold\">Michigan</span> <span style=\"color: #008000; text-decoration-color: #008000; font-weight: bold\">avenue,</span> for the <span style=\"color: #000080; text-decoration-color: #000080; font-weight: bold\">University</span> college. provisions for homes cut by twothirds, \n",
       "she stated. More schools, as well as more houses, are needed. Senator <span style=\"color: #800000; text-decoration-color: #800000; font-weight: bold\">Douglas</span> “wanted natural\n",
       "resources to help the human resources,” proposing that tidelands oil wealth be used for \n",
       "education “to light the lamp of knowledge”; off-shore oil was instead granted to four states.\n",
       "</pre>\n"
      ],
      "text/plain": [
       "\u001b[1;31mEugene\u001b[0m \u001b[1;31mM.\u001b[0m \u001b[1;31mK.\u001b[0m Geiling, distinguished service professor of pharmacology, will speak on “the \n",
       "impact of the atomic age on biochemical research” on November 26 in the \u001b[1;31mWoodrow\u001b[0m \u001b[1;31mWilson\u001b[0m room, \n",
       "116 \u001b[1;32mS.\u001b[0m \u001b[1;32mMichigan\u001b[0m \u001b[1;32mavenue,\u001b[0m for the \u001b[1;34mUniversity\u001b[0m college. provisions for homes cut by twothirds, \n",
       "she stated. More schools, as well as more houses, are needed. Senator \u001b[1;31mDouglas\u001b[0m “wanted natural\n",
       "resources to help the human resources,” proposing that tidelands oil wealth be used for \n",
       "education “to light the lamp of knowledge”; off-shore oil was instead granted to four states.\n"
      ]
     },
     "metadata": {},
     "output_type": "display_data"
    },
    {
     "name": "stdout",
     "output_type": "stream",
     "text": [
      "Text 69\n"
     ]
    },
    {
     "data": {
      "text/html": [
       "<pre style=\"white-space:pre;overflow-x:auto;line-height:normal;font-family:Menlo,'DejaVu Sans Mono',consolas,'Courier New',monospace\">During the question and answer period, Mrs. <span style=\"color: #800000; text-decoration-color: #800000; font-weight: bold\">Douglas</span> was queried as to her husband’s voting in\n",
       "favor of outlawing the Communist party. She answered that her husband felt that “to belong to\n",
       "the Communist party is to belong to an active conspiracy to overthrow the government. It is a\n",
       "direct threat.” Hard times party tonight Psi <span style=\"color: #000080; text-decoration-color: #000080; font-weight: bold\">Upsilon’s</span> traditional hard times party will be \n",
       "held tonight from 9 p.m. to 1 a.m. <span style=\"color: #800000; text-decoration-color: #800000; font-weight: bold\">Dick</span> Gerwin’s band will furnish musical entertainment. All\n",
       "students are invited, with or without dates. There is no admission, but visitors must wear \n",
       "hard-times costumes, said the fraternity. \n",
       "</pre>\n"
      ],
      "text/plain": [
       "During the question and answer period, Mrs. \u001b[1;31mDouglas\u001b[0m was queried as to her husband’s voting in\n",
       "favor of outlawing the Communist party. She answered that her husband felt that “to belong to\n",
       "the Communist party is to belong to an active conspiracy to overthrow the government. It is a\n",
       "direct threat.” Hard times party tonight Psi \u001b[1;34mUpsilon’s\u001b[0m traditional hard times party will be \n",
       "held tonight from 9 p.m. to 1 a.m. \u001b[1;31mDick\u001b[0m Gerwin’s band will furnish musical entertainment. All\n",
       "students are invited, with or without dates. There is no admission, but visitors must wear \n",
       "hard-times costumes, said the fraternity. \n"
      ]
     },
     "metadata": {},
     "output_type": "display_data"
    },
    {
     "name": "stdout",
     "output_type": "stream",
     "text": [
      "Text 70\n"
     ]
    },
    {
     "data": {
      "text/html": [
       "<pre style=\"white-space:pre;overflow-x:auto;line-height:normal;font-family:Menlo,'DejaVu Sans Mono',consolas,'Courier New',monospace\">Mr. <span style=\"color: #800000; text-decoration-color: #800000; font-weight: bold\">Spencer’s</span> lecture on “Recent trends in the relationship between government and business” \n",
       "tween government and business” will close the series in April. ITALIAN FIESTA PIZZERIA \n",
       "Special Pizza ’A Sausage % Anchovy ’A Pepper ’A Mushroom 1427 <span style=\"color: #008000; text-decoration-color: #008000; font-weight: bold\">E.</span> 67th MU 4 ^ FREE DELIVERY TO\n",
       "<span style=\"color: #008000; text-decoration-color: #008000; font-weight: bold\">U.</span> <span style=\"color: #008000; text-decoration-color: #008000; font-weight: bold\">of</span> <span style=\"color: #008000; text-decoration-color: #008000; font-weight: bold\">C.</span> STUDENTS On orders over $2 Quick Courteous Service TABLE SERVICE 11 A.M. to 3 A.M 7 \n",
       "Days a Week DELIVERY SERVICE 5 P.M. to 3 A.M 1 Approval deadline set for special honors \n",
       "applicants The deadline for approval <span style=\"color: #008000; text-decoration-color: #008000; font-weight: bold\">of</span> special honor proposals in the college has been set \n",
       "for January 7. \n",
       "</pre>\n"
      ],
      "text/plain": [
       "Mr. \u001b[1;31mSpencer’s\u001b[0m lecture on “Recent trends in the relationship between government and business” \n",
       "tween government and business” will close the series in April. ITALIAN FIESTA PIZZERIA \n",
       "Special Pizza ’A Sausage % Anchovy ’A Pepper ’A Mushroom 1427 \u001b[1;32mE.\u001b[0m 67th MU 4 ^ FREE DELIVERY TO\n",
       "\u001b[1;32mU.\u001b[0m \u001b[1;32mof\u001b[0m \u001b[1;32mC.\u001b[0m STUDENTS On orders over $2 Quick Courteous Service TABLE SERVICE 11 A.M. to 3 A.M 7 \n",
       "Days a Week DELIVERY SERVICE 5 P.M. to 3 A.M 1 Approval deadline set for special honors \n",
       "applicants The deadline for approval \u001b[1;32mof\u001b[0m special honor proposals in the college has been set \n",
       "for January 7. \n"
      ]
     },
     "metadata": {},
     "output_type": "display_data"
    },
    {
     "name": "stdout",
     "output_type": "stream",
     "text": [
      "Text 71\n"
     ]
    },
    {
     "data": {
      "text/html": [
       "<pre style=\"white-space:pre;overflow-x:auto;line-height:normal;font-family:Menlo,'DejaVu Sans Mono',consolas,'Courier New',monospace\">All students wishing to be graduated with special honors in any area of the college should \n",
       "consult with the chairman of the staff in which they wish to do special honors work, <span style=\"color: #800000; text-decoration-color: #800000; font-weight: bold\">John</span> <span style=\"color: #800000; text-decoration-color: #800000; font-weight: bold\">P.</span> \n",
       "<span style=\"color: #800000; text-decoration-color: #800000; font-weight: bold\">Netherton,</span> assistant dean in the college, said this week. The prerequisites for admittance to\n",
       "the special honors program is a B average with no grade lower than a C. An essay is usually \n",
       "required to satisfy the departmental requirements for special honors. The requirements may \n",
       "vary slightly from staff to staff, however. The honors, if achieved, will appear on the \n",
       "convocation listings and as a part of the student’s permanent transcript. Over 120 students \n",
       "have taken the honors program since it was first initiated in 1947, according to <span style=\"color: #800000; text-decoration-color: #800000; font-weight: bold\">Netherton.</span> \n",
       "</pre>\n"
      ],
      "text/plain": [
       "All students wishing to be graduated with special honors in any area of the college should \n",
       "consult with the chairman of the staff in which they wish to do special honors work, \u001b[1;31mJohn\u001b[0m \u001b[1;31mP.\u001b[0m \n",
       "\u001b[1;31mNetherton,\u001b[0m assistant dean in the college, said this week. The prerequisites for admittance to\n",
       "the special honors program is a B average with no grade lower than a C. An essay is usually \n",
       "required to satisfy the departmental requirements for special honors. The requirements may \n",
       "vary slightly from staff to staff, however. The honors, if achieved, will appear on the \n",
       "convocation listings and as a part of the student’s permanent transcript. Over 120 students \n",
       "have taken the honors program since it was first initiated in 1947, according to \u001b[1;31mNetherton.\u001b[0m \n"
      ]
     },
     "metadata": {},
     "output_type": "display_data"
    },
    {
     "name": "stdout",
     "output_type": "stream",
     "text": [
      "Text 72\n"
     ]
    },
    {
     "data": {
      "text/html": [
       "<pre style=\"white-space:pre;overflow-x:auto;line-height:normal;font-family:Menlo,'DejaVu Sans Mono',consolas,'Courier New',monospace\"><span style=\"color: #000080; text-decoration-color: #000080; font-weight: bold\">Complete</span> Systems From ^^ A <span style=\"color: #000080; text-decoration-color: #000080; font-weight: bold\">Come</span> in end Listen to the <span style=\"color: #000080; text-decoration-color: #000080; font-weight: bold\">Jensen</span> <span style=\"color: #008000; text-decoration-color: #008000; font-weight: bold\">Bathtub.</span> lion TRADE INS On \n",
       "Hi-Fidelity <span style=\"color: #000080; text-decoration-color: #000080; font-weight: bold\">Components</span> at <span style=\"color: #000080; text-decoration-color: #000080; font-weight: bold\">Audiophile</span> <span style=\"color: #000080; text-decoration-color: #000080; font-weight: bold\">Net</span> Everything for the Hi-Fi Fan— cabinets, audio unit*,\n",
       "tuners, amplifiers and speakers—plus we will take any radio or phonograph in trade. At <span style=\"color: #008000; text-decoration-color: #008000; font-weight: bold\">Lund</span> \n",
       "you'll find the finest of equipment at reasonable prices. <span style=\"color: #000080; text-decoration-color: #000080; font-weight: bold\">Come</span> in todayl General honors are \n",
       "also awarded without special wvk to students having a half-A, half-B average or better in the\n",
       "college TERMS LUND <span style=\"color: #000080; text-decoration-color: #000080; font-weight: bold\">Company</span> 5236 <span style=\"color: #000080; text-decoration-color: #000080; font-weight: bold\">Blackstone</span> Open Evenlngt Including Sunday TUI 8 P. M. MU \n",
       "4-5300 WE BUY USED EQUIPMENT (from page 1) PHYSICAL SCIENCES (four elected) \n",
       "</pre>\n"
      ],
      "text/plain": [
       "\u001b[1;34mComplete\u001b[0m Systems From ^^ A \u001b[1;34mCome\u001b[0m in end Listen to the \u001b[1;34mJensen\u001b[0m \u001b[1;32mBathtub.\u001b[0m lion TRADE INS On \n",
       "Hi-Fidelity \u001b[1;34mComponents\u001b[0m at \u001b[1;34mAudiophile\u001b[0m \u001b[1;34mNet\u001b[0m Everything for the Hi-Fi Fan— cabinets, audio unit*,\n",
       "tuners, amplifiers and speakers—plus we will take any radio or phonograph in trade. At \u001b[1;32mLund\u001b[0m \n",
       "you'll find the finest of equipment at reasonable prices. \u001b[1;34mCome\u001b[0m in todayl General honors are \n",
       "also awarded without special wvk to students having a half-A, half-B average or better in the\n",
       "college TERMS LUND \u001b[1;34mCompany\u001b[0m 5236 \u001b[1;34mBlackstone\u001b[0m Open Evenlngt Including Sunday TUI 8 P. M. MU \n",
       "4-5300 WE BUY USED EQUIPMENT (from page 1) PHYSICAL SCIENCES (four elected) \n"
      ]
     },
     "metadata": {},
     "output_type": "display_data"
    },
    {
     "name": "stdout",
     "output_type": "stream",
     "text": [
      "Text 73\n"
     ]
    },
    {
     "data": {
      "text/html": [
       "<pre style=\"white-space:pre;overflow-x:auto;line-height:normal;font-family:Menlo,'DejaVu Sans Mono',consolas,'Courier New',monospace\"><span style=\"color: #800000; text-decoration-color: #800000; font-weight: bold\">Byron</span> <span style=\"color: #800000; text-decoration-color: #800000; font-weight: bold\">Rainey</span> 88 (ISL) <span style=\"color: #800000; text-decoration-color: #800000; font-weight: bold\">Mario</span> <span style=\"color: #800000; text-decoration-color: #800000; font-weight: bold\">Baur</span> 73 (ISL) <span style=\"color: #800000; text-decoration-color: #800000; font-weight: bold\">Robert</span> Giedt 71 (ISL) <span style=\"color: #800000; text-decoration-color: #800000; font-weight: bold\">Eli</span> <span style=\"color: #800000; text-decoration-color: #800000; font-weight: bold\">Stein</span> 70 (ISL) <span style=\"color: #800000; text-decoration-color: #800000; font-weight: bold\">Robert</span> \n",
       "<span style=\"color: #800000; text-decoration-color: #800000; font-weight: bold\">March</span> 53 (SRP) <span style=\"color: #800000; text-decoration-color: #800000; font-weight: bold\">Morris</span> <span style=\"color: #800000; text-decoration-color: #800000; font-weight: bold\">Hirsch</span> 47 (SRP) <span style=\"color: #800000; text-decoration-color: #800000; font-weight: bold\">M.</span> <span style=\"color: #800000; text-decoration-color: #800000; font-weight: bold\">Ingberman</span> 47 (SRP) <span style=\"color: #800000; text-decoration-color: #800000; font-weight: bold\">M.</span> Prastein 42 (SRP). SOCIAL \n",
       "SERVICES ADMINISTRATION <span style=\"color: #800000; text-decoration-color: #800000; font-weight: bold\">.</span> <span style=\"color: #800000; text-decoration-color: #800000; font-weight: bold\">Dorothy</span> <span style=\"color: #800000; text-decoration-color: #800000; font-weight: bold\">Ingersoll</span> 8 (ISL) <span style=\"color: #800000; text-decoration-color: #800000; font-weight: bold\">C.</span> <span style=\"color: #800000; text-decoration-color: #800000; font-weight: bold\">Schpoont</span> 7 (ISL) SOC IAL SCIENCES (ten\n",
       "elected) <span style=\"color: #800000; text-decoration-color: #800000; font-weight: bold\">C.</span> <span style=\"color: #800000; text-decoration-color: #800000; font-weight: bold\">Gray</span> 138 (ISL) <span style=\"color: #800000; text-decoration-color: #800000; font-weight: bold\">D.</span> Utley 132 (ISL), <span style=\"color: #800000; text-decoration-color: #800000; font-weight: bold\">B.</span> <span style=\"color: #800000; text-decoration-color: #800000; font-weight: bold\">Mac</span> <span style=\"color: #800000; text-decoration-color: #800000; font-weight: bold\">Lach</span> <span style=\"color: #800000; text-decoration-color: #800000; font-weight: bold\">Ian</span> 127 (ISL); <span style=\"color: #800000; text-decoration-color: #800000; font-weight: bold\">A.</span> <span style=\"color: #800000; text-decoration-color: #800000; font-weight: bold\">Solomon</span> 126 \n",
       "(ISL) <span style=\"color: #800000; text-decoration-color: #800000; font-weight: bold\">J.</span> <span style=\"color: #800000; text-decoration-color: #800000; font-weight: bold\">Stanford</span> 124 (ISL) <span style=\"color: #800000; text-decoration-color: #800000; font-weight: bold\">M.</span> <span style=\"color: #800000; text-decoration-color: #800000; font-weight: bold\">Baron</span> 120 (ISL) <span style=\"color: #800000; text-decoration-color: #800000; font-weight: bold\">D.</span> <span style=\"color: #800000; text-decoration-color: #800000; font-weight: bold\">(</span> <span style=\"color: #800000; text-decoration-color: #800000; font-weight: bold\">ass</span> 118 (ISL) <span style=\"color: #800000; text-decoration-color: #800000; font-weight: bold\">P.</span> Breslow 103 (SRP); <span style=\"color: #800000; text-decoration-color: #800000; font-weight: bold\">J.</span> <span style=\"color: #800000; text-decoration-color: #800000; font-weight: bold\">S.</span>\n",
       "Burbach 102 (ISL)! <span style=\"color: #800000; text-decoration-color: #800000; font-weight: bold\">D.</span> <span style=\"color: #800000; text-decoration-color: #800000; font-weight: bold\">Weiss</span> 102 (ISL) <span style=\"color: #800000; text-decoration-color: #800000; font-weight: bold\">Robert</span> <span style=\"color: #800000; text-decoration-color: #800000; font-weight: bold\">Trees</span> 98 (SRP) <span style=\"color: #800000; text-decoration-color: #800000; font-weight: bold\">A.</span> <span style=\"color: #800000; text-decoration-color: #800000; font-weight: bold\">C.</span> <span style=\"color: #800000; text-decoration-color: #800000; font-weight: bold\">Graff</span> 97 (SRP)I <span style=\"color: #800000; text-decoration-color: #800000; font-weight: bold\">Milt</span> <span style=\"color: #800000; text-decoration-color: #800000; font-weight: bold\">Kotler</span>\n",
       "95 (SRP)! Rhoda <span style=\"color: #800000; text-decoration-color: #800000; font-weight: bold\">Sadigur</span> 91 (SRP)] <span style=\"color: #800000; text-decoration-color: #800000; font-weight: bold\">C.</span> Swenson 95 (SRP)] <span style=\"color: #800000; text-decoration-color: #800000; font-weight: bold\">Don</span> <span style=\"color: #800000; text-decoration-color: #800000; font-weight: bold\">Anderson</span> 92 (SRP) <span style=\"color: #800000; text-decoration-color: #800000; font-weight: bold\">Jim</span> <span style=\"color: #800000; text-decoration-color: #800000; font-weight: bold\">Flynn</span> 92 \n",
       "(SRP): <span style=\"color: #800000; text-decoration-color: #800000; font-weight: bold\">Lucius</span> <span style=\"color: #800000; text-decoration-color: #800000; font-weight: bold\">Meine</span> 83 (SRP) <span style=\"color: #800000; text-decoration-color: #800000; font-weight: bold\">Robert</span> <span style=\"color: #800000; text-decoration-color: #800000; font-weight: bold\">Thomas</span> 83 (SRP)] October 29, 1954 THE <span style=\"color: #000080; text-decoration-color: #000080; font-weight: bold\">CHICAGO</span> MAR^ ON \n",
       "Page 6 \n",
       "</pre>\n"
      ],
      "text/plain": [
       "\u001b[1;31mByron\u001b[0m \u001b[1;31mRainey\u001b[0m 88 (ISL) \u001b[1;31mMario\u001b[0m \u001b[1;31mBaur\u001b[0m 73 (ISL) \u001b[1;31mRobert\u001b[0m Giedt 71 (ISL) \u001b[1;31mEli\u001b[0m \u001b[1;31mStein\u001b[0m 70 (ISL) \u001b[1;31mRobert\u001b[0m \n",
       "\u001b[1;31mMarch\u001b[0m 53 (SRP) \u001b[1;31mMorris\u001b[0m \u001b[1;31mHirsch\u001b[0m 47 (SRP) \u001b[1;31mM.\u001b[0m \u001b[1;31mIngberman\u001b[0m 47 (SRP) \u001b[1;31mM.\u001b[0m Prastein 42 (SRP). SOCIAL \n",
       "SERVICES ADMINISTRATION \u001b[1;31m.\u001b[0m \u001b[1;31mDorothy\u001b[0m \u001b[1;31mIngersoll\u001b[0m 8 (ISL) \u001b[1;31mC.\u001b[0m \u001b[1;31mSchpoont\u001b[0m 7 (ISL) SOC IAL SCIENCES (ten\n",
       "elected) \u001b[1;31mC.\u001b[0m \u001b[1;31mGray\u001b[0m 138 (ISL) \u001b[1;31mD.\u001b[0m Utley 132 (ISL), \u001b[1;31mB.\u001b[0m \u001b[1;31mMac\u001b[0m \u001b[1;31mLach\u001b[0m \u001b[1;31mIan\u001b[0m 127 (ISL); \u001b[1;31mA.\u001b[0m \u001b[1;31mSolomon\u001b[0m 126 \n",
       "(ISL) \u001b[1;31mJ.\u001b[0m \u001b[1;31mStanford\u001b[0m 124 (ISL) \u001b[1;31mM.\u001b[0m \u001b[1;31mBaron\u001b[0m 120 (ISL) \u001b[1;31mD.\u001b[0m \u001b[1;31m(\u001b[0m \u001b[1;31mass\u001b[0m 118 (ISL) \u001b[1;31mP.\u001b[0m Breslow 103 (SRP); \u001b[1;31mJ.\u001b[0m \u001b[1;31mS.\u001b[0m\n",
       "Burbach 102 (ISL)! \u001b[1;31mD.\u001b[0m \u001b[1;31mWeiss\u001b[0m 102 (ISL) \u001b[1;31mRobert\u001b[0m \u001b[1;31mTrees\u001b[0m 98 (SRP) \u001b[1;31mA.\u001b[0m \u001b[1;31mC.\u001b[0m \u001b[1;31mGraff\u001b[0m 97 (SRP)I \u001b[1;31mMilt\u001b[0m \u001b[1;31mKotler\u001b[0m\n",
       "95 (SRP)! Rhoda \u001b[1;31mSadigur\u001b[0m 91 (SRP)] \u001b[1;31mC.\u001b[0m Swenson 95 (SRP)] \u001b[1;31mDon\u001b[0m \u001b[1;31mAnderson\u001b[0m 92 (SRP) \u001b[1;31mJim\u001b[0m \u001b[1;31mFlynn\u001b[0m 92 \n",
       "(SRP): \u001b[1;31mLucius\u001b[0m \u001b[1;31mMeine\u001b[0m 83 (SRP) \u001b[1;31mRobert\u001b[0m \u001b[1;31mThomas\u001b[0m 83 (SRP)] October 29, 1954 THE \u001b[1;34mCHICAGO\u001b[0m MAR^ ON \n",
       "Page 6 \n"
      ]
     },
     "metadata": {},
     "output_type": "display_data"
    },
    {
     "name": "stdout",
     "output_type": "stream",
     "text": [
      "Text 74\n"
     ]
    },
    {
     "data": {
      "text/html": [
       "<pre style=\"white-space:pre;overflow-x:auto;line-height:normal;font-family:Menlo,'DejaVu Sans Mono',consolas,'Courier New',monospace\">Lyric theatre opens season with'Norma' <span style=\"color: #000080; text-decoration-color: #000080; font-weight: bold\">The</span> <span style=\"color: #000080; text-decoration-color: #000080; font-weight: bold\">Chicago</span> Lyric' theatre, which restores resident \n",
       "grand opera to <span style=\"color: #000080; text-decoration-color: #000080; font-weight: bold\">Chicago,</span> opens its season Sunday at the <span style=\"color: #008000; text-decoration-color: #008000; font-weight: bold\">Civic</span> opera house with <span style=\"color: #800000; text-decoration-color: #800000; font-weight: bold\">Bellini’s</span> \n",
       "Norma. Tickets ma.y be purchased at the box office from noon to 6 p.m. <span style=\"color: #800000; text-decoration-color: #800000; font-weight: bold\">Rosanna</span> <span style=\"color: #800000; text-decoration-color: #800000; font-weight: bold\">Carteri</span> as she\n",
       "will appear in <span style=\"color: #000080; text-decoration-color: #000080; font-weight: bold\">La</span> <span style=\"color: #000080; text-decoration-color: #000080; font-weight: bold\">Boheme</span> Saturday evening, November 13. <span style=\"color: #000080; text-decoration-color: #000080; font-weight: bold\">Appleton</span> <span style=\"color: #000080; text-decoration-color: #000080; font-weight: bold\">and</span> <span style=\"color: #000080; text-decoration-color: #000080; font-weight: bold\">Field</span> concert \n",
       "interesting but not outstanding A program of two-piano music fs not usually a thrilling \n",
       "prospect, <span style=\"color: #000080; text-decoration-color: #000080; font-weight: bold\">and</span> it must be admitted that the first <span style=\"color: #000080; text-decoration-color: #000080; font-weight: bold\">University</span> concert last Friday, a recital by\n",
       "<span style=\"color: #800000; text-decoration-color: #800000; font-weight: bold\">Vera</span> <span style=\"color: #000080; text-decoration-color: #000080; font-weight: bold\">Appleton</span> <span style=\"color: #000080; text-decoration-color: #000080; font-weight: bold\">and</span> <span style=\"color: #800000; text-decoration-color: #800000; font-weight: bold\">Michael</span> <span style=\"color: #000080; text-decoration-color: #000080; font-weight: bold\">Field,</span> was considerably more interesting than one would expect. \n",
       "<span style=\"color: #000080; text-decoration-color: #000080; font-weight: bold\">Their</span> rendition of Brahms’ Variations on a <span style=\"color: #000080; text-decoration-color: #000080; font-weight: bold\">Theme</span> by <span style=\"color: #800000; text-decoration-color: #800000; font-weight: bold\">Haydn</span> (better known in its subsequent \n",
       "orchestral version), after a \n",
       "</pre>\n"
      ],
      "text/plain": [
       "Lyric theatre opens season with'Norma' \u001b[1;34mThe\u001b[0m \u001b[1;34mChicago\u001b[0m Lyric' theatre, which restores resident \n",
       "grand opera to \u001b[1;34mChicago,\u001b[0m opens its season Sunday at the \u001b[1;32mCivic\u001b[0m opera house with \u001b[1;31mBellini’s\u001b[0m \n",
       "Norma. Tickets ma.y be purchased at the box office from noon to 6 p.m. \u001b[1;31mRosanna\u001b[0m \u001b[1;31mCarteri\u001b[0m as she\n",
       "will appear in \u001b[1;34mLa\u001b[0m \u001b[1;34mBoheme\u001b[0m Saturday evening, November 13. \u001b[1;34mAppleton\u001b[0m \u001b[1;34mand\u001b[0m \u001b[1;34mField\u001b[0m concert \n",
       "interesting but not outstanding A program of two-piano music fs not usually a thrilling \n",
       "prospect, \u001b[1;34mand\u001b[0m it must be admitted that the first \u001b[1;34mUniversity\u001b[0m concert last Friday, a recital by\n",
       "\u001b[1;31mVera\u001b[0m \u001b[1;34mAppleton\u001b[0m \u001b[1;34mand\u001b[0m \u001b[1;31mMichael\u001b[0m \u001b[1;34mField,\u001b[0m was considerably more interesting than one would expect. \n",
       "\u001b[1;34mTheir\u001b[0m rendition of Brahms’ Variations on a \u001b[1;34mTheme\u001b[0m by \u001b[1;31mHaydn\u001b[0m (better known in its subsequent \n",
       "orchestral version), after a \n"
      ]
     },
     "metadata": {},
     "output_type": "display_data"
    },
    {
     "name": "stdout",
     "output_type": "stream",
     "text": [
      "Text 75\n"
     ]
    },
    {
     "data": {
      "text/html": [
       "<pre style=\"white-space:pre;overflow-x:auto;line-height:normal;font-family:Menlo,'DejaVu Sans Mono',consolas,'Courier New',monospace\">rather shaky start exhibited some fine and sententious playing, albeit with frequent yubatos.\n",
       "<span style=\"color: #800000; text-decoration-color: #800000; font-weight: bold\">Stravinsky’s</span> Concerto for Two Pianos Without Accompaniment, which followed, was flashily and \n",
       "noisily performed; it uses the instruments almost entirely percussively. with the usual \n",
       "“clashing harmonies and biting rhythms’’ of the composer’s later style. The first movement is\n",
       "a rather effective display piece, but the tepid and aimless slow movement and the rcpe.titive\n",
       "third became very tiresome with their unpianistic conception. Although the <span style=\"color: #800000; text-decoration-color: #800000; font-weight: bold\">Bartok</span> pieces from\n",
       "Mikrokosmos were particularly well done, the high point of the recital was, curiously, n o t \n",
       "originally written for two pianos, not was it on the printed program. \n",
       "</pre>\n"
      ],
      "text/plain": [
       "rather shaky start exhibited some fine and sententious playing, albeit with frequent yubatos.\n",
       "\u001b[1;31mStravinsky’s\u001b[0m Concerto for Two Pianos Without Accompaniment, which followed, was flashily and \n",
       "noisily performed; it uses the instruments almost entirely percussively. with the usual \n",
       "“clashing harmonies and biting rhythms’’ of the composer’s later style. The first movement is\n",
       "a rather effective display piece, but the tepid and aimless slow movement and the rcpe.titive\n",
       "third became very tiresome with their unpianistic conception. Although the \u001b[1;31mBartok\u001b[0m pieces from\n",
       "Mikrokosmos were particularly well done, the high point of the recital was, curiously, n o t \n",
       "originally written for two pianos, not was it on the printed program. \n"
      ]
     },
     "metadata": {},
     "output_type": "display_data"
    },
    {
     "name": "stdout",
     "output_type": "stream",
     "text": [
      "Text 76\n"
     ]
    },
    {
     "data": {
      "text/html": [
       "<pre style=\"white-space:pre;overflow-x:auto;line-height:normal;font-family:Menlo,'DejaVu Sans Mono',consolas,'Courier New',monospace\">Even considering the limitations of the literature, one would have preferred hearing fewer \n",
       "piano versions of orchestra pieces. The 19th - century - style arrangement of a Bach chorale \n",
       "prelude which served as an encore rather accentuated this impression. This was a remarkable \n",
       "arrangement of <span style=\"color: #800000; text-decoration-color: #800000; font-weight: bold\">Debussy's</span> Fetes by <span style=\"color: #800000; text-decoration-color: #800000; font-weight: bold\">Maurice</span> <span style=\"color: #800000; text-decoration-color: #800000; font-weight: bold\">Ravel,</span> which the duo played with much spirit and \n",
       "feeling, although it could hardly replace the orchestral version. <span style=\"color: #800000; text-decoration-color: #800000; font-weight: bold\">Ravel’s</span> own Feria was \n",
       "considerably less effective. <span style=\"color: #000080; text-decoration-color: #000080; font-weight: bold\">Bob</span> <span style=\"color: #000080; text-decoration-color: #000080; font-weight: bold\">Bloch</span> <span style=\"color: #000080; text-decoration-color: #000080; font-weight: bold\">Playwrights</span> <span style=\"color: #000080; text-decoration-color: #000080; font-weight: bold\">Theatre</span> <span style=\"color: #000080; text-decoration-color: #000080; font-weight: bold\">Club</span> 1205 <span style=\"color: #008000; text-decoration-color: #008000; font-weight: bold\">N.</span> <span style=\"color: #800000; text-decoration-color: #800000; font-weight: bold\">Dearborn</span> CHEKHOV'S \n",
       "the Sunday at 7:30 Tues, thru <span style=\"color: #008000; text-decoration-color: #008000; font-weight: bold\">Sat.,</span> 8:30 Memberships or reserv WU ations available at <span style=\"color: #000080; text-decoration-color: #000080; font-weight: bold\">Student</span>\n",
       "<span style=\"color: #000080; text-decoration-color: #000080; font-weight: bold\">Government</span> Ticket <span style=\"color: #000080; text-decoration-color: #000080; font-weight: bold\">Agency</span> or call WHitehall 3-227? 'La Ronde' tricky trifle \n",
       "</pre>\n"
      ],
      "text/plain": [
       "Even considering the limitations of the literature, one would have preferred hearing fewer \n",
       "piano versions of orchestra pieces. The 19th - century - style arrangement of a Bach chorale \n",
       "prelude which served as an encore rather accentuated this impression. This was a remarkable \n",
       "arrangement of \u001b[1;31mDebussy's\u001b[0m Fetes by \u001b[1;31mMaurice\u001b[0m \u001b[1;31mRavel,\u001b[0m which the duo played with much spirit and \n",
       "feeling, although it could hardly replace the orchestral version. \u001b[1;31mRavel’s\u001b[0m own Feria was \n",
       "considerably less effective. \u001b[1;34mBob\u001b[0m \u001b[1;34mBloch\u001b[0m \u001b[1;34mPlaywrights\u001b[0m \u001b[1;34mTheatre\u001b[0m \u001b[1;34mClub\u001b[0m 1205 \u001b[1;32mN.\u001b[0m \u001b[1;31mDearborn\u001b[0m CHEKHOV'S \n",
       "the Sunday at 7:30 Tues, thru \u001b[1;32mSat.,\u001b[0m 8:30 Memberships or reserv WU ations available at \u001b[1;34mStudent\u001b[0m\n",
       "\u001b[1;34mGovernment\u001b[0m Ticket \u001b[1;34mAgency\u001b[0m or call WHitehall 3-227? 'La Ronde' tricky trifle \n"
      ]
     },
     "metadata": {},
     "output_type": "display_data"
    },
    {
     "name": "stdout",
     "output_type": "stream",
     "text": [
      "Text 77\n"
     ]
    },
    {
     "data": {
      "text/html": [
       "<pre style=\"white-space:pre;overflow-x:auto;line-height:normal;font-family:Menlo,'DejaVu Sans Mono',consolas,'Courier New',monospace\"><span style=\"color: #800000; text-decoration-color: #800000; font-weight: bold\">Nature,</span> working through the cold and inscrutable judgment of a film booker, has presented \n",
       "during the past week at the <span style=\"color: #008000; text-decoration-color: #008000; font-weight: bold\">Hyde</span> <span style=\"color: #008000; text-decoration-color: #008000; font-weight: bold\">Park</span> theatre an almost perfectly controlled cinematic \n",
       "experiment. <span style=\"color: #800000; text-decoration-color: #800000; font-weight: bold\">Max</span> <span style=\"color: #800000; text-decoration-color: #800000; font-weight: bold\">Ophuls’</span> La Ronde and <span style=\"color: #800000; text-decoration-color: #800000; font-weight: bold\">Thorold</span> <span style=\"color: #800000; text-decoration-color: #800000; font-weight: bold\">Dickinson’s</span> Gaslight are both adapted from \n",
       "plays. Both are approximajfcely the same magnitude in significance: Gaslight is based bn \n",
       "frankly melodramatic premises, while La Ronde is from <span style=\"color: #800000; text-decoration-color: #800000; font-weight: bold\">Schnitzler’s</span> tracky psychological \n",
       "trifle. They differ simply in that La Ronde is a distressingly poor film while Gaslight is a \n",
       "work of consummate craftmanship. \n",
       "</pre>\n"
      ],
      "text/plain": [
       "\u001b[1;31mNature,\u001b[0m working through the cold and inscrutable judgment of a film booker, has presented \n",
       "during the past week at the \u001b[1;32mHyde\u001b[0m \u001b[1;32mPark\u001b[0m theatre an almost perfectly controlled cinematic \n",
       "experiment. \u001b[1;31mMax\u001b[0m \u001b[1;31mOphuls’\u001b[0m La Ronde and \u001b[1;31mThorold\u001b[0m \u001b[1;31mDickinson’s\u001b[0m Gaslight are both adapted from \n",
       "plays. Both are approximajfcely the same magnitude in significance: Gaslight is based bn \n",
       "frankly melodramatic premises, while La Ronde is from \u001b[1;31mSchnitzler’s\u001b[0m tracky psychological \n",
       "trifle. They differ simply in that La Ronde is a distressingly poor film while Gaslight is a \n",
       "work of consummate craftmanship. \n"
      ]
     },
     "metadata": {},
     "output_type": "display_data"
    },
    {
     "name": "stdout",
     "output_type": "stream",
     "text": [
      "Text 78\n"
     ]
    },
    {
     "data": {
      "text/html": [
       "<pre style=\"white-space:pre;overflow-x:auto;line-height:normal;font-family:Menlo,'DejaVu Sans Mono',consolas,'Courier New',monospace\">The problem of understanding why one film is a .failure and the other is not, in this case, \n",
       "resolves itself into seeing what characteristic stylistic elements, what approach to subject \n",
       "matter and the film medium each director has utilized. <span style=\"color: #800000; text-decoration-color: #800000; font-weight: bold\">Ophuls</span> doomed himself to almost \n",
       "certain failure by the use of devices that just never seem to be convincing on the screen. \n",
       "Chief among there was the use of a “Mr. <span style=\"color: #800000; text-decoration-color: #800000; font-weight: bold\">Fate”</span> character to further the action. And it wasn’t \n",
       "merely the off-key- singing and horrendous posturing of Mr. Walbrook that caused this. \n",
       "Placement of the action in the context of a never-never-land betrays the most fundamental \n",
       "principle of convincing cinema. \n",
       "</pre>\n"
      ],
      "text/plain": [
       "The problem of understanding why one film is a .failure and the other is not, in this case, \n",
       "resolves itself into seeing what characteristic stylistic elements, what approach to subject \n",
       "matter and the film medium each director has utilized. \u001b[1;31mOphuls\u001b[0m doomed himself to almost \n",
       "certain failure by the use of devices that just never seem to be convincing on the screen. \n",
       "Chief among there was the use of a “Mr. \u001b[1;31mFate”\u001b[0m character to further the action. And it wasn’t \n",
       "merely the off-key- singing and horrendous posturing of Mr. Walbrook that caused this. \n",
       "Placement of the action in the context of a never-never-land betrays the most fundamental \n",
       "principle of convincing cinema. \n"
      ]
     },
     "metadata": {},
     "output_type": "display_data"
    },
    {
     "name": "stdout",
     "output_type": "stream",
     "text": [
      "Text 79\n"
     ]
    },
    {
     "data": {
      "text/html": [
       "<pre style=\"white-space:pre;overflow-x:auto;line-height:normal;font-family:Menlo,'DejaVu Sans Mono',consolas,'Courier New',monospace\">The basis for <span style=\"color: #800000; text-decoration-color: #800000; font-weight: bold\">Dickinson’s</span> style lies in the realization that any characters or devices \n",
       "interposed between direct visual presentation of the action tend to destroy the unity and \n",
       "rhythm of the film. <span style=\"color: #800000; text-decoration-color: #800000; font-weight: bold\">Dickinson</span> is a master of using objects in a way that illuminates and \n",
       "interacts with the world of character and action. In the opening sequence, the slashed \n",
       "furniture a demented murderer leaves in the wake of his search reflects the chaos of his \n",
       "mind, the frenzy of his action, and the condition of his victim, now dying as just such a \n",
       "bundle of useless rubbish. Again in the flickering of the \n",
       "</pre>\n"
      ],
      "text/plain": [
       "The basis for \u001b[1;31mDickinson’s\u001b[0m style lies in the realization that any characters or devices \n",
       "interposed between direct visual presentation of the action tend to destroy the unity and \n",
       "rhythm of the film. \u001b[1;31mDickinson\u001b[0m is a master of using objects in a way that illuminates and \n",
       "interacts with the world of character and action. In the opening sequence, the slashed \n",
       "furniture a demented murderer leaves in the wake of his search reflects the chaos of his \n",
       "mind, the frenzy of his action, and the condition of his victim, now dying as just such a \n",
       "bundle of useless rubbish. Again in the flickering of the \n"
      ]
     },
     "metadata": {},
     "output_type": "display_data"
    },
    {
     "name": "stdout",
     "output_type": "stream",
     "text": [
      "Text 80\n"
     ]
    },
    {
     "data": {
      "text/html": [
       "<pre style=\"white-space:pre;overflow-x:auto;line-height:normal;font-family:Menlo,'DejaVu Sans Mono',consolas,'Courier New',monospace\">gaslight as the husband leaves the attic we feel the emotional fluttering of his wife’s \n",
       "fears, doubts and anguish as she lies on hei' bed. In themselves trifles, these devices \n",
       "become significant when they make up the complex seam less texture of the film. Perhaps it is\n",
       "this element of not being told everything, of participating in more than a passive way, that \n",
       "sets the difference between good and poor cinema. <span style=\"color: #000080; text-decoration-color: #000080; font-weight: bold\">F.</span> <span style=\"color: #000080; text-decoration-color: #000080; font-weight: bold\">G.</span> <span style=\"color: #000080; text-decoration-color: #000080; font-weight: bold\">Ternenyl</span> RENTALS Cameras Tape \n",
       "Recorders <span style=\"color: #000080; text-decoration-color: #000080; font-weight: bold\">.</span> Slide Projectors Movie Projectors We are pleased to offer the above equipment on \n",
       "liberal rental terms, by day or week. PHOTOGRAPHIC DEPT. UNIVERSITY of <span style=\"color: #008000; text-decoration-color: #008000; font-weight: bold\">CHICAGO</span> When you \n",
       "pause...make it count...have a Coke BOOKSTORE 5802 <span style=\"color: #008000; text-decoration-color: #008000; font-weight: bold\">Ellis</span> <span style=\"color: #008000; text-decoration-color: #008000; font-weight: bold\">Avenue</span> BOTTLED UNDER AUTHORITY OP \n",
       "THE <span style=\"color: #008000; text-decoration-color: #008000; font-weight: bold\">COCA</span> <span style=\"color: #008000; text-decoration-color: #008000; font-weight: bold\">COLA</span> <span style=\"color: #008000; text-decoration-color: #008000; font-weight: bold\">COMPANY</span> BY \n",
       "</pre>\n"
      ],
      "text/plain": [
       "gaslight as the husband leaves the attic we feel the emotional fluttering of his wife’s \n",
       "fears, doubts and anguish as she lies on hei' bed. In themselves trifles, these devices \n",
       "become significant when they make up the complex seam less texture of the film. Perhaps it is\n",
       "this element of not being told everything, of participating in more than a passive way, that \n",
       "sets the difference between good and poor cinema. \u001b[1;34mF.\u001b[0m \u001b[1;34mG.\u001b[0m \u001b[1;34mTernenyl\u001b[0m RENTALS Cameras Tape \n",
       "Recorders \u001b[1;34m.\u001b[0m Slide Projectors Movie Projectors We are pleased to offer the above equipment on \n",
       "liberal rental terms, by day or week. PHOTOGRAPHIC DEPT. UNIVERSITY of \u001b[1;32mCHICAGO\u001b[0m When you \n",
       "pause...make it count...have a Coke BOOKSTORE 5802 \u001b[1;32mEllis\u001b[0m \u001b[1;32mAvenue\u001b[0m BOTTLED UNDER AUTHORITY OP \n",
       "THE \u001b[1;32mCOCA\u001b[0m \u001b[1;32mCOLA\u001b[0m \u001b[1;32mCOMPANY\u001b[0m BY \n"
      ]
     },
     "metadata": {},
     "output_type": "display_data"
    },
    {
     "name": "stdout",
     "output_type": "stream",
     "text": [
      "Text 81\n"
     ]
    },
    {
     "data": {
      "text/html": [
       "<pre style=\"white-space:pre;overflow-x:auto;line-height:normal;font-family:Menlo,'DejaVu Sans Mono',consolas,'Courier New',monospace\">The <span style=\"color: #000080; text-decoration-color: #000080; font-weight: bold\">Coco-Colo</span> <span style=\"color: #000080; text-decoration-color: #000080; font-weight: bold\">Bottling</span> <span style=\"color: #000080; text-decoration-color: #000080; font-weight: bold\">Company</span> <span style=\"color: #000080; text-decoration-color: #000080; font-weight: bold\">of</span> <span style=\"color: #008000; text-decoration-color: #008000; font-weight: bold\">Chicogo,</span> <span style=\"color: #000080; text-decoration-color: #000080; font-weight: bold\">Inc.</span> i registered trade mark. © 1953, The \n",
       "<span style=\"color: #000080; text-decoration-color: #000080; font-weight: bold\">Coca-Cola</span> <span style=\"color: #000080; text-decoration-color: #000080; font-weight: bold\">Compaq</span> t i^** <span style=\"color: #800000; text-decoration-color: #800000; font-weight: bold\">Paul</span> <span style=\"color: #800000; text-decoration-color: #800000; font-weight: bold\">Robeson</span> Sings Tonight hew \"Silvered-Tip\" writes the way you do \n",
       "fine, medium or broad with Au* changing points. Re(fills available in blue, red, / green or \n",
       "black ink. Goto 1 <span style=\"color: #008000; text-decoration-color: #008000; font-weight: bold\">Paper-Mate</span> Pen today! at the <span style=\"color: #008000; text-decoration-color: #008000; font-weight: bold\">Pershing</span> <span style=\"color: #008000; text-decoration-color: #008000; font-weight: bold\">Hotel</span> « Mm approve I Ink can’t #m«&lt; \n",
       "er transfer ~~ * Can't Wa/ Silvered-Tip refills... 49f A Program Devoted Exclusively to Songs\n",
       "by <span style=\"color: #800000; text-decoration-color: #800000; font-weight: bold\">Paul</span> <span style=\"color: #800000; text-decoration-color: #800000; font-weight: bold\">Robeson</span> PRESENTED BY THE CHICAGO COMMITTEE FOR A PAUL ROBESON CONCERT Tonight — \n",
       "Friday, Oct. 29th Admission $1.00 6400 <span style=\"color: #008000; text-decoration-color: #008000; font-weight: bold\">S.</span> <span style=\"color: #000080; text-decoration-color: #000080; font-weight: bold\">Cottage</span> <span style=\"color: #008000; text-decoration-color: #008000; font-weight: bold\">Grove</span> October 29, 1954 THE CHICAGO MAROON \n",
       "Records fall as runners beat Albion; Team, course, and attendance marks set by <span style=\"color: #008000; text-decoration-color: #008000; font-weight: bold\">Pau!</span> Baptist \n",
       "</pre>\n"
      ],
      "text/plain": [
       "The \u001b[1;34mCoco-Colo\u001b[0m \u001b[1;34mBottling\u001b[0m \u001b[1;34mCompany\u001b[0m \u001b[1;34mof\u001b[0m \u001b[1;32mChicogo,\u001b[0m \u001b[1;34mInc.\u001b[0m i registered trade mark. © 1953, The \n",
       "\u001b[1;34mCoca-Cola\u001b[0m \u001b[1;34mCompaq\u001b[0m t i^** \u001b[1;31mPaul\u001b[0m \u001b[1;31mRobeson\u001b[0m Sings Tonight hew \"Silvered-Tip\" writes the way you do \n",
       "fine, medium or broad with Au* changing points. Re(fills available in blue, red, / green or \n",
       "black ink. Goto 1 \u001b[1;32mPaper-Mate\u001b[0m Pen today! at the \u001b[1;32mPershing\u001b[0m \u001b[1;32mHotel\u001b[0m « Mm approve I Ink can’t #m«< \n",
       "er transfer ~~ * Can't Wa/ Silvered-Tip refills... 49f A Program Devoted Exclusively to Songs\n",
       "by \u001b[1;31mPaul\u001b[0m \u001b[1;31mRobeson\u001b[0m PRESENTED BY THE CHICAGO COMMITTEE FOR A PAUL ROBESON CONCERT Tonight — \n",
       "Friday, Oct. 29th Admission $1.00 6400 \u001b[1;32mS.\u001b[0m \u001b[1;34mCottage\u001b[0m \u001b[1;32mGrove\u001b[0m October 29, 1954 THE CHICAGO MAROON \n",
       "Records fall as runners beat Albion; Team, course, and attendance marks set by \u001b[1;32mPau!\u001b[0m Baptist \n"
      ]
     },
     "metadata": {},
     "output_type": "display_data"
    },
    {
     "name": "stdout",
     "output_type": "stream",
     "text": [
      "Text 82\n"
     ]
    },
    {
     "data": {
      "text/html": [
       "<pre style=\"white-space:pre;overflow-x:auto;line-height:normal;font-family:Menlo,'DejaVu Sans Mono',consolas,'Courier New',monospace\">The <span style=\"color: #000080; text-decoration-color: #000080; font-weight: bold\">UC</span> harriers resumed their winning ways last Saturday with <span style=\"color: #000080; text-decoration-color: #000080; font-weight: bold\">Booters</span> lose a resounding 17-46\n",
       "triumph over <span style=\"color: #000080; text-decoration-color: #000080; font-weight: bold\">Albion</span> <span style=\"color: #000080; text-decoration-color: #000080; font-weight: bold\">College</span> on the <span style=\"color: #000080; text-decoration-color: #000080; font-weight: bold\">Albion</span> home course Saturday. <span style=\"color: #800000; text-decoration-color: #800000; font-weight: bold\">Walt</span> <span style=\"color: #800000; text-decoration-color: #800000; font-weight: bold\">Deike</span> finished far ahead\n",
       "of the pack in a brilliant 21:28 lime for the four mile course. <span style=\"color: #800000; text-decoration-color: #800000; font-weight: bold\">Jim</span> <span style=\"color: #800000; text-decoration-color: #800000; font-weight: bold\">Flynn</span> moved into the \n",
       "number two spot with an excellent time of 21:57. and <span style=\"color: #800000; text-decoration-color: #800000; font-weight: bold\">Art</span> Omuhundro, only two seconds behind, \n",
       "got third. <span style=\"color: #800000; text-decoration-color: #800000; font-weight: bold\">Chapman</span> of <span style=\"color: #000080; text-decoration-color: #000080; font-weight: bold\">Albion</span> finished fourth, closely escorted by <span style=\"color: #800000; text-decoration-color: #800000; font-weight: bold\">Lowell</span> <span style=\"color: #800000; text-decoration-color: #800000; font-weight: bold\">Hawkinson,</span> <span style=\"color: #800000; text-decoration-color: #800000; font-weight: bold\">Ted</span> \n",
       "<span style=\"color: #800000; text-decoration-color: #800000; font-weight: bold\">Fishman,</span> Tihkie <span style=\"color: #800000; text-decoration-color: #800000; font-weight: bold\">Heyns</span> and <span style=\"color: #800000; text-decoration-color: #800000; font-weight: bold\">Paul</span> <span style=\"color: #800000; text-decoration-color: #800000; font-weight: bold\">Baptist</span> to put the clincher on another decisice victory for \n",
       "the <span style=\"color: #000080; text-decoration-color: #000080; font-weight: bold\">UC</span> gang. Highlights of the meet were: 1) <span style=\"color: #800000; text-decoration-color: #800000; font-weight: bold\">Walt</span> <span style=\"color: #800000; text-decoration-color: #800000; font-weight: bold\">Deike's</span> sparkling 21:28 time which set a \n",
       "new course record for four miles. 2) The <span style=\"color: #008000; text-decoration-color: #008000; font-weight: bold\">Chicago</span> win which snapped the harriers’ longest \n",
       "losing \n",
       "</pre>\n"
      ],
      "text/plain": [
       "The \u001b[1;34mUC\u001b[0m harriers resumed their winning ways last Saturday with \u001b[1;34mBooters\u001b[0m lose a resounding 17-46\n",
       "triumph over \u001b[1;34mAlbion\u001b[0m \u001b[1;34mCollege\u001b[0m on the \u001b[1;34mAlbion\u001b[0m home course Saturday. \u001b[1;31mWalt\u001b[0m \u001b[1;31mDeike\u001b[0m finished far ahead\n",
       "of the pack in a brilliant 21:28 lime for the four mile course. \u001b[1;31mJim\u001b[0m \u001b[1;31mFlynn\u001b[0m moved into the \n",
       "number two spot with an excellent time of 21:57. and \u001b[1;31mArt\u001b[0m Omuhundro, only two seconds behind, \n",
       "got third. \u001b[1;31mChapman\u001b[0m of \u001b[1;34mAlbion\u001b[0m finished fourth, closely escorted by \u001b[1;31mLowell\u001b[0m \u001b[1;31mHawkinson,\u001b[0m \u001b[1;31mTed\u001b[0m \n",
       "\u001b[1;31mFishman,\u001b[0m Tihkie \u001b[1;31mHeyns\u001b[0m and \u001b[1;31mPaul\u001b[0m \u001b[1;31mBaptist\u001b[0m to put the clincher on another decisice victory for \n",
       "the \u001b[1;34mUC\u001b[0m gang. Highlights of the meet were: 1) \u001b[1;31mWalt\u001b[0m \u001b[1;31mDeike's\u001b[0m sparkling 21:28 time which set a \n",
       "new course record for four miles. 2) The \u001b[1;32mChicago\u001b[0m win which snapped the harriers’ longest \n",
       "losing \n"
      ]
     },
     "metadata": {},
     "output_type": "display_data"
    },
    {
     "name": "stdout",
     "output_type": "stream",
     "text": [
      "Text 83\n"
     ]
    },
    {
     "data": {
      "text/html": [
       "<pre style=\"white-space:pre;overflow-x:auto;line-height:normal;font-family:Menlo,'DejaVu Sans Mono',consolas,'Courier New',monospace\">CAMPUS FOOD SHOP Delicatessen - <span style=\"color: #800000; text-decoration-color: #800000; font-weight: bold\">Rakery</span> Leave your party orders with us 1369 <span style=\"color: #008000; text-decoration-color: #008000; font-weight: bold\">E.</span> <span style=\"color: #008000; text-decoration-color: #008000; font-weight: bold\">57th</span> <span style=\"color: #008000; text-decoration-color: #008000; font-weight: bold\">St.</span> \n",
       "<span style=\"color: #008000; text-decoration-color: #008000; font-weight: bold\">Midway</span> 3-7229 streak in two years: one game. 3) For the first time in <span style=\"color: #000080; text-decoration-color: #000080; font-weight: bold\">UC</span> history seven \n",
       "<span style=\"color: #008000; text-decoration-color: #008000; font-weight: bold\">Chicago</span> runners finished with times inside 23 minutes. 4) The largest crowd ever to attend a \n",
       "<span style=\"color: #000080; text-decoration-color: #000080; font-weight: bold\">UC</span> cross country race was recorded when 300 young <span style=\"color: #008000; text-decoration-color: #008000; font-weight: bold\">Michigan</span> high school runners stayed after \n",
       "their race to watch the college meet. Tomorrow more records may crumble as the <span style=\"color: #000080; text-decoration-color: #000080; font-weight: bold\">UC</span> harriers \n",
       "meet <span style=\"color: #000080; text-decoration-color: #000080; font-weight: bold\">Wright</span> and <span style=\"color: #000080; text-decoration-color: #000080; font-weight: bold\">Wisconsin</span> <span style=\"color: #008000; text-decoration-color: #008000; font-weight: bold\">State</span> at 12 noon in <span style=\"color: #008000; text-decoration-color: #008000; font-weight: bold\">Washington</span> <span style=\"color: #008000; text-decoration-color: #008000; font-weight: bold\">park.</span> <span style=\"color: #000080; text-decoration-color: #000080; font-weight: bold\">Navy</span> <span style=\"color: #000080; text-decoration-color: #000080; font-weight: bold\">Pier</span> defeated <span style=\"color: #008000; text-decoration-color: #008000; font-weight: bold\">Chicago</span> 3-2\n",
       "last Saturday in the best played soccer game seen on <span style=\"color: #008000; text-decoration-color: #008000; font-weight: bold\">Stagg</span> field so far this season. \n",
       "</pre>\n"
      ],
      "text/plain": [
       "CAMPUS FOOD SHOP Delicatessen - \u001b[1;31mRakery\u001b[0m Leave your party orders with us 1369 \u001b[1;32mE.\u001b[0m \u001b[1;32m57th\u001b[0m \u001b[1;32mSt.\u001b[0m \n",
       "\u001b[1;32mMidway\u001b[0m 3-7229 streak in two years: one game. 3) For the first time in \u001b[1;34mUC\u001b[0m history seven \n",
       "\u001b[1;32mChicago\u001b[0m runners finished with times inside 23 minutes. 4) The largest crowd ever to attend a \n",
       "\u001b[1;34mUC\u001b[0m cross country race was recorded when 300 young \u001b[1;32mMichigan\u001b[0m high school runners stayed after \n",
       "their race to watch the college meet. Tomorrow more records may crumble as the \u001b[1;34mUC\u001b[0m harriers \n",
       "meet \u001b[1;34mWright\u001b[0m and \u001b[1;34mWisconsin\u001b[0m \u001b[1;32mState\u001b[0m at 12 noon in \u001b[1;32mWashington\u001b[0m \u001b[1;32mpark.\u001b[0m \u001b[1;34mNavy\u001b[0m \u001b[1;34mPier\u001b[0m defeated \u001b[1;32mChicago\u001b[0m 3-2\n",
       "last Saturday in the best played soccer game seen on \u001b[1;32mStagg\u001b[0m field so far this season. \n"
      ]
     },
     "metadata": {},
     "output_type": "display_data"
    },
    {
     "name": "stdout",
     "output_type": "stream",
     "text": [
      "Text 84\n"
     ]
    },
    {
     "data": {
      "text/html": [
       "<pre style=\"white-space:pre;overflow-x:auto;line-height:normal;font-family:Menlo,'DejaVu Sans Mono',consolas,'Courier New',monospace\">The <span style=\"color: #000080; text-decoration-color: #000080; font-weight: bold\">Illini</span> started at a rapid pace and repeatedly threatened to score early in the game. Even\n",
       "so it was <span style=\"color: #000080; text-decoration-color: #000080; font-weight: bold\">Maroon</span> forward <span style=\"color: #800000; text-decoration-color: #800000; font-weight: bold\">John</span> <span style=\"color: #800000; text-decoration-color: #800000; font-weight: bold\">Godfrey</span> who drew first blood with a shot from fifteen yards \n",
       "out. Only minutes later <span style=\"color: #000080; text-decoration-color: #000080; font-weight: bold\">Navy</span> <span style=\"color: #000080; text-decoration-color: #000080; font-weight: bold\">Pier</span> replied with a goal scored after a corner kick, and the \n",
       "half ended without further tallies. <span style=\"color: #800000; text-decoration-color: #800000; font-weight: bold\">Godfrey</span> almost scored again on a penalty kick, but the \n",
       "boot was brilliantly Advertisement — Advertisement — Advertisement — Advertisement On Campus \n",
       "w&amp;W i (Author 0/ “Barefoot Boy With Che9k^ tic.) HOME, SWEET HOMECOMING \n",
       "</pre>\n"
      ],
      "text/plain": [
       "The \u001b[1;34mIllini\u001b[0m started at a rapid pace and repeatedly threatened to score early in the game. Even\n",
       "so it was \u001b[1;34mMaroon\u001b[0m forward \u001b[1;31mJohn\u001b[0m \u001b[1;31mGodfrey\u001b[0m who drew first blood with a shot from fifteen yards \n",
       "out. Only minutes later \u001b[1;34mNavy\u001b[0m \u001b[1;34mPier\u001b[0m replied with a goal scored after a corner kick, and the \n",
       "half ended without further tallies. \u001b[1;31mGodfrey\u001b[0m almost scored again on a penalty kick, but the \n",
       "boot was brilliantly Advertisement — Advertisement — Advertisement — Advertisement On Campus \n",
       "w&W i (Author 0/ “Barefoot Boy With Che9k^ tic.) HOME, SWEET HOMECOMING \n"
      ]
     },
     "metadata": {},
     "output_type": "display_data"
    },
    {
     "name": "stdout",
     "output_type": "stream",
     "text": [
      "Text 85\n"
     ]
    },
    {
     "data": {
      "text/html": [
       "<pre style=\"white-space:pre;overflow-x:auto;line-height:normal;font-family:Menlo,'DejaVu Sans Mono',consolas,'Courier New',monospace\">A great number of people have been asking me lately, “What is Homecoming?” Yesterday, for \n",
       "example, as I walked from my house to the establishment of Mr. <span style=\"color: #800000; text-decoration-color: #800000; font-weight: bold\">Sigafoos,</span> the local \n",
       "lepidopterist where 1 had left a half dozen luna moths to be mounted — a distance of no more \n",
       "than three blocks — 1’11 wager that well over a thousand people stopped me and said, \"What is\n",
       "Homecoming?” \n",
       "</pre>\n"
      ],
      "text/plain": [
       "A great number of people have been asking me lately, “What is Homecoming?” Yesterday, for \n",
       "example, as I walked from my house to the establishment of Mr. \u001b[1;31mSigafoos,\u001b[0m the local \n",
       "lepidopterist where 1 had left a half dozen luna moths to be mounted — a distance of no more \n",
       "than three blocks — 1’11 wager that well over a thousand people stopped me and said, \"What is\n",
       "Homecoming?” \n"
      ]
     },
     "metadata": {},
     "output_type": "display_data"
    },
    {
     "name": "stdout",
     "output_type": "stream",
     "text": [
      "Text 86\n"
     ]
    },
    {
     "data": {
      "text/html": [
       "<pre style=\"white-space:pre;overflow-x:auto;line-height:normal;font-family:Menlo,'DejaVu Sans Mono',consolas,'Courier New',monospace\">Well, what with company coming for dinner and the cook down with a recurrence of breakbone \n",
       "fever, I could not tarry to answer their questions. “Read my column next week,” I cried to \n",
       "them. “I’ll tell all about Homecoming.” With that I brushed past and raced home to baste the \n",
       "mallard and apply poultices to the cook, who, despite my unending ministrations, expired \n",
       "quietly during the night, a woman in her prime, scarcely 108 years old. Though her passing \n",
       "grieved me, it was some satisfaction to be able to grant her last wish — to be buried at sea \n",
       "— which is no small task when you live in <span style=\"color: #008000; text-decoration-color: #008000; font-weight: bold\">Pierre,</span> <span style=\"color: #008000; text-decoration-color: #008000; font-weight: bold\">South</span> <span style=\"color: #008000; text-decoration-color: #008000; font-weight: bold\">Dakota.</span> With the dinner guests fed \n",
       "and the cook laid to her watery rest, I put out the cat and turned to the problem of \n",
       "Homecoming. \n",
       "</pre>\n"
      ],
      "text/plain": [
       "Well, what with company coming for dinner and the cook down with a recurrence of breakbone \n",
       "fever, I could not tarry to answer their questions. “Read my column next week,” I cried to \n",
       "them. “I’ll tell all about Homecoming.” With that I brushed past and raced home to baste the \n",
       "mallard and apply poultices to the cook, who, despite my unending ministrations, expired \n",
       "quietly during the night, a woman in her prime, scarcely 108 years old. Though her passing \n",
       "grieved me, it was some satisfaction to be able to grant her last wish — to be buried at sea \n",
       "— which is no small task when you live in \u001b[1;32mPierre,\u001b[0m \u001b[1;32mSouth\u001b[0m \u001b[1;32mDakota.\u001b[0m With the dinner guests fed \n",
       "and the cook laid to her watery rest, I put out the cat and turned to the problem of \n",
       "Homecoming. \n"
      ]
     },
     "metadata": {},
     "output_type": "display_data"
    },
    {
     "name": "stdout",
     "output_type": "stream",
     "text": [
      "Text 87\n"
     ]
    },
    {
     "data": {
      "text/html": [
       "<pre style=\"white-space:pre;overflow-x:auto;line-height:normal;font-family:Menlo,'DejaVu Sans Mono',consolas,'Courier New',monospace\">First of all, let us define Homecoming. Homecoming is a weekend when old graduates return to \n",
       "their alma maters to see a football game, ingest great quantities of food and drink, and \n",
       "inspect each other's bald spot!# This occasion is marked by the singing of old songs, the \n",
       "slapping of old backs, and the frequent utterance of such outcries as “Harry, you old \n",
       "polecat!” or \"Harry, you old rooster!” or \"Harry, you old wombat!” or \"Harry, you old \n",
       "mandrill!” All old grads are named <span style=\"color: #800000; text-decoration-color: #800000; font-weight: bold\">Harry.</span> \n",
       "</pre>\n"
      ],
      "text/plain": [
       "First of all, let us define Homecoming. Homecoming is a weekend when old graduates return to \n",
       "their alma maters to see a football game, ingest great quantities of food and drink, and \n",
       "inspect each other's bald spot!# This occasion is marked by the singing of old songs, the \n",
       "slapping of old backs, and the frequent utterance of such outcries as “Harry, you old \n",
       "polecat!” or \"Harry, you old rooster!” or \"Harry, you old wombat!” or \"Harry, you old \n",
       "mandrill!” All old grads are named \u001b[1;31mHarry.\u001b[0m \n"
      ]
     },
     "metadata": {},
     "output_type": "display_data"
    },
    {
     "name": "stdout",
     "output_type": "stream",
     "text": [
      "Text 88\n"
     ]
    },
    {
     "data": {
      "text/html": [
       "<pre style=\"white-space:pre;overflow-x:auto;line-height:normal;font-family:Menlo,'DejaVu Sans Mono',consolas,'Courier New',monospace\">During Homecoming the members of the faculty behave with unaccustomed animation. They laugh \n",
       "and smile and pound backs and keep shouting, \"Harry, you old retriever!” These unscholariy \n",
       "actions are performed in the hope that the old grads, in a transport of bonhomie, will endow \n",
       "a new geology building. \n",
       "</pre>\n"
      ],
      "text/plain": [
       "During Homecoming the members of the faculty behave with unaccustomed animation. They laugh \n",
       "and smile and pound backs and keep shouting, \"Harry, you old retriever!” These unscholariy \n",
       "actions are performed in the hope that the old grads, in a transport of bonhomie, will endow \n",
       "a new geology building. \n"
      ]
     },
     "metadata": {},
     "output_type": "display_data"
    },
    {
     "name": "stdout",
     "output_type": "stream",
     "text": [
      "Text 89\n"
     ]
    },
    {
     "data": {
      "text/html": [
       "<pre style=\"white-space:pre;overflow-x:auto;line-height:normal;font-family:Menlo,'DejaVu Sans Mono',consolas,'Courier New',monospace\">The old grads, however, are seldom seduced. By game time on Saturday, their backs are so \n",
       "sore, their eyes so bleary, and their livers so sluggish that it is impossible to get a kind \n",
       "word out of them, much less a new geology building. \"Hmphh!” they snort as the home team \n",
       "completes a 101 yard march to a touchdown. \"Call that football? Why, back in my day they’d \n",
       "have been over on the first down. By <span style=\"color: #800000; text-decoration-color: #800000; font-weight: bold\">George,</span> football was football back in those days — not \n",
       "this namby pamby girls game that passes for football today. Why, look at that bench. Fifty \n",
       "substitutes sitting there! Why, in my day, there were eleven men on a team and that was it. \n",
       "When you broke a leg, you got taped up and went right back in. Why, I remember the big game \n",
       "against <span style=\"color: #000080; text-decoration-color: #000080; font-weight: bold\">State.</span> <span style=\"color: #800000; text-decoration-color: #800000; font-weight: bold\">Harry</span> <span style=\"color: #800000; text-decoration-color: #800000; font-weight: bold\">Wallaby,</span> our star quarterback, was killed in the third quarter. I mean \n",
       "he was pronounced dead. But did that stop old <span style=\"color: #800000; text-decoration-color: #800000; font-weight: bold\">Harry?</span> Not on your tintype! Back in he went and\n",
       "kicked the winning drop-kick in the last four seconds of play, dead as he was. Back in my \n",
       "day, they played fool bull, by <span style=\"color: #800000; text-decoration-color: #800000; font-weight: bold\">George!”</span> \n",
       "</pre>\n"
      ],
      "text/plain": [
       "The old grads, however, are seldom seduced. By game time on Saturday, their backs are so \n",
       "sore, their eyes so bleary, and their livers so sluggish that it is impossible to get a kind \n",
       "word out of them, much less a new geology building. \"Hmphh!” they snort as the home team \n",
       "completes a 101 yard march to a touchdown. \"Call that football? Why, back in my day they’d \n",
       "have been over on the first down. By \u001b[1;31mGeorge,\u001b[0m football was football back in those days — not \n",
       "this namby pamby girls game that passes for football today. Why, look at that bench. Fifty \n",
       "substitutes sitting there! Why, in my day, there were eleven men on a team and that was it. \n",
       "When you broke a leg, you got taped up and went right back in. Why, I remember the big game \n",
       "against \u001b[1;34mState.\u001b[0m \u001b[1;31mHarry\u001b[0m \u001b[1;31mWallaby,\u001b[0m our star quarterback, was killed in the third quarter. I mean \n",
       "he was pronounced dead. But did that stop old \u001b[1;31mHarry?\u001b[0m Not on your tintype! Back in he went and\n",
       "kicked the winning drop-kick in the last four seconds of play, dead as he was. Back in my \n",
       "day, they played fool bull, by \u001b[1;31mGeorge!”\u001b[0m \n"
      ]
     },
     "metadata": {},
     "output_type": "display_data"
    },
    {
     "name": "stdout",
     "output_type": "stream",
     "text": [
      "Text 90\n"
     ]
    },
    {
     "data": {
      "text/html": [
       "<pre style=\"white-space:pre;overflow-x:auto;line-height:normal;font-family:Menlo,'DejaVu Sans Mono',consolas,'Courier New',monospace\">Everything, say the old grads, was better back in their day — everything except one. Even the\n",
       "most unreconstructed of the old grads has to admit that back in his day they never had a \n",
       "smoke like today’s vintage <span style=\"color: #000080; text-decoration-color: #000080; font-weight: bold\">Philip</span> <span style=\"color: #000080; text-decoration-color: #000080; font-weight: bold\">Morris</span> — never anything so mild and pleasing, day in day \n",
       "out, at study or at play, in sunshine or in shower, on grassy bank or musty taproom, afoot or\n",
       "ahorse, at home or abroad, any time, any weather, anywhere. \n",
       "</pre>\n"
      ],
      "text/plain": [
       "Everything, say the old grads, was better back in their day — everything except one. Even the\n",
       "most unreconstructed of the old grads has to admit that back in his day they never had a \n",
       "smoke like today’s vintage \u001b[1;34mPhilip\u001b[0m \u001b[1;34mMorris\u001b[0m — never anything so mild and pleasing, day in day \n",
       "out, at study or at play, in sunshine or in shower, on grassy bank or musty taproom, afoot or\n",
       "ahorse, at home or abroad, any time, any weather, anywhere. \n"
      ]
     },
     "metadata": {},
     "output_type": "display_data"
    },
    {
     "name": "stdout",
     "output_type": "stream",
     "text": [
      "Text 91\n"
     ]
    },
    {
     "data": {
      "text/html": [
       "<pre style=\"white-space:pre;overflow-x:auto;line-height:normal;font-family:Menlo,'DejaVu Sans Mono',consolas,'Courier New',monospace\">I take up next another important aspect of Homecoming — the decorations in front of the \n",
       "fraternity house. Well do I remember one Homecoming of my undergraduate days. The game was \n",
       "against <span style=\"color: #000080; text-decoration-color: #000080; font-weight: bold\">Princeton.</span> The Homecoming slogan was \"Hold That Tiger!” Each fraternity house built a\n",
       "decoration to reflect that slogan, and on the morning of the game a group of dignitaries \n",
       "toured <span style=\"color: #008000; text-decoration-color: #008000; font-weight: bold\">Fraternity</span> <span style=\"color: #008000; text-decoration-color: #008000; font-weight: bold\">Row</span> to inspect the decorations and award a prize for the best. \n",
       "</pre>\n"
      ],
      "text/plain": [
       "I take up next another important aspect of Homecoming — the decorations in front of the \n",
       "fraternity house. Well do I remember one Homecoming of my undergraduate days. The game was \n",
       "against \u001b[1;34mPrinceton.\u001b[0m The Homecoming slogan was \"Hold That Tiger!” Each fraternity house built a\n",
       "decoration to reflect that slogan, and on the morning of the game a group of dignitaries \n",
       "toured \u001b[1;32mFraternity\u001b[0m \u001b[1;32mRow\u001b[0m to inspect the decorations and award a prize for the best. \n"
      ]
     },
     "metadata": {},
     "output_type": "display_data"
    },
    {
     "name": "stdout",
     "output_type": "stream",
     "text": [
      "Text 92\n"
     ]
    },
    {
     "data": {
      "text/html": [
       "<pre style=\"white-space:pre;overflow-x:auto;line-height:normal;font-family:Menlo,'DejaVu Sans Mono',consolas,'Courier New',monospace\">The decoration chairman at our house was an enterprising young man named <span style=\"color: #800000; text-decoration-color: #800000; font-weight: bold\">Rex</span> <span style=\"color: #800000; text-decoration-color: #800000; font-weight: bold\">Sigafoos,</span> nephew\n",
       "of the famous lepidopterist. <span style=\"color: #800000; text-decoration-color: #800000; font-weight: bold\">Rex</span> surveyed <span style=\"color: #008000; text-decoration-color: #008000; font-weight: bold\">Fraternity</span> <span style=\"color: #008000; text-decoration-color: #008000; font-weight: bold\">Row,</span> came back to our house and said, \n",
       "\"All the other houses are building cardboard cages with cardboard tigers inside of them. We \n",
       "need to do something different — and I’ve got it. We’re going to have a real cage with a real\n",
       "tiger inside of it —a snarling, clawing, slashing, real live tiger!” \"Crikey!” we breathed. \n",
       "\"But where will you get him?” \"I’ll borrow him from the zoo,” said <span style=\"color: #800000; text-decoration-color: #800000; font-weight: bold\">Rex,</span> and sure enough, he \n",
       "did. \n",
       "</pre>\n"
      ],
      "text/plain": [
       "The decoration chairman at our house was an enterprising young man named \u001b[1;31mRex\u001b[0m \u001b[1;31mSigafoos,\u001b[0m nephew\n",
       "of the famous lepidopterist. \u001b[1;31mRex\u001b[0m surveyed \u001b[1;32mFraternity\u001b[0m \u001b[1;32mRow,\u001b[0m came back to our house and said, \n",
       "\"All the other houses are building cardboard cages with cardboard tigers inside of them. We \n",
       "need to do something different — and I’ve got it. We’re going to have a real cage with a real\n",
       "tiger inside of it —a snarling, clawing, slashing, real live tiger!” \"Crikey!” we breathed. \n",
       "\"But where will you get him?” \"I’ll borrow him from the zoo,” said \u001b[1;31mRex,\u001b[0m and sure enough, he \n",
       "did. \n"
      ]
     },
     "metadata": {},
     "output_type": "display_data"
    },
    {
     "name": "stdout",
     "output_type": "stream",
     "text": [
      "Text 93\n"
     ]
    },
    {
     "data": {
      "text/html": [
       "<pre style=\"white-space:pre;overflow-x:auto;line-height:normal;font-family:Menlo,'DejaVu Sans Mono',consolas,'Courier New',monospace\">Well sir, you can imagine what a sensation it was on Homecoming morning. The judges drove \n",
       "along nodding politely at cardboard tigers in cardboard cages and suddenly they came to our \n",
       "house. No sham beast in a sham cage here! No sir! A real tiger in a real cage — a great \n",
       "striped jungle killer who slashed and roared and snarled and dashed himself against the bars \n",
       "of his cage with maniacal fury. \n",
       "</pre>\n"
      ],
      "text/plain": [
       "Well sir, you can imagine what a sensation it was on Homecoming morning. The judges drove \n",
       "along nodding politely at cardboard tigers in cardboard cages and suddenly they came to our \n",
       "house. No sham beast in a sham cage here! No sir! A real tiger in a real cage — a great \n",
       "striped jungle killer who slashed and roared and snarled and dashed himself against the bars \n",
       "of his cage with maniacal fury. \n"
      ]
     },
     "metadata": {},
     "output_type": "display_data"
    },
    {
     "name": "stdout",
     "output_type": "stream",
     "text": [
      "Text 94\n"
     ]
    },
    {
     "data": {
      "text/html": [
       "<pre style=\"white-space:pre;overflow-x:auto;line-height:normal;font-family:Menlo,'DejaVu Sans Mono',consolas,'Courier New',monospace\">There can be no doubt that we would have easily taken first prize had not the tiger knocked \n",
       "out the bars of the cage and leaped into the official car and devoured Mr. <span style=\"color: #800000; text-decoration-color: #800000; font-weight: bold\">August</span> <span style=\"color: #800000; text-decoration-color: #800000; font-weight: bold\">Schlemmer,</span> \n",
       "the governor of the state, Mr. <span style=\"color: #800000; text-decoration-color: #800000; font-weight: bold\">Wilson</span> Ardsley <span style=\"color: #800000; text-decoration-color: #800000; font-weight: bold\">Devereaux,</span> president of the university, Dr. <span style=\"color: #800000; text-decoration-color: #800000; font-weight: bold\">O.</span> \n",
       "<span style=\"color: #800000; text-decoration-color: #800000; font-weight: bold\">P.</span> <span style=\"color: #800000; text-decoration-color: #800000; font-weight: bold\">Gransmire,</span> author of <span style=\"color: #800000; text-decoration-color: #800000; font-weight: bold\">A</span> Treasury of the World’s Great Southpaws: <span style=\"color: #800000; text-decoration-color: #800000; font-weight: bold\">An</span> Anthology of Left Hand \n",
       "Literature, Mr. <span style=\"color: #800000; text-decoration-color: #800000; font-weight: bold\">Harrison</span> <span style=\"color: #800000; text-decoration-color: #800000; font-weight: bold\">J.</span> <span style=\"color: #800000; text-decoration-color: #800000; font-weight: bold\">Teed,</span> commissioner of weights and measures, Mrs. <span style=\"color: #800000; text-decoration-color: #800000; font-weight: bold\">Amy</span> <span style=\"color: #800000; text-decoration-color: #800000; font-weight: bold\">Dorr</span> \n",
       "Nesbitt, inventor of the clarinet, Mr. <span style=\"color: #800000; text-decoration-color: #800000; font-weight: bold\">Jarrett</span> Thrum, world’s 135 pound lacrosse champion, \n",
       "Mr. <span style=\"color: #800000; text-decoration-color: #800000; font-weight: bold\">Peter</span> <span style=\"color: #800000; text-decoration-color: #800000; font-weight: bold\">Bennett</span> <span style=\"color: #800000; text-decoration-color: #800000; font-weight: bold\">Hough,</span> editor of the literary quarterly <span style=\"color: #000080; text-decoration-color: #000080; font-weight: bold\">Spasm,</span> and Mrs. <span style=\"color: #800000; text-decoration-color: #800000; font-weight: bold\">Ora</span> <span style=\"color: #800000; text-decoration-color: #800000; font-weight: bold\">Wells</span> Anthony, \n",
       "first woman to tunnel under the <span style=\"color: #008000; text-decoration-color: #008000; font-weight: bold\">North</span> Platte <span style=\"color: #008000; text-decoration-color: #008000; font-weight: bold\">River.</span> ©Max shuiman, 1954 \n",
       "</pre>\n"
      ],
      "text/plain": [
       "There can be no doubt that we would have easily taken first prize had not the tiger knocked \n",
       "out the bars of the cage and leaped into the official car and devoured Mr. \u001b[1;31mAugust\u001b[0m \u001b[1;31mSchlemmer,\u001b[0m \n",
       "the governor of the state, Mr. \u001b[1;31mWilson\u001b[0m Ardsley \u001b[1;31mDevereaux,\u001b[0m president of the university, Dr. \u001b[1;31mO.\u001b[0m \n",
       "\u001b[1;31mP.\u001b[0m \u001b[1;31mGransmire,\u001b[0m author of \u001b[1;31mA\u001b[0m Treasury of the World’s Great Southpaws: \u001b[1;31mAn\u001b[0m Anthology of Left Hand \n",
       "Literature, Mr. \u001b[1;31mHarrison\u001b[0m \u001b[1;31mJ.\u001b[0m \u001b[1;31mTeed,\u001b[0m commissioner of weights and measures, Mrs. \u001b[1;31mAmy\u001b[0m \u001b[1;31mDorr\u001b[0m \n",
       "Nesbitt, inventor of the clarinet, Mr. \u001b[1;31mJarrett\u001b[0m Thrum, world’s 135 pound lacrosse champion, \n",
       "Mr. \u001b[1;31mPeter\u001b[0m \u001b[1;31mBennett\u001b[0m \u001b[1;31mHough,\u001b[0m editor of the literary quarterly \u001b[1;34mSpasm,\u001b[0m and Mrs. \u001b[1;31mOra\u001b[0m \u001b[1;31mWells\u001b[0m Anthony, \n",
       "first woman to tunnel under the \u001b[1;32mNorth\u001b[0m Platte \u001b[1;32mRiver.\u001b[0m ©Max shuiman, 1954 \n"
      ]
     },
     "metadata": {},
     "output_type": "display_data"
    },
    {
     "name": "stdout",
     "output_type": "stream",
     "text": [
      "Text 95\n"
     ]
    },
    {
     "data": {
      "text/html": [
       "<pre style=\"white-space:pre;overflow-x:auto;line-height:normal;font-family:Menlo,'DejaVu Sans Mono',consolas,'Courier New',monospace\">This column is brought to you by the makers of PHILIP MORRIS who think you would enjoy their \n",
       "cigarette. Now back to a full staff of 6 Barbers at the REYNOLDS CLUB BARBER SHOP 57&lt;h AND \n",
       "UNIVERSITY Waiting time will be a minimum 9-5 Mon. - Fri. — 9-1 Saturday oil BROOKS BROTHERS \n",
       "SPORTWEAR an interesting new selection that's colorful, exclusive and distinctive We’ve an \n",
       "outstanding selection of new Fall sportwear items...including lightweight wool jersey knit \n",
       "sport jackets, miniature Tartan wool Odd Vests, tanlovat covert Odd Trousers... and a host of\n",
       "practical, attractive outerwear items, sport shirts, sweaters, etc as well as all our \n",
       "traditional favorites. Catalogue upon request. <span style=\"color: #000080; text-decoration-color: #000080; font-weight: bold\">SSTABLISHID</span> 1l1t liens furnishings, flats ^f \n",
       "hoes \n",
       "</pre>\n"
      ],
      "text/plain": [
       "This column is brought to you by the makers of PHILIP MORRIS who think you would enjoy their \n",
       "cigarette. Now back to a full staff of 6 Barbers at the REYNOLDS CLUB BARBER SHOP 57<h AND \n",
       "UNIVERSITY Waiting time will be a minimum 9-5 Mon. - Fri. — 9-1 Saturday oil BROOKS BROTHERS \n",
       "SPORTWEAR an interesting new selection that's colorful, exclusive and distinctive We’ve an \n",
       "outstanding selection of new Fall sportwear items...including lightweight wool jersey knit \n",
       "sport jackets, miniature Tartan wool Odd Vests, tanlovat covert Odd Trousers... and a host of\n",
       "practical, attractive outerwear items, sport shirts, sweaters, etc as well as all our \n",
       "traditional favorites. Catalogue upon request. \u001b[1;34mSSTABLISHID\u001b[0m 1l1t liens furnishings, flats ^f \n",
       "hoes \n"
      ]
     },
     "metadata": {},
     "output_type": "display_data"
    },
    {
     "name": "stdout",
     "output_type": "stream",
     "text": [
      "Text 96\n"
     ]
    },
    {
     "data": {
      "text/html": [
       "<pre style=\"white-space:pre;overflow-x:auto;line-height:normal;font-family:Menlo,'DejaVu Sans Mono',consolas,'Courier New',monospace\">346 <span style=\"color: #000080; text-decoration-color: #000080; font-weight: bold\">MADISON</span> AVENUE, COR. 44TH ST., <span style=\"color: #008000; text-decoration-color: #008000; font-weight: bold\">NEW</span> YORK 17, <span style=\"color: #008000; text-decoration-color: #008000; font-weight: bold\">N.</span> <span style=\"color: #008000; text-decoration-color: #008000; font-weight: bold\">Y.</span> BOSTON • <span style=\"color: #000080; text-decoration-color: #000080; font-weight: bold\">CHICAGO</span> • LOS <span style=\"color: #008000; text-decoration-color: #008000; font-weight: bold\">ANGELES</span> • <span style=\"color: #008000; text-decoration-color: #008000; font-weight: bold\">SAN</span> \n",
       "FRANCISCO saved by the <span style=\"color: #000080; text-decoration-color: #000080; font-weight: bold\">Illini</span> goalie. The second half began auspiciously for <span style=\"color: #000080; text-decoration-color: #000080; font-weight: bold\">Chicago.</span> <span style=\"color: #800000; text-decoration-color: #800000; font-weight: bold\">In</span> what\n",
       "was perhaps the finest solo play of the year, <span style=\"color: #800000; text-decoration-color: #800000; font-weight: bold\">Godfrey</span> dribbled the ball forty yards into the \n",
       "<span style=\"color: #008000; text-decoration-color: #008000; font-weight: bold\">Navy</span> <span style=\"color: #008000; text-decoration-color: #008000; font-weight: bold\">Pier</span> goal. <span style=\"color: #000080; text-decoration-color: #000080; font-weight: bold\">Chicago</span> elation was shortlived, however. Fifteen seconds later the <span style=\"color: #000080; text-decoration-color: #000080; font-weight: bold\">Illini</span> \n",
       "roared down the field, drew goalie <span style=\"color: #800000; text-decoration-color: #800000; font-weight: bold\">Jerry</span> Czamanske out of position, and gave Ihor <span style=\"color: #800000; text-decoration-color: #800000; font-weight: bold\">Dachnivsky</span> \n",
       "a chance to tap the ball into the net to event the score. 2-2. The winning goal came late in \n",
       "the last quarter when a long, fast ground ball took a tremendous hop over the <span style=\"color: #000080; text-decoration-color: #000080; font-weight: bold\">Maroon</span> \n",
       "goalkeeper's head, surprising everyone. <span style=\"color: #000080; text-decoration-color: #000080; font-weight: bold\">Chicago</span> was unable to score before time ran out. \n",
       "</pre>\n"
      ],
      "text/plain": [
       "346 \u001b[1;34mMADISON\u001b[0m AVENUE, COR. 44TH ST., \u001b[1;32mNEW\u001b[0m YORK 17, \u001b[1;32mN.\u001b[0m \u001b[1;32mY.\u001b[0m BOSTON • \u001b[1;34mCHICAGO\u001b[0m • LOS \u001b[1;32mANGELES\u001b[0m • \u001b[1;32mSAN\u001b[0m \n",
       "FRANCISCO saved by the \u001b[1;34mIllini\u001b[0m goalie. The second half began auspiciously for \u001b[1;34mChicago.\u001b[0m \u001b[1;31mIn\u001b[0m what\n",
       "was perhaps the finest solo play of the year, \u001b[1;31mGodfrey\u001b[0m dribbled the ball forty yards into the \n",
       "\u001b[1;32mNavy\u001b[0m \u001b[1;32mPier\u001b[0m goal. \u001b[1;34mChicago\u001b[0m elation was shortlived, however. Fifteen seconds later the \u001b[1;34mIllini\u001b[0m \n",
       "roared down the field, drew goalie \u001b[1;31mJerry\u001b[0m Czamanske out of position, and gave Ihor \u001b[1;31mDachnivsky\u001b[0m \n",
       "a chance to tap the ball into the net to event the score. 2-2. The winning goal came late in \n",
       "the last quarter when a long, fast ground ball took a tremendous hop over the \u001b[1;34mMaroon\u001b[0m \n",
       "goalkeeper's head, surprising everyone. \u001b[1;34mChicago\u001b[0m was unable to score before time ran out. \n"
      ]
     },
     "metadata": {},
     "output_type": "display_data"
    },
    {
     "name": "stdout",
     "output_type": "stream",
     "text": [
      "Text 97\n"
     ]
    },
    {
     "data": {
      "text/html": [
       "<pre style=\"white-space:pre;overflow-x:auto;line-height:normal;font-family:Menlo,'DejaVu Sans Mono',consolas,'Courier New',monospace\"><span style=\"color: #000080; text-decoration-color: #000080; font-weight: bold\">Aero</span> aims at filling posts Acrotheatre needs to fill a Tot of empty shoes this fall, but not \n",
       "dancing shoes, according to President <span style=\"color: #800000; text-decoration-color: #800000; font-weight: bold\">John</span> <span style=\"color: #800000; text-decoration-color: #800000; font-weight: bold\">Frey.</span> Although the organization has a fairly full \n",
       "complement of modern, ballet, and afro-cuban dancers. it is lacking managers and \n",
       "administrators for props. sets, makeup, and other tasks. <span style=\"color: #800000; text-decoration-color: #800000; font-weight: bold\">Frey</span> hopes to have these posts \n",
       "filled soon. SPORTS CALENDER Tomorrow: Soccer, <span style=\"color: #008000; text-decoration-color: #008000; font-weight: bold\">Earlham,</span> 9.30 a.m., <span style=\"color: #008000; text-decoration-color: #008000; font-weight: bold\">Stagg</span> <span style=\"color: #008000; text-decoration-color: #008000; font-weight: bold\">Field</span> Cross country,\n",
       "<span style=\"color: #008000; text-decoration-color: #008000; font-weight: bold\">Wright</span> and <span style=\"color: #000080; text-decoration-color: #000080; font-weight: bold\">Wisconsin</span> <span style=\"color: #008000; text-decoration-color: #008000; font-weight: bold\">State,</span> 12 noon, <span style=\"color: #008000; text-decoration-color: #008000; font-weight: bold\">Washington</span> <span style=\"color: #008000; text-decoration-color: #008000; font-weight: bold\">Park</span> <span style=\"color: #000080; text-decoration-color: #000080; font-weight: bold\">Gordon’s</span> <span style=\"color: #000080; text-decoration-color: #000080; font-weight: bold\">Sport</span> <span style=\"color: #000080; text-decoration-color: #000080; font-weight: bold\">Shop</span> <span style=\"color: #000080; text-decoration-color: #000080; font-weight: bold\">Tennis</span> <span style=\"color: #000080; text-decoration-color: #000080; font-weight: bold\">Balls,</span> $6.00 \n",
       "a dozen $16.50 <span style=\"color: #000080; text-decoration-color: #000080; font-weight: bold\">Tennis</span> <span style=\"color: #000080; text-decoration-color: #000080; font-weight: bold\">Rockets,</span> $9.95 3757 <span style=\"color: #008000; text-decoration-color: #008000; font-weight: bold\">Cottage</span> <span style=\"color: #008000; text-decoration-color: #008000; font-weight: bold\">Grove</span>  *’ fusion V5ths Scotch l/5th Yankee \n",
       "71 | What a mixture of fun! I <span style=\"color: #800000; text-decoration-color: #800000; font-weight: bold\">Paul</span> <span style=\"color: #800000; text-decoration-color: #800000; font-weight: bold\">Douglas</span> I <span style=\"color: #800000; text-decoration-color: #800000; font-weight: bold\">Alex</span> <span style=\"color: #800000; text-decoration-color: #800000; font-weight: bold\">Mackenzie</span> I <span style=\"color: #000080; text-decoration-color: #000080; font-weight: bold\">A</span> tasty dish of 4 pure whimsey \n",
       "</pre>\n"
      ],
      "text/plain": [
       "\u001b[1;34mAero\u001b[0m aims at filling posts Acrotheatre needs to fill a Tot of empty shoes this fall, but not \n",
       "dancing shoes, according to President \u001b[1;31mJohn\u001b[0m \u001b[1;31mFrey.\u001b[0m Although the organization has a fairly full \n",
       "complement of modern, ballet, and afro-cuban dancers. it is lacking managers and \n",
       "administrators for props. sets, makeup, and other tasks. \u001b[1;31mFrey\u001b[0m hopes to have these posts \n",
       "filled soon. SPORTS CALENDER Tomorrow: Soccer, \u001b[1;32mEarlham,\u001b[0m 9.30 a.m., \u001b[1;32mStagg\u001b[0m \u001b[1;32mField\u001b[0m Cross country,\n",
       "\u001b[1;32mWright\u001b[0m and \u001b[1;34mWisconsin\u001b[0m \u001b[1;32mState,\u001b[0m 12 noon, \u001b[1;32mWashington\u001b[0m \u001b[1;32mPark\u001b[0m \u001b[1;34mGordon’s\u001b[0m \u001b[1;34mSport\u001b[0m \u001b[1;34mShop\u001b[0m \u001b[1;34mTennis\u001b[0m \u001b[1;34mBalls,\u001b[0m $6.00 \n",
       "a dozen $16.50 \u001b[1;34mTennis\u001b[0m \u001b[1;34mRockets,\u001b[0m $9.95 3757 \u001b[1;32mCottage\u001b[0m \u001b[1;32mGrove\u001b[0m  *’ fusion V5ths Scotch l/5th Yankee \n",
       "71 | What a mixture of fun! I \u001b[1;31mPaul\u001b[0m \u001b[1;31mDouglas\u001b[0m I \u001b[1;31mAlex\u001b[0m \u001b[1;31mMackenzie\u001b[0m I \u001b[1;34mA\u001b[0m tasty dish of 4 pure whimsey \n"
      ]
     },
     "metadata": {},
     "output_type": "display_data"
    },
    {
     "name": "stdout",
     "output_type": "stream",
     "text": [
      "Text 98\n"
     ]
    },
    {
     "data": {
      "text/html": [
       "<pre style=\"white-space:pre;overflow-x:auto;line-height:normal;font-family:Menlo,'DejaVu Sans Mono',consolas,'Courier New',monospace\"><span style=\"color: #008000; text-decoration-color: #008000; font-weight: bold\">Students</span> presenting their ID cards at box office will be admitted for 50c any week night. \n",
       "Saturdays and Sundays until 5 p.m. Eye Examinations Visual Training Dr. <span style=\"color: #800000; text-decoration-color: #800000; font-weight: bold\">Kurt</span> <span style=\"color: #800000; text-decoration-color: #800000; font-weight: bold\">Rosenbaum</span> \n",
       "optometrist 1132 <span style=\"color: #008000; text-decoration-color: #008000; font-weight: bold\">E.</span> <span style=\"color: #008000; text-decoration-color: #008000; font-weight: bold\">55th</span> <span style=\"color: #008000; text-decoration-color: #008000; font-weight: bold\">Street</span> HYde <span style=\"color: #008000; text-decoration-color: #008000; font-weight: bold\">Park</span> 3-8372 <span style=\"color: #800000; text-decoration-color: #800000; font-weight: bold\">Louise</span> <span style=\"color: #800000; text-decoration-color: #800000; font-weight: bold\">Barker</span> photographer \"ivho captures \n",
       "your personality as well as your person'’ 1457 <span style=\"color: #008000; text-decoration-color: #008000; font-weight: bold\">E.</span> <span style=\"color: #008000; text-decoration-color: #008000; font-weight: bold\">57th</span> <span style=\"color: #008000; text-decoration-color: #008000; font-weight: bold\">St.</span> <span style=\"color: #008000; text-decoration-color: #008000; font-weight: bold\">BU</span> 8-0876 THE <span style=\"color: #008000; text-decoration-color: #008000; font-weight: bold\">CHICAGO</span> MAROON \n",
       "October 29, 1954 Page 8 Want Ads Lost am PHOTOGRAPHERS Randolph and <span style=\"color: #800000; text-decoration-color: #800000; font-weight: bold\">Kar</span> Analytic Geometry and\n",
       "Calculus book. No name inside. Finder please return to <span style=\"color: #800000; text-decoration-color: #800000; font-weight: bold\">Edward</span> <span style=\"color: #800000; text-decoration-color: #800000; font-weight: bold\">Kowalski.</span> <span style=\"color: #008000; text-decoration-color: #008000; font-weight: bold\">Hitchcock</span> <span style=\"color: #008000; text-decoration-color: #008000; font-weight: bold\">Hall.</span> Room \n",
       "51. Services Moving? Call Prime Movers. Two husky students, car, trailer. Call MI 3-920 or PL\n",
       "2-6412. Reasonable rates. Mathematical instruction to fit needs of individual or group. \n",
       "<span style=\"color: #800000; text-decoration-color: #800000; font-weight: bold\">Soglin.</span> ST 2-6727. Wanted \n",
       "</pre>\n"
      ],
      "text/plain": [
       "\u001b[1;32mStudents\u001b[0m presenting their ID cards at box office will be admitted for 50c any week night. \n",
       "Saturdays and Sundays until 5 p.m. Eye Examinations Visual Training Dr. \u001b[1;31mKurt\u001b[0m \u001b[1;31mRosenbaum\u001b[0m \n",
       "optometrist 1132 \u001b[1;32mE.\u001b[0m \u001b[1;32m55th\u001b[0m \u001b[1;32mStreet\u001b[0m HYde \u001b[1;32mPark\u001b[0m 3-8372 \u001b[1;31mLouise\u001b[0m \u001b[1;31mBarker\u001b[0m photographer \"ivho captures \n",
       "your personality as well as your person'’ 1457 \u001b[1;32mE.\u001b[0m \u001b[1;32m57th\u001b[0m \u001b[1;32mSt.\u001b[0m \u001b[1;32mBU\u001b[0m 8-0876 THE \u001b[1;32mCHICAGO\u001b[0m MAROON \n",
       "October 29, 1954 Page 8 Want Ads Lost am PHOTOGRAPHERS Randolph and \u001b[1;31mKar\u001b[0m Analytic Geometry and\n",
       "Calculus book. No name inside. Finder please return to \u001b[1;31mEdward\u001b[0m \u001b[1;31mKowalski.\u001b[0m \u001b[1;32mHitchcock\u001b[0m \u001b[1;32mHall.\u001b[0m Room \n",
       "51. Services Moving? Call Prime Movers. Two husky students, car, trailer. Call MI 3-920 or PL\n",
       "2-6412. Reasonable rates. Mathematical instruction to fit needs of individual or group. \n",
       "\u001b[1;31mSoglin.\u001b[0m ST 2-6727. Wanted \n"
      ]
     },
     "metadata": {},
     "output_type": "display_data"
    },
    {
     "name": "stdout",
     "output_type": "stream",
     "text": [
      "Text 99\n"
     ]
    },
    {
     "data": {
      "text/html": [
       "<pre style=\"white-space:pre;overflow-x:auto;line-height:normal;font-family:Menlo,'DejaVu Sans Mono',consolas,'Courier New',monospace\">Used lightweight woman’s bicycle. If you have one for sale call DO 3-1858 or RY 3-7915. \n",
       "Mother to care for my 14-months-old girl in her home; days; near <span style=\"color: #008000; text-decoration-color: #008000; font-weight: bold\">University.</span> PL 2-2958. For \n",
       "Sale Blue ribbed mohair couch and chair. Good condition. $37.50. NO 7-0615. 1947 <span style=\"color: #000080; text-decoration-color: #000080; font-weight: bold\">Kaiser.</span> \n",
       "Pretty fair condition. $85. Call MI 3-0800, Ext. 1588. Sofa. 17-inch <span style=\"color: #000080; text-decoration-color: #000080; font-weight: bold\">Westinghouse</span> TV. Upright\n",
       "vacuum cleaner. Bookcase. <span style=\"color: #000080; text-decoration-color: #000080; font-weight: bold\">Philco</span> radiophonograph. Desk. Best offer. BO 8-4036 before Sunday. \n",
       "<span style=\"color: #008000; text-decoration-color: #008000; font-weight: bold\">Woodlawn</span> near <span style=\"color: #008000; text-decoration-color: #008000; font-weight: bold\">53rd.</span> 2-flat brick. 8 and 7. Each apartment. 4 bedrooms, Pi baths, living, \n",
       "dining, kitchen, screen porch. 8-room has many modern extras. 2-car brick garage, overhead \n",
       "door. Call owner weekends or after 4 p.m. FA 4-7020. \n",
       "</pre>\n"
      ],
      "text/plain": [
       "Used lightweight woman’s bicycle. If you have one for sale call DO 3-1858 or RY 3-7915. \n",
       "Mother to care for my 14-months-old girl in her home; days; near \u001b[1;32mUniversity.\u001b[0m PL 2-2958. For \n",
       "Sale Blue ribbed mohair couch and chair. Good condition. $37.50. NO 7-0615. 1947 \u001b[1;34mKaiser.\u001b[0m \n",
       "Pretty fair condition. $85. Call MI 3-0800, Ext. 1588. Sofa. 17-inch \u001b[1;34mWestinghouse\u001b[0m TV. Upright\n",
       "vacuum cleaner. Bookcase. \u001b[1;34mPhilco\u001b[0m radiophonograph. Desk. Best offer. BO 8-4036 before Sunday. \n",
       "\u001b[1;32mWoodlawn\u001b[0m near \u001b[1;32m53rd.\u001b[0m 2-flat brick. 8 and 7. Each apartment. 4 bedrooms, Pi baths, living, \n",
       "dining, kitchen, screen porch. 8-room has many modern extras. 2-car brick garage, overhead \n",
       "door. Call owner weekends or after 4 p.m. FA 4-7020. \n"
      ]
     },
     "metadata": {},
     "output_type": "display_data"
    },
    {
     "name": "stdout",
     "output_type": "stream",
     "text": [
      "Text 100\n"
     ]
    },
    {
     "data": {
      "text/html": [
       "<pre style=\"white-space:pre;overflow-x:auto;line-height:normal;font-family:Menlo,'DejaVu Sans Mono',consolas,'Courier New',monospace\">Quality photographic enlarger. Slightly used. Perfect condition. 40-60% off. At bookstore \n",
       "photographic. <span style=\"color: #800000; text-decoration-color: #800000; font-weight: bold\">Joe</span> <span style=\"color: #800000; text-decoration-color: #800000; font-weight: bold\">Wolf,</span> ES 5-1615. Drastically reduced—Revere tape radiorecorder. Slightly \n",
       "used. Excellent condition. Portable: 3 speed. Yours for balance payments due; $148. <span style=\"color: #800000; text-decoration-color: #800000; font-weight: bold\">June</span> \n",
       "<span style=\"color: #800000; text-decoration-color: #800000; font-weight: bold\">Johnnaber.</span> Ext. 3296. Evenings HY 3-2 23. s German monocular miscroscope. Five eye-pieces; \n",
       "four objectives. Wooden and plastic cases. $300. NO 7-3136. Help Wanted 4 Salesmen. <span style=\"color: #008000; text-decoration-color: #008000; font-weight: bold\">We</span> pay \n",
       "salary plus commission. Good part-time job for students. Car not necessary. Call 7-8 p.m., <span style=\"color: #008000; text-decoration-color: #008000; font-weight: bold\">CO</span>\n",
       "4-7600. <span style=\"color: #000080; text-decoration-color: #000080; font-weight: bold\">Thompson</span> <span style=\"color: #000080; text-decoration-color: #000080; font-weight: bold\">Movers,</span> 434 <span style=\"color: #008000; text-decoration-color: #008000; font-weight: bold\">W.</span> 125th Pl. Local moving express service to and from freight \n",
       "depots. Rates reasonable. MU 4-0435. <span style=\"color: #800000; text-decoration-color: #800000; font-weight: bold\">John</span> <span style=\"color: #800000; text-decoration-color: #800000; font-weight: bold\">Sutcliffe.</span> \n",
       "</pre>\n"
      ],
      "text/plain": [
       "Quality photographic enlarger. Slightly used. Perfect condition. 40-60% off. At bookstore \n",
       "photographic. \u001b[1;31mJoe\u001b[0m \u001b[1;31mWolf,\u001b[0m ES 5-1615. Drastically reduced—Revere tape radiorecorder. Slightly \n",
       "used. Excellent condition. Portable: 3 speed. Yours for balance payments due; $148. \u001b[1;31mJune\u001b[0m \n",
       "\u001b[1;31mJohnnaber.\u001b[0m Ext. 3296. Evenings HY 3-2 23. s German monocular miscroscope. Five eye-pieces; \n",
       "four objectives. Wooden and plastic cases. $300. NO 7-3136. Help Wanted 4 Salesmen. \u001b[1;32mWe\u001b[0m pay \n",
       "salary plus commission. Good part-time job for students. Car not necessary. Call 7-8 p.m., \u001b[1;32mCO\u001b[0m\n",
       "4-7600. \u001b[1;34mThompson\u001b[0m \u001b[1;34mMovers,\u001b[0m 434 \u001b[1;32mW.\u001b[0m 125th Pl. Local moving express service to and from freight \n",
       "depots. Rates reasonable. MU 4-0435. \u001b[1;31mJohn\u001b[0m \u001b[1;31mSutcliffe.\u001b[0m \n"
      ]
     },
     "metadata": {},
     "output_type": "display_data"
    },
    {
     "name": "stdout",
     "output_type": "stream",
     "text": [
      "Text 101\n"
     ]
    },
    {
     "data": {
      "text/html": [
       "<pre style=\"white-space:pre;overflow-x:auto;line-height:normal;font-family:Menlo,'DejaVu Sans Mono',consolas,'Courier New',monospace\"><span style=\"color: #800000; text-decoration-color: #800000; font-weight: bold\">Carmen’s</span> used furniture store. Moving <span style=\"color: #000080; text-decoration-color: #000080; font-weight: bold\">and</span> light hauling. 1127 <span style=\"color: #008000; text-decoration-color: #008000; font-weight: bold\">E.</span> 55th <span style=\"color: #008000; text-decoration-color: #008000; font-weight: bold\">St.</span> <span style=\"color: #008000; text-decoration-color: #008000; font-weight: bold\">MU</span> 4-9003. Personal\n",
       "Farewell to all my past ana present instructors <span style=\"color: #000080; text-decoration-color: #000080; font-weight: bold\">and</span> other friends. It has been both a \n",
       "pleasure <span style=\"color: #000080; text-decoration-color: #000080; font-weight: bold\">and</span> a wonderful experience knowing you all. I look forward to the day when we may \n",
       "meet again. Sincerely, <span style=\"color: #800000; text-decoration-color: #800000; font-weight: bold\">Marv</span> <span style=\"color: #800000; text-decoration-color: #800000; font-weight: bold\">Lyonus.</span> CARMEN'S <span style=\"color: #000080; text-decoration-color: #000080; font-weight: bold\">Used</span> <span style=\"color: #000080; text-decoration-color: #000080; font-weight: bold\">Furniture</span> <span style=\"color: #008000; text-decoration-color: #008000; font-weight: bold\">Store</span> <span style=\"color: #000080; text-decoration-color: #000080; font-weight: bold\">Typewriters</span> <span style=\"color: #000080; text-decoration-color: #000080; font-weight: bold\">and</span> <span style=\"color: #000080; text-decoration-color: #000080; font-weight: bold\">Desks</span> \n",
       "Moving <span style=\"color: #000080; text-decoration-color: #000080; font-weight: bold\">and</span> Light Hauling 1127 <span style=\"color: #008000; text-decoration-color: #008000; font-weight: bold\">E.</span> 55th <span style=\"color: #008000; text-decoration-color: #008000; font-weight: bold\">MU</span> 4-9003 SAVE TIME — SAVE MONEY <span style=\"color: #000080; text-decoration-color: #000080; font-weight: bold\">N</span> <span style=\"color: #000080; text-decoration-color: #000080; font-weight: bold\">&amp;</span> <span style=\"color: #000080; text-decoration-color: #000080; font-weight: bold\">R</span> Bonded Movers — \n",
       "also — New <span style=\"color: #000080; text-decoration-color: #000080; font-weight: bold\">and</span> <span style=\"color: #000080; text-decoration-color: #000080; font-weight: bold\">Used</span> <span style=\"color: #000080; text-decoration-color: #000080; font-weight: bold\">Furniture</span> <span style=\"color: #008000; text-decoration-color: #008000; font-weight: bold\">Mi</span> 3-4196 1510 <span style=\"color: #008000; text-decoration-color: #008000; font-weight: bold\">E.</span> 55th The <span style=\"color: #000080; text-decoration-color: #000080; font-weight: bold\">College</span> LAUNDERETTE 1449 <span style=\"color: #008000; text-decoration-color: #008000; font-weight: bold\">East</span> <span style=\"color: #008000; text-decoration-color: #008000; font-weight: bold\">57th</span> \n",
       "<span style=\"color: #008000; text-decoration-color: #008000; font-weight: bold\">St.</span> <span style=\"color: #008000; text-decoration-color: #008000; font-weight: bold\">MU</span> 4-9236 BETZ JEWELRY Unusual Jewelry Our Specialty Expert Jewelry <span style=\"color: #000080; text-decoration-color: #000080; font-weight: bold\">and</span> Watch Repair \n",
       "N.S.A. Discount to <span style=\"color: #008000; text-decoration-color: #008000; font-weight: bold\">Students</span> 1523 <span style=\"color: #008000; text-decoration-color: #008000; font-weight: bold\">E.</span> 53rd PL 2-3038 Choose an Expert THOMPSON MOVERS \n",
       "</pre>\n"
      ],
      "text/plain": [
       "\u001b[1;31mCarmen’s\u001b[0m used furniture store. Moving \u001b[1;34mand\u001b[0m light hauling. 1127 \u001b[1;32mE.\u001b[0m 55th \u001b[1;32mSt.\u001b[0m \u001b[1;32mMU\u001b[0m 4-9003. Personal\n",
       "Farewell to all my past ana present instructors \u001b[1;34mand\u001b[0m other friends. It has been both a \n",
       "pleasure \u001b[1;34mand\u001b[0m a wonderful experience knowing you all. I look forward to the day when we may \n",
       "meet again. Sincerely, \u001b[1;31mMarv\u001b[0m \u001b[1;31mLyonus.\u001b[0m CARMEN'S \u001b[1;34mUsed\u001b[0m \u001b[1;34mFurniture\u001b[0m \u001b[1;32mStore\u001b[0m \u001b[1;34mTypewriters\u001b[0m \u001b[1;34mand\u001b[0m \u001b[1;34mDesks\u001b[0m \n",
       "Moving \u001b[1;34mand\u001b[0m Light Hauling 1127 \u001b[1;32mE.\u001b[0m 55th \u001b[1;32mMU\u001b[0m 4-9003 SAVE TIME — SAVE MONEY \u001b[1;34mN\u001b[0m \u001b[1;34m&\u001b[0m \u001b[1;34mR\u001b[0m Bonded Movers — \n",
       "also — New \u001b[1;34mand\u001b[0m \u001b[1;34mUsed\u001b[0m \u001b[1;34mFurniture\u001b[0m \u001b[1;32mMi\u001b[0m 3-4196 1510 \u001b[1;32mE.\u001b[0m 55th The \u001b[1;34mCollege\u001b[0m LAUNDERETTE 1449 \u001b[1;32mEast\u001b[0m \u001b[1;32m57th\u001b[0m \n",
       "\u001b[1;32mSt.\u001b[0m \u001b[1;32mMU\u001b[0m 4-9236 BETZ JEWELRY Unusual Jewelry Our Specialty Expert Jewelry \u001b[1;34mand\u001b[0m Watch Repair \n",
       "N.S.A. Discount to \u001b[1;32mStudents\u001b[0m 1523 \u001b[1;32mE.\u001b[0m 53rd PL 2-3038 Choose an Expert THOMPSON MOVERS \n"
      ]
     },
     "metadata": {},
     "output_type": "display_data"
    },
    {
     "name": "stdout",
     "output_type": "stream",
     "text": [
      "Text 102\n"
     ]
    },
    {
     "data": {
      "text/html": [
       "<pre style=\"white-space:pre;overflow-x:auto;line-height:normal;font-family:Menlo,'DejaVu Sans Mono',consolas,'Courier New',monospace\"><span style=\"color: #000080; text-decoration-color: #000080; font-weight: bold\">Local</span> <span style=\"color: #000080; text-decoration-color: #000080; font-weight: bold\">and</span> <span style=\"color: #000080; text-decoration-color: #000080; font-weight: bold\">Long</span> <span style=\"color: #000080; text-decoration-color: #000080; font-weight: bold\">Distance</span> <span style=\"color: #000080; text-decoration-color: #000080; font-weight: bold\">Moving</span> <span style=\"color: #000080; text-decoration-color: #000080; font-weight: bold\">CO</span> 4-7600 Bibo, ergo sum <span style=\"color: #800000; text-decoration-color: #800000; font-weight: bold\">Jimmy’s</span> 1172 <span style=\"color: #008000; text-decoration-color: #008000; font-weight: bold\">E.</span> <span style=\"color: #008000; text-decoration-color: #008000; font-weight: bold\">55th</span> MIDWAY 3-4433 \n",
       "1171 EAST <span style=\"color: #008000; text-decoration-color: #008000; font-weight: bold\">55th</span> STREET <span style=\"color: #000080; text-decoration-color: #000080; font-weight: bold\">ACASA</span> <span style=\"color: #000080; text-decoration-color: #000080; font-weight: bold\">Book</span> Store Scholarly used books Typewriters bought, sold <span style=\"color: #000080; text-decoration-color: #000080; font-weight: bold\">and</span> \n",
       "repaired 1117 <span style=\"color: #008000; text-decoration-color: #008000; font-weight: bold\">E.</span> <span style=\"color: #008000; text-decoration-color: #008000; font-weight: bold\">55lli</span> <span style=\"color: #008000; text-decoration-color: #008000; font-weight: bold\">St.</span> <span style=\"color: #008000; text-decoration-color: #008000; font-weight: bold\">Hl</span> 3-9651 new <span style=\"color: #000080; text-decoration-color: #000080; font-weight: bold\">and</span> different stag or drag Dancing <span style=\"color: #000080; text-decoration-color: #000080; font-weight: bold\">and</span> Entertainment\n",
       "Tonight Music by <span style=\"color: #800000; text-decoration-color: #800000; font-weight: bold\">Eddie</span> <span style=\"color: #800000; text-decoration-color: #800000; font-weight: bold\">Fox,</span> His Orchestra <span style=\"color: #000080; text-decoration-color: #000080; font-weight: bold\">and</span> Vocalist from 9:00 P.M. Admission $1.00 plus \n",
       "tax <span style=\"color: #000080; text-decoration-color: #000080; font-weight: bold\">and</span> that's all The <span style=\"color: #008000; text-decoration-color: #008000; font-weight: bold\">Elms</span> <span style=\"color: #008000; text-decoration-color: #008000; font-weight: bold\">Hotel,</span> <span style=\"color: #008000; text-decoration-color: #008000; font-weight: bold\">East</span> <span style=\"color: #008000; text-decoration-color: #008000; font-weight: bold\">53rd</span> <span style=\"color: #008000; text-decoration-color: #008000; font-weight: bold\">Street</span> <span style=\"color: #000080; text-decoration-color: #000080; font-weight: bold\">and</span> <span style=\"color: #008000; text-decoration-color: #008000; font-weight: bold\">Cornell</span> <span style=\"color: #008000; text-decoration-color: #008000; font-weight: bold\">Avenue</span> We stock most blends \n",
       "of Twining Teas. Earl Grey, $1.75 Jasmine, $2.00. In half pound canisters. GET MUCH MORE \n",
       "<span style=\"color: #000080; text-decoration-color: #000080; font-weight: bold\">FLAVOR</span> MUCH LESS NICOTINE I Jisquhr. *WQ It's the FILTER that Counts <span style=\"color: #000080; text-decoration-color: #000080; font-weight: bold\">and</span> L*M has the Best! \n",
       "</pre>\n"
      ],
      "text/plain": [
       "\u001b[1;34mLocal\u001b[0m \u001b[1;34mand\u001b[0m \u001b[1;34mLong\u001b[0m \u001b[1;34mDistance\u001b[0m \u001b[1;34mMoving\u001b[0m \u001b[1;34mCO\u001b[0m 4-7600 Bibo, ergo sum \u001b[1;31mJimmy’s\u001b[0m 1172 \u001b[1;32mE.\u001b[0m \u001b[1;32m55th\u001b[0m MIDWAY 3-4433 \n",
       "1171 EAST \u001b[1;32m55th\u001b[0m STREET \u001b[1;34mACASA\u001b[0m \u001b[1;34mBook\u001b[0m Store Scholarly used books Typewriters bought, sold \u001b[1;34mand\u001b[0m \n",
       "repaired 1117 \u001b[1;32mE.\u001b[0m \u001b[1;32m55lli\u001b[0m \u001b[1;32mSt.\u001b[0m \u001b[1;32mHl\u001b[0m 3-9651 new \u001b[1;34mand\u001b[0m different stag or drag Dancing \u001b[1;34mand\u001b[0m Entertainment\n",
       "Tonight Music by \u001b[1;31mEddie\u001b[0m \u001b[1;31mFox,\u001b[0m His Orchestra \u001b[1;34mand\u001b[0m Vocalist from 9:00 P.M. Admission $1.00 plus \n",
       "tax \u001b[1;34mand\u001b[0m that's all The \u001b[1;32mElms\u001b[0m \u001b[1;32mHotel,\u001b[0m \u001b[1;32mEast\u001b[0m \u001b[1;32m53rd\u001b[0m \u001b[1;32mStreet\u001b[0m \u001b[1;34mand\u001b[0m \u001b[1;32mCornell\u001b[0m \u001b[1;32mAvenue\u001b[0m We stock most blends \n",
       "of Twining Teas. Earl Grey, $1.75 Jasmine, $2.00. In half pound canisters. GET MUCH MORE \n",
       "\u001b[1;34mFLAVOR\u001b[0m MUCH LESS NICOTINE I Jisquhr. *WQ It's the FILTER that Counts \u001b[1;34mand\u001b[0m L*M has the Best! \n"
      ]
     },
     "metadata": {},
     "output_type": "display_data"
    },
    {
     "name": "stdout",
     "output_type": "stream",
     "text": [
      "Text 103\n"
     ]
    },
    {
     "data": {
      "text/html": [
       "<pre style=\"white-space:pre;overflow-x:auto;line-height:normal;font-family:Menlo,'DejaVu Sans Mono',consolas,'Courier New',monospace\">give you the Miracle Tip — the effec* tive filtration you need.. Cet much more flavor — much \n",
       "less nicotine — a light, mild smoke. Yes, — it s the filter that counts and L&amp;M has the best!\n",
       "BUY L&amp;Ms King-size or regular. JUST WHAT THE DOCTOR ORDERED! Why do L&amp;M sales soar higher \n",
       "every day? It’s the one filter cigarette that gives smokers a taste they can enjoy — a filter\n",
       "they can depend on. Now L&amp;M comes king-size, too, at the same low price as regular. In either\n",
       "size —only L&amp;M Filters 1 ^Yers ION \n",
       "</pre>\n"
      ],
      "text/plain": [
       "give you the Miracle Tip — the effec* tive filtration you need.. Cet much more flavor — much \n",
       "less nicotine — a light, mild smoke. Yes, — it s the filter that counts and L&M has the best!\n",
       "BUY L&Ms King-size or regular. JUST WHAT THE DOCTOR ORDERED! Why do L&M sales soar higher \n",
       "every day? It’s the one filter cigarette that gives smokers a taste they can enjoy — a filter\n",
       "they can depend on. Now L&M comes king-size, too, at the same low price as regular. In either\n",
       "size —only L&M Filters 1 ^Yers ION \n"
      ]
     },
     "metadata": {},
     "output_type": "display_data"
    }
   ],
   "source": [
    "# Display the text with the named entities in various colors\n",
    "# You may need to first !pip install rich\n",
    "\n",
    "# print header with colors\n",
    "header_text = Text()\n",
    "header_text.append(\"person\", style=\"red bold\")\n",
    "header_text.append(\" \")\n",
    "header_text.append(\"location\", style=\"green bold\")\n",
    "header_text.append(\" \")\n",
    "header_text.append(\"organization\", style=\"blue bold\")\n",
    "rprint(header_text)\n",
    "\n",
    "i = 0\n",
    "NER_texts = {}\n",
    "for text in combi_para:\n",
    "    print(\"Text\", i)\n",
    "    results = classifier(text)\n",
    "    results_df = pd.DataFrame(results)\n",
    "    NER_texts[i] = (results_df.copy(), text)\n",
    "\n",
    "    # print source sentence with colors\n",
    "    colored_text = Text()\n",
    "    for word in text.split(\" \"):\n",
    "        entity = None\n",
    "        for result in results:\n",
    "            #correcting for length 1 entities (like \"S\")\n",
    "            if len(word) > 2 and len(result['word']) == 1:\n",
    "                continue\n",
    "            if word.startswith(result['word']):\n",
    "                entity = result['entity']\n",
    "                break\n",
    "        if entity:\n",
    "            # Use different colors for different entity types\n",
    "            if entity == 'B-PER' or entity == 'I-PER':\n",
    "                colored_text.append(word, style=\"red bold\")\n",
    "            elif entity == 'B-LOC' or entity == 'I-LOC':\n",
    "                colored_text.append(word, style=\"green bold\")\n",
    "            elif entity == 'B-ORG' or entity == 'I-ORG':\n",
    "                colored_text.append(word, style=\"blue bold\")\n",
    "            else:\n",
    "                colored_text.append(word)\n",
    "        else:\n",
    "            colored_text.append(word)\n",
    "        colored_text.append(\" \")\n",
    "\n",
    "    i+=1\n",
    "    # print colored_text\n",
    "    rprint(colored_text)"
   ]
  }
 ],
 "metadata": {
  "kernelspec": {
   "display_name": "Python 3",
   "language": "python",
   "name": "python3"
  },
  "language_info": {
   "codemirror_mode": {
    "name": "ipython",
    "version": 3
   },
   "file_extension": ".py",
   "mimetype": "text/x-python",
   "name": "python",
   "nbconvert_exporter": "python",
   "pygments_lexer": "ipython3",
   "version": "3.10.9"
  }
 },
 "nbformat": 4,
 "nbformat_minor": 5
}
